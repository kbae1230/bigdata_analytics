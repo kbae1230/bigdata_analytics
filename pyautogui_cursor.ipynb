{
 "cells": [
  {
   "cell_type": "code",
   "execution_count": 1,
   "source": [
    "import pyautogui\r\n",
    "screenWidth, screenHeight = pyautogui.size()\r\n",
    "print('{0}, {1}'.format(screenWidth, screenHeight))"
   ],
   "outputs": [
    {
     "output_type": "stream",
     "name": "stdout",
     "text": [
      "1920, 1080\n"
     ]
    }
   ],
   "metadata": {}
  },
  {
   "cell_type": "code",
   "execution_count": 5,
   "source": [
    "# 현재 마우스 커서 위치 반환\r\n",
    "\r\n",
    "currentMouseX, currentMouseY = pyautogui.position()\r\n",
    "print('{0}, {1}'.format(currentMouseX, currentMouseY))\r\n"
   ],
   "outputs": [
    {
     "output_type": "stream",
     "name": "stdout",
     "text": [
      "4141, -93\n"
     ]
    }
   ],
   "metadata": {}
  },
  {
   "cell_type": "code",
   "execution_count": 9,
   "source": [
    "import time\r\n",
    "\r\n",
    "x= 240\r\n",
    "y = 284\r\n",
    "count = 0\r\n",
    "for i in range(20):\r\n",
    "\r\n",
    "    count += 1\r\n",
    "    y += 35\r\n",
    "    if count == 19:\r\n",
    "        count = 1\r\n",
    "        y= 319\r\n",
    "        pyautogui.click(880, y)\r\n",
    "        pyautogui.scroll(-800)\r\n",
    "\r\n",
    "    # 엑셀 리스트로 커서 옮겨서 클릭\r\n",
    "    pyautogui.moveTo(x, y)\r\n",
    "    pyautogui.click(x, y, clicks=2, interval=1)\r\n",
    "    time.sleep(4)\r\n",
    "\r\n",
    "    # 브라우저에 Export 위치로 커서 옮기기\r\n",
    "    #case1\r\n",
    "    #pyautogui.moveTo(4481, -172)\r\n",
    "    #pyautogui.click(4481, -172)\r\n",
    "\r\n",
    "    #case2\r\n",
    "    #4241, -168\r\n",
    "    pyautogui.moveTo(4241, -168)\r\n",
    "    pyautogui.click(4241, -168)\r\n",
    "\r\n",
    "    # PDF 위치로 옮기고 다운로드\r\n",
    "    #case1\r\n",
    "    #pyautogui.moveTo(4395, -102)\r\n",
    "    #pyautogui.click(4395, -102)\r\n",
    "    \r\n",
    "    #case2\r\n",
    "    # 4141, -93\r\n",
    "    pyautogui.moveTo(4141, -93)\r\n",
    "    pyautogui.click(4141, -93)\r\n",
    "    time.sleep(2)\r\n",
    "    \r\n",
    "    # 쌓인 브라우저 종료\r\n",
    "    pyautogui.moveTo(3030, -428)\r\n",
    "    pyautogui.click(3030, -428)\r\n",
    "    \r\n",
    "    print('cannot merge')\r\n"
   ],
   "outputs": [],
   "metadata": {}
  }
 ],
 "metadata": {
  "orig_nbformat": 4,
  "language_info": {
   "name": "python",
   "version": "3.7.1",
   "mimetype": "text/x-python",
   "codemirror_mode": {
    "name": "ipython",
    "version": 3
   },
   "pygments_lexer": "ipython3",
   "nbconvert_exporter": "python",
   "file_extension": ".py"
  },
  "kernelspec": {
   "name": "python3",
   "display_name": "Python 3.7.1 64-bit ('base': conda)"
  },
  "interpreter": {
   "hash": "bd29af81c2960fb6db1a0b69726f06d4b49c61facc8fc553b084053221c78f12"
  }
 },
 "nbformat": 4,
 "nbformat_minor": 2
}