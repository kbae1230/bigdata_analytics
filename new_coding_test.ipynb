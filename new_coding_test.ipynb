{
 "cells": [
  {
   "cell_type": "code",
   "execution_count": 1,
   "metadata": {},
   "outputs": [
    {
     "name": "stdout",
     "output_type": "stream",
     "text": [
      "hi\n"
     ]
    }
   ],
   "source": [
    "print('hi')\n",
    "#20211007\n",
    "#20211009\n",
    "#20211011 geography x,y 좌표 확인\n",
    "#20211012\n",
    "#study\n",
    "#aoi coor 추출, 데이터셋 생성"
   ]
  },
  {
   "cell_type": "markdown",
   "metadata": {},
   "source": [
    "행 열 바꾸기"
   ]
  },
  {
   "cell_type": "code",
   "execution_count": 17,
   "metadata": {},
   "outputs": [
    {
     "name": "stdout",
     "output_type": "stream",
     "text": [
      "[[100, 50, 47, 61, 24], [90, 45, 88, 57, 90], [98, 99, 95, 100, 94], [88, 85, 80, 80, 75], [65, 77, 67, 65, 65]]\n",
      "[[[100, 90, 98, 88, 65]], [[50, 45, 99, 85, 77]], [[47, 88, 95, 80, 67]], [[61, 57, 100, 80, 65]], [[24, 90, 94, 75, 65]]]\n",
      "[100, 50, 47, 61, 24]\n",
      "[90, 45, 88, 57, 90]\n",
      "[98, 99, 95, 100, 94]\n",
      "[88, 85, 80, 80, 75]\n",
      "[65, 77, 67, 65, 65]\n"
     ]
    }
   ],
   "source": [
    "scores = [[100,90,98,88,65],[50,45,99,85,77],[47,88,95,80,67],[61,57,100,80,65],[24,90,94,75,65]]\n",
    "\n",
    "new_scores = list(map(list, zip(*scores))) # 행,열 바꾸기\n",
    "new_score = list(map(list, zip(scores))) # 행,열 바꾸기\n",
    "new = map(list, zip(*scores)) # 행,열 바꾸기\n",
    "\n",
    "print(new_scores)\n",
    "print(new_score)\n",
    "for i in new:\n",
    "    print(i)"
   ]
  },
  {
   "cell_type": "markdown",
   "metadata": {},
   "source": [
    "2차원 배열 -> 1차원"
   ]
  },
  {
   "cell_type": "code",
   "execution_count": 6,
   "metadata": {},
   "outputs": [
    {
     "data": {
      "text/plain": [
       "[60, 30, 30, 40]"
      ]
     },
     "execution_count": 6,
     "metadata": {},
     "output_type": "execute_result"
    }
   ],
   "source": [
    "b = [[60], [30], [30], [40]]\n",
    "sum(b, [])"
   ]
  },
  {
   "cell_type": "code",
   "execution_count": 9,
   "metadata": {},
   "outputs": [
    {
     "name": "stdout",
     "output_type": "stream",
     "text": [
      "[60, 50, 30, 70, '바보', 60, 30, 80, 40]\n"
     ]
    }
   ],
   "source": [
    "a = [[60, 50], [30, 70], ['바보'], [60, 30], [80, 40]]\n",
    "print(sum(a, []))"
   ]
  },
  {
   "cell_type": "code",
   "execution_count": 10,
   "metadata": {},
   "outputs": [
    {
     "data": {
      "text/plain": [
       "[60, 30, 30, 40]"
      ]
     },
     "execution_count": 10,
     "metadata": {},
     "output_type": "execute_result"
    }
   ],
   "source": [
    "[element for array in b for element in array]"
   ]
  },
  {
   "cell_type": "code",
   "execution_count": 13,
   "metadata": {},
   "outputs": [
    {
     "name": "stdout",
     "output_type": "stream",
     "text": [
      "[60, 30, 30, 40]\n"
     ]
    }
   ],
   "source": [
    "import numpy as np\n",
    "\n",
    "print(np.array(b).flatten().tolist())"
   ]
  }
 ],
 "metadata": {
  "interpreter": {
   "hash": "916dbcbb3f70747c44a77c7bcd40155683ae19c65e1c03b4aa3499c5328201f1"
  },
  "kernelspec": {
   "display_name": "Python 3.8.10 64-bit",
   "name": "python3"
  },
  "language_info": {
   "codemirror_mode": {
    "name": "ipython",
    "version": 3
   },
   "file_extension": ".py",
   "mimetype": "text/x-python",
   "name": "python",
   "nbconvert_exporter": "python",
   "pygments_lexer": "ipython3",
   "version": "3.8.10"
  },
  "orig_nbformat": 4
 },
 "nbformat": 4,
 "nbformat_minor": 2
}
