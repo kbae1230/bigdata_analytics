{
 "cells": [
  {
   "cell_type": "code",
   "execution_count": 1,
   "metadata": {},
   "outputs": [
    {
     "name": "stdout",
     "output_type": "stream",
     "text": [
      "hi\n"
     ]
    }
   ],
   "source": [
    "print('hi')\n",
    "#20211007\n",
    "#20211009\n",
    "#20211011 geography x,y 좌표 확인\n",
    "#20211012\n",
    "#study\n",
    "#aoi coor 추출, 데이터셋 생성\n",
    "#scene name으로 label 이름 변환\n",
    "#ADsP 공부\n",
    "#Study\n",
    "#rsync, scp, scene name change \n",
    "#parcer, module, lens\n",
    "#STUDY\n",
    "#utc to local, area indexing, tif, jp2 metadata indexing\n",
    "# airflow trigger\n",
    "# window11\n",
    "# scene indexing, rgb, scene_label grouping\n",
    "# sql add column and update\n",
    "# data copying, remove missing value, outlier\n",
    "# tool\n",
    "# no\n",
    "# move_scene 코드 통합 완료\n",
    "# 영상 처리 코드 통합"
   ]
  },
  {
   "cell_type": "markdown",
   "metadata": {},
   "source": [
    "행 열 바꾸기"
   ]
  },
  {
   "cell_type": "code",
   "execution_count": 17,
   "metadata": {},
   "outputs": [
    {
     "name": "stdout",
     "output_type": "stream",
     "text": [
      "[[100, 50, 47, 61, 24], [90, 45, 88, 57, 90], [98, 99, 95, 100, 94], [88, 85, 80, 80, 75], [65, 77, 67, 65, 65]]\n",
      "[[[100, 90, 98, 88, 65]], [[50, 45, 99, 85, 77]], [[47, 88, 95, 80, 67]], [[61, 57, 100, 80, 65]], [[24, 90, 94, 75, 65]]]\n",
      "[100, 50, 47, 61, 24]\n",
      "[90, 45, 88, 57, 90]\n",
      "[98, 99, 95, 100, 94]\n",
      "[88, 85, 80, 80, 75]\n",
      "[65, 77, 67, 65, 65]\n"
     ]
    }
   ],
   "source": [
    "scores = [[100,90,98,88,65],[50,45,99,85,77],[47,88,95,80,67],[61,57,100,80,65],[24,90,94,75,65]]\n",
    "\n",
    "new_scores = list(map(list, zip(*scores))) # 행,열 바꾸기\n",
    "new_score = list(map(list, zip(scores))) # 행,열 바꾸기\n",
    "new = map(list, zip(*scores)) # 행,열 바꾸기\n",
    "\n",
    "print(new_scores)\n",
    "print(new_score)\n",
    "for i in new:\n",
    "    print(i)"
   ]
  },
  {
   "cell_type": "markdown",
   "metadata": {},
   "source": [
    "2차원 배열 -> 1차원"
   ]
  },
  {
   "cell_type": "code",
   "execution_count": 6,
   "metadata": {},
   "outputs": [
    {
     "data": {
      "text/plain": [
       "[60, 30, 30, 40]"
      ]
     },
     "execution_count": 6,
     "metadata": {},
     "output_type": "execute_result"
    }
   ],
   "source": [
    "b = [[60], [30], [30], [40]]\n",
    "sum(b, [])"
   ]
  },
  {
   "cell_type": "code",
   "execution_count": 9,
   "metadata": {},
   "outputs": [
    {
     "name": "stdout",
     "output_type": "stream",
     "text": [
      "[60, 50, 30, 70, '바보', 60, 30, 80, 40]\n"
     ]
    }
   ],
   "source": [
    "a = [[60, 50], [30, 70], ['바보'], [60, 30], [80, 40]]\n",
    "print(sum(a, []))"
   ]
  },
  {
   "cell_type": "code",
   "execution_count": 10,
   "metadata": {},
   "outputs": [
    {
     "data": {
      "text/plain": [
       "[60, 30, 30, 40]"
      ]
     },
     "execution_count": 10,
     "metadata": {},
     "output_type": "execute_result"
    }
   ],
   "source": [
    "[element for array in b for element in array]"
   ]
  },
  {
   "cell_type": "code",
   "execution_count": 13,
   "metadata": {},
   "outputs": [
    {
     "name": "stdout",
     "output_type": "stream",
     "text": [
      "[60, 30, 30, 40]\n"
     ]
    }
   ],
   "source": [
    "import numpy as np\n",
    "\n",
    "print(np.array(b).flatten().tolist())"
   ]
  },
  {
   "cell_type": "markdown",
   "metadata": {},
   "source": [
    "(백준) 미로탐색"
   ]
  },
  {
   "cell_type": "code",
   "execution_count": 2,
   "metadata": {},
   "outputs": [
    {
     "name": "stdout",
     "output_type": "stream",
     "text": [
      "3\n",
      "7\n",
      "8\n",
      "9\n"
     ]
    }
   ],
   "source": [
    "n = 7\n",
    "num = []\n",
    "graph = [[0,1,1,0,1,0,0],[0,1,1,0,1,0,1],[1,1,1,0,1,0,1],[0,0,0,0,1,1,1],[0,1,0,0,0,0,0],[0,1,1,1,1,1,0],[0,1,1,1,0,0,0]]\n",
    "\n",
    "dx = [0, 0, 1, -1]\n",
    "dy = [1, -1, 0, 0]\n",
    "\n",
    "def DFS(x,y):\n",
    "    if x < 0 or x >= n or y < 0 or y >= n:\n",
    "        return False\n",
    "    \n",
    "    if graph[x][y] == 1:\n",
    "        global count\n",
    "        count += 1\n",
    "        graph[x][y] = 0\n",
    "        for i in range(4):\n",
    "            nx = x + dx[i]\n",
    "            ny = y + dy[i]\n",
    "            DFS(nx, ny)\n",
    "        return True\n",
    "    return False\n",
    "\n",
    "count = 0\n",
    "result = 0\n",
    "\n",
    "for i in range(n):\n",
    "    for j in range(n):\n",
    "        if DFS(i,j) == True:\n",
    "            num.append(count)\n",
    "            result += 1\n",
    "            count = 0\n",
    "num.sort()\n",
    "print(result)\n",
    "for i in range(len(num)):\n",
    "    print(num[i])"
   ]
  },
  {
   "cell_type": "markdown",
   "metadata": {},
   "source": [
    "(백준) 미로 탐색"
   ]
  },
  {
   "cell_type": "code",
   "execution_count": 11,
   "metadata": {},
   "outputs": [
    {
     "name": "stdout",
     "output_type": "stream",
     "text": [
      "[17]\n"
     ]
    }
   ],
   "source": [
    "# DFS로는 안됨.\n",
    "\n",
    "dx = [0, 0, 1, -1]\n",
    "dy = [1, -1, 0, 0]\n",
    "m = 6\n",
    "n = 4 \n",
    "num = []\n",
    "graph = [[1,0,1,1,1,1],[1,0,1,0,1,0],[1,0,1,0,1,1],[1,1,1,0,1,1]]\n",
    "def DFS(x,y):\n",
    "    if x < 0 or x >= n or y < 0 or y >= m:\n",
    "        return False\n",
    "    \n",
    "    if graph[x][y] == 1:\n",
    "        global count\n",
    "        count += 1\n",
    "        graph[x][y] = 0\n",
    "        for i in range(4):\n",
    "            nx = x + dx[i]\n",
    "            ny = y + dy[i]\n",
    "            DFS(nx, ny)\n",
    "        return True\n",
    "    return False\n",
    "\n",
    "\n",
    "\n",
    "if __name__==\"__main__\":\n",
    "    count = 0\n",
    "    result = 0\n",
    "    for i in range(n):\n",
    "        for j in range(n):\n",
    "            if DFS(i,j) == True:\n",
    "                num.append(count)\n",
    "                result += 1\n",
    "                count = 0\n",
    "print(num)"
   ]
  },
  {
   "cell_type": "code",
   "execution_count": 27,
   "metadata": {},
   "outputs": [
    {
     "name": "stdout",
     "output_type": "stream",
     "text": [
      "15\n"
     ]
    }
   ],
   "source": [
    "from collections import deque\n",
    "\n",
    "dx = [0, 0, 1, -1]\n",
    "dy = [1, -1, 0, 0]\n",
    "m = 6\n",
    "n = 4 \n",
    "graph = [[1,0,1,1,1,1],[1,0,1,0,1,0],[1,0,1,0,1,1],[1,1,1,0,1,1]]\n",
    "\n",
    "def BFS(x,y):\n",
    "    \n",
    "    queue = deque([[x,y]])\n",
    "\n",
    "    while queue:\n",
    "        x,y = queue.popleft()\n",
    "\n",
    "        for i in range(4):\n",
    "            nx = x + dx[i]\n",
    "            ny = y + dy[i]\n",
    "\n",
    "            if nx < 0 or nx >= n or ny < 0 or ny >= m:\n",
    "                nx = x \n",
    "                ny = y\n",
    "            elif graph[nx][ny] == 1:\n",
    "                graph[nx][ny] += graph[x][y]\n",
    "                queue.append([nx,ny])\n",
    "\n",
    "if __name__==\"__main__\":\n",
    "    BFS(0,0)\n",
    "    print(graph[n-1][m-1])\n",
    "\n"
   ]
  },
  {
   "cell_type": "markdown",
   "metadata": {},
   "source": [
    "(백준) 바이러스"
   ]
  },
  {
   "cell_type": "code",
   "execution_count": null,
   "metadata": {},
   "outputs": [],
   "source": [
    "def solution(n, computers):\n",
    "    answer = 0\n",
    "    visited = [False for i in range(n)]\n",
    "    for com in range(n):\n",
    "        if visited[com] == False:\n",
    "            DFS(n, computers, com, visited)\n",
    "            answer += 1\n",
    "    return answer\n",
    "\n",
    "\n",
    "def DFS(n, computers, com, visited):\n",
    "    visited[com] = True\n",
    "    for connect in range(n):\n",
    "        if connect != com and computers[com][connect] == 1:\n",
    "            if visited[connect] == False:\n",
    "                DFS(n, computers, connect, visited)\n",
    "\n",
    "\n",
    "def BFS(n, computers, com, visited):\n",
    "    visited[com] = True\n",
    "    queue = []\n",
    "    queue.append(com)\n",
    "    while len(queue) != 0:\n",
    "        com = queue.pop(0)\n",
    "        visited[com] = True\n",
    "        for connect in range(n):\n",
    "            if connect != com and computers[com][connect] == 1:\n",
    "                if visited[connect] == False:\n",
    "                    queue.append(connect)"
   ]
  },
  {
   "cell_type": "code",
   "execution_count": 2,
   "metadata": {},
   "outputs": [
    {
     "ename": "RecursionError",
     "evalue": "maximum recursion depth exceeded in comparison",
     "output_type": "error",
     "traceback": [
      "\u001b[1;31m---------------------------------------------------------------------------\u001b[0m",
      "\u001b[1;31mRecursionError\u001b[0m                            Traceback (most recent call last)",
      "\u001b[1;32m<ipython-input-2-4b55459679f6>\u001b[0m in \u001b[0;36m<module>\u001b[1;34m\u001b[0m\n\u001b[0;32m     41\u001b[0m                 \u001b[0mDFS\u001b[0m\u001b[1;33m(\u001b[0m\u001b[0mn\u001b[0m\u001b[1;33m,\u001b[0m \u001b[0mvirus_com\u001b[0m\u001b[1;33m,\u001b[0m \u001b[0mcom\u001b[0m\u001b[1;33m,\u001b[0m \u001b[0mvisited\u001b[0m\u001b[1;33m)\u001b[0m\u001b[1;33m\u001b[0m\u001b[1;33m\u001b[0m\u001b[0m\n\u001b[0;32m     42\u001b[0m \u001b[1;33m\u001b[0m\u001b[0m\n\u001b[1;32m---> 43\u001b[1;33m \u001b[0mprint\u001b[0m\u001b[1;33m(\u001b[0m\u001b[0msolution\u001b[0m\u001b[1;33m(\u001b[0m\u001b[0mn\u001b[0m\u001b[1;33m,\u001b[0m \u001b[0mvirus_com\u001b[0m\u001b[1;33m)\u001b[0m\u001b[1;33m)\u001b[0m\u001b[1;33m\u001b[0m\u001b[1;33m\u001b[0m\u001b[0m\n\u001b[0m",
      "\u001b[1;32m<ipython-input-2-4b55459679f6>\u001b[0m in \u001b[0;36msolution\u001b[1;34m(n, virus_com)\u001b[0m\n\u001b[0;32m     30\u001b[0m     \u001b[0mvisited\u001b[0m \u001b[1;33m=\u001b[0m \u001b[1;33m[\u001b[0m\u001b[1;32mFalse\u001b[0m \u001b[1;32mfor\u001b[0m \u001b[0m_\u001b[0m \u001b[1;32min\u001b[0m \u001b[0mrange\u001b[0m\u001b[1;33m(\u001b[0m\u001b[0mn\u001b[0m\u001b[1;33m)\u001b[0m\u001b[1;33m]\u001b[0m\u001b[1;33m\u001b[0m\u001b[1;33m\u001b[0m\u001b[0m\n\u001b[0;32m     31\u001b[0m     \u001b[1;32mfor\u001b[0m \u001b[0mcom\u001b[0m \u001b[1;32min\u001b[0m \u001b[0mrange\u001b[0m\u001b[1;33m(\u001b[0m\u001b[0mn\u001b[0m\u001b[1;33m)\u001b[0m\u001b[1;33m:\u001b[0m\u001b[1;33m\u001b[0m\u001b[1;33m\u001b[0m\u001b[0m\n\u001b[1;32m---> 32\u001b[1;33m         \u001b[0mDFS\u001b[0m\u001b[1;33m(\u001b[0m\u001b[0mn\u001b[0m\u001b[1;33m,\u001b[0m \u001b[0mvirus_com\u001b[0m\u001b[1;33m,\u001b[0m \u001b[0mcom\u001b[0m\u001b[1;33m,\u001b[0m \u001b[0mvisited\u001b[0m\u001b[1;33m)\u001b[0m\u001b[1;33m\u001b[0m\u001b[1;33m\u001b[0m\u001b[0m\n\u001b[0m\u001b[0;32m     33\u001b[0m         \u001b[0manswer\u001b[0m \u001b[1;33m+=\u001b[0m \u001b[1;36m1\u001b[0m\u001b[1;33m\u001b[0m\u001b[1;33m\u001b[0m\u001b[0m\n\u001b[0;32m     34\u001b[0m     \u001b[1;32mreturn\u001b[0m \u001b[0manswer\u001b[0m\u001b[1;33m\u001b[0m\u001b[1;33m\u001b[0m\u001b[0m\n",
      "\u001b[1;32m<ipython-input-2-4b55459679f6>\u001b[0m in \u001b[0;36mDFS\u001b[1;34m(n, virus_com, com, visited)\u001b[0m\n\u001b[0;32m     39\u001b[0m         \u001b[1;32mif\u001b[0m \u001b[0mconnect\u001b[0m \u001b[1;33m!=\u001b[0m \u001b[0mcom\u001b[0m \u001b[1;32mand\u001b[0m \u001b[0mvirus_com\u001b[0m\u001b[1;33m[\u001b[0m\u001b[0mcom\u001b[0m\u001b[1;33m]\u001b[0m\u001b[1;33m[\u001b[0m\u001b[0mconnect\u001b[0m\u001b[1;33m]\u001b[0m \u001b[1;33m==\u001b[0m \u001b[1;36m1\u001b[0m\u001b[1;33m:\u001b[0m\u001b[1;33m\u001b[0m\u001b[1;33m\u001b[0m\u001b[0m\n\u001b[0;32m     40\u001b[0m             \u001b[1;32mif\u001b[0m \u001b[0mvisited\u001b[0m\u001b[1;33m[\u001b[0m\u001b[0mconnect\u001b[0m\u001b[1;33m]\u001b[0m \u001b[1;33m==\u001b[0m \u001b[1;32mFalse\u001b[0m\u001b[1;33m:\u001b[0m\u001b[1;33m\u001b[0m\u001b[1;33m\u001b[0m\u001b[0m\n\u001b[1;32m---> 41\u001b[1;33m                 \u001b[0mDFS\u001b[0m\u001b[1;33m(\u001b[0m\u001b[0mn\u001b[0m\u001b[1;33m,\u001b[0m \u001b[0mvirus_com\u001b[0m\u001b[1;33m,\u001b[0m \u001b[0mcom\u001b[0m\u001b[1;33m,\u001b[0m \u001b[0mvisited\u001b[0m\u001b[1;33m)\u001b[0m\u001b[1;33m\u001b[0m\u001b[1;33m\u001b[0m\u001b[0m\n\u001b[0m\u001b[0;32m     42\u001b[0m \u001b[1;33m\u001b[0m\u001b[0m\n\u001b[0;32m     43\u001b[0m \u001b[0mprint\u001b[0m\u001b[1;33m(\u001b[0m\u001b[0msolution\u001b[0m\u001b[1;33m(\u001b[0m\u001b[0mn\u001b[0m\u001b[1;33m,\u001b[0m \u001b[0mvirus_com\u001b[0m\u001b[1;33m)\u001b[0m\u001b[1;33m)\u001b[0m\u001b[1;33m\u001b[0m\u001b[1;33m\u001b[0m\u001b[0m\n",
      "... last 1 frames repeated, from the frame below ...\n",
      "\u001b[1;32m<ipython-input-2-4b55459679f6>\u001b[0m in \u001b[0;36mDFS\u001b[1;34m(n, virus_com, com, visited)\u001b[0m\n\u001b[0;32m     39\u001b[0m         \u001b[1;32mif\u001b[0m \u001b[0mconnect\u001b[0m \u001b[1;33m!=\u001b[0m \u001b[0mcom\u001b[0m \u001b[1;32mand\u001b[0m \u001b[0mvirus_com\u001b[0m\u001b[1;33m[\u001b[0m\u001b[0mcom\u001b[0m\u001b[1;33m]\u001b[0m\u001b[1;33m[\u001b[0m\u001b[0mconnect\u001b[0m\u001b[1;33m]\u001b[0m \u001b[1;33m==\u001b[0m \u001b[1;36m1\u001b[0m\u001b[1;33m:\u001b[0m\u001b[1;33m\u001b[0m\u001b[1;33m\u001b[0m\u001b[0m\n\u001b[0;32m     40\u001b[0m             \u001b[1;32mif\u001b[0m \u001b[0mvisited\u001b[0m\u001b[1;33m[\u001b[0m\u001b[0mconnect\u001b[0m\u001b[1;33m]\u001b[0m \u001b[1;33m==\u001b[0m \u001b[1;32mFalse\u001b[0m\u001b[1;33m:\u001b[0m\u001b[1;33m\u001b[0m\u001b[1;33m\u001b[0m\u001b[0m\n\u001b[1;32m---> 41\u001b[1;33m                 \u001b[0mDFS\u001b[0m\u001b[1;33m(\u001b[0m\u001b[0mn\u001b[0m\u001b[1;33m,\u001b[0m \u001b[0mvirus_com\u001b[0m\u001b[1;33m,\u001b[0m \u001b[0mcom\u001b[0m\u001b[1;33m,\u001b[0m \u001b[0mvisited\u001b[0m\u001b[1;33m)\u001b[0m\u001b[1;33m\u001b[0m\u001b[1;33m\u001b[0m\u001b[0m\n\u001b[0m\u001b[0;32m     42\u001b[0m \u001b[1;33m\u001b[0m\u001b[0m\n\u001b[0;32m     43\u001b[0m \u001b[0mprint\u001b[0m\u001b[1;33m(\u001b[0m\u001b[0msolution\u001b[0m\u001b[1;33m(\u001b[0m\u001b[0mn\u001b[0m\u001b[1;33m,\u001b[0m \u001b[0mvirus_com\u001b[0m\u001b[1;33m)\u001b[0m\u001b[1;33m)\u001b[0m\u001b[1;33m\u001b[0m\u001b[1;33m\u001b[0m\u001b[0m\n",
      "\u001b[1;31mRecursionError\u001b[0m: maximum recursion depth exceeded in comparison"
     ]
    }
   ],
   "source": [
    "n = 7\n",
    "\n",
    "# case 1\n",
    "# virus_com = [[0]*n]*n\n",
    "# virus_com[1][2] =2\n",
    "# print('virus_com', virus_com)\n",
    "#### case 1 의 경우 곱했더니 아래 숫자도 바뀜\n",
    "\n",
    "# case 2\n",
    "\n",
    "virus_com = [[0]*n for _ in range(n)]\n",
    "numbers = [[1,2],[2,3],[1,5],[5,2],[5,6],[4,7]]\n",
    "\n",
    "for i in range(n):\n",
    "    virus_com[i][i] = 1\n",
    "\n",
    "for i in range(len(numbers)):\n",
    "    virus_com[numbers[i][0]-1][numbers[i][1]-1] = 1\n",
    "    virus_com[numbers[i][1]-1][numbers[i][0]-1] = 1\n",
    "\n",
    "# print(virus_com)\n",
    "\n",
    "# 셋팅 과정.\n",
    "from collections import deque\n",
    "\n",
    "visited = [False for _ in range(n)]\n",
    "cnt = 0\n",
    "\n",
    "def DFS(i):\n",
    "    global cnt\n",
    "    visited[i] = 1\n",
    "    for  in virus_com[i]:\n",
    "\n",
    "\n",
    "# def solution(n, virus_com):\n",
    "#     answer = 0\n",
    "#     visited = [False for _ in range(n)]\n",
    "#     for com in range(n):\n",
    "#         DFS(n, virus_com, com, visited)\n",
    "#         answer += 1\n",
    "#     return answer\n",
    "\n",
    "# def DFS(n, virus_com, com, visited):\n",
    "#     visited[com] = True\n",
    "#     for connect in range(n):\n",
    "#         if connect != com and virus_com[com][connect] == 1:\n",
    "#             if visited[connect] == False:\n",
    "#                 DFS(n, virus_com, com, visited)\n",
    "\n",
    "# print(solution(n, virus_com))"
   ]
  },
  {
   "cell_type": "code",
   "execution_count": 1,
   "metadata": {},
   "outputs": [
    {
     "name": "stdout",
     "output_type": "stream",
     "text": [
      "2\n"
     ]
    }
   ],
   "source": [
    "def solution(n, computers):\n",
    "    answer = 0\n",
    "    visited = [False for i in range(n)]\n",
    "    for com in range(n):\n",
    "        if visited[com] == False:\n",
    "            DFS(n, computers, com, visited)\n",
    "            answer += 1 #DFS로 최대한 컴퓨터들을 방문하고 빠져나오게 되면 그것이 하나의 네트워크.\n",
    "    return answer\n",
    "\n",
    "def DFS(n, computers, com, visited):\n",
    "    visited[com] = True\n",
    "    for connect in range(n):\n",
    "        if connect != com and computers[com][connect] == 1: #연결된 컴퓨터\n",
    "            if visited[connect] == False:\n",
    "                DFS(n, computers, connect, visited)\n",
    "# import sys\n",
    "# sys.setrecursionlimit(10**9)\n",
    "n = 3 \t\n",
    "computers = [[1, 1, 0], [1, 1, 0], [0, 0, 1]]\n",
    "print(solution(n,computers))"
   ]
  },
  {
   "cell_type": "code",
   "execution_count": 14,
   "metadata": {},
   "outputs": [
    {
     "name": "stdout",
     "output_type": "stream",
     "text": [
      "4\n"
     ]
    }
   ],
   "source": [
    "from collections import deque\n",
    "\n",
    "def setting(n):\n",
    "    global visited\n",
    "    visited = [False for _ in range(n)]\n",
    "    virus_com = [[]*n for _ in range(n+1)]\n",
    "    numbers = [[1,2],[2,3],[1,5],[5,2],[5,6],[4,7]]\n",
    "    for i in numbers:\n",
    "        a = i[0]\n",
    "        b = i[1]\n",
    "        virus_com[a].append(b)\n",
    "        virus_com[b].append(a)\n",
    "    \n",
    "def DFS(com):\n",
    "    global cnt\n",
    "    visited[com] = True\n",
    "    for i in virus_com[com]:\n",
    "        if visited[i] == False:\n",
    "            DFS(i)\n",
    "            cnt += 1\n",
    "\n",
    "if __name__=='__main__':\n",
    "    # 컴퓨터 갯수\n",
    "    n = 7\n",
    "    # 원하는 컴퓨터\n",
    "    com_num = 1\n",
    "    cnt = 0\n",
    "\n",
    "    setting(n)\n",
    "    DFS(com_num)\n",
    "    print(cnt)\n"
   ]
  },
  {
   "cell_type": "code",
   "execution_count": 42,
   "metadata": {},
   "outputs": [
    {
     "name": "stdout",
     "output_type": "stream",
     "text": [
      "총 지렁이 수 : 5\n",
      "각 지렁이가 지키는 배추 갯수 : [3, 2, 2, 6, 1]\n"
     ]
    }
   ],
   "source": [
    "from collections import deque\n",
    "\n",
    "\n",
    "def setting():\n",
    "    global ground\n",
    "    ground = [[0]*10 for _ in range(6)]\n",
    "    worm = [[0, 0], [1, 0], [1, 1], [4, 2], [4, 3], [4, 5], [2, 4], [3, 4], [7, 4], [8, 4], [9, 4], [7, 5], [8, 5], [9, 5]]\n",
    "\n",
    "    for i in worm:\n",
    "        ground[i[1]][i[0]]=1\n",
    "\n",
    "\n",
    "def BFS(ground, a, b, row, col, count):\n",
    "\n",
    "    queue = deque()\n",
    "    queue.append((a, b))\n",
    "    ground[a][b] = 0\n",
    "\n",
    "    dx = [0, 0, 1, -1]\n",
    "    dy = [1, -1, 0, 0]\n",
    "\n",
    "    while queue:\n",
    "        x, y = queue.popleft()\n",
    "        for i in range(4):\n",
    "            nx = x + dx[i]\n",
    "            ny = y + dy[i]\n",
    "            if nx < 0 or nx >= row or ny < 0 or ny >= col:\n",
    "                continue\n",
    "            if ground[nx][ny] == 1:\n",
    "                ground[nx][ny] = 0\n",
    "                queue.append((nx, ny))\n",
    "                count += 1\n",
    "    return count\n",
    "\n",
    "\n",
    "def count_worm(row, col, cnt):\n",
    "    for i in range(row):\n",
    "        for j in range(col):\n",
    "            if ground[i][j] == 1:\n",
    "                count = 1\n",
    "                cnt.append(BFS(ground, i, j, row, col, count))\n",
    "\n",
    "\n",
    "if __name__=='__main__':\n",
    "    row = 6\n",
    "    col = 10\n",
    "    cnt = []\n",
    "\n",
    "    setting()\n",
    "    count_worm(row, col, cnt)\n",
    "\n",
    "    print('총 지렁이 수 :', len(cnt))\n",
    "    print('각 지렁이가 지키는 배추 갯수 :', cnt)\n"
   ]
  }
 ],
 "metadata": {
  "interpreter": {
   "hash": "0d12d05ab1afc7278cbb1fa09e775842eb34e7aa5a193c340acf9f8f1f5bb7ed"
  },
  "kernelspec": {
   "display_name": "Python 3.8.5 64-bit ('base': conda)",
   "name": "python3"
  },
  "language_info": {
   "codemirror_mode": {
    "name": "ipython",
    "version": 3
   },
   "file_extension": ".py",
   "mimetype": "text/x-python",
   "name": "python",
   "nbconvert_exporter": "python",
   "pygments_lexer": "ipython3",
   "version": "3.8.5"
  },
  "orig_nbformat": 4
 },
 "nbformat": 4,
 "nbformat_minor": 2
}
