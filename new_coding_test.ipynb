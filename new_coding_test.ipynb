{
 "cells": [
  {
   "cell_type": "code",
   "execution_count": 1,
   "source": [
    "print('hi')"
   ],
   "outputs": [
    {
     "output_type": "stream",
     "name": "stdout",
     "text": [
      "hi\n"
     ]
    }
   ],
   "metadata": {}
  },
  {
   "cell_type": "markdown",
   "source": [
    "행 열 바꾸기"
   ],
   "metadata": {}
  },
  {
   "cell_type": "code",
   "execution_count": 17,
   "source": [
    "scores = [[100,90,98,88,65],[50,45,99,85,77],[47,88,95,80,67],[61,57,100,80,65],[24,90,94,75,65]]\n",
    "\n",
    "new_scores = list(map(list, zip(*scores))) # 행,열 바꾸기\n",
    "new_score = list(map(list, zip(scores))) # 행,열 바꾸기\n",
    "new = map(list, zip(*scores)) # 행,열 바꾸기\n",
    "\n",
    "print(new_scores)\n",
    "print(new_score)\n",
    "for i in new:\n",
    "    print(i)"
   ],
   "outputs": [
    {
     "output_type": "stream",
     "name": "stdout",
     "text": [
      "[[100, 50, 47, 61, 24], [90, 45, 88, 57, 90], [98, 99, 95, 100, 94], [88, 85, 80, 80, 75], [65, 77, 67, 65, 65]]\n",
      "[[[100, 90, 98, 88, 65]], [[50, 45, 99, 85, 77]], [[47, 88, 95, 80, 67]], [[61, 57, 100, 80, 65]], [[24, 90, 94, 75, 65]]]\n",
      "[100, 50, 47, 61, 24]\n",
      "[90, 45, 88, 57, 90]\n",
      "[98, 99, 95, 100, 94]\n",
      "[88, 85, 80, 80, 75]\n",
      "[65, 77, 67, 65, 65]\n"
     ]
    }
   ],
   "metadata": {}
  },
  {
   "cell_type": "markdown",
   "source": [
    "2차원 배열 -> 1차원"
   ],
   "metadata": {}
  },
  {
   "cell_type": "code",
   "execution_count": 6,
   "source": [
    "b = [[60], [30], [30], [40]]\n",
    "sum(b, [])"
   ],
   "outputs": [
    {
     "output_type": "execute_result",
     "data": {
      "text/plain": [
       "[60, 30, 30, 40]"
      ]
     },
     "metadata": {},
     "execution_count": 6
    }
   ],
   "metadata": {}
  },
  {
   "cell_type": "code",
   "execution_count": 9,
   "source": [
    "a = [[60, 50], [30, 70], ['바보'], [60, 30], [80, 40]]\n",
    "print(sum(a, []))"
   ],
   "outputs": [
    {
     "output_type": "stream",
     "name": "stdout",
     "text": [
      "[60, 50, 30, 70, '바보', 60, 30, 80, 40]\n"
     ]
    }
   ],
   "metadata": {}
  },
  {
   "cell_type": "code",
   "execution_count": 10,
   "source": [
    "[element for array in b for element in array]"
   ],
   "outputs": [
    {
     "output_type": "execute_result",
     "data": {
      "text/plain": [
       "[60, 30, 30, 40]"
      ]
     },
     "metadata": {},
     "execution_count": 10
    }
   ],
   "metadata": {}
  },
  {
   "cell_type": "code",
   "execution_count": 13,
   "source": [
    "import numpy as np\n",
    "\n",
    "print(np.array(b).flatten().tolist())"
   ],
   "outputs": [
    {
     "output_type": "stream",
     "name": "stdout",
     "text": [
      "[60, 30, 30, 40]\n"
     ]
    }
   ],
   "metadata": {}
  }
 ],
 "metadata": {
  "orig_nbformat": 4,
  "language_info": {
   "name": "python",
   "version": "3.8.10",
   "mimetype": "text/x-python",
   "codemirror_mode": {
    "name": "ipython",
    "version": 3
   },
   "pygments_lexer": "ipython3",
   "nbconvert_exporter": "python",
   "file_extension": ".py"
  },
  "kernelspec": {
   "name": "python3",
   "display_name": "Python 3.8.10 64-bit"
  },
  "interpreter": {
   "hash": "916dbcbb3f70747c44a77c7bcd40155683ae19c65e1c03b4aa3499c5328201f1"
  }
 },
 "nbformat": 4,
 "nbformat_minor": 2
}