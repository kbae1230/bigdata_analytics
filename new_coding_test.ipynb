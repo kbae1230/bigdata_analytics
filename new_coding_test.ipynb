{
 "cells": [
  {
   "cell_type": "code",
   "execution_count": 1,
   "metadata": {},
   "outputs": [
    {
     "name": "stdout",
     "output_type": "stream",
     "text": [
      "hi\n"
     ]
    }
   ],
   "source": [
    "print('hi')\n",
    "#20211007\n",
    "#20211009\n",
    "#20211011 geography x,y 좌표 확인\n",
    "#20211012\n",
    "#study\n",
    "#aoi coor 추출, 데이터셋 생성\n",
    "#scene name으로 label 이름 변환\n",
    "#ADsP 공부\n",
    "#Study\n",
    "#rsync, scp, scene name change \n",
    "#parcer, module, lens\n",
    "#STUDY\n",
    "#utc to local, area indexing, tif, jp2 metadata indexing\n",
    "# airflow trigger\n",
    "# window11\n",
    "# scene indexing, rgb, scene_label grouping\n",
    "# sql add column and update\n",
    "# data copying, remove missing value, outlier\n",
    "# tool\n",
    "# no\n",
    "# move_scene 코드 통합 완료"
   ]
  },
  {
   "cell_type": "markdown",
   "metadata": {},
   "source": [
    "행 열 바꾸기"
   ]
  },
  {
   "cell_type": "code",
   "execution_count": 17,
   "metadata": {},
   "outputs": [
    {
     "name": "stdout",
     "output_type": "stream",
     "text": [
      "[[100, 50, 47, 61, 24], [90, 45, 88, 57, 90], [98, 99, 95, 100, 94], [88, 85, 80, 80, 75], [65, 77, 67, 65, 65]]\n",
      "[[[100, 90, 98, 88, 65]], [[50, 45, 99, 85, 77]], [[47, 88, 95, 80, 67]], [[61, 57, 100, 80, 65]], [[24, 90, 94, 75, 65]]]\n",
      "[100, 50, 47, 61, 24]\n",
      "[90, 45, 88, 57, 90]\n",
      "[98, 99, 95, 100, 94]\n",
      "[88, 85, 80, 80, 75]\n",
      "[65, 77, 67, 65, 65]\n"
     ]
    }
   ],
   "source": [
    "scores = [[100,90,98,88,65],[50,45,99,85,77],[47,88,95,80,67],[61,57,100,80,65],[24,90,94,75,65]]\n",
    "\n",
    "new_scores = list(map(list, zip(*scores))) # 행,열 바꾸기\n",
    "new_score = list(map(list, zip(scores))) # 행,열 바꾸기\n",
    "new = map(list, zip(*scores)) # 행,열 바꾸기\n",
    "\n",
    "print(new_scores)\n",
    "print(new_score)\n",
    "for i in new:\n",
    "    print(i)"
   ]
  },
  {
   "cell_type": "markdown",
   "metadata": {},
   "source": [
    "2차원 배열 -> 1차원"
   ]
  },
  {
   "cell_type": "code",
   "execution_count": 6,
   "metadata": {},
   "outputs": [
    {
     "data": {
      "text/plain": [
       "[60, 30, 30, 40]"
      ]
     },
     "execution_count": 6,
     "metadata": {},
     "output_type": "execute_result"
    }
   ],
   "source": [
    "b = [[60], [30], [30], [40]]\n",
    "sum(b, [])"
   ]
  },
  {
   "cell_type": "code",
   "execution_count": 9,
   "metadata": {},
   "outputs": [
    {
     "name": "stdout",
     "output_type": "stream",
     "text": [
      "[60, 50, 30, 70, '바보', 60, 30, 80, 40]\n"
     ]
    }
   ],
   "source": [
    "a = [[60, 50], [30, 70], ['바보'], [60, 30], [80, 40]]\n",
    "print(sum(a, []))"
   ]
  },
  {
   "cell_type": "code",
   "execution_count": 10,
   "metadata": {},
   "outputs": [
    {
     "data": {
      "text/plain": [
       "[60, 30, 30, 40]"
      ]
     },
     "execution_count": 10,
     "metadata": {},
     "output_type": "execute_result"
    }
   ],
   "source": [
    "[element for array in b for element in array]"
   ]
  },
  {
   "cell_type": "code",
   "execution_count": 13,
   "metadata": {},
   "outputs": [
    {
     "name": "stdout",
     "output_type": "stream",
     "text": [
      "[60, 30, 30, 40]\n"
     ]
    }
   ],
   "source": [
    "import numpy as np\n",
    "\n",
    "print(np.array(b).flatten().tolist())"
   ]
  },
  {
   "cell_type": "markdown",
   "metadata": {},
   "source": [
    "(백준) 미로탐색"
   ]
  },
  {
   "cell_type": "code",
   "execution_count": 2,
   "metadata": {},
   "outputs": [
    {
     "name": "stdout",
     "output_type": "stream",
     "text": [
      "3\n",
      "7\n",
      "8\n",
      "9\n"
     ]
    }
   ],
   "source": [
    "n = 7\n",
    "num = []\n",
    "graph = [[0,1,1,0,1,0,0],[0,1,1,0,1,0,1],[1,1,1,0,1,0,1],[0,0,0,0,1,1,1],[0,1,0,0,0,0,0],[0,1,1,1,1,1,0],[0,1,1,1,0,0,0]]\n",
    "\n",
    "dx = [0, 0, 1, -1]\n",
    "dy = [1, -1, 0, 0]\n",
    "\n",
    "def DFS(x,y):\n",
    "    if x < 0 or x >= n or y < 0 or y >= n:\n",
    "        return False\n",
    "    \n",
    "    if graph[x][y] == 1:\n",
    "        global count\n",
    "        count += 1\n",
    "        graph[x][y] = 0\n",
    "        for i in range(4):\n",
    "            nx = x + dx[i]\n",
    "            ny = y + dy[i]\n",
    "            DFS(nx, ny)\n",
    "        return True\n",
    "    return False\n",
    "\n",
    "count = 0\n",
    "result = 0\n",
    "\n",
    "for i in range(n):\n",
    "    for j in range(n):\n",
    "        if DFS(i,j) == True:\n",
    "            num.append(count)\n",
    "            result += 1\n",
    "            count = 0\n",
    "num.sort()\n",
    "print(result)\n",
    "for i in range(len(num)):\n",
    "    print(num[i])"
   ]
  },
  {
   "cell_type": "markdown",
   "metadata": {},
   "source": [
    "(백준) 미로 탐색"
   ]
  },
  {
   "cell_type": "code",
   "execution_count": 11,
   "metadata": {},
   "outputs": [
    {
     "name": "stdout",
     "output_type": "stream",
     "text": [
      "[17]\n"
     ]
    }
   ],
   "source": [
    "# DFS로는 안됨.\n",
    "\n",
    "dx = [0, 0, 1, -1]\n",
    "dy = [1, -1, 0, 0]\n",
    "m = 6\n",
    "n = 4 \n",
    "num = []\n",
    "graph = [[1,0,1,1,1,1],[1,0,1,0,1,0],[1,0,1,0,1,1],[1,1,1,0,1,1]]\n",
    "def DFS(x,y):\n",
    "    if x < 0 or x >= n or y < 0 or y >= m:\n",
    "        return False\n",
    "    \n",
    "    if graph[x][y] == 1:\n",
    "        global count\n",
    "        count += 1\n",
    "        graph[x][y] = 0\n",
    "        for i in range(4):\n",
    "            nx = x + dx[i]\n",
    "            ny = y + dy[i]\n",
    "            DFS(nx, ny)\n",
    "        return True\n",
    "    return False\n",
    "\n",
    "\n",
    "\n",
    "if __name__==\"__main__\":\n",
    "    count = 0\n",
    "    result = 0\n",
    "    for i in range(n):\n",
    "        for j in range(n):\n",
    "            if DFS(i,j) == True:\n",
    "                num.append(count)\n",
    "                result += 1\n",
    "                count = 0\n",
    "print(num)"
   ]
  },
  {
   "cell_type": "code",
   "execution_count": 27,
   "metadata": {},
   "outputs": [
    {
     "name": "stdout",
     "output_type": "stream",
     "text": [
      "15\n"
     ]
    }
   ],
   "source": [
    "from collections import deque\n",
    "\n",
    "dx = [0, 0, 1, -1]\n",
    "dy = [1, -1, 0, 0]\n",
    "m = 6\n",
    "n = 4 \n",
    "graph = [[1,0,1,1,1,1],[1,0,1,0,1,0],[1,0,1,0,1,1],[1,1,1,0,1,1]]\n",
    "\n",
    "def BFS(x,y):\n",
    "    \n",
    "    queue = deque([[x,y]])\n",
    "\n",
    "    while queue:\n",
    "        x,y = queue.popleft()\n",
    "\n",
    "        for i in range(4):\n",
    "            nx = x + dx[i]\n",
    "            ny = y + dy[i]\n",
    "\n",
    "            if nx < 0 or nx >= n or ny < 0 or ny >= m:\n",
    "                nx = x \n",
    "                ny = y\n",
    "            elif graph[nx][ny] == 1:\n",
    "                graph[nx][ny] += graph[x][y]\n",
    "                queue.append([nx,ny])\n",
    "\n",
    "if __name__==\"__main__\":\n",
    "    BFS(0,0)\n",
    "    print(graph[n-1][m-1])\n",
    "\n"
   ]
  },
  {
   "cell_type": "markdown",
   "metadata": {},
   "source": [
    "(백준) 바이러스"
   ]
  },
  {
   "cell_type": "code",
   "execution_count": null,
   "metadata": {},
   "outputs": [],
   "source": [
    "def solution(n, computers):\n",
    "    answer = 0\n",
    "    visited = [False for i in range(n)]\n",
    "    for com in range(n):\n",
    "        if visited[com] == False:\n",
    "            DFS(n, computers, com, visited)\n",
    "            answer += 1\n",
    "    return answer\n",
    "\n",
    "\n",
    "def DFS(n, computers, com, visited):\n",
    "    visited[com] = True\n",
    "    for connect in range(n):\n",
    "        if connect != com and computers[com][connect] == 1:\n",
    "            if visited[connect] == False:\n",
    "                DFS(n, computers, connect, visited)\n",
    "\n",
    "\n",
    "def BFS(n, computers, com, visited):\n",
    "    visited[com] = True\n",
    "    queue = []\n",
    "    queue.append(com)\n",
    "    while len(queue) != 0:\n",
    "        com = queue.pop(0)\n",
    "        visited[com] = True\n",
    "        for connect in range(n):\n",
    "            if connect != com and computers[com][connect] == 1:\n",
    "                if visited[connect] == False:\n",
    "                    queue.append(connect)"
   ]
  },
  {
   "cell_type": "code",
   "execution_count": 34,
   "metadata": {},
   "outputs": [
    {
     "name": "stdout",
     "output_type": "stream",
     "text": [
      "virus_com [[0, 0, 2, 0, 0, 0, 0], [0, 0, 2, 0, 0, 0, 0], [0, 0, 2, 0, 0, 0, 0], [0, 0, 2, 0, 0, 0, 0], [0, 0, 2, 0, 0, 0, 0], [0, 0, 2, 0, 0, 0, 0], [0, 0, 2, 0, 0, 0, 0]]\n",
      "virus_com2 [[0, 0, 0, 0, 0, 0, 0], [0, 0, 2, 0, 0, 0, 0], [0, 0, 0, 0, 0, 0, 0], [0, 0, 0, 0, 0, 0, 0], [0, 0, 0, 0, 0, 0, 0], [0, 0, 0, 0, 0, 0, 0], [0, 0, 0, 0, 0, 0, 0]]\n",
      "[[0, 0, 0, 0, 0, 0, 0], [0, 0, 2, 0, 0, 0, 0], [0, 0, 0, 0, 0, 0, 0], [0, 0, 0, 0, 0, 0, 0], [0, 0, 0, 0, 0, 0, 0], [0, 0, 0, 0, 0, 0, 0], [0, 0, 0, 0, 0, 0, 0]]\n",
      "[[0, 0, 0, 0, 0, 0, 0], [0, 0, 2, 0, 0, 0, 0], [0, 0, 0, 0, 0, 0, 0], [0, 0, 0, 0, 0, 0, 0], [0, 0, 0, 0, 0, 0, 0], [0, 0, 0, 0, 0, 0, 0], [0, 0, 0, 0, 0, 0, 0]]\n"
     ]
    }
   ],
   "source": [
    "\n",
    "\n",
    "\n",
    "n = 7\n",
    "# case 1\n",
    "virus_com = [[0]*n]*n\n",
    "virus_com[1][2] =2\n",
    "print('virus_com', virus_com)\n",
    "\n",
    "# case 2\n",
    "virus_com2 = [[0]*n for _ in range(n)]\n",
    "virus_com2[1][2] =2\n",
    "print('virus_com2', virus_com2)\n",
    "#### case 1 의 경우 곱했더니 아래 숫자도 바뀜\n",
    "\n",
    "print(virus_com2)\n",
    "numbers = [[1,2],[2,3],[1,5],[5,2],[5,6],[4,7]]\n",
    "\n",
    "# for i in range(len(virus_com)):\n",
    "#     virus_com[i][i] = 1\n",
    "\n",
    "\n",
    "\n",
    "virus_com2[1][2] =2\n",
    "print(virus_com2)\n",
    "\n",
    "# for num in numbers:\n",
    "#     print(num[0])\n",
    "#     virus_com[num[0]-1][num[1]-1] = 1\n",
    "#     virus_com[num[1]-1][num[0]-1] = 1\n",
    "#     print(virus_com)\n",
    "\n",
    "# c = [[0, 0, 0, 0, 0, 0, 0], [2, 0, 0, 0, 0, 0, 0], [0, 3, 0, 0, 0, 0, 0], [0, 0, 0, 0, 0, 0, 0], [0, 0, 0, 0, 0, 0, 0], [0, 0, 0, 0, 0, 0, 0], [0, 0, 0, 0, 0, 0, 0]]\n",
    "# c[1][0] = 3\n",
    "# print(c)"
   ]
  },
  {
   "cell_type": "code",
   "execution_count": null,
   "metadata": {},
   "outputs": [],
   "source": []
  }
 ],
 "metadata": {
  "interpreter": {
   "hash": "0d12d05ab1afc7278cbb1fa09e775842eb34e7aa5a193c340acf9f8f1f5bb7ed"
  },
  "kernelspec": {
   "display_name": "Python 3.8.5 64-bit ('base': conda)",
   "name": "python3"
  },
  "language_info": {
   "codemirror_mode": {
    "name": "ipython",
    "version": 3
   },
   "file_extension": ".py",
   "mimetype": "text/x-python",
   "name": "python",
   "nbconvert_exporter": "python",
   "pygments_lexer": "ipython3",
   "version": "3.8.5"
  },
  "orig_nbformat": 4
 },
 "nbformat": 4,
 "nbformat_minor": 2
}
