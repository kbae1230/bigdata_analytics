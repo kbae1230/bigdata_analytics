{
 "cells": [
  {
   "cell_type": "code",
   "execution_count": 53,
   "metadata": {},
   "outputs": [
    {
     "name": "stdout",
     "output_type": "stream",
     "text": [
      "hi\n"
     ]
    }
   ],
   "source": [
    "print('hi')\n",
    "#20211007\n",
    "#20211009\n",
    "#20211011 geography x,y 좌표 확인\n",
    "#20211012\n",
    "#study\n",
    "#aoi coor 추출, 데이터셋 생성\n",
    "#scene name으로 label 이름 변환\n",
    "#ADsP 공부\n",
    "#Study\n",
    "#rsync, scp, scene name change \n",
    "#parcer, module, lens\n",
    "#STUDY\n",
    "#utc to local, area indexing, tif, jp2 metadata indexing\n",
    "# airflow trigger\n",
    "# window11\n",
    "# scene indexing, rgb, scene_label grouping\n",
    "# sql add column and update\n",
    "# data copying, remove missing value, outlier\n",
    "# tool\n",
    "# no\n",
    "# move_scene 코드 통합 완료\n",
    "# 영상 처리 코드 통합\n",
    "# class로 통합 중\n",
    "# xml 없는 경우 추가\n",
    "# clean code\n",
    "# WORKSHOP\n",
    "# wrong code\n",
    "# 영상 옮기기 노가다\n",
    "# 이름 재정립 및 코드 수정\n",
    "# 라벨 포함 코드 완료. 개별 영상 코드는 재작성 예정\n",
    "# 라벨 코드 중복 발생, 수정 중\n",
    "# 영상 이동 완료, 검색엔진 만드는 중\n",
    "# test\n",
    "# 가변인자, sqlalchemy, django와 코드 병합\n",
    "# 연결 및 타입 변환\n",
    "# 녹화 및 타입 변환"
   ]
  },
  {
   "cell_type": "code",
   "execution_count": 54,
   "metadata": {},
   "outputs": [
    {
     "name": "stdout",
     "output_type": "stream",
     "text": [
      "3\n"
     ]
    }
   ],
   "source": [
    "a = '1232323'\n",
    "print(a.count('23'))\n",
    "# b = '12'\n",
    "# c = a -b\n",
    "# print(c)"
   ]
  },
  {
   "cell_type": "markdown",
   "metadata": {},
   "source": [
    "행 열 바꾸기"
   ]
  },
  {
   "cell_type": "code",
   "execution_count": 55,
   "metadata": {},
   "outputs": [
    {
     "name": "stdout",
     "output_type": "stream",
     "text": [
      "[[100, 50, 47, 61, 24], [90, 45, 88, 57, 90], [98, 99, 95, 100, 94], [88, 85, 80, 80, 75], [65, 77, 67, 65, 65]]\n",
      "[[[100, 90, 98, 88, 65]], [[50, 45, 99, 85, 77]], [[47, 88, 95, 80, 67]], [[61, 57, 100, 80, 65]], [[24, 90, 94, 75, 65]]]\n",
      "[100, 50, 47, 61, 24]\n",
      "[90, 45, 88, 57, 90]\n",
      "[98, 99, 95, 100, 94]\n",
      "[88, 85, 80, 80, 75]\n",
      "[65, 77, 67, 65, 65]\n"
     ]
    }
   ],
   "source": [
    "scores = [[100,90,98,88,65],[50,45,99,85,77],[47,88,95,80,67],[61,57,100,80,65],[24,90,94,75,65]]\n",
    "\n",
    "new_scores = list(map(list, zip(*scores))) # 행,열 바꾸기\n",
    "new_score = list(map(list, zip(scores))) # 행,열 바꾸기\n",
    "new = map(list, zip(*scores)) # 행,열 바꾸기\n",
    "\n",
    "print(new_scores)\n",
    "print(new_score)\n",
    "for i in new:\n",
    "    print(i)"
   ]
  },
  {
   "cell_type": "markdown",
   "metadata": {},
   "source": [
    "2차원 배열 -> 1차원"
   ]
  },
  {
   "cell_type": "code",
   "execution_count": 56,
   "metadata": {},
   "outputs": [
    {
     "data": {
      "text/plain": [
       "[60, 30, 30, 40]"
      ]
     },
     "execution_count": 56,
     "metadata": {},
     "output_type": "execute_result"
    }
   ],
   "source": [
    "b = [[60], [30], [30], [40]]\n",
    "sum(b, [])"
   ]
  },
  {
   "cell_type": "code",
   "execution_count": 57,
   "metadata": {},
   "outputs": [
    {
     "name": "stdout",
     "output_type": "stream",
     "text": [
      "[60, 50, 30, 70, '바보', 60, 30, 80, 40]\n"
     ]
    }
   ],
   "source": [
    "a = [[60, 50], [30, 70], ['바보'], [60, 30], [80, 40]]\n",
    "print(sum(a, []))"
   ]
  },
  {
   "cell_type": "code",
   "execution_count": 58,
   "metadata": {},
   "outputs": [
    {
     "data": {
      "text/plain": [
       "[60, 30, 30, 40]"
      ]
     },
     "execution_count": 58,
     "metadata": {},
     "output_type": "execute_result"
    }
   ],
   "source": [
    "[element for array in b for element in array]"
   ]
  },
  {
   "cell_type": "code",
   "execution_count": 59,
   "metadata": {},
   "outputs": [
    {
     "name": "stdout",
     "output_type": "stream",
     "text": [
      "[60, 30, 30, 40]\n"
     ]
    }
   ],
   "source": [
    "import numpy as np\n",
    "\n",
    "print(np.array(b).flatten().tolist())"
   ]
  },
  {
   "cell_type": "markdown",
   "metadata": {},
   "source": [
    "(백준) 미로탐색"
   ]
  },
  {
   "cell_type": "code",
   "execution_count": 60,
   "metadata": {},
   "outputs": [
    {
     "name": "stdout",
     "output_type": "stream",
     "text": [
      "3\n",
      "7\n",
      "8\n",
      "9\n"
     ]
    }
   ],
   "source": [
    "n = 7\n",
    "num = []\n",
    "graph = [[0,1,1,0,1,0,0],[0,1,1,0,1,0,1],[1,1,1,0,1,0,1],[0,0,0,0,1,1,1],[0,1,0,0,0,0,0],[0,1,1,1,1,1,0],[0,1,1,1,0,0,0]]\n",
    "\n",
    "dx = [0, 0, 1, -1]\n",
    "dy = [1, -1, 0, 0]\n",
    "\n",
    "def DFS(x,y):\n",
    "    if x < 0 or x >= n or y < 0 or y >= n:\n",
    "        return False\n",
    "    \n",
    "    if graph[x][y] == 1:\n",
    "        global count\n",
    "        count += 1\n",
    "        graph[x][y] = 0\n",
    "        for i in range(4):\n",
    "            nx = x + dx[i]\n",
    "            ny = y + dy[i]\n",
    "            DFS(nx, ny)\n",
    "        return True\n",
    "    return False\n",
    "\n",
    "count = 0\n",
    "result = 0\n",
    "\n",
    "for i in range(n):\n",
    "    for j in range(n):\n",
    "        if DFS(i,j) == True:\n",
    "            num.append(count)\n",
    "            result += 1\n",
    "            count = 0\n",
    "num.sort()\n",
    "print(result)\n",
    "for i in range(len(num)):\n",
    "    print(num[i])"
   ]
  },
  {
   "cell_type": "markdown",
   "metadata": {},
   "source": [
    "(백준) 미로 탐색"
   ]
  },
  {
   "cell_type": "code",
   "execution_count": 61,
   "metadata": {},
   "outputs": [
    {
     "name": "stdout",
     "output_type": "stream",
     "text": [
      "[17]\n"
     ]
    }
   ],
   "source": [
    "# DFS로는 안됨.\n",
    "\n",
    "dx = [0, 0, 1, -1]\n",
    "dy = [1, -1, 0, 0]\n",
    "m = 6\n",
    "n = 4 \n",
    "num = []\n",
    "graph = [[1,0,1,1,1,1],[1,0,1,0,1,0],[1,0,1,0,1,1],[1,1,1,0,1,1]]\n",
    "def DFS(x,y):\n",
    "    if x < 0 or x >= n or y < 0 or y >= m:\n",
    "        return False\n",
    "    \n",
    "    if graph[x][y] == 1:\n",
    "        global count\n",
    "        count += 1\n",
    "        graph[x][y] = 0\n",
    "        for i in range(4):\n",
    "            nx = x + dx[i]\n",
    "            ny = y + dy[i]\n",
    "            DFS(nx, ny)\n",
    "        return True\n",
    "    return False\n",
    "\n",
    "\n",
    "\n",
    "if __name__==\"__main__\":\n",
    "    count = 0\n",
    "    result = 0\n",
    "    for i in range(n):\n",
    "        for j in range(n):\n",
    "            if DFS(i,j) == True:\n",
    "                num.append(count)\n",
    "                result += 1\n",
    "                count = 0\n",
    "print(num)"
   ]
  },
  {
   "cell_type": "code",
   "execution_count": 62,
   "metadata": {},
   "outputs": [
    {
     "name": "stdout",
     "output_type": "stream",
     "text": [
      "15\n"
     ]
    }
   ],
   "source": [
    "from collections import deque\n",
    "\n",
    "dx = [0, 0, 1, -1]\n",
    "dy = [1, -1, 0, 0]\n",
    "m = 6\n",
    "n = 4 \n",
    "graph = [[1,0,1,1,1,1],[1,0,1,0,1,0],[1,0,1,0,1,1],[1,1,1,0,1,1]]\n",
    "\n",
    "def BFS(x,y):\n",
    "    \n",
    "    queue = deque([[x,y]])\n",
    "\n",
    "    while queue:\n",
    "        x,y = queue.popleft()\n",
    "\n",
    "        for i in range(4):\n",
    "            nx = x + dx[i]\n",
    "            ny = y + dy[i]\n",
    "\n",
    "            if nx < 0 or nx >= n or ny < 0 or ny >= m:\n",
    "                nx = x \n",
    "                ny = y\n",
    "            elif graph[nx][ny] == 1:\n",
    "                graph[nx][ny] += graph[x][y]\n",
    "                queue.append([nx,ny])\n",
    "\n",
    "if __name__==\"__main__\":\n",
    "    BFS(0,0)\n",
    "    print(graph[n-1][m-1])\n",
    "\n"
   ]
  },
  {
   "cell_type": "markdown",
   "metadata": {},
   "source": [
    "(백준) 바이러스"
   ]
  },
  {
   "cell_type": "code",
   "execution_count": 63,
   "metadata": {},
   "outputs": [],
   "source": [
    "def solution(n, computers):\n",
    "    answer = 0\n",
    "    visited = [False for i in range(n)]\n",
    "    for com in range(n):\n",
    "        if visited[com] == False:\n",
    "            DFS(n, computers, com, visited)\n",
    "            answer += 1\n",
    "    return answer\n",
    "\n",
    "\n",
    "def DFS(n, computers, com, visited):\n",
    "    visited[com] = True\n",
    "    for connect in range(n):\n",
    "        if connect != com and computers[com][connect] == 1:\n",
    "            if visited[connect] == False:\n",
    "                DFS(n, computers, connect, visited)\n",
    "\n",
    "\n",
    "def BFS(n, computers, com, visited):\n",
    "    visited[com] = True\n",
    "    queue = []\n",
    "    queue.append(com)\n",
    "    while len(queue) != 0:\n",
    "        com = queue.pop(0)\n",
    "        visited[com] = True\n",
    "        for connect in range(n):\n",
    "            if connect != com and computers[com][connect] == 1:\n",
    "                if visited[connect] == False:\n",
    "                    queue.append(connect)"
   ]
  },
  {
   "cell_type": "code",
   "execution_count": 64,
   "metadata": {},
   "outputs": [
    {
     "ename": "SyntaxError",
     "evalue": "invalid syntax (<ipython-input-64-232aaa6113de>, line 32)",
     "output_type": "error",
     "traceback": [
      "\u001b[1;36m  File \u001b[1;32m\"<ipython-input-64-232aaa6113de>\"\u001b[1;36m, line \u001b[1;32m32\u001b[0m\n\u001b[1;33m    for  in virus_com[i]:\u001b[0m\n\u001b[1;37m         ^\u001b[0m\n\u001b[1;31mSyntaxError\u001b[0m\u001b[1;31m:\u001b[0m invalid syntax\n"
     ]
    }
   ],
   "source": [
    "n = 7\n",
    "\n",
    "# case 1\n",
    "# virus_com = [[0]*n]*n\n",
    "# virus_com[1][2] =2\n",
    "# print('virus_com', virus_com)\n",
    "#### case 1 의 경우 곱했더니 아래 숫자도 바뀜\n",
    "\n",
    "# case 2\n",
    "\n",
    "virus_com = [[0]*n for _ in range(n)]\n",
    "numbers = [[1,2],[2,3],[1,5],[5,2],[5,6],[4,7]]\n",
    "\n",
    "for i in range(n):\n",
    "    virus_com[i][i] = 1\n",
    "\n",
    "for i in range(len(numbers)):\n",
    "    virus_com[numbers[i][0]-1][numbers[i][1]-1] = 1\n",
    "    virus_com[numbers[i][1]-1][numbers[i][0]-1] = 1\n",
    "\n",
    "# print(virus_com)\n",
    "\n",
    "# 셋팅 과정.\n",
    "from collections import deque\n",
    "\n",
    "visited = [False for _ in range(n)]\n",
    "cnt = 0\n",
    "\n",
    "def DFS(i):\n",
    "    global cnt\n",
    "    visited[i] = 1\n",
    "    for  in virus_com[i]:\n",
    "\n",
    "\n",
    "# def solution(n, virus_com):\n",
    "#     answer = 0\n",
    "#     visited = [False for _ in range(n)]\n",
    "#     for com in range(n):\n",
    "#         DFS(n, virus_com, com, visited)\n",
    "#         answer += 1\n",
    "#     return answer\n",
    "\n",
    "# def DFS(n, virus_com, com, visited):\n",
    "#     visited[com] = True\n",
    "#     for connect in range(n):\n",
    "#         if connect != com and virus_com[com][connect] == 1:\n",
    "#             if visited[connect] == False:\n",
    "#                 DFS(n, virus_com, com, visited)\n",
    "\n",
    "# print(solution(n, virus_com))"
   ]
  },
  {
   "cell_type": "code",
   "execution_count": null,
   "metadata": {},
   "outputs": [
    {
     "name": "stdout",
     "output_type": "stream",
     "text": [
      "2\n"
     ]
    }
   ],
   "source": [
    "def solution(n, computers):\n",
    "    answer = 0\n",
    "    visited = [False for i in range(n)]\n",
    "    for com in range(n):\n",
    "        if visited[com] == False:\n",
    "            DFS(n, computers, com, visited)\n",
    "            answer += 1 #DFS로 최대한 컴퓨터들을 방문하고 빠져나오게 되면 그것이 하나의 네트워크.\n",
    "    return answer\n",
    "\n",
    "def DFS(n, computers, com, visited):\n",
    "    visited[com] = True\n",
    "    for connect in range(n):\n",
    "        if connect != com and computers[com][connect] == 1: #연결된 컴퓨터\n",
    "            if visited[connect] == False:\n",
    "                DFS(n, computers, connect, visited)\n",
    "# import sys\n",
    "# sys.setrecursionlimit(10**9)\n",
    "n = 3 \t\n",
    "computers = [[1, 1, 0], [1, 1, 0], [0, 0, 1]]\n",
    "print(solution(n,computers))"
   ]
  },
  {
   "cell_type": "code",
   "execution_count": null,
   "metadata": {},
   "outputs": [
    {
     "name": "stdout",
     "output_type": "stream",
     "text": [
      "4\n"
     ]
    }
   ],
   "source": [
    "from collections import deque\n",
    "\n",
    "def setting(n):\n",
    "    global visited\n",
    "    visited = [False for _ in range(n)]\n",
    "    virus_com = [[]*n for _ in range(n+1)]\n",
    "    numbers = [[1,2],[2,3],[1,5],[5,2],[5,6],[4,7]]\n",
    "    for i in numbers:\n",
    "        a = i[0]\n",
    "        b = i[1]\n",
    "        virus_com[a].append(b)\n",
    "        virus_com[b].append(a)\n",
    "    \n",
    "def DFS(com):\n",
    "    global cnt\n",
    "    visited[com] = True\n",
    "    for i in virus_com[com]:\n",
    "        if visited[i] == False:\n",
    "            DFS(i)\n",
    "            cnt += 1\n",
    "\n",
    "if __name__=='__main__':\n",
    "    # 컴퓨터 갯수\n",
    "    n = 7\n",
    "    # 원하는 컴퓨터\n",
    "    com_num = 1\n",
    "    cnt = 0\n",
    "\n",
    "    setting(n)\n",
    "    DFS(com_num)\n",
    "    print(cnt)\n"
   ]
  },
  {
   "cell_type": "code",
   "execution_count": null,
   "metadata": {},
   "outputs": [
    {
     "name": "stdout",
     "output_type": "stream",
     "text": [
      "총 지렁이 수 : 5\n",
      "각 지렁이가 지키는 배추 갯수 : [3, 2, 2, 6, 1]\n"
     ]
    }
   ],
   "source": [
    "from collections import deque\n",
    "\n",
    "\n",
    "def setting():\n",
    "    global ground\n",
    "    ground = [[0]*10 for _ in range(6)]\n",
    "    worm = [[0, 0], [1, 0], [1, 1], [4, 2], [4, 3], [4, 5], [2, 4], [3, 4], [7, 4], [8, 4], [9, 4], [7, 5], [8, 5], [9, 5]]\n",
    "\n",
    "    for i in worm:\n",
    "        ground[i[1]][i[0]]=1\n",
    "\n",
    "\n",
    "def BFS(ground, a, b, row, col, count):\n",
    "\n",
    "    queue = deque()\n",
    "    queue.append((a, b))\n",
    "    ground[a][b] = 0\n",
    "\n",
    "    dx = [0, 0, 1, -1]\n",
    "    dy = [1, -1, 0, 0]\n",
    "\n",
    "    while queue:\n",
    "        x, y = queue.popleft()\n",
    "        for i in range(4):\n",
    "            nx = x + dx[i]\n",
    "            ny = y + dy[i]\n",
    "            if nx < 0 or nx >= row or ny < 0 or ny >= col:\n",
    "                continue\n",
    "            if ground[nx][ny] == 1:\n",
    "                ground[nx][ny] = 0\n",
    "                queue.append((nx, ny))\n",
    "                count += 1\n",
    "    return count\n",
    "\n",
    "\n",
    "def count_worm(row, col, cnt):\n",
    "    for i in range(row):\n",
    "        for j in range(col):\n",
    "            if ground[i][j] == 1:\n",
    "                count = 1\n",
    "                cnt.append(BFS(ground, i, j, row, col, count))\n",
    "\n",
    "\n",
    "if __name__=='__main__':\n",
    "    row = 6\n",
    "    col = 10\n",
    "    cnt = []\n",
    "\n",
    "    setting()\n",
    "    count_worm(row, col, cnt)\n",
    "\n",
    "    print('총 지렁이 수 :', len(cnt))\n",
    "    print('각 지렁이가 지키는 배추 갯수 :', cnt)\n"
   ]
  },
  {
   "cell_type": "code",
   "execution_count": null,
   "metadata": {},
   "outputs": [],
   "source": [
    "a = \"ababcdcdababcdcd\"\n",
    "result = {}\n",
    "for i in range(len(a)//2):\n",
    "    name = a[:i]\n",
    "    "
   ]
  },
  {
   "cell_type": "code",
   "execution_count": null,
   "metadata": {},
   "outputs": [
    {
     "name": "stdout",
     "output_type": "stream",
     "text": [
      "3\n",
      "2\n",
      "1\n"
     ]
    }
   ],
   "source": [
    "a = [1,2,3]\n",
    "for i in a[::-1]:\n",
    "    print(i)"
   ]
  },
  {
   "cell_type": "code",
   "execution_count": null,
   "metadata": {},
   "outputs": [
    {
     "name": "stdout",
     "output_type": "stream",
     "text": [
      "['Enter', 'uid1234', 'Muzi']\n",
      "['Enter', 'uid4567', 'Prodo']\n",
      "['Leave', 'uid1234']\n",
      "['Enter', 'uid1234', 'Prodo']\n",
      "['Change', 'uid4567', 'Ryan']\n",
      "['Prodo님이 들어왔습니다.', 'Ryan님이 들어왔습니다.', 'Prodo님이 나갔습니다.', 'Prodo님이 들어왔습니다.']\n"
     ]
    }
   ],
   "source": [
    "def solution(record):\n",
    "    result = {}\n",
    "    answer = []\n",
    "    for i in record:\n",
    "        if 'Change' in i:\n",
    "            r_l = i.split(' ')\n",
    "            result[r_l[1]]= r_l[2]\n",
    "        if 'Enter' in i:\n",
    "            r_l = i.split(' ')\n",
    "            result[r_l[1]]= r_l[2]\n",
    "\n",
    "    for j in record:\n",
    "        r_l = j.split(' ')\n",
    "        if r_l[0] == 'Enter':\n",
    "            a_j = f'{result[r_l[1]]}님이 들어왔습니다.'\n",
    "            answer.append(a_j)\n",
    "\n",
    "        elif r_l[0] == 'Leave':\n",
    "            a_j = f'{result[r_l[1]]}님이 나갔습니다.'\n",
    "            answer.append(a_j)\n",
    "    \n",
    "    return answer\n",
    "\n",
    "record = [\"Enter uid1234 Muzi\", \"Enter uid4567 Prodo\",\"Leave uid1234\",\"Enter uid1234 Prodo\",\"Change uid4567 Ryan\"]\n",
    "print(solution(record))"
   ]
  },
  {
   "cell_type": "code",
   "execution_count": null,
   "metadata": {},
   "outputs": [
    {
     "name": "stdout",
     "output_type": "stream",
     "text": [
      "7\n"
     ]
    }
   ],
   "source": [
    "def solution(s):\n",
    "\n",
    "    if len(s)==1:\n",
    "        return 1\n",
    "\n",
    "    result = 1000000\n",
    "    for i in range(1, len(s)//2+1):\n",
    "        word = s[:i]\n",
    "        answer = ''\n",
    "        cnt = 1\n",
    "\n",
    "        for j in range(i, len(s)+i, i):\n",
    "\n",
    "            if word == s[j:j+i] and j+i <= len(s):\n",
    "                cnt += 1\n",
    "            else:\n",
    "\n",
    "                if cnt != 1:\n",
    "                    answer += f'{cnt}{word}'\n",
    "                    cnt = 1\n",
    "                else:\n",
    "                    answer += word\n",
    "                    cnt = 1\n",
    "            word = s[j:j+i]\n",
    "\n",
    "        result = min(result, len(answer))\n",
    "    return result\n",
    "\n",
    "\n",
    "s= \"aabbaccc\"\n",
    "print(solution(s))\n"
   ]
  },
  {
   "cell_type": "code",
   "execution_count": null,
   "metadata": {},
   "outputs": [
    {
     "data": {
      "text/plain": [
       "'aabbaccc'"
      ]
     },
     "execution_count": 63,
     "metadata": {},
     "output_type": "execute_result"
    }
   ],
   "source": [
    "\n",
    "s= \"aabbaccc\"\n",
    "s[:100]"
   ]
  },
  {
   "cell_type": "code",
   "execution_count": null,
   "metadata": {},
   "outputs": [
    {
     "name": "stdout",
     "output_type": "stream",
     "text": [
      "1\n",
      "3\n",
      "5\n"
     ]
    }
   ],
   "source": [
    "for i in range(1 ,6, 2):\n",
    "    print(i)"
   ]
  },
  {
   "cell_type": "code",
   "execution_count": null,
   "metadata": {},
   "outputs": [
    {
     "name": "stdout",
     "output_type": "stream",
     "text": [
      "224\n"
     ]
    }
   ],
   "source": [
    "'''\n",
    "1 - 1\n",
    "2 - 2\n",
    "3 - 4\n",
    "4 - 11 - 3 1\n",
    "5 - 12 \n",
    "6 - 14\n",
    "7 - 21 - 6 1\n",
    "8 - 22\n",
    "9 - 24 - 6 3\n",
    "10  - 41 - 9 1\n",
    "11 - 42 - 9 2\n",
    "12 - 44\n",
    "13 - 111 - 9 3 1\n",
    "14 - 112\n",
    "15 - 114 - 9 3 3\n",
    "\n",
    "16 - 121 - 9 6 1\n",
    "17 - 122 - 9 6 2\n",
    "18 - 124\n",
    "19 - 141 \n",
    "20 - 142\n",
    "21 - 144 - 3 -> 7\n",
    "22 - 211\n",
    "23 - 212\n",
    "24 - 214\n",
    "25 - 221\n",
    "26 - 222\n",
    "27 - 224 - 18 6 3 \n",
    "28 - 241 - 18 9 1\n",
    "30 - 244\n",
    "31 - 311\n",
    "39 - 444\n",
    "40 - 1111\n",
    "41 - 1112\n",
    "42 - \n",
    "\n",
    "각 자리마다 3의 배수로 올라감\n",
    " 123\n",
    " 369\n",
    " 91827\n",
    "'''"
   ]
  },
  {
   "cell_type": "code",
   "execution_count": null,
   "metadata": {},
   "outputs": [],
   "source": [
    "# 124\n",
    "\n",
    "def solution(n):\n",
    "    answer = ''\n",
    "    while n>=1:\n",
    "        n -= 1\n",
    "\n",
    "        if n%3==0:\n",
    "            answer+='1'\n",
    "            n=n//3\n",
    "\n",
    "        elif n%3==1:\n",
    "            answer+='2'\n",
    "            n=n//3\n",
    "\n",
    "        elif n%3==2:\n",
    "            answer+='4'\n",
    "            n=n//3\n",
    "    \n",
    "    return ''.join(reversed(answer))\n",
    "\n",
    "print(solution(27))"
   ]
  },
  {
   "cell_type": "code",
   "execution_count": null,
   "metadata": {},
   "outputs": [
    {
     "name": "stdout",
     "output_type": "stream",
     "text": [
      "max 4\n",
      "80\n"
     ]
    }
   ],
   "source": [
    "# 멀쩡한 사각형\n",
    "\n",
    "# 두 수의 최대공약수를 찾는다.\n",
    "\n",
    "def make_divisor_set(x:int) -> set:\n",
    "    '''\n",
    "    약수 집합 반환\n",
    "    '''\n",
    "    divisor = 1\n",
    "    divisor_list = []\n",
    "\n",
    "    while x//divisor >= 1:\n",
    "        \n",
    "        if x % divisor == 0:\n",
    "            divisor_list.append(divisor)\n",
    "\n",
    "        divisor += 1\n",
    "    return set(divisor_list)\n",
    "\n",
    "\n",
    "def find_max_divisor(a:int, b:int)->int:\n",
    "    '''\n",
    "    최대공약수 반환\n",
    "    '''\n",
    "    if a == b:\n",
    "        max_divisor = a\n",
    "\n",
    "    elif a== 1 or b == 1:\n",
    "        max_divisor = 1\n",
    "\n",
    "    else:\n",
    "        a_divisor_set = make_divisor_set(a)\n",
    "        b_divisor_set = make_divisor_set(b)\n",
    "        max_divisor = max(a_divisor_set.intersection(b_divisor_set))\n",
    "\n",
    "    return max_divisor\n",
    "\n",
    "\n",
    "def result(a:int,b:int, max_divisor:int)-> int:\n",
    "\n",
    "    return a*b-(a+b-max_divisor)\n",
    "\n",
    "\n",
    "if __name__=='__main__':\n",
    "    a = 8\n",
    "    b = 12\n",
    "    max_divisor =find_max_divisor(a,b)\n",
    "    print(result(a,b, max_divisor))"
   ]
  },
  {
   "cell_type": "code",
   "execution_count": null,
   "metadata": {},
   "outputs": [
    {
     "name": "stdout",
     "output_type": "stream",
     "text": [
      "2\n"
     ]
    }
   ],
   "source": [
    "a = '11122'\n",
    "list_a = list(a)\n",
    "first = list_a[1]\n",
    "b =list_a.remove(first)\n",
    "print(list_a[3])\n"
   ]
  },
  {
   "cell_type": "code",
   "execution_count": 88,
   "metadata": {},
   "outputs": [
    {
     "name": "stdout",
     "output_type": "stream",
     "text": [
      "4\n",
      "0\n",
      "4\n",
      "1\n",
      "4\n",
      "2\n",
      "0\n"
     ]
    }
   ],
   "source": [
    "# 방법은 맞는데 너무 느려\n",
    "\n",
    "def check_result(result):\n",
    "    if result == 0:\n",
    "        result = 1\n",
    "    else:\n",
    "        result = 0\n",
    "    return result\n",
    "\n",
    "def solution(s):\n",
    "    i = 0\n",
    "    list_s = list(s)\n",
    "    while len(list_s)>i+1:\n",
    "        if list_s[i] == list_s[i+1]:\n",
    "            list_s.pop(i)\n",
    "            list_s.pop(i)\n",
    "            i = 0\n",
    "            continue\n",
    "\n",
    "        i += 1\n",
    "    \n",
    "    return check_result(len(list_s))\n",
    "\n",
    "s ='cdcd'\n",
    "# s='abcdefggfedcba'\n",
    "print(solution(s))"
   ]
  },
  {
   "cell_type": "code",
   "execution_count": 4,
   "metadata": {},
   "outputs": [
    {
     "name": "stdout",
     "output_type": "stream",
     "text": [
      "deque(['a'])\n",
      "0\n"
     ]
    }
   ],
   "source": [
    "from collections import deque\n",
    "\n",
    "\n",
    "def check_result(result):\n",
    "    if result == 0:\n",
    "        result = 1\n",
    "    else:\n",
    "        result = 0\n",
    "    return result\n",
    "\n",
    "def solution(s):\n",
    "    s= list(s)\n",
    "    answer = []\n",
    "    day = 0\n",
    "    s = deque(s)\n",
    "    answer = deque(answer)\n",
    "    answer.append(s.popleft())\n",
    "\n",
    "\n",
    "    while True:\n",
    "        print(answer)\n",
    "        try:\n",
    "            if answer[-2:-1] == s[0]:\n",
    "                answer.pop()\n",
    "                s.popleft()\n",
    "                # if len(answer) ==0:\n",
    "                #     answer.append(s.popleft())\n",
    "                continue\n",
    "            answer.append(s.popleft())\n",
    "        except:\n",
    "            break\n",
    "    return check_result(len(answer))\n",
    "\n",
    "s = 'abccaabaa'\n",
    "print(solution(s))"
   ]
  },
  {
   "cell_type": "code",
   "execution_count": 3,
   "metadata": {},
   "outputs": [
    {
     "name": "stdout",
     "output_type": "stream",
     "text": [
      "[]\n"
     ]
    }
   ],
   "source": [
    "a=['1','2','3']\n",
    "print(a[-2:-2])"
   ]
  },
  {
   "cell_type": "code",
   "execution_count": 93,
   "metadata": {},
   "outputs": [
    {
     "name": "stdout",
     "output_type": "stream",
     "text": [
      "()(())\n"
     ]
    }
   ],
   "source": [
    "# 괄호변환\n",
    "\n",
    "def divide(u):\n",
    "    openP = 0\n",
    "    closeP = 0\n",
    "\n",
    "    for i in range(len(u)):\n",
    "        if u[i] == '(':\n",
    "            openP += 1\n",
    "        else:\n",
    "            closeP += 1\n",
    "        if openP == closeP:\n",
    "            return u[:i+1], u[i+1:]\n",
    "\n",
    "\n",
    "def isBalanced(u):\n",
    "    if u[0] != '(':\n",
    "        return False\n",
    "    else:\n",
    "        return True\n",
    "    \n",
    "    \n",
    "def solution(p):\n",
    "    if not p:\n",
    "        return \"\"\n",
    "\n",
    "    u,v = divide(p)\n",
    "\n",
    "    if isBalanced(u):\n",
    "        return u + solution(v)\n",
    "\n",
    "    else:\n",
    "        answer = '(' + solution(v) + ')'\n",
    "        [')' if p == '(' else '(' for p in u[1:-1]]\n",
    "        return answer\n",
    "        \n",
    "\n",
    "p = \"()))((()\"\n",
    "\n",
    "print(solution(p))\n"
   ]
  },
  {
   "cell_type": "code",
   "execution_count": 8,
   "metadata": {},
   "outputs": [
    {
     "name": "stdout",
     "output_type": "stream",
     "text": [
      "1\n",
      "[2, 3, 4, 5]\n",
      "5\n"
     ]
    }
   ],
   "source": [
    "def show(e, rest):\n",
    "    print(e)\n",
    "    print(rest)\n",
    "    \n",
    "first, *rest = [1,2,3,4,5]\n",
    "print(first)\n",
    "print(rest)\n",
    "\n",
    "*rest, e = range(6)\n",
    "print(e)"
   ]
  },
  {
   "cell_type": "code",
   "execution_count": 24,
   "metadata": {},
   "outputs": [
    {
     "ename": "SyntaxError",
     "evalue": "invalid syntax (1083258948.py, line 4)",
     "output_type": "error",
     "traceback": [
      "\u001b[0;36m  File \u001b[0;32m\"/tmp/ipykernel_7310/1083258948.py\"\u001b[0;36m, line \u001b[0;32m4\u001b[0m\n\u001b[0;31m    function(**{\"key\" = 'value'})\u001b[0m\n\u001b[0m                      ^\u001b[0m\n\u001b[0;31mSyntaxError\u001b[0m\u001b[0;31m:\u001b[0m invalid syntax\n"
     ]
    }
   ],
   "source": [
    "def function(a):\n",
    "    print(a)\n",
    "key = 'value'\n",
    "function(**{\"key\" = 'value'})\n",
    "# function(key=\"value\")"
   ]
  },
  {
   "cell_type": "code",
   "execution_count": 25,
   "metadata": {},
   "outputs": [
    {
     "name": "stdout",
     "output_type": "stream",
     "text": [
      "[3]\n"
     ]
    }
   ],
   "source": [
    "a, b, *c = [1,2,3]\n",
    "print(c)"
   ]
  },
  {
   "cell_type": "code",
   "execution_count": 29,
   "metadata": {},
   "outputs": [
    {
     "data": {
      "text/plain": [
       "'$ 9'"
      ]
     },
     "execution_count": 29,
     "metadata": {},
     "output_type": "execute_result"
    }
   ],
   "source": [
    "##################################\n",
    "\n",
    "def cal(a,b,c):\n",
    "    return a+b+c\n",
    "\n",
    "def show(price):\n",
    "    return f\"$ {price}\"\n",
    "\n",
    "def final(a,b,c, fmt=str):\n",
    "    return fmt(cal(a,b,c))\n",
    "\n",
    "final(10, 0.2, 0.5, fmt=show)"
   ]
  },
  {
   "cell_type": "code",
   "execution_count": null,
   "metadata": {},
   "outputs": [],
   "source": [
    "def solution(rows, columns, queries):\n",
    "\n",
    "    answer = []\n",
    "    array = [[0 for col in range(columns)] for row in range(rows)]\n",
    "    t = 1\n",
    "    for row in range(rows):\n",
    "        for col in range(columns):\n",
    "            array[row][col] = t\n",
    "            t += 1\n",
    "\n",
    "    for x1,y1,x2,y2 in queries:\n",
    "        tmp = array[x1-1][y1-1]\n",
    "        mini = tmp\n",
    "\n",
    "        for k in range(x1-1,x2-1):\n",
    "            test = array[k+1][y1-1]\n",
    "            array[k][y1-1] = test\n",
    "            mini = min(mini, test)\n",
    "\n",
    "        for k in range(y1-1,y2-1):\n",
    "            test = array[x2-1][k+1]\n",
    "            array[x2-1][k] = test\n",
    "            mini = min(mini, test)\n",
    "\n",
    "        for k in range(x2-1,x1-1,-1):\n",
    "            test = array[k-1][y2-1]\n",
    "            array[k][y2-1] = test\n",
    "            mini = min(mini, test)\n",
    "\n",
    "        for k in range(y2-1,y1-1,-1):\n",
    "            test = array[x1-1][k-1]\n",
    "            array[x1-1][k] = test\n",
    "            mini = min(mini, test)\n",
    "\n",
    "        array[x1-1][y1] = tmp\n",
    "        answer.append(mini)\n",
    "\n",
    "    return answer"
   ]
  },
  {
   "cell_type": "code",
   "execution_count": null,
   "metadata": {},
   "outputs": [],
   "source": [
    "# 괄호 변경\n",
    "\n",
    "# 괄호변환\n",
    "\n",
    "def divide(u):\n",
    "    openP = 0\n",
    "    closeP = 0\n",
    "\n",
    "    for i in range(len(u)):\n",
    "        if u[i] == '(':\n",
    "            openP += 1\n",
    "        else:\n",
    "            closeP += 1\n",
    "        if openP == closeP:\n",
    "            return u[:i+1], u[i+1:]\n",
    "\n",
    "\n",
    "def isBalanced(u):\n",
    "    if u[0] != '(':\n",
    "        return False\n",
    "    else:\n",
    "        return True\n",
    "    \n",
    "    \n",
    "def solution(p):\n",
    "    if not p:\n",
    "        return \"\"\n",
    "\n",
    "    u,v = divide(p)\n",
    "\n",
    "    if isBalanced(u):\n",
    "        return u + solution(v)\n",
    "\n",
    "    else:\n",
    "        answer = '(' + solution(v) + ')'\n",
    "        [')' if p == '(' else '(' for p in u[1:-1]]\n",
    "        return answer\n",
    "        \n",
    "\n",
    "p = \"()))((()\"\n",
    "\n",
    "print(solution(p))\n"
   ]
  },
  {
   "cell_type": "code",
   "execution_count": 26,
   "metadata": {},
   "outputs": [
    {
     "name": "stdout",
     "output_type": "stream",
     "text": [
      "Counter({('X', 'Y'): 2, ('W', 'X'): 2, ('X', 'Z'): 1, ('Y', 'Z'): 1, ('W', 'Y'): 1, ('A', 'W'): 1, ('A', 'X'): 1})\n",
      "['WX', 'XY']\n"
     ]
    }
   ],
   "source": [
    "# 메뉴 리뉴얼\n",
    "\n",
    "from itertools import combinations\n",
    "from collections import Counter\n",
    "\n",
    "class menuRenewal:\n",
    "    \n",
    "    def __init__(self):\n",
    "        self.answer = []\n",
    "    \n",
    "    def max_menu(self, counter):\n",
    "        if counter:\n",
    "            max_m = max(list(counter.values()))\n",
    "            if max_m >= 2:\n",
    "                print(counter)\n",
    "                for key, value in counter.items():\n",
    "                    if counter[key] == max_m:\n",
    "                        self.answer.append(''.join(key))\n",
    "\n",
    "    def main(self, orders, course):\n",
    "        for c in course:\n",
    "            temp = []\n",
    "            for order in orders:\n",
    "                menu = combinations(sorted(order), c)\n",
    "                temp += menu\n",
    "            self.max_menu(Counter(temp))\n",
    "                        \n",
    "        return sorted(self.answer)\n",
    "\n",
    "if __name__ == '__main__':\n",
    "    orders = [\"XYZ\", \"XWY\", \"WXA\"]\n",
    "    course = [2,3,4]\n",
    "    menurenewal = menuRenewal()\n",
    "    answer = menurenewal.main(orders, course)\n",
    "    print(answer)\n"
   ]
  },
  {
   "cell_type": "code",
   "execution_count": 65,
   "metadata": {},
   "outputs": [
    {
     "name": "stdout",
     "output_type": "stream",
     "text": [
      "16384\n"
     ]
    }
   ],
   "source": [
    "# 뉴스 클러스터링\n",
    "import re\n",
    "import math\n",
    "\n",
    "p = re.compile('[a-zA-Z]{2}')\n",
    "\n",
    "def str_to_2cha(str_input):\n",
    "    str_list = []\n",
    "    for i in range(len(str_input)-1):\n",
    "        two_char = str_input[i] + str_input[i+1]\n",
    "        if p.match(two_char):\n",
    "            str_list.append(two_char.upper())\n",
    "    return str_list\n",
    "\n",
    "\n",
    "def jaccard(s1, s2):\n",
    "    if len(s2) == 0:\n",
    "        return 65536\n",
    "    \n",
    "    elif len(s1) == 0:\n",
    "        return 0\n",
    "    else:\n",
    "        intersect = 0\n",
    "        union = len(s2)\n",
    "\n",
    "        for s in s1:\n",
    "            if s in s2:\n",
    "                intersect +=1\n",
    "                s2.remove(s)\n",
    "            else:\n",
    "                union += 1\n",
    "        \n",
    "    return math.floor(65536*intersect/union)\n",
    "\n",
    "\n",
    "\n",
    "if __name__=='__main__':\n",
    "    # str1 = 'handshake'\n",
    "    # str2 = 'shake hands'\n",
    "    str1 = 'NC 유튜브 채널에서는 이번 시즌 팀 응원가로 활용될 아기공룡 영상이 올라와 응원동작을 배울 수 있다.'\n",
    "    str2 = \"NC 유튜브 채널에서는 이번 시즌 팀 응원가로 활용될 '아기공룡 영상'이 올라와 응원동작을 배울 수 있다.\"\n",
    "\n",
    "    str1_list = str_to_2cha(str1)\n",
    "    str2_list = str_to_2cha(str2)\n",
    "    answer = jaccard(str1_list, str2_list)\n",
    "    print(answer)\n"
   ]
  },
  {
   "cell_type": "code",
   "execution_count": null,
   "metadata": {},
   "outputs": [],
   "source": []
  }
 ],
 "metadata": {
  "interpreter": {
   "hash": "0d12d05ab1afc7278cbb1fa09e775842eb34e7aa5a193c340acf9f8f1f5bb7ed"
  },
  "kernelspec": {
   "display_name": "Python 3.8.5 64-bit ('base': conda)",
   "name": "python3"
  },
  "language_info": {
   "codemirror_mode": {
    "name": "ipython",
    "version": 3
   },
   "file_extension": ".py",
   "mimetype": "text/x-python",
   "name": "python",
   "nbconvert_exporter": "python",
   "pygments_lexer": "ipython3",
   "version": "3.8.10"
  },
  "orig_nbformat": 4
 },
 "nbformat": 4,
 "nbformat_minor": 2
}
