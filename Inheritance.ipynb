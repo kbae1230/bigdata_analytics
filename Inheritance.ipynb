{
 "cells": [
  {
   "cell_type": "code",
   "execution_count": 5,
   "source": [
    "class die_a_mond:\r\n",
    "    def test(self):\r\n",
    "        print('다이아몬드 테스트 중')\r\n",
    "\r\n",
    "class Person(die_a_mond):\r\n",
    "    def greeting(self):\r\n",
    "        print('안녕하세요.')\r\n",
    " \r\n",
    "class University(die_a_mond):\r\n",
    "    def manage_credit(self):\r\n",
    "        print('학점 관리')\r\n",
    " \r\n",
    "class Undergraduate(Person, University):\r\n",
    "    def study(self):\r\n",
    "        print('공부하기')\r\n",
    "           # 공부하기: 파생 클래스 Undergraduate에 추가한 study 메서드"
   ],
   "outputs": [],
   "metadata": {}
  },
  {
   "cell_type": "code",
   "execution_count": 8,
   "source": [
    "kbae = Person()\r\n",
    "kbae.greeting()\r\n",
    "kbae.test()"
   ],
   "outputs": [
    {
     "output_type": "stream",
     "name": "stdout",
     "text": [
      "안녕하세요.\n",
      "다이아몬드 테스트 중\n"
     ]
    }
   ],
   "metadata": {}
  },
  {
   "cell_type": "code",
   "execution_count": 3,
   "source": [
    "james = Undergraduate()\r\n",
    "james.greeting()         # 안녕하세요.: 기반 클래스 Person의 메서드 호출\r\n",
    "james.manage_credit()    # 학점 관리: 기반 클래스 University의 메서드 호출\r\n",
    "james.study() "
   ],
   "outputs": [
    {
     "output_type": "stream",
     "name": "stdout",
     "text": [
      "안녕하세요.\n",
      "학점 관리\n",
      "공부하기\n"
     ]
    }
   ],
   "metadata": {}
  },
  {
   "cell_type": "code",
   "execution_count": 9,
   "source": [
    "Undergraduate.mro()"
   ],
   "outputs": [
    {
     "output_type": "execute_result",
     "data": {
      "text/plain": [
       "[__main__.Undergraduate,\n",
       " __main__.Person,\n",
       " __main__.University,\n",
       " __main__.die_a_mond,\n",
       " object]"
      ]
     },
     "metadata": {},
     "execution_count": 9
    }
   ],
   "metadata": {}
  },
  {
   "cell_type": "code",
   "execution_count": 31,
   "source": [
    "class Dept:\r\n",
    "    def __init__(self, dname):\r\n",
    "        self.dname = dname\r\n",
    "\r\n",
    "    class Prof:\r\n",
    "        def __init__(self,pname):\r\n",
    "            self.pname = pname\r\n",
    "            \r\n",
    "math = Dept(\"Mathematics\")\r\n",
    "mathprof = Dept.Prof(\"Mark\")\r\n",
    "test = Dept('test_init')\r\n",
    "test2 = Dept.Prof('test_init')\r\n",
    "test3 = Dept('test_dname').Prof('test_pname')"
   ],
   "outputs": [],
   "metadata": {}
  },
  {
   "cell_type": "code",
   "execution_count": 52,
   "source": [
    "print(math.dname)\r\n",
    "print(test.dname)\r\n",
    "print(test2.pname)\r\n",
    "print(test3.dname) # 이거 왜 안됨?"
   ],
   "outputs": [
    {
     "output_type": "stream",
     "name": "stdout",
     "text": [
      "Mathematics\n",
      "test_init\n",
      "test_init\n"
     ]
    },
    {
     "output_type": "error",
     "ename": "AttributeError",
     "evalue": "'Prof' object has no attribute 'dname'",
     "traceback": [
      "\u001b[1;31m---------------------------------------------------------------------------\u001b[0m",
      "\u001b[1;31mAttributeError\u001b[0m                            Traceback (most recent call last)",
      "\u001b[1;32m<ipython-input-52-0f6ae10ff93f>\u001b[0m in \u001b[0;36m<module>\u001b[1;34m\u001b[0m\n\u001b[0;32m      2\u001b[0m \u001b[0mprint\u001b[0m\u001b[1;33m(\u001b[0m\u001b[0mtest\u001b[0m\u001b[1;33m.\u001b[0m\u001b[0mdname\u001b[0m\u001b[1;33m)\u001b[0m\u001b[1;33m\u001b[0m\u001b[1;33m\u001b[0m\u001b[0m\n\u001b[0;32m      3\u001b[0m \u001b[0mprint\u001b[0m\u001b[1;33m(\u001b[0m\u001b[0mtest2\u001b[0m\u001b[1;33m.\u001b[0m\u001b[0mpname\u001b[0m\u001b[1;33m)\u001b[0m\u001b[1;33m\u001b[0m\u001b[1;33m\u001b[0m\u001b[0m\n\u001b[1;32m----> 4\u001b[1;33m \u001b[0mprint\u001b[0m\u001b[1;33m(\u001b[0m\u001b[0mtest3\u001b[0m\u001b[1;33m.\u001b[0m\u001b[0mdname\u001b[0m\u001b[1;33m)\u001b[0m\u001b[1;33m\u001b[0m\u001b[1;33m\u001b[0m\u001b[0m\n\u001b[0m",
      "\u001b[1;31mAttributeError\u001b[0m: 'Prof' object has no attribute 'dname'"
     ]
    }
   ],
   "metadata": {}
  },
  {
   "cell_type": "code",
   "execution_count": 60,
   "source": [
    "class father(): #부모 클래스\r\n",
    "    def handsome(self):\r\n",
    "        print(\"잘생겼다\")\r\n",
    " \r\n",
    "class brother(father): #자식클래스(부모클래스) 아빠매소드를 상속받겠다\r\n",
    "    '''아들'''\r\n",
    " \r\n",
    "class sister(father): #자식클래스(부모클래스) 아빠매소드를 상속받겠다\r\n",
    "    def pretty(self):\r\n",
    "        print(\"예쁘다\")\r\n",
    "    def pretty2(self):\r\n",
    "        self.pretty()\r\n",
    "    def handsome(self):\r\n",
    "        super().handsome()\r\n",
    " \r\n",
    "brother = brother()\r\n",
    "brother.handsome()\r\n",
    " \r\n",
    "girl = sister()\r\n",
    "girl.handsome()\r\n",
    "girl.pretty()\r\n",
    "girl.pretty2()"
   ],
   "outputs": [
    {
     "output_type": "stream",
     "name": "stdout",
     "text": [
      "잘생겼다\n",
      "잘생겼다\n",
      "예쁘다\n"
     ]
    },
    {
     "output_type": "error",
     "ename": "NameError",
     "evalue": "name 'pretty' is not defined",
     "traceback": [
      "\u001b[1;31m---------------------------------------------------------------------------\u001b[0m",
      "\u001b[1;31mNameError\u001b[0m                                 Traceback (most recent call last)",
      "\u001b[1;32m<ipython-input-60-3735b9ce605f>\u001b[0m in \u001b[0;36m<module>\u001b[1;34m\u001b[0m\n\u001b[0;32m     20\u001b[0m \u001b[0mgirl\u001b[0m\u001b[1;33m.\u001b[0m\u001b[0mhandsome\u001b[0m\u001b[1;33m(\u001b[0m\u001b[1;33m)\u001b[0m\u001b[1;33m\u001b[0m\u001b[1;33m\u001b[0m\u001b[0m\n\u001b[0;32m     21\u001b[0m \u001b[0mgirl\u001b[0m\u001b[1;33m.\u001b[0m\u001b[0mpretty\u001b[0m\u001b[1;33m(\u001b[0m\u001b[1;33m)\u001b[0m\u001b[1;33m\u001b[0m\u001b[1;33m\u001b[0m\u001b[0m\n\u001b[1;32m---> 22\u001b[1;33m \u001b[0mgirl\u001b[0m\u001b[1;33m.\u001b[0m\u001b[0mpretty2\u001b[0m\u001b[1;33m(\u001b[0m\u001b[1;33m)\u001b[0m\u001b[1;33m\u001b[0m\u001b[1;33m\u001b[0m\u001b[0m\n\u001b[0m",
      "\u001b[1;32m<ipython-input-60-3735b9ce605f>\u001b[0m in \u001b[0;36mpretty2\u001b[1;34m(self)\u001b[0m\n\u001b[0;32m     10\u001b[0m         \u001b[0mprint\u001b[0m\u001b[1;33m(\u001b[0m\u001b[1;34m\"예쁘다\"\u001b[0m\u001b[1;33m)\u001b[0m\u001b[1;33m\u001b[0m\u001b[1;33m\u001b[0m\u001b[0m\n\u001b[0;32m     11\u001b[0m     \u001b[1;32mdef\u001b[0m \u001b[0mpretty2\u001b[0m\u001b[1;33m(\u001b[0m\u001b[0mself\u001b[0m\u001b[1;33m)\u001b[0m\u001b[1;33m:\u001b[0m\u001b[1;33m\u001b[0m\u001b[1;33m\u001b[0m\u001b[0m\n\u001b[1;32m---> 12\u001b[1;33m         \u001b[0mpretty\u001b[0m\u001b[1;33m(\u001b[0m\u001b[1;33m)\u001b[0m\u001b[1;33m\u001b[0m\u001b[1;33m\u001b[0m\u001b[0m\n\u001b[0m\u001b[0;32m     13\u001b[0m     \u001b[1;32mdef\u001b[0m \u001b[0mhandsome\u001b[0m\u001b[1;33m(\u001b[0m\u001b[0mself\u001b[0m\u001b[1;33m)\u001b[0m\u001b[1;33m:\u001b[0m\u001b[1;33m\u001b[0m\u001b[1;33m\u001b[0m\u001b[0m\n\u001b[0;32m     14\u001b[0m         \u001b[0msuper\u001b[0m\u001b[1;33m(\u001b[0m\u001b[1;33m)\u001b[0m\u001b[1;33m.\u001b[0m\u001b[0mhandsome\u001b[0m\u001b[1;33m(\u001b[0m\u001b[1;33m)\u001b[0m\u001b[1;33m\u001b[0m\u001b[1;33m\u001b[0m\u001b[0m\n",
      "\u001b[1;31mNameError\u001b[0m: name 'pretty' is not defined"
     ]
    }
   ],
   "metadata": {}
  }
 ],
 "metadata": {
  "orig_nbformat": 4,
  "language_info": {
   "name": "python",
   "version": "3.8.5",
   "mimetype": "text/x-python",
   "codemirror_mode": {
    "name": "ipython",
    "version": 3
   },
   "pygments_lexer": "ipython3",
   "nbconvert_exporter": "python",
   "file_extension": ".py"
  },
  "kernelspec": {
   "name": "python3",
   "display_name": "Python 3.8.5 64-bit ('base': conda)"
  },
  "interpreter": {
   "hash": "0d12d05ab1afc7278cbb1fa09e775842eb34e7aa5a193c340acf9f8f1f5bb7ed"
  }
 },
 "nbformat": 4,
 "nbformat_minor": 2
}