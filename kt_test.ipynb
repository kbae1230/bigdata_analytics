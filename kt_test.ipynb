{
 "metadata": {
  "language_info": {
   "codemirror_mode": {
    "name": "ipython",
    "version": 3
   },
   "file_extension": ".py",
   "mimetype": "text/x-python",
   "name": "python",
   "nbconvert_exporter": "python",
   "pygments_lexer": "ipython3",
   "version": "3.8.5"
  },
  "orig_nbformat": 4,
  "kernelspec": {
   "name": "python3",
   "display_name": "Python 3.8.5 64-bit ('base': conda)"
  },
  "interpreter": {
   "hash": "0d12d05ab1afc7278cbb1fa09e775842eb34e7aa5a193c340acf9f8f1f5bb7ed"
  }
 },
 "nbformat": 4,
 "nbformat_minor": 2,
 "cells": [
  {
   "cell_type": "code",
   "execution_count": 38,
   "metadata": {
    "tags": []
   },
   "outputs": [
    {
     "output_type": "stream",
     "name": "stdout",
     "text": [
      "2908808\n"
     ]
    }
   ],
   "source": [
    "import math\n",
    "\n",
    "# power={4}\n",
    "# power=list(power)\n",
    "power=[4]\n",
    "a=0\n",
    "for i in power:\n",
    "    i=str(i)\n",
    "    for j in i:\n",
    "        j=int(j)\n",
    "        a+=math.factorial(j)\n",
    "\n",
    "    if a in power:\n",
    "        break\n",
    "    else:\n",
    "        power.append(a)\n",
    "        a=0\n",
    "print(max(power)*len(power))\n",
    "\n",
    "\n",
    "\n"
   ]
  },
  {
   "cell_type": "code",
   "execution_count": 39,
   "metadata": {},
   "outputs": [
    {
     "output_type": "stream",
     "name": "stdout",
     "text": [
      "[0, 0, 1, 0, 1, 2, 0, 1, 2, 3, 0, 1, 2, 3, 4, 0, 1, 2, 3, 4, 5]\n"
     ]
    }
   ],
   "source": [
    "arr=[10, 8, 9, 15, 12, 6, 7]\n",
    "a=[]\n",
    "for i in arr:\n",
    "    loc=arr.index(i)\n",
    "    for j in range(loc):\n",
    "        if j<i:\n",
    "            a.append(j)\n",
    "        if j==i:\n",
    "            if a.index(j)==a.index(i):\n",
    "                a.append(j)\n",
    "                break\n",
    "\n",
    "    for k in range(loc, leng(arr)):\n",
    "        if k<\n",
    "print(a)\n",
    "\n"
   ]
  },
  {
   "cell_type": "code",
   "execution_count": 74,
   "metadata": {},
   "outputs": [
    {
     "output_type": "stream",
     "name": "stdout",
     "text": [
      "3\n"
     ]
    }
   ],
   "source": [
    "# arr=[10, 8, 9, 15, 12, 6, 7]\n",
    "arr=[9,7,6,2,1]\n",
    "# arr = [5,1,2,1,4,5] #답 3\n",
    "# arr = [7,3,4,4,8,2,5,1]\n",
    "x=len(arr)\n",
    "a = [1 for i in range(x)]\n",
    "b = [1 for i in range(x)]\n",
    "result = [0 for i in range(x)]\n",
    "for i in range(x):\n",
    "    for j in range(i):\n",
    "        if arr[i] > arr[j] and a[i] < a[j] +1:\n",
    "            a[i] = a[j]+1\n",
    "        elif arr[i] > arr[j]:\n",
    "            break\n",
    "\n",
    "\n",
    "for i in range(x-1, -1, -1):\n",
    "    for j in range(i+1, x):\n",
    "        if arr[i] > arr[j] and a[i] < a[j] +1:\n",
    "            b[i] = b[j]+1\n",
    "        elif arr[i] < arr[j]:\n",
    "            break\n",
    "    result[i] = a[i] + b[i]\n",
    "print(max(result))"
   ]
  },
  {
   "cell_type": "code",
   "execution_count": 8,
   "metadata": {},
   "outputs": [
    {
     "output_type": "stream",
     "name": "stdout",
     "text": [
      "5\n5\n3\n5\n"
     ]
    }
   ],
   "source": [
    "def solution(nums):\n",
    "    \n",
    "    answer = 0\n",
    "    length = len(nums)\n",
    "    nums = nums\n",
    "    \n",
    "    for idx in range(length):\n",
    "        \n",
    "        temp = deque([nums[idx]])\n",
    "        right, left = idx, idx\n",
    "        r_max, l_max = nums[idx], nums[idx]\n",
    "        \n",
    "        for _ in range(length+1):\n",
    "            if right + 1 < length:\n",
    "                if nums[right+1] <= r_max:\n",
    "                    r_max = nums[right+1]\n",
    "                    temp.append(r_max)\n",
    "                    right += 1\n",
    "            \n",
    "            if left - 1 > -1:\n",
    "                if nums[left-1] <= l_max:\n",
    "                    l_max = nums[left-1]\n",
    "                    temp.appendleft(l_max)\n",
    "                    left -= 1\n",
    "        \n",
    "        if answer <= len(temp):\n",
    "            answer = len(temp)\n",
    "        \n",
    "    if answer:\n",
    "        return answer\n",
    "    else:\n",
    "        return 0\n",
    "\n",
    "from collections import deque\n",
    "arr=[[10, 8, 9, 15, 12, 6, 7],[9,7,6,2,1],[5,1,2,1,4,5], [7,3,4,4,8,2,5,1]]\n",
    "for i in arr:\n",
    "    print(solution(i))"
   ]
  },
  {
   "cell_type": "code",
   "execution_count": null,
   "metadata": {},
   "outputs": [],
   "source": [
    "def solution(nums):\n",
    "    x=len(arr)\n",
    "\n",
    "    a = [1 for i in range(x)]\n",
    "    b = [1 for i in range(x)]\n",
    "    count=0\n",
    "    for i in range(x):\n",
    "        #오른쪽 전진\n",
    "        if arr[i]>=arr[i+1]:\n",
    "            count+=1\n",
    "        else:\n",
    "            a.append(count)\n",
    "            count=0\n",
    "            break\n",
    "    for i in range(x, 0):\n",
    "        #좌측 전진\n",
    "        if arr[i]>=arr[i-1]:\n",
    "            count+=1\n",
    "        else:\n",
    "            b.append(count)\n",
    "            break\n",
    "\n",
    "\n",
    "\n",
    "\n",
    "    return a\n",
    "\n",
    "from collections import deque\n",
    "arr=[[10, 8, 9, 15, 12, 6, 7],[9,7,6,2,1],[5,1,2,1,4,5], [7,3,4,4,8,2,5,1]]\n",
    "for i in arr:\n",
    "    print(solution(i))"
   ]
  },
  {
   "cell_type": "code",
   "execution_count": 33,
   "metadata": {},
   "outputs": [
    {
     "output_type": "stream",
     "name": "stdout",
     "text": [
      "[0, 1, 1, 0, 0, 1, 0]\n"
     ]
    }
   ],
   "source": [
    "arr=[10, 8, 9, 15, 12, 6, 7]\n",
    "a = [0 for i in range(x)]\n",
    "b = [0 for i in range(x)]\n",
    "x=len(arr)\n",
    "count=0\n",
    "# i=0\n",
    "# while x>i+1:   \n",
    "#     if arr[i]>arr[i+1]:\n",
    "#         a[i]=1\n",
    "#         i+=1\n",
    "#     else:\n",
    "#         i+=1\n",
    "i=0\n",
    "while x>i+1:   \n",
    "    if arr[i]<arr[i+1]:\n",
    "        b[i]=1\n",
    "        i+=1\n",
    "    else:\n",
    "        i+=1\n",
    "\n",
    "print(b)\n",
    "for i in b:\n",
    "    if i==1:\n",
    "\n"
   ]
  }
 ]
}