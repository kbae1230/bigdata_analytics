{
 "metadata": {
  "language_info": {
   "codemirror_mode": {
    "name": "ipython",
    "version": 3
   },
   "file_extension": ".py",
   "mimetype": "text/x-python",
   "name": "python",
   "nbconvert_exporter": "python",
   "pygments_lexer": "ipython3",
   "version": "3.8.5"
  },
  "orig_nbformat": 2,
  "kernelspec": {
   "name": "python385jvsc74a57bd00d12d05ab1afc7278cbb1fa09e775842eb34e7aa5a193c340acf9f8f1f5bb7ed",
   "display_name": "Python 3.8.5 64-bit ('base': conda)"
  },
  "metadata": {
   "interpreter": {
    "hash": "4e2cb1775e1620a719d03ad8f49f4ba606d381b46012f9e0e5f281e2d84692aa"
   }
  }
 },
 "nbformat": 4,
 "nbformat_minor": 2,
 "cells": [
  {
   "cell_type": "code",
   "execution_count": 10,
   "metadata": {},
   "outputs": [
    {
     "output_type": "stream",
     "name": "stdout",
     "text": [
      "Requirement already satisfied: pandas in c:\\users\\kkk\\anaconda3\\lib\\site-packages (1.1.3)\nRequirement already satisfied: pytz>=2017.2 in c:\\users\\kkk\\anaconda3\\lib\\site-packages (from pandas) (2020.1)\nRequirement already satisfied: numpy>=1.15.4 in c:\\users\\kkk\\anaconda3\\lib\\site-packages (from pandas) (1.20.2)\nRequirement already satisfied: python-dateutil>=2.7.3 in c:\\users\\kkk\\anaconda3\\lib\\site-packages (from pandas) (2.8.1)\nRequirement already satisfied: six>=1.5 in c:\\users\\kkk\\anaconda3\\lib\\site-packages (from python-dateutil>=2.7.3->pandas) (1.15.0)\n"
     ]
    }
   ],
   "source": [
    "!pip install pandas"
   ]
  },
  {
   "cell_type": "code",
   "execution_count": 1,
   "metadata": {},
   "outputs": [],
   "source": [
    "import pandas as pd\n"
   ]
  },
  {
   "cell_type": "code",
   "execution_count": 21,
   "metadata": {},
   "outputs": [],
   "source": [
    "path = 'C:/Users/KKK/Desktop/[Dataset] 작업형 제1유형/mtcars.csv'"
   ]
  },
  {
   "cell_type": "code",
   "execution_count": 28,
   "metadata": {},
   "outputs": [],
   "source": [
    "df = pd.read_csv(path)"
   ]
  },
  {
   "cell_type": "code",
   "execution_count": 40,
   "metadata": {},
   "outputs": [
    {
     "output_type": "execute_result",
     "data": {
      "text/plain": [
       "             Unnamed: 0  mile per gallon  cyl   disp   hp  drat     wt   qsec  \\\n",
       "0             Mazda RX4             21.0    6  160.0  110  3.90  2.620  16.46   \n",
       "1         Mazda RX4 Wag             21.0    6  160.0  110  3.90  2.875  17.02   \n",
       "2            Datsun 710             22.8    4  108.0   93  3.85  2.320  18.61   \n",
       "3        Hornet 4 Drive             21.4    6  258.0  110  3.08  3.215  19.44   \n",
       "4     Hornet Sportabout             18.7    8  360.0  175  3.15  3.440  17.02   \n",
       "5               Valiant             18.1    6  225.0  105  2.76  3.460  20.22   \n",
       "6            Duster 360             14.3    8  360.0  245  3.21  3.570  15.84   \n",
       "7             Merc 240D             24.4    4  146.7   62  3.69  3.190  20.00   \n",
       "8              Merc 230             22.8    4  140.8   95  3.92  3.150  22.90   \n",
       "9              Merc 280             19.2    6  167.6  123  3.92  3.440  18.30   \n",
       "10            Merc 280C             17.8    6  167.6  123  3.92  3.440  18.90   \n",
       "11           Merc 450SE             16.4    8  275.8  180  3.07  4.070  17.40   \n",
       "12           Merc 450SL             17.3    8  275.8  180  3.07  3.730  17.60   \n",
       "13          Merc 450SLC             15.2    8  275.8  180  3.07  3.780  18.00   \n",
       "14   Cadillac Fleetwood             10.4    8  472.0  205  2.93  5.250  17.98   \n",
       "15  Lincoln Continental             10.4    8  460.0  215  3.00  5.424  17.82   \n",
       "16    Chrysler Imperial             14.7    8  440.0  230  3.23  5.345  17.42   \n",
       "17             Fiat 128             32.4    4   78.7   66  4.08  2.200  19.47   \n",
       "18          Honda Civic             30.4    4   75.7   52  4.93  1.615  18.52   \n",
       "19       Toyota Corolla             33.9    4   71.1   65  4.22  1.835  19.90   \n",
       "20        Toyota Corona             21.5    4  120.1   97  3.70  2.465  20.01   \n",
       "21     Dodge Challenger             15.5    8  318.0  150  2.76  3.520  16.87   \n",
       "22          AMC Javelin             15.2    8  304.0  150  3.15  3.435  17.30   \n",
       "23           Camaro Z28             13.3    8  350.0  245  3.73  3.840  15.41   \n",
       "24     Pontiac Firebird             19.2    8  400.0  175  3.08  3.845  17.05   \n",
       "25            Fiat X1-9             27.3    4   79.0   66  4.08  1.935  18.90   \n",
       "26        Porsche 914-2             26.0    4  120.3   91  4.43  2.140  16.70   \n",
       "27         Lotus Europa             30.4    4   95.1  113  3.77  1.513  16.90   \n",
       "28       Ford Pantera L             15.8    8  351.0  264  4.22  3.170  14.50   \n",
       "29         Ferrari Dino             19.7    6  145.0  175  3.62  2.770  15.50   \n",
       "30        Maserati Bora             15.0    8  301.0  335  3.54  3.570  14.60   \n",
       "31           Volvo 142E             21.4    4  121.0  109  4.11  2.780  18.60   \n",
       "\n",
       "    vs  am  gear  carb  \n",
       "0    0   1     4     4  \n",
       "1    0   1     4     4  \n",
       "2    1   1     4     1  \n",
       "3    1   0     3     1  \n",
       "4    0   0     3     2  \n",
       "5    1   0     3     1  \n",
       "6    0   0     3     4  \n",
       "7    1   0     4     2  \n",
       "8    1   0     4     2  \n",
       "9    1   0     4     4  \n",
       "10   1   0     4     4  \n",
       "11   0   0     3     3  \n",
       "12   0   0     3     3  \n",
       "13   0   0     3     3  \n",
       "14   0   0     3     4  \n",
       "15   0   0     3     4  \n",
       "16   0   0     3     4  \n",
       "17   1   1     4     1  \n",
       "18   1   1     4     2  \n",
       "19   1   1     4     1  \n",
       "20   1   0     3     1  \n",
       "21   0   0     3     2  \n",
       "22   0   0     3     2  \n",
       "23   0   0     3     4  \n",
       "24   0   0     3     2  \n",
       "25   1   1     4     1  \n",
       "26   0   1     5     2  \n",
       "27   1   1     5     2  \n",
       "28   0   1     5     4  \n",
       "29   0   1     5     6  \n",
       "30   0   1     5     8  \n",
       "31   1   1     4     2  "
      ],
      "text/html": "<div>\n<style scoped>\n    .dataframe tbody tr th:only-of-type {\n        vertical-align: middle;\n    }\n\n    .dataframe tbody tr th {\n        vertical-align: top;\n    }\n\n    .dataframe thead th {\n        text-align: right;\n    }\n</style>\n<table border=\"1\" class=\"dataframe\">\n  <thead>\n    <tr style=\"text-align: right;\">\n      <th></th>\n      <th>Unnamed: 0</th>\n      <th>mile per gallon</th>\n      <th>cyl</th>\n      <th>disp</th>\n      <th>hp</th>\n      <th>drat</th>\n      <th>wt</th>\n      <th>qsec</th>\n      <th>vs</th>\n      <th>am</th>\n      <th>gear</th>\n      <th>carb</th>\n    </tr>\n  </thead>\n  <tbody>\n    <tr>\n      <th>0</th>\n      <td>Mazda RX4</td>\n      <td>21.0</td>\n      <td>6</td>\n      <td>160.0</td>\n      <td>110</td>\n      <td>3.90</td>\n      <td>2.620</td>\n      <td>16.46</td>\n      <td>0</td>\n      <td>1</td>\n      <td>4</td>\n      <td>4</td>\n    </tr>\n    <tr>\n      <th>1</th>\n      <td>Mazda RX4 Wag</td>\n      <td>21.0</td>\n      <td>6</td>\n      <td>160.0</td>\n      <td>110</td>\n      <td>3.90</td>\n      <td>2.875</td>\n      <td>17.02</td>\n      <td>0</td>\n      <td>1</td>\n      <td>4</td>\n      <td>4</td>\n    </tr>\n    <tr>\n      <th>2</th>\n      <td>Datsun 710</td>\n      <td>22.8</td>\n      <td>4</td>\n      <td>108.0</td>\n      <td>93</td>\n      <td>3.85</td>\n      <td>2.320</td>\n      <td>18.61</td>\n      <td>1</td>\n      <td>1</td>\n      <td>4</td>\n      <td>1</td>\n    </tr>\n    <tr>\n      <th>3</th>\n      <td>Hornet 4 Drive</td>\n      <td>21.4</td>\n      <td>6</td>\n      <td>258.0</td>\n      <td>110</td>\n      <td>3.08</td>\n      <td>3.215</td>\n      <td>19.44</td>\n      <td>1</td>\n      <td>0</td>\n      <td>3</td>\n      <td>1</td>\n    </tr>\n    <tr>\n      <th>4</th>\n      <td>Hornet Sportabout</td>\n      <td>18.7</td>\n      <td>8</td>\n      <td>360.0</td>\n      <td>175</td>\n      <td>3.15</td>\n      <td>3.440</td>\n      <td>17.02</td>\n      <td>0</td>\n      <td>0</td>\n      <td>3</td>\n      <td>2</td>\n    </tr>\n    <tr>\n      <th>5</th>\n      <td>Valiant</td>\n      <td>18.1</td>\n      <td>6</td>\n      <td>225.0</td>\n      <td>105</td>\n      <td>2.76</td>\n      <td>3.460</td>\n      <td>20.22</td>\n      <td>1</td>\n      <td>0</td>\n      <td>3</td>\n      <td>1</td>\n    </tr>\n    <tr>\n      <th>6</th>\n      <td>Duster 360</td>\n      <td>14.3</td>\n      <td>8</td>\n      <td>360.0</td>\n      <td>245</td>\n      <td>3.21</td>\n      <td>3.570</td>\n      <td>15.84</td>\n      <td>0</td>\n      <td>0</td>\n      <td>3</td>\n      <td>4</td>\n    </tr>\n    <tr>\n      <th>7</th>\n      <td>Merc 240D</td>\n      <td>24.4</td>\n      <td>4</td>\n      <td>146.7</td>\n      <td>62</td>\n      <td>3.69</td>\n      <td>3.190</td>\n      <td>20.00</td>\n      <td>1</td>\n      <td>0</td>\n      <td>4</td>\n      <td>2</td>\n    </tr>\n    <tr>\n      <th>8</th>\n      <td>Merc 230</td>\n      <td>22.8</td>\n      <td>4</td>\n      <td>140.8</td>\n      <td>95</td>\n      <td>3.92</td>\n      <td>3.150</td>\n      <td>22.90</td>\n      <td>1</td>\n      <td>0</td>\n      <td>4</td>\n      <td>2</td>\n    </tr>\n    <tr>\n      <th>9</th>\n      <td>Merc 280</td>\n      <td>19.2</td>\n      <td>6</td>\n      <td>167.6</td>\n      <td>123</td>\n      <td>3.92</td>\n      <td>3.440</td>\n      <td>18.30</td>\n      <td>1</td>\n      <td>0</td>\n      <td>4</td>\n      <td>4</td>\n    </tr>\n    <tr>\n      <th>10</th>\n      <td>Merc 280C</td>\n      <td>17.8</td>\n      <td>6</td>\n      <td>167.6</td>\n      <td>123</td>\n      <td>3.92</td>\n      <td>3.440</td>\n      <td>18.90</td>\n      <td>1</td>\n      <td>0</td>\n      <td>4</td>\n      <td>4</td>\n    </tr>\n    <tr>\n      <th>11</th>\n      <td>Merc 450SE</td>\n      <td>16.4</td>\n      <td>8</td>\n      <td>275.8</td>\n      <td>180</td>\n      <td>3.07</td>\n      <td>4.070</td>\n      <td>17.40</td>\n      <td>0</td>\n      <td>0</td>\n      <td>3</td>\n      <td>3</td>\n    </tr>\n    <tr>\n      <th>12</th>\n      <td>Merc 450SL</td>\n      <td>17.3</td>\n      <td>8</td>\n      <td>275.8</td>\n      <td>180</td>\n      <td>3.07</td>\n      <td>3.730</td>\n      <td>17.60</td>\n      <td>0</td>\n      <td>0</td>\n      <td>3</td>\n      <td>3</td>\n    </tr>\n    <tr>\n      <th>13</th>\n      <td>Merc 450SLC</td>\n      <td>15.2</td>\n      <td>8</td>\n      <td>275.8</td>\n      <td>180</td>\n      <td>3.07</td>\n      <td>3.780</td>\n      <td>18.00</td>\n      <td>0</td>\n      <td>0</td>\n      <td>3</td>\n      <td>3</td>\n    </tr>\n    <tr>\n      <th>14</th>\n      <td>Cadillac Fleetwood</td>\n      <td>10.4</td>\n      <td>8</td>\n      <td>472.0</td>\n      <td>205</td>\n      <td>2.93</td>\n      <td>5.250</td>\n      <td>17.98</td>\n      <td>0</td>\n      <td>0</td>\n      <td>3</td>\n      <td>4</td>\n    </tr>\n    <tr>\n      <th>15</th>\n      <td>Lincoln Continental</td>\n      <td>10.4</td>\n      <td>8</td>\n      <td>460.0</td>\n      <td>215</td>\n      <td>3.00</td>\n      <td>5.424</td>\n      <td>17.82</td>\n      <td>0</td>\n      <td>0</td>\n      <td>3</td>\n      <td>4</td>\n    </tr>\n    <tr>\n      <th>16</th>\n      <td>Chrysler Imperial</td>\n      <td>14.7</td>\n      <td>8</td>\n      <td>440.0</td>\n      <td>230</td>\n      <td>3.23</td>\n      <td>5.345</td>\n      <td>17.42</td>\n      <td>0</td>\n      <td>0</td>\n      <td>3</td>\n      <td>4</td>\n    </tr>\n    <tr>\n      <th>17</th>\n      <td>Fiat 128</td>\n      <td>32.4</td>\n      <td>4</td>\n      <td>78.7</td>\n      <td>66</td>\n      <td>4.08</td>\n      <td>2.200</td>\n      <td>19.47</td>\n      <td>1</td>\n      <td>1</td>\n      <td>4</td>\n      <td>1</td>\n    </tr>\n    <tr>\n      <th>18</th>\n      <td>Honda Civic</td>\n      <td>30.4</td>\n      <td>4</td>\n      <td>75.7</td>\n      <td>52</td>\n      <td>4.93</td>\n      <td>1.615</td>\n      <td>18.52</td>\n      <td>1</td>\n      <td>1</td>\n      <td>4</td>\n      <td>2</td>\n    </tr>\n    <tr>\n      <th>19</th>\n      <td>Toyota Corolla</td>\n      <td>33.9</td>\n      <td>4</td>\n      <td>71.1</td>\n      <td>65</td>\n      <td>4.22</td>\n      <td>1.835</td>\n      <td>19.90</td>\n      <td>1</td>\n      <td>1</td>\n      <td>4</td>\n      <td>1</td>\n    </tr>\n    <tr>\n      <th>20</th>\n      <td>Toyota Corona</td>\n      <td>21.5</td>\n      <td>4</td>\n      <td>120.1</td>\n      <td>97</td>\n      <td>3.70</td>\n      <td>2.465</td>\n      <td>20.01</td>\n      <td>1</td>\n      <td>0</td>\n      <td>3</td>\n      <td>1</td>\n    </tr>\n    <tr>\n      <th>21</th>\n      <td>Dodge Challenger</td>\n      <td>15.5</td>\n      <td>8</td>\n      <td>318.0</td>\n      <td>150</td>\n      <td>2.76</td>\n      <td>3.520</td>\n      <td>16.87</td>\n      <td>0</td>\n      <td>0</td>\n      <td>3</td>\n      <td>2</td>\n    </tr>\n    <tr>\n      <th>22</th>\n      <td>AMC Javelin</td>\n      <td>15.2</td>\n      <td>8</td>\n      <td>304.0</td>\n      <td>150</td>\n      <td>3.15</td>\n      <td>3.435</td>\n      <td>17.30</td>\n      <td>0</td>\n      <td>0</td>\n      <td>3</td>\n      <td>2</td>\n    </tr>\n    <tr>\n      <th>23</th>\n      <td>Camaro Z28</td>\n      <td>13.3</td>\n      <td>8</td>\n      <td>350.0</td>\n      <td>245</td>\n      <td>3.73</td>\n      <td>3.840</td>\n      <td>15.41</td>\n      <td>0</td>\n      <td>0</td>\n      <td>3</td>\n      <td>4</td>\n    </tr>\n    <tr>\n      <th>24</th>\n      <td>Pontiac Firebird</td>\n      <td>19.2</td>\n      <td>8</td>\n      <td>400.0</td>\n      <td>175</td>\n      <td>3.08</td>\n      <td>3.845</td>\n      <td>17.05</td>\n      <td>0</td>\n      <td>0</td>\n      <td>3</td>\n      <td>2</td>\n    </tr>\n    <tr>\n      <th>25</th>\n      <td>Fiat X1-9</td>\n      <td>27.3</td>\n      <td>4</td>\n      <td>79.0</td>\n      <td>66</td>\n      <td>4.08</td>\n      <td>1.935</td>\n      <td>18.90</td>\n      <td>1</td>\n      <td>1</td>\n      <td>4</td>\n      <td>1</td>\n    </tr>\n    <tr>\n      <th>26</th>\n      <td>Porsche 914-2</td>\n      <td>26.0</td>\n      <td>4</td>\n      <td>120.3</td>\n      <td>91</td>\n      <td>4.43</td>\n      <td>2.140</td>\n      <td>16.70</td>\n      <td>0</td>\n      <td>1</td>\n      <td>5</td>\n      <td>2</td>\n    </tr>\n    <tr>\n      <th>27</th>\n      <td>Lotus Europa</td>\n      <td>30.4</td>\n      <td>4</td>\n      <td>95.1</td>\n      <td>113</td>\n      <td>3.77</td>\n      <td>1.513</td>\n      <td>16.90</td>\n      <td>1</td>\n      <td>1</td>\n      <td>5</td>\n      <td>2</td>\n    </tr>\n    <tr>\n      <th>28</th>\n      <td>Ford Pantera L</td>\n      <td>15.8</td>\n      <td>8</td>\n      <td>351.0</td>\n      <td>264</td>\n      <td>4.22</td>\n      <td>3.170</td>\n      <td>14.50</td>\n      <td>0</td>\n      <td>1</td>\n      <td>5</td>\n      <td>4</td>\n    </tr>\n    <tr>\n      <th>29</th>\n      <td>Ferrari Dino</td>\n      <td>19.7</td>\n      <td>6</td>\n      <td>145.0</td>\n      <td>175</td>\n      <td>3.62</td>\n      <td>2.770</td>\n      <td>15.50</td>\n      <td>0</td>\n      <td>1</td>\n      <td>5</td>\n      <td>6</td>\n    </tr>\n    <tr>\n      <th>30</th>\n      <td>Maserati Bora</td>\n      <td>15.0</td>\n      <td>8</td>\n      <td>301.0</td>\n      <td>335</td>\n      <td>3.54</td>\n      <td>3.570</td>\n      <td>14.60</td>\n      <td>0</td>\n      <td>1</td>\n      <td>5</td>\n      <td>8</td>\n    </tr>\n    <tr>\n      <th>31</th>\n      <td>Volvo 142E</td>\n      <td>21.4</td>\n      <td>4</td>\n      <td>121.0</td>\n      <td>109</td>\n      <td>4.11</td>\n      <td>2.780</td>\n      <td>18.60</td>\n      <td>1</td>\n      <td>1</td>\n      <td>4</td>\n      <td>2</td>\n    </tr>\n  </tbody>\n</table>\n</div>"
     },
     "metadata": {},
     "execution_count": 40
    }
   ],
   "source": [
    "df_rename = df.rename(columns= {'mpg' : 'mile per gallon', })\n",
    "# df_rename[['over_100', 'under_100']] = pd.DataFrame(df_rename.hp.str.split('.', 1).tolist())\n",
    "df_rename"
   ]
  },
  {
   "cell_type": "code",
   "execution_count": 53,
   "metadata": {},
   "outputs": [
    {
     "output_type": "execute_result",
     "data": {
      "text/plain": [
       "2     2.32\n",
       "4     3.44\n",
       "5     3.46\n",
       "6     3.57\n",
       "7     3.19\n",
       "8     3.15\n",
       "9     3.44\n",
       "10    3.44\n",
       "11    4.07\n",
       "12    3.73\n",
       "13    3.78\n",
       "14    5.25\n",
       "15    5.42\n",
       "16    5.34\n",
       "17    2.20\n",
       "18    1.62\n",
       "19    1.84\n",
       "20    2.46\n",
       "21    3.52\n",
       "22    3.44\n",
       "23    3.84\n",
       "24    3.84\n",
       "25    1.94\n",
       "26    2.14\n",
       "27    1.51\n",
       "28    3.17\n",
       "29    2.77\n",
       "30    3.57\n",
       "31    2.78\n",
       "Name: wt, dtype: float64"
      ]
     },
     "metadata": {},
     "execution_count": 53
    }
   ],
   "source": [
    "# 찾기\n",
    "mask = df['hp'].isin([110])\n",
    "# 제거\n",
    "df_mask=df_rename[~mask]\n",
    "# 소숫점\n",
    "df_mask['wt'].round(decimals=2)\n"
   ]
  },
  {
   "cell_type": "code",
   "execution_count": 50,
   "metadata": {},
   "outputs": [
    {
     "output_type": "execute_result",
     "data": {
      "text/plain": [
       "Unnamed: 0         Hornet Sportabout\n",
       "mile per gallon                 18.7\n",
       "cyl                                8\n",
       "disp                             360\n",
       "hp                               175\n",
       "drat                            3.15\n",
       "wt                              3.44\n",
       "qsec                           17.02\n",
       "vs                                 0\n",
       "am                                 0\n",
       "gear                               3\n",
       "carb                               2\n",
       "Name: 4, dtype: object"
      ]
     },
     "metadata": {},
     "execution_count": 50
    }
   ],
   "source": [
    "df_test=df_mask.iloc[1].transpose()\n",
    "df_test"
   ]
  },
  {
   "cell_type": "code",
   "execution_count": null,
   "metadata": {},
   "outputs": [],
   "source": []
  },
  {
   "source": [
    "MultiIndex"
   ],
   "cell_type": "markdown",
   "metadata": {}
  },
  {
   "cell_type": "code",
   "execution_count": 8,
   "metadata": {},
   "outputs": [
    {
     "output_type": "execute_result",
     "data": {
      "text/plain": [
       "     a  b   c\n",
       "n v          \n",
       "d 1  4  7  10\n",
       "  2  5  8  11\n",
       "e 2  6  9  12"
      ],
      "text/html": "<div>\n<style scoped>\n    .dataframe tbody tr th:only-of-type {\n        vertical-align: middle;\n    }\n\n    .dataframe tbody tr th {\n        vertical-align: top;\n    }\n\n    .dataframe thead th {\n        text-align: right;\n    }\n</style>\n<table border=\"1\" class=\"dataframe\">\n  <thead>\n    <tr style=\"text-align: right;\">\n      <th></th>\n      <th></th>\n      <th>a</th>\n      <th>b</th>\n      <th>c</th>\n    </tr>\n    <tr>\n      <th>n</th>\n      <th>v</th>\n      <th></th>\n      <th></th>\n      <th></th>\n    </tr>\n  </thead>\n  <tbody>\n    <tr>\n      <th rowspan=\"2\" valign=\"top\">d</th>\n      <th>1</th>\n      <td>4</td>\n      <td>7</td>\n      <td>10</td>\n    </tr>\n    <tr>\n      <th>2</th>\n      <td>5</td>\n      <td>8</td>\n      <td>11</td>\n    </tr>\n    <tr>\n      <th>e</th>\n      <th>2</th>\n      <td>6</td>\n      <td>9</td>\n      <td>12</td>\n    </tr>\n  </tbody>\n</table>\n</div>"
     },
     "metadata": {},
     "execution_count": 8
    }
   ],
   "source": [
    "df2= pd.DataFrame({\"a\" : [4,5,6], \"b\" : [7,8,9], \"c\" : [10,11,12]}, index=pd.MultiIndex.from_tuples([('d', 1), ('d', 2), ('e', 2)], names=['n', 'v'] ))\n",
    "df2"
   ]
  },
  {
   "source": [
    "Pickle"
   ],
   "cell_type": "markdown",
   "metadata": {}
  },
  {
   "cell_type": "code",
   "execution_count": 16,
   "metadata": {},
   "outputs": [],
   "source": [
    "users = {'kim' : '3kid9', 'sun80' : '393948', 'ljm' : 'py90390'}\n",
    "f = open('users', 'wb')\n",
    "import pickle\n",
    "pickle.dump(users, f)\n",
    "f.close()"
   ]
  },
  {
   "cell_type": "code",
   "execution_count": 13,
   "metadata": {},
   "outputs": [
    {
     "output_type": "execute_result",
     "data": {
      "text/plain": [
       "True"
      ]
     },
     "metadata": {},
     "execution_count": 13
    }
   ],
   "source": [
    "import os\n",
    "os.path.exists('users')"
   ]
  },
  {
   "cell_type": "code",
   "execution_count": 17,
   "metadata": {},
   "outputs": [
    {
     "output_type": "stream",
     "name": "stdout",
     "text": [
      "{'kim': '3kid9', 'sun80': '393948', 'ljm': 'py90390'}\n"
     ]
    }
   ],
   "source": [
    "f = open('users', 'rb')\n",
    "a = pickle.load(f)\n",
    "print(a)"
   ]
  },
  {
   "source": [
    "glob"
   ],
   "cell_type": "markdown",
   "metadata": {}
  },
  {
   "cell_type": "code",
   "execution_count": 18,
   "metadata": {},
   "outputs": [
    {
     "output_type": "execute_result",
     "data": {
      "text/plain": [
       "['pandas_1.ipynb',\n",
       " '[실습]Ch01.pandas - 02.series와dataframe.ipynb',\n",
       " '[실습]Ch01.pandas - 03.csv파일_읽어오기.ipynb',\n",
       " '[실습]Ch01.pandas - 04.excel파일_읽어오기.ipynb',\n",
       " '[실습]Ch01.pandas - 05.통계값(describe),요약정보(info),정렬(sort).ipynb',\n",
       " '[실습]Ch01.pandas - 06~09.selection~결측값 색인.ipynb',\n",
       " '[실습]Ch01.pandas - 10~15.복사~인덱스.ipynb',\n",
       " '[실습]Ch02.pandas_데이터전처리 - 01~03.결측값 채우기(fillna)_.ipynb',\n",
       " '[실습]Ch02.pandas_데이터전처리 - 04~05.DataFrame.ipynb',\n",
       " '[실습]Ch02.pandas_데이터전처리 - 06~07.Series~datatime.ipynb',\n",
       " '[실습]Ch02.pandas_데이터전처리 - 08~09.apply~lambda.ipynb',\n",
       " '[실습]Ch02.pandas_데이터전처리 - 10.데이터프레임의산술연산_.ipynb',\n",
       " '[실습]Ch02.pandas_데이터전처리 - 11~12.select~원핫인코딩.ipynb',\n",
       " '[실습]Ch02.pandas_데이터전처리 - 13~14.부동산데이터.ipynb',\n",
       " '[실습]Ch03.pandas_데이터시각화.ipynb']"
      ]
     },
     "metadata": {},
     "execution_count": 18
    }
   ],
   "source": [
    "from glob import glob\n",
    "glob('*.ipynb')"
   ]
  },
  {
   "cell_type": "code",
   "execution_count": 19,
   "metadata": {},
   "outputs": [
    {
     "output_type": "execute_result",
     "data": {
      "text/plain": [
       "['C:\\\\Users']"
      ]
     },
     "metadata": {},
     "execution_count": 19
    }
   ],
   "source": [
    "glob(r'C:\\U*')"
   ]
  },
  {
   "source": [
    "os.path"
   ],
   "cell_type": "markdown",
   "metadata": {}
  },
  {
   "cell_type": "code",
   "execution_count": 20,
   "metadata": {},
   "outputs": [
    {
     "output_type": "stream",
     "name": "stdout",
     "text": [
      "bigdata_analystics_test.py\npandas_1.ipynb\nusers\n[실습]Ch01.pandas - 02.series와dataframe.ipynb\n[실습]Ch01.pandas - 03.csv파일_읽어오기.ipynb\n[실습]Ch01.pandas - 04.excel파일_읽어오기.ipynb\n[실습]Ch01.pandas - 05.통계값(describe),요약정보(info),정렬(sort).ipynb\n[실습]Ch01.pandas - 06~09.selection~결측값 색인.ipynb\n[실습]Ch01.pandas - 10~15.복사~인덱스.ipynb\n[실습]Ch02.pandas_데이터전처리 - 01~03.결측값 채우기(fillna)_.ipynb\n[실습]Ch02.pandas_데이터전처리 - 04~05.DataFrame.ipynb\n[실습]Ch02.pandas_데이터전처리 - 06~07.Series~datatime.ipynb\n[실습]Ch02.pandas_데이터전처리 - 08~09.apply~lambda.ipynb\n[실습]Ch02.pandas_데이터전처리 - 10.데이터프레임의산술연산_.ipynb\n[실습]Ch02.pandas_데이터전처리 - 11~12.select~원핫인코딩.ipynb\n[실습]Ch02.pandas_데이터전처리 - 13~14.부동산데이터.ipynb\n[실습]Ch03.pandas_데이터시각화.ipynb\n"
     ]
    }
   ],
   "source": [
    "from glob import glob\n",
    "from os.path import isdir\n",
    "\n",
    "for x in glob('*'):\n",
    "    if isdir(x):\n",
    "        print(x, 'DIR')\n",
    "    else:\n",
    "        print(x)"
   ]
  },
  {
   "source": [
    "split, rsplit"
   ],
   "cell_type": "markdown",
   "metadata": {}
  },
  {
   "cell_type": "code",
   "execution_count": 33,
   "metadata": {},
   "outputs": [],
   "source": [
    "s = pd.Series(\n",
    "    [\n",
    "        \"this is a regular sentence\",\n",
    "        \"https://docs.python.org/3/tutorial/index.html\",\n",
    "    ]\n",
    ")"
   ]
  },
  {
   "cell_type": "code",
   "execution_count": 36,
   "metadata": {},
   "outputs": [
    {
     "output_type": "execute_result",
     "data": {
      "text/plain": [
       "0                     [this is a, regular, sentence]\n",
       "1    [https://docs.python.org/3/tutorial/index.html]\n",
       "dtype: object"
      ]
     },
     "metadata": {},
     "execution_count": 36
    }
   ],
   "source": [
    "s.str.rsplit(n=2)\n",
    "#우측에서"
   ]
  },
  {
   "cell_type": "code",
   "execution_count": 37,
   "metadata": {},
   "outputs": [
    {
     "output_type": "execute_result",
     "data": {
      "text/plain": [
       "                            0         1           2\n",
       "0  this is a regular sentence      None        None\n",
       "1   https://docs.python.org/3  tutorial  index.html"
      ],
      "text/html": "<div>\n<style scoped>\n    .dataframe tbody tr th:only-of-type {\n        vertical-align: middle;\n    }\n\n    .dataframe tbody tr th {\n        vertical-align: top;\n    }\n\n    .dataframe thead th {\n        text-align: right;\n    }\n</style>\n<table border=\"1\" class=\"dataframe\">\n  <thead>\n    <tr style=\"text-align: right;\">\n      <th></th>\n      <th>0</th>\n      <th>1</th>\n      <th>2</th>\n    </tr>\n  </thead>\n  <tbody>\n    <tr>\n      <th>0</th>\n      <td>this is a regular sentence</td>\n      <td>None</td>\n      <td>None</td>\n    </tr>\n    <tr>\n      <th>1</th>\n      <td>https://docs.python.org/3</td>\n      <td>tutorial</td>\n      <td>index.html</td>\n    </tr>\n  </tbody>\n</table>\n</div>"
     },
     "metadata": {},
     "execution_count": 37
    }
   ],
   "source": [
    "s.str.rsplit(\"/\", n=2, expand=True)"
   ]
  },
  {
   "source": [],
   "cell_type": "markdown",
   "metadata": {}
  },
  {
   "cell_type": "code",
   "execution_count": 69,
   "metadata": {},
   "outputs": [
    {
     "output_type": "execute_result",
     "data": {
      "text/plain": [
       "          clothes      type\n",
       "0       yellowhat  headgear\n",
       "1  bluesunglasses   eyewear\n",
       "2    green_turban  headgear"
      ],
      "text/html": "<div>\n<style scoped>\n    .dataframe tbody tr th:only-of-type {\n        vertical-align: middle;\n    }\n\n    .dataframe tbody tr th {\n        vertical-align: top;\n    }\n\n    .dataframe thead th {\n        text-align: right;\n    }\n</style>\n<table border=\"1\" class=\"dataframe\">\n  <thead>\n    <tr style=\"text-align: right;\">\n      <th></th>\n      <th>clothes</th>\n      <th>type</th>\n    </tr>\n  </thead>\n  <tbody>\n    <tr>\n      <th>0</th>\n      <td>yellowhat</td>\n      <td>headgear</td>\n    </tr>\n    <tr>\n      <th>1</th>\n      <td>bluesunglasses</td>\n      <td>eyewear</td>\n    </tr>\n    <tr>\n      <th>2</th>\n      <td>green_turban</td>\n      <td>headgear</td>\n    </tr>\n  </tbody>\n</table>\n</div>"
     },
     "metadata": {},
     "execution_count": 69
    }
   ],
   "source": [
    "a=[[\"yellowhat\", \"headgear\"], [\"bluesunglasses\", \"eyewear\"], [\"green_turban\", \"headgear\"]]\n",
    "a=pd.DataFrame(a, columns=['clothes', 'type'])\n",
    "a\n",
    "\n",
    "\n"
   ]
  },
  {
   "cell_type": "code",
   "execution_count": 71,
   "metadata": {},
   "outputs": [
    {
     "output_type": "execute_result",
     "data": {
      "text/plain": [
       "  variable           value\n",
       "0  clothes       yellowhat\n",
       "1  clothes  bluesunglasses\n",
       "2  clothes    green_turban\n",
       "3     type        headgear\n",
       "4     type         eyewear\n",
       "5     type        headgear"
      ],
      "text/html": "<div>\n<style scoped>\n    .dataframe tbody tr th:only-of-type {\n        vertical-align: middle;\n    }\n\n    .dataframe tbody tr th {\n        vertical-align: top;\n    }\n\n    .dataframe thead th {\n        text-align: right;\n    }\n</style>\n<table border=\"1\" class=\"dataframe\">\n  <thead>\n    <tr style=\"text-align: right;\">\n      <th></th>\n      <th>variable</th>\n      <th>value</th>\n    </tr>\n  </thead>\n  <tbody>\n    <tr>\n      <th>0</th>\n      <td>clothes</td>\n      <td>yellowhat</td>\n    </tr>\n    <tr>\n      <th>1</th>\n      <td>clothes</td>\n      <td>bluesunglasses</td>\n    </tr>\n    <tr>\n      <th>2</th>\n      <td>clothes</td>\n      <td>green_turban</td>\n    </tr>\n    <tr>\n      <th>3</th>\n      <td>type</td>\n      <td>headgear</td>\n    </tr>\n    <tr>\n      <th>4</th>\n      <td>type</td>\n      <td>eyewear</td>\n    </tr>\n    <tr>\n      <th>5</th>\n      <td>type</td>\n      <td>headgear</td>\n    </tr>\n  </tbody>\n</table>\n</div>"
     },
     "metadata": {},
     "execution_count": 71
    }
   ],
   "source": [
    "pd.melt(a)"
   ]
  },
  {
   "cell_type": "code",
   "execution_count": 60,
   "metadata": {},
   "outputs": [
    {
     "output_type": "stream",
     "name": "stdout",
     "text": [
      "eyewear\n"
     ]
    }
   ],
   "source": [
    "print(a[1][1])"
   ]
  },
  {
   "cell_type": "code",
   "execution_count": 89,
   "metadata": {},
   "outputs": [
    {
     "output_type": "stream",
     "name": "stdout",
     "text": [
      "{'classic': 500}\n{'pop': 600}\n{'classic': 150}\n{'classic': 800}\n{'pop': 2500}\n"
     ]
    }
   ],
   "source": [
    "a= [\"classic\", \"pop\", \"classic\", \"classic\", \"pop\"]\n",
    "b= [500, 600, 150, 800, 2500]\n",
    "\n",
    "for i in range(len(a)):\n",
    "    c={a[i]:b[i]}\n",
    "    print(c)\n",
    "\n",
    "\n"
   ]
  }
 ]
}