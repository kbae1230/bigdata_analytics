{
 "cells": [
  {
   "cell_type": "markdown",
   "metadata": {},
   "source": [
    "(해시) 완주하지 못한 선수"
   ]
  },
  {
   "cell_type": "code",
   "execution_count": 1,
   "metadata": {},
   "outputs": [
    {
     "name": "stdout",
     "output_type": "stream",
     "text": [
      "{'leo'}\n"
     ]
    }
   ],
   "source": [
    "par=[\"leo\", \"kiki\", \"eden\"]\n",
    "com=\t[\"eden\", \"kiki\"]\n",
    "answer=set(par)-set(com)\n",
    "print(answer)"
   ]
  },
  {
   "cell_type": "code",
   "execution_count": 95,
   "metadata": {},
   "outputs": [
    {
     "name": "stdout",
     "output_type": "stream",
     "text": [
      "leo\n"
     ]
    }
   ],
   "source": [
    "par = [\"leo\", \"kiki\", \"eden\"]\n",
    "com = [\"eden\", \"kiki\"]\n",
    "\n",
    "hash={}\n",
    "for i in par:\n",
    "    if i in hash:\n",
    "        hash[i] += 1\n",
    "    else:\n",
    "        hash[i] = 1\n",
    "for i in com:\n",
    "    if hash[i] == 1:\n",
    "        del hash[i]\n",
    "    else:\n",
    "        hash[i] -= 1\n",
    "print(list(hash.keys())[0])"
   ]
  },
  {
   "cell_type": "markdown",
   "metadata": {},
   "source": [
    "(해쉬) 전화번호 목록"
   ]
  },
  {
   "cell_type": "code",
   "execution_count": 5,
   "metadata": {},
   "outputs": [
    {
     "name": "stdout",
     "output_type": "stream",
     "text": [
      "False\n"
     ]
    }
   ],
   "source": [
    "\n",
    "def solution(phone_book):\n",
    "\n",
    "    for number in phone_book:\n",
    "        temp=\"\"\n",
    "        for i in number:\n",
    "            temp+=i\n",
    "            if temp in phone_book and temp!=number:\n",
    "                return False\n",
    "\n",
    "    return True"
   ]
  },
  {
   "cell_type": "code",
   "execution_count": 97,
   "metadata": {},
   "outputs": [
    {
     "name": "stdout",
     "output_type": "stream",
     "text": [
      "False\n"
     ]
    }
   ],
   "source": [
    "phone_book = [\"119\", \"97674223\", \"1195524421\"]\n",
    "\n",
    "answer = True\n",
    "hash = {}\n",
    "for phone_number in phone_book:\n",
    "    hash[phone_number] = 1\n",
    "\n",
    "for phone_number in phone_book:\n",
    "    temp = ''\n",
    "    for number in phone_number:\n",
    "        temp += number\n",
    "        if temp in hash and temp != phone_number:\n",
    "            answer = False\n",
    "print(answer)\n",
    "\n"
   ]
  },
  {
   "cell_type": "markdown",
   "metadata": {},
   "source": [
    "(해쉬) 위장"
   ]
  },
  {
   "cell_type": "code",
   "execution_count": 106,
   "metadata": {},
   "outputs": [
    {
     "name": "stdout",
     "output_type": "stream",
     "text": [
      "['yellowhat', 'bluesunglasses', 'green_turban']\n",
      "5\n"
     ]
    }
   ],
   "source": [
    "from itertools import combinations\n",
    "# clothes = [[\"yellowhat\", \"headgear\"], [\"bluesunglasses\", \"eyewear\"], [\"green_turban\", \"headgear\"]]\n",
    "clothes = [[\"crowmask\", \"face\"], [\"bluesunglasses\", \"face\"], [\"smoky_makeup\", \"face\"]]\n",
    "cloth=[]\n",
    "t=[]\n",
    "for i in clothes:\n",
    "    cloth.append(i[1])\n",
    "    t.append(i[0])\n",
    "print(t)\n",
    "total=0\n",
    "for i in range(len(set(cloth))):\n",
    "    \n",
    "    total+=len(list(combinations(t, i)))\n",
    "print(total+1)"
   ]
  },
  {
   "cell_type": "code",
   "execution_count": 114,
   "metadata": {},
   "outputs": [
    {
     "name": "stdout",
     "output_type": "stream",
     "text": [
      "headgear\n",
      "5\n"
     ]
    }
   ],
   "source": [
    "clothes = [[\"yellowhat\", \"headgear\"], [\"bluesunglasses\", \"eyewear\"], [\"green_turban\", \"headgear\"]]\n",
    "style = []\n",
    "for i in range(len(clothes)):\n",
    "    style.append(clothes[i][1])\n",
    "\n",
    "count = {}\n",
    "\n",
    "for i in style:\n",
    "    try:\n",
    "        count[i] += 1\n",
    "    except:\n",
    "        count[i] = 1\n",
    "\n",
    "\n",
    "val = list(count.values())\n",
    "for a in range(len(val)):\n",
    "    val[a] += 1\n",
    "\n",
    "ans = 1\n",
    "for n in val:\n",
    "    if n == 0 :\n",
    "        ans = 0\n",
    "    ans *= n\n",
    "print(ans-1)"
   ]
  },
  {
   "cell_type": "markdown",
   "metadata": {},
   "source": [
    "(해쉬) 베스트앨범"
   ]
  },
  {
   "cell_type": "code",
   "execution_count": 7,
   "metadata": {},
   "outputs": [
    {
     "name": "stdout",
     "output_type": "stream",
     "text": [
      "{'classic': 1450, 'pop': 3100}\n"
     ]
    }
   ],
   "source": [
    "genres=[\"classic\", \"pop\", \"classic\", \"classic\", \"pop\"]\n",
    "plays=[500, 600, 150, 800, 2500]\n",
    "genres_set = list(set(genres))\n",
    "i=0\n",
    "play=0\n",
    "a={}\n",
    "for genre in genres_set:\n",
    "    for i in range(len(genres)):\n",
    "        if genre == genres[i]:\n",
    "            play+=plays[i]\n",
    "            i+=1\n",
    "        else:\n",
    "            i+=1\n",
    "    a[genre]=play\n",
    "    play=0\n",
    "print(a)\n"
   ]
  },
  {
   "cell_type": "code",
   "execution_count": 27,
   "metadata": {},
   "outputs": [
    {
     "name": "stdout",
     "output_type": "stream",
     "text": [
      "deque([7, 3, 9])\n",
      "[2, 1]\n"
     ]
    }
   ],
   "source": [
    "from collections import deque\n",
    "import math\n",
    "\n",
    "progresses = [93, 30, 55]\n",
    "speeds = [1, 30, 5]\n",
    "\n",
    "# progresses = [95, 90, 99, 99, 80, 99]\t\n",
    "# speeds = [1, 1, 1, 1, 1, 1]\n",
    "\n",
    "answer = []\n",
    "day = 0\n",
    "for i in range(len(progresses)):\n",
    "    answer.append(math.ceil((100-progresses[i])/speeds[i]))\n",
    "dq = deque(answer)\n",
    "a = dq.popleft()\n",
    "total = []\n",
    "i=1\n",
    "\n",
    "while True:\n",
    "\n",
    "    if not dq:\n",
    "        total.append(i)\n",
    "        break\n",
    "\n",
    "    elif a >= dq[0]:\n",
    "    \n",
    "        dq.popleft()\n",
    "        i +=1\n",
    "    \n",
    "    else:\n",
    "        total.append(i)\n",
    "        a = dq.popleft()\n",
    "        i=1\n",
    "print(total)"
   ]
  },
  {
   "cell_type": "markdown",
   "metadata": {},
   "source": [
    "(스택/큐) 기능개발"
   ]
  },
  {
   "cell_type": "code",
   "execution_count": null,
   "metadata": {},
   "outputs": [],
   "source": [
    "from collections import deque\n",
    "import math\n",
    "\n",
    "def solution(progresses, speeds):\n",
    "    \n",
    "    answer = []\n",
    "    day = 0\n",
    "    for i in range(len(progresses)):\n",
    "        answer.append(math.ceil((100-progresses[i])/speeds[i]))\n",
    "    dq = deque(answer)\n",
    "    a = dq.popleft()\n",
    "    total = []\n",
    "    i=1\n",
    "\n",
    "    while True:\n",
    "\n",
    "        if not dq:\n",
    "            total.append(i)\n",
    "            break\n",
    "\n",
    "        elif a >= dq[0]:\n",
    "            dq.popleft()\n",
    "            i +=1\n",
    "\n",
    "        else:\n",
    "            total.append(i)\n",
    "            a = dq.popleft()\n",
    "            i=1\n",
    "    return total"
   ]
  },
  {
   "cell_type": "markdown",
   "metadata": {},
   "source": [
    "(스택/큐) 프린터"
   ]
  },
  {
   "cell_type": "code",
   "execution_count": 36,
   "metadata": {},
   "outputs": [
    {
     "name": "stdout",
     "output_type": "stream",
     "text": [
      "2\n"
     ]
    }
   ],
   "source": [
    "from collections import deque\n",
    "\n",
    "priorities = [1, 1, 9, 1, 1, 1]\n",
    "location = 0\n",
    "\n",
    "dq=deque(priorities)\n",
    "answer = 0\n",
    "max_num = max(priorities)\n",
    "loc = priorities[location]\n",
    "i=1\n",
    "while True:\n",
    "    if max_num==loc:\n",
    "        ############# 같은 숫자가 있을 때 카운트가 필요\n",
    "\n",
    "        break\n",
    "    elif max_num==dq.popleft():\n",
    "        i+=1\n",
    "        max_num = max(dq)\n",
    "    else:\n",
    "        a=dq.popleft()\n",
    "        dq.append(a)\n",
    "print(i)"
   ]
  },
  {
   "cell_type": "code",
   "execution_count": 144,
   "metadata": {},
   "outputs": [
    {
     "name": "stdout",
     "output_type": "stream",
     "text": [
      "True\n",
      "False\n",
      "True\n"
     ]
    }
   ],
   "source": [
    "#all\n",
    "b = [1,2,1,4,5]\n",
    "print(all(b))\n",
    "\n",
    "b = [1,2,0,4,5]\n",
    "print(all(b))\n",
    "\n",
    "b=[]\n",
    "print(all(b))"
   ]
  },
  {
   "cell_type": "code",
   "execution_count": 143,
   "metadata": {},
   "outputs": [
    {
     "name": "stdout",
     "output_type": "stream",
     "text": [
      "True\n",
      "True\n",
      "False\n"
     ]
    }
   ],
   "source": [
    "#any\n",
    "b = [1,2,1,4,5]\n",
    "print(any(b))\n",
    "\n",
    "b = [0,0,0,0,5]\n",
    "print(any(b))\n",
    "\n",
    "b=[]\n",
    "print(any(b))"
   ]
  },
  {
   "cell_type": "markdown",
   "metadata": {},
   "source": [
    "(스택/큐) 다리를 지나는 트럭"
   ]
  },
  {
   "cell_type": "code",
   "execution_count": 138,
   "metadata": {
    "tags": []
   },
   "outputs": [
    {
     "name": "stdout",
     "output_type": "stream",
     "text": [
      "8\n",
      "[7, 4, 5, 6]\n"
     ]
    }
   ],
   "source": [
    "import collections\n",
    "\n",
    "br=2\n",
    "we=10\n",
    "tr=[7,4,5,6]\n",
    "tr_d = collections.deque(tr)\n",
    "answer = []\n",
    "\n",
    "total_we = []\n",
    "total_we = collections.deque(total_we)\n",
    "time = 0\n",
    "\n",
    "while True:\n",
    "\n",
    "    if len(total_we) == br or sum(total_we) == we:\n",
    "        answer.append(total_we.popleft())\n",
    "        time +=1\n",
    "    elif sum(total_we) > we:\n",
    "        tr_d.appendleft(total_we.pop())\n",
    "        answer.append(total_we.popleft())\n",
    "    else:\n",
    "        try:\n",
    "            total_we.append(tr_d.popleft())\n",
    "            time +=1 \n",
    "        except:\n",
    "            answer.append(total_we.popleft())\n",
    "            time +=1\n",
    "            break\n",
    "print(time)\n",
    "print(answer)"
   ]
  },
  {
   "cell_type": "markdown",
   "metadata": {},
   "source": [
    "(스택/큐) 주식가격"
   ]
  },
  {
   "cell_type": "code",
   "execution_count": null,
   "metadata": {},
   "outputs": [],
   "source": [
    "def solution(prices):\n",
    "    answer = [0] * len(prices)\n",
    "    for i in range(len(prices)):\n",
    "        for j in range(i+1, len(prices)):\n",
    "            if prices[i] <= prices[j]:\n",
    "                answer[i] += 1\n",
    "            else:\n",
    "                answer[i] += 1\n",
    "                break\n",
    "    return answer"
   ]
  },
  {
   "cell_type": "markdown",
   "metadata": {},
   "source": [
    "(힙) 최소, 최대"
   ]
  },
  {
   "cell_type": "code",
   "execution_count": 48,
   "metadata": {},
   "outputs": [
    {
     "name": "stdout",
     "output_type": "stream",
     "text": [
      "[1, 3, 5, 7, 9]\n",
      "None\n",
      "[(-9, 9), (-7, 7), (-3, 3), (-1, 1), (-5, 5)]\n",
      "9\n"
     ]
    }
   ],
   "source": [
    "import heapq\n",
    "\n",
    "heap_items = [1,3,5,7,9]\n",
    "# heap로 바꾸기\n",
    "heapq.heapify(heap_items)\n",
    "print(heap_items)\n",
    "\n",
    "max_heap = []\n",
    "for item in heap_items:\n",
    "  heapq.heappush(max_heap, (-item, item))\n",
    "\n",
    "print(max_heap)\n",
    "print(heapq.heappop(max_heap)[1])"
   ]
  },
  {
   "cell_type": "markdown",
   "metadata": {},
   "source": [
    "(힙) 더맵게"
   ]
  },
  {
   "cell_type": "code",
   "execution_count": null,
   "metadata": {},
   "outputs": [],
   "source": [
    "import heapq\n",
    "\n",
    "def solution(scoville, K):\n",
    "    i=0\n",
    "    heapq.heapify(scoville)\n",
    "    while True:\n",
    "        min1 = heapq.heappop(scoville)\n",
    "        if min1 >= K:\n",
    "            return i\n",
    "        elif len(scoville)==0:\n",
    "            return -1\n",
    "        else:\n",
    "            min2 = heapq.heappop(scoville)\n",
    "            a = min1 + (min2*2)\n",
    "            scoville.append(a)\n",
    "            i+=1"
   ]
  },
  {
   "cell_type": "markdown",
   "metadata": {},
   "source": [
    "(힙) 디스크 컨트롤러"
   ]
  },
  {
   "cell_type": "code",
   "execution_count": 44,
   "metadata": {},
   "outputs": [
    {
     "name": "stdout",
     "output_type": "stream",
     "text": [
      "9\n"
     ]
    }
   ],
   "source": [
    "jobs = [[0, 3], [1, 9], [2, 6]]\n",
    "n = len(jobs)\n",
    "time = 0\n",
    "delay =0\n",
    "\n",
    "jobs = sorted(jobs, key=lambda x: x[1])  # 소요시간 우선 정렬\n",
    "\n",
    "while len(jobs)>0:\n",
    "    for i in range(len(jobs)):\n",
    "        if time >= jobs[i][0]:\n",
    "            time += jobs[i][1]\n",
    "            delay += time - jobs[i][0]\n",
    "            jobs.pop(i)\n",
    "\n",
    "            break\n",
    "        if i == len(jobs) - 1:\n",
    "            time += 1\n",
    "\n",
    "print(delay // n)"
   ]
  },
  {
   "cell_type": "code",
   "execution_count": null,
   "metadata": {},
   "outputs": [],
   "source": [
    "(힙) 이중우선순위큐"
   ]
  },
  {
   "cell_type": "code",
   "execution_count": 42,
   "metadata": {},
   "outputs": [],
   "source": [
    "import re\n",
    "\n",
    "def solution(operations):\n",
    "    answer = []\n",
    "    num = []\n",
    "    for i in operations:\n",
    "        if 'I' in i:\n",
    "            \n",
    "            num.append(int(re.findall('[-+]?\\d+', i)[0]))\n",
    "\n",
    "        elif i == \"D -1\":\n",
    "            if not num:\n",
    "                continue\n",
    "            num.remove(min(num))\n",
    "        elif i == \"D 1\":\n",
    "            if not num:\n",
    "                continue\n",
    "            num.remove(max(num))\n",
    "\n",
    "\n",
    "    if not num:\n",
    "        return [0,0]\n",
    "    else :\n",
    "        return [max(num), min(num)]"
   ]
  },
  {
   "cell_type": "markdown",
   "metadata": {},
   "source": [
    "(정렬) K번째 수"
   ]
  },
  {
   "cell_type": "code",
   "execution_count": 75,
   "metadata": {},
   "outputs": [
    {
     "name": "stdout",
     "output_type": "stream",
     "text": [
      "[5, 2, 6, 3]\n",
      "[6]\n",
      "[1, 5, 2, 6, 3, 7, 4]\n",
      "[5, 6, 3]\n"
     ]
    }
   ],
   "source": [
    "# 풀이1\n",
    "array = [1, 5, 2, 6, 3, 7, 4]\n",
    "commands = [[2, 5, 3], [4, 4, 1], [1, 7, 3]]\n",
    "arr = []\n",
    "result = []\n",
    "\n",
    "for i in commands:\n",
    "    start = i[0]\n",
    "    end=i[1]\n",
    "    lo = i[2]\n",
    "    for j in range(start-1, end):\n",
    "        arr.append(array[j])\n",
    "    arr.sort()\n",
    "    result.append(arr[lo-1])\n",
    "    arr=[]\n",
    "\n",
    "print(result)\n",
    "\n",
    "# 풀이2\n",
    "\n",
    "def solution(array, commands):\n",
    "    answer = []\n",
    "    temp=[]\n",
    "    for i in commands:\n",
    "        temp=array[i[0]-1:i[1]]\n",
    "        print(temp)\n",
    "        temp=sorted(temp)\n",
    "        answer.append(temp[i[2]-1])\n",
    "    return answer\n",
    "print(solution(array, commands))"
   ]
  },
  {
   "cell_type": "markdown",
   "metadata": {},
   "source": [
    "(정렬) 가장 큰 수"
   ]
  },
  {
   "cell_type": "code",
   "execution_count": null,
   "metadata": {},
   "outputs": [],
   "source": [
    "# 첫번째\n",
    "def solution(numbers):\n",
    "    answer = ''\n",
    "    numbers = list(map(str,numbers))\n",
    "    numbers.sort(key=lambda x:x*3, reverse=True)\n",
    "    if sum(list(map(int,numbers))) == 0: #만약 numbers의 모든수의 합이 0이면\n",
    "       numbers = list(set(numbers)) #numbers에 set(numbers)를 대입\n",
    "    answer = ''.join(numbers)\n",
    "    return answer\n",
    "\n",
    "# 두번째\n",
    "def solution(numbers):\n",
    "    numbers = sorted(list(map(str, numbers)), key=lambda x: x*5, reverse=True) #5부분은 이해가 안감\n",
    "    return str(int(''.join(numbers)))\n",
    "#"
   ]
  },
  {
   "cell_type": "code",
   "execution_count": 72,
   "metadata": {},
   "outputs": [
    {
     "name": "stdout",
     "output_type": "stream",
     "text": [
      "['123']\n",
      "['1', '2', '3', '4', '5']\n"
     ]
    }
   ],
   "source": [
    "a = [123, 45]\n",
    "b = []\n",
    "c ='123'\n",
    "print(c.split())\n",
    "for i in a:\n",
    "\n",
    "    for j in str(i):\n",
    "        b.append(j)\n",
    "print(b)"
   ]
  },
  {
   "cell_type": "markdown",
   "metadata": {},
   "source": [
    "(정렬) H-Index"
   ]
  },
  {
   "cell_type": "code",
   "execution_count": null,
   "metadata": {},
   "outputs": [],
   "source": [
    "# 내풀이\n",
    "\n",
    "def solution(citations):\n",
    "    count = 0\n",
    "    max_count = 0\n",
    "    for i in citations:\n",
    "        for j in citations:\n",
    "            \n",
    "            if j>= i:\n",
    "                count += 1\n",
    "        if count > i:\n",
    "            count = i\n",
    "        \n",
    "        if count > max_count:\n",
    "            max_count = count\n",
    "            count = 0\n",
    "        else:\n",
    "            count = 0\n",
    "    \n",
    "    return max_count\n",
    "\n",
    "    # 정답\n",
    "\n",
    "def solution(citations):\n",
    "    answer = 0\n",
    "    citations.sort(reverse=True)\n",
    "    count = 0\n",
    "    for i in range(len(citations)):\n",
    "        if citations[i]>= i+1:\n",
    "            count +=1\n",
    "        else:\n",
    "            break\n",
    "        answer = count\n",
    "    return answer"
   ]
  },
  {
   "cell_type": "markdown",
   "metadata": {},
   "source": [
    "(완전탐색) 모의고사"
   ]
  },
  {
   "cell_type": "code",
   "execution_count": 59,
   "metadata": {},
   "outputs": [
    {
     "name": "stdout",
     "output_type": "stream",
     "text": [
      "[1, 2, 3, 4, 5, 1, 2, 3, 4, 5, 1, 2, 3, 4, 5]\n",
      "[2, 1, 2, 3, 2, 4, 2, 5, 2, 1, 2, 3, 2, 4, 2, 5]\n",
      "[3, 3, 1, 1, 2, 2, 4, 4, 5, 5, 3, 3, 1, 1, 2, 2, 4, 4, 5, 5]\n"
     ]
    }
   ],
   "source": [
    "import math\n",
    "import operator\n",
    "#dict 에서 items() 함수\n",
    "\n",
    "def solution(answers):\n",
    "    n = len(answers)\n",
    "    first = [1,2,3,4,5]*math.ceil(n/5)\n",
    "    second = [2,1,2,3,2,4,2,5]*math.ceil(n/8)\n",
    "    third = [3,3,1,1,2,2,4,4,5,5]*math.ceil(n/10)\n",
    "    answer = {}\n",
    "    result = []\n",
    "    \n",
    "    f, s, t= 0, 0, 0\n",
    "    \n",
    "    for i in range(n):\n",
    "        \n",
    "        if answers[i] == first[i]:\n",
    "            f += 1\n",
    "        if answers[i] == second[i]:\n",
    "            s += 1\n",
    "        if answers[i] == third[i]:\n",
    "            t += 1\n",
    "    answer[1] = f\n",
    "    answer[2] = s\n",
    "    answer[3] = t\n",
    "    \n",
    "    result = [k for k,v in answer.items() if max(answer.values())== v]\n",
    "    return result\n",
    "\n",
    "#용균이 답을 모두 정의하고 찾아 쓰기.\n",
    "\n",
    "def solution(answers):\n",
    "    answer = []\n",
    "    one = [1,2,3,4,5]*2000\n",
    "    two = [2,1,2,3,2,4,2,5]*1250\n",
    "    three = [3,3,1,1,2,2,4,4,5,5]*1000\n",
    "    o,t,h = 0,0,0\n",
    "    count = []\n",
    "    for i in range(len(answers)):\n",
    "        if answers[i] == one[i]:\n",
    "            o += 1\n",
    "        if answers[i] == two[i]:\n",
    "            t += 1\n",
    "        if answers[i] == three[i]:\n",
    "            h += 1\n",
    "    count.append(o)\n",
    "    count.append(t)\n",
    "    count.append(h)\n",
    "    if o==t and o==h:\n",
    "        answer = [1,2,3]\n",
    "    elif o==t and o>h:\n",
    "        answer = [1,2]\n",
    "    elif o==h and o>t:\n",
    "        answer = [1,3]\n",
    "    elif t==h and t>0:\n",
    "        answer = [2,3]\n",
    "    else:\n",
    "        answer = [count.index(max(count))+1]\n",
    "    return answer\n"
   ]
  },
  {
   "cell_type": "markdown",
   "metadata": {},
   "source": [
    "(완전탐색) 소수 찾기"
   ]
  },
  {
   "cell_type": "code",
   "execution_count": null,
   "metadata": {},
   "outputs": [],
   "source": [
    "# 전체 경우 고려\n",
    "from itertools import permutations\n",
    "import math\n",
    "\n",
    "def is_prime_number(n):\n",
    "    if n==0 or n==1:                              \n",
    "        return False\n",
    "    else:\n",
    "        for i in range(2, int(math.sqrt(n)) + 1):  \n",
    "            if n % i == 0:                      \n",
    "                return False\n",
    "        \n",
    "        return True\n",
    "\n",
    "def solution(numbers):\n",
    "    answer = []\n",
    "    for i in range(1, len(numbers)+1):\n",
    "        arr = list(permutations(numbers, i))\n",
    "        for j in range(len(arr)):\n",
    "            num = int(''.join(map(str, arr[j])))\n",
    "            if is_prime_number(num):\n",
    "                answer.append(num)\n",
    "    answer = len(list(set(answer)))\n",
    "    return answer\n",
    "\n",
    "\n",
    "#가장 큰 수만 고려\n",
    "from itertools import permutations\n",
    "\n",
    "def solution(numbers):\n",
    "    answer = []    \n",
    "    arr = list(permutations(numbers, len(numbers)))\n",
    "    for j in range(len(arr)):\n",
    "        num = int(''.join(map(str, arr[j])))\n",
    "        answer.append(num)\n",
    "    return str(max(answer))"
   ]
  },
  {
   "cell_type": "markdown",
   "metadata": {},
   "source": [
    "(완전탐색) 카펫"
   ]
  },
  {
   "cell_type": "code",
   "execution_count": 63,
   "metadata": {},
   "outputs": [],
   "source": [
    "# 약수로 찾기\n",
    "def solution(brown, yellow):\n",
    "    divisors = []\n",
    "    total = brown + yellow\n",
    "    for i in range(1, total+1):\n",
    "        if i > total/i: # 중복 제거를 위해 나누는 수가 몫보다 커지면 break \n",
    "            break\n",
    "        elif total % i == 0:\n",
    "            divisors.append([total/i, i]) # 약수 모으기\n",
    "\n",
    "    for divisor in divisors:\n",
    "        if yellow == (divisor[0]-2)*(divisor[1]-2) : # 약수-2 곱이 yellow\n",
    "            return divisor\n",
    "\n",
    "# 둘레로 찾기\n",
    "import math\n",
    "\n",
    "def solution(brown, red):\n",
    "    for i in range(1, int(math.sqrt(red))+1): # 제곱근 약수 개념.\n",
    "        if red % i == 0:\n",
    "            if 2*(i + red//i) == brown-4:\n",
    "                return [red//i+2, i+2]"
   ]
  },
  {
   "cell_type": "markdown",
   "metadata": {},
   "source": [
    "(탐욕법) 체육복"
   ]
  },
  {
   "cell_type": "code",
   "execution_count": 243,
   "metadata": {},
   "outputs": [],
   "source": [
    "def solution(n, lost, reserve):\n",
    "    count=0\n",
    "    lost2=lost[:] # 새로 저장 공간을 부여\n",
    "                                                                        \n",
    "    for x in lost2: #같은 사이즈 있으면 먼저 제거\n",
    "        if x in reserve:\n",
    "            reserve.remove(x)\n",
    "            lost.remove(x)\n",
    "            count+=1\n",
    "            print(lost2)\n",
    "\n",
    "\n",
    "    for i in lost: \n",
    "        for k in reserve:\n",
    "            if abs(k-i)==1:\n",
    "                count+=1\n",
    "                reserve.remove(k) #reserve학생은 여벌의 체육복이 1개이므로 한번 빌려주면 리스트에서 삭제 (중복방지)\n",
    "                break #lost학생이 여러번 체육복을 받을수 없게 함\n",
    "\n",
    "    return (n-len(lost2)+count)\n"
   ]
  },
  {
   "cell_type": "code",
   "execution_count": 242,
   "metadata": {},
   "outputs": [
    {
     "name": "stdout",
     "output_type": "stream",
     "text": [
      "[2, 4]\n",
      "[2, 4]\n",
      "2662264603136\n",
      "2662264603136\n",
      "2662273715648\n"
     ]
    }
   ],
   "source": [
    "a =[2, 4]\n",
    "b = a\n",
    "c = a[:]\n",
    "print(b)\n",
    "print(c)\n",
    "print(id(a))\n",
    "print(id(b))\n",
    "print(id(c))"
   ]
  },
  {
   "cell_type": "markdown",
   "metadata": {},
   "source": [
    "(탐욕법) 조이스틱"
   ]
  },
  {
   "cell_type": "code",
   "execution_count": 326,
   "metadata": {},
   "outputs": [
    {
     "name": "stdout",
     "output_type": "stream",
     "text": [
      "ZYXWVUTSRQPON\n",
      "NOPQRSTUVWXYZ\n",
      "74\n"
     ]
    }
   ],
   "source": [
    "import string\n",
    "from collections import deque\n",
    "alpha = string.ascii_uppercase\n",
    "\n",
    "name ='JEROEN'\n",
    "name = 'JAN'\n",
    "#name = 'JJAAAN'\n",
    "#alpha = deque(alpha)\n",
    "alpha_a = alpha[:13]\n",
    "alpha_z =''\n",
    "alpha2= ''\n",
    "for i in alpha[13:]:\n",
    "    alpha_z = i + alpha_z\n",
    "print(alpha_z)\n",
    "for i in alpha[13:]:\n",
    "    alpha2 = alpha2 + i\n",
    "print(alpha2)\n",
    "for i in name:\n",
    "    \n",
    "    if i in alpha_a:\n",
    "        count += alpha_a.index(i)+1\n",
    "    else:\n",
    "        count += alpha_z.index(i)+2\n",
    "print(count-1)\n"
   ]
  },
  {
   "cell_type": "markdown",
   "metadata": {},
   "source": [
    "(탐욕법) 구명 보트"
   ]
  },
  {
   "cell_type": "code",
   "execution_count": 294,
   "metadata": {
    "tags": []
   },
   "outputs": [
    {
     "name": "stdout",
     "output_type": "stream",
     "text": [
      "[80, 70]\n",
      "[80, 50]\n",
      "[70, 50]\n",
      "3\n"
     ]
    }
   ],
   "source": [
    "people = [70, 50, 80]\n",
    "limit = 100\n",
    "\n",
    "\n",
    "# 성훈이\n",
    "def solution(people, limit):\n",
    "    sum_limit = 0\n",
    "    people.sort()\n",
    "    answer = 0\n",
    "    while len(people) != 0:\n",
    "        sum_limit = people.pop()\n",
    "        answer += 1\n",
    "        if len(people) ==0:\n",
    "            break\n",
    "        elif limit - sum_limit >= people[0]:\n",
    "            people.pop(0)\n",
    "    return answer\n",
    "print(solution(people, limit))\n",
    "\n",
    "\n",
    "# indexing\n",
    "def solution(people, limit):\n",
    "    answer = 0\n",
    "    start = 0\n",
    "    end = len(people) -1\n",
    "    while end>=start:\n",
    "        if people[start] + people[end] <= limit:\n",
    "            start += 1\n",
    "        end -= 1\n",
    "        answer += 1\n",
    "    return answer\n"
   ]
  },
  {
   "cell_type": "code",
   "execution_count": 162,
   "metadata": {},
   "outputs": [
    {
     "name": "stdout",
     "output_type": "stream",
     "text": [
      "deque([[4, 5, 6], 0, 1, 2, 3])\n",
      "[4, 5, 6]\n"
     ]
    }
   ],
   "source": [
    "from collections import deque\n",
    "c= '12345'\n",
    "b =[0,1,2,3]\n",
    "b = deque(b)\n",
    "temp = [4,5,6]\n",
    "b.appendleft(temp)\n",
    "# temp = deque(temp)\n",
    "print(b)\n",
    "print(b.popleft())\n",
    "\n",
    "    # b가 4개니까 4번하고 멈춤\n"
   ]
  },
  {
   "cell_type": "markdown",
   "metadata": {},
   "source": [
    "(탐욕법) 큰 수 만들기"
   ]
  },
  {
   "cell_type": "code",
   "execution_count": 347,
   "metadata": {},
   "outputs": [
    {
     "name": "stdout",
     "output_type": "stream",
     "text": [
      "775841\n"
     ]
    }
   ],
   "source": [
    "\n",
    "# number = \"1924\"\n",
    "# k = 2\t\n",
    "\n",
    "# number = \"1231234\"\n",
    "# k =3\n",
    "\n",
    "# number = \"4177252841\"\n",
    "# k =4\n",
    "\n",
    "number = \"4177252841\"\n",
    "k = 4\n",
    "\n",
    "\n",
    "# 런타인 에러 10\n",
    "def solution(number, k):\n",
    "    answer = []\n",
    "    \n",
    "    number = list(map(int,number))\n",
    "    answer.append(number.pop(0))\n",
    "    \n",
    "    while len(number):\n",
    "        if len(answer) == 0:\n",
    "            answer.append(number.pop(0))\n",
    "\n",
    "        elif answer[-1] < number[0]:\n",
    "            answer.pop()\n",
    "            k -= 1\n",
    "            \n",
    "            if k == 0:\n",
    "                answer.append(number.pop(0))\n",
    "                answer += number\n",
    "                break\n",
    "        else:\n",
    "            answer.append(number.pop(0))\n",
    "\n",
    "    answer = ''.join(map(str,answer[:len(answer)-k]))\n",
    "    return answer\n",
    "print(solution(number, k))\n",
    "\n",
    "# 정답\n",
    "# def solution(number, k):\n",
    "\n",
    "#     number = list(map(int,number))\n",
    "#     stack = [number.pop(0)]\n",
    "\n",
    "#     for i in number:\n",
    "#         while len(stack)>0 and stack[-1]< i and k>0:\n",
    "#             stack.pop()\n",
    "#             k -= 1\n",
    "#         stack.append(i)\n",
    "    \n",
    "#     if k != 0:\n",
    "#         stack = stack[:-k]\n",
    "\n",
    "#     answer = list(map(str,stack))\n",
    "#     answer = ''.join(answer)\n",
    "#     return answer\n",
    "\n",
    "# print(solution(number, k))"
   ]
  },
  {
   "cell_type": "markdown",
   "metadata": {},
   "source": [
    "(탐욕법) 섬 연결하기"
   ]
  },
  {
   "cell_type": "code",
   "execution_count": 362,
   "metadata": {},
   "outputs": [
    {
     "name": "stdout",
     "output_type": "stream",
     "text": [
      "[[1, 3, 1], [0, 2, 2], [1, 2, 5], [2, 3, 8]]\n",
      "[[0, 2, 2], [1, 2, 5], [2, 3, 8]]\n",
      "[[1, 2, 5], [2, 3, 8]]\n",
      "4\n"
     ]
    }
   ],
   "source": [
    "n = 4\t\n",
    "costs =\t[[0,1,1],[0,2,2],[1,2,5],[1,3,1],[2,3,8]]\n",
    "\n",
    "def solution(n, costs):\n",
    "    # kruskal algorithm\n",
    "    ans = 0\n",
    "    costs.sort(key = lambda x: x[2]) # cost 기준으로 오름차순 정렬\n",
    "    routes = set([costs[0][0]]) # cost가 가장 작은 섬부터 시작\n",
    "    while len(routes)!=n: # routes = n 이 되면 모든 섬이 연결된 것\n",
    "        for i, cost in enumerate(costs): # cost 기준으로 오름차순 정렬에 인덱스를 부여\n",
    "            if cost[0] in routes and cost[1] in routes: # cost[0]과 cost[1]이 routes 안에 있다면 이 두 섬은 이미 이어져 있는 것\n",
    "                continue\n",
    "            if cost[0] in routes or cost[1] in routes: # 하나만 있다면 이 두 섬은 이을 수 있는 상태\n",
    "                routes.update([cost[0], cost[1]]) # update는 집합(set)에 여러 개의 값을 한꺼번에 추가할 때 쓰는 것. 한 개 추가는 add를 사용\n",
    "                ans += cost[2] # 2번 인덱스는 [0,1,1] 에서 cost를 의미하는 맨 뒤 1이므로 ans에 추가해서 카운팅\n",
    "                #costs[i] = [-1, -1, -1] # i 번째 cost는 모두 사용 했으므로, 똥 값 처리 ( if 문 지나칠 수 있게)\n",
    "                del(costs[i])\n",
    "                print(costs)\n",
    "                # del(costs[i])이 조금 더 빠름. costs에서 delete해서 for 구문이 덜 돌음.\n",
    "                break\n",
    "    return ans\n",
    "\n",
    "print(solution(n, costs))"
   ]
  },
  {
   "cell_type": "markdown",
   "metadata": {},
   "source": [
    "(탐욕법)  단속카메라"
   ]
  },
  {
   "cell_type": "code",
   "execution_count": 407,
   "metadata": {
    "tags": []
   },
   "outputs": [
    {
     "name": "stdout",
     "output_type": "stream",
     "text": [
      "2\n"
     ]
    }
   ],
   "source": [
    "def solution(routes):\n",
    "    camera = 1 # 시작할 때 찍히는 차량\n",
    "    routes.sort(key=lambda x : x[1]) # 출구 거리가 가까운 순서대로 정렬\n",
    "    cars = set([0]) # 카메라를 만난 자동차들\n",
    "    end_point = routes[0][1]   # 가장 가까운 출구(end point)\n",
    "\n",
    "    while len(cars) != len(routes): # 두 개가 같아지면 cars은 카메라를 모두 만난 것\n",
    "\n",
    "        for i in range(len(cars),len(routes)): # 시작 len(cars)는 통과된 차량은 빼고 통과하지 못한 차량부터 다시 카운트\n",
    "\n",
    "            if routes[i][0] <= end_point <= routes[i][1]: # 가장 가까운 출구 위치가 route 안에 포함되는 차량은 그 지점에 카메라를 놓으면 해당 차량들은 모두 카메라를 만나게 됨\n",
    "                cars.update([i]) # 그래서 카메라를 만난 차량들 업데이트\n",
    "            else:\n",
    "                camera += 1 # 그렇지 않으면 현재까지 한대의 카메라로 여러 차량이 통과했기 때문에 카메라 갯수 +1\n",
    "                end_point = routes[i][1] # 통과하지 못한 차량의 출구 위치를 end point 로 재설정\n",
    "                break\n",
    "\n",
    "    return camera\n",
    "\n",
    "routes = [[-20,15], [-14,-5], [-18,-13], [-5,-3]]\n",
    "print(solution(routes))"
   ]
  },
  {
   "cell_type": "code",
   "execution_count": 367,
   "metadata": {},
   "outputs": [
    {
     "name": "stdout",
     "output_type": "stream",
     "text": [
      "{1}\n"
     ]
    }
   ],
   "source": [
    "a=set([1])\n",
    "print(a)\n"
   ]
  },
  {
   "cell_type": "code",
   "execution_count": 350,
   "metadata": {},
   "outputs": [
    {
     "name": "stdout",
     "output_type": "stream",
     "text": [
      "['굿모닝', '좋은하루', 'niceday', 'good_morning']\n",
      "['good_morning', 'niceday', '굿모닝', '좋은하루']\n",
      "['niceday', 'good_morning', '굿모닝', '좋은하루']\n"
     ]
    }
   ],
   "source": [
    "str_list = ['좋은하루','good_morning','굿모닝','niceday']\n",
    "print(sorted(str_list, key=len))  # 함수\n",
    "print(sorted(str_list, key=lambda x : x[0]))  # 람다\n",
    "print(sorted(str_list, key=lambda x : x[1]))  # 람다"
   ]
  },
  {
   "cell_type": "markdown",
   "metadata": {},
   "source": [
    "(동적계획법) N으로 표현"
   ]
  },
  {
   "cell_type": "code",
   "execution_count": null,
   "metadata": {},
   "outputs": [],
   "source": [
    "def solution(N, number):\r\n",
    "    if N == number:\r\n",
    "        return 1\r\n",
    "        \r\n",
    "    # 1. [ SET x 8 ] 초기화\r\n",
    "    s = [ set() for x in range(8) ] \r\n",
    "\r\n",
    "    # 2. 각 set마다 기본 수 \"N\" * i 수 초기화\r\n",
    "    for i,x in enumerate(s, start=1):\r\n",
    "        x.add( int( str(N) * i ) )\r\n",
    "\r\n",
    "    # 3. n 일반화\r\n",
    "    #   { \r\n",
    "    #       \"n\" * i U \r\n",
    "    #       1번 set 사칙연산 n-1번 set U\r\n",
    "    #       2번 set 사칙연산 n-2번 set U\r\n",
    "    #       ...\r\n",
    "    #       n-1번 set 사칙연산 1번 set, \r\n",
    "    #    } \r\n",
    "    # number를 가장 최소로 만드는 수 구함.\r\n",
    "    for i in range(1, 8):\r\n",
    "        for j in range(i):\r\n",
    "            for op1 in s[j]:\r\n",
    "                for op2 in s[i-j-1]:\r\n",
    "                    s[i].add(op1 + op2)\r\n",
    "                    s[i].add(op1 - op2)\r\n",
    "                    s[i].add(op1 * op2)\r\n",
    "                    if op2 != 0:\r\n",
    "                        s[i].add(op1 // op2)\r\n",
    "\r\n",
    "        if  number in s[i]:\r\n",
    "            answer = i + 1\r\n",
    "            break\r\n",
    "\r\n",
    "    else:\r\n",
    "        answer = -1\r\n",
    "\r\n",
    "    return answer"
   ]
  },
  {
   "cell_type": "markdown",
   "metadata": {},
   "source": [
    "(동적계획법) triangle"
   ]
  },
  {
   "cell_type": "code",
   "execution_count": null,
   "metadata": {},
   "outputs": [],
   "source": [
    "def solution(triangle):\r\n",
    "    for rows in range(1, len(triangle)):\r\n",
    "        for idx in range(rows + 1):\r\n",
    "            if idx == 0:\r\n",
    "                triangle[rows][idx] += triangle[rows-1][idx]\r\n",
    "            elif idx == rows:\r\n",
    "                triangle[rows][idx] += triangle[rows-1][-1]\r\n",
    "            else:\r\n",
    "                triangle[rows][idx] += max(triangle[rows-1][idx-1], triangle[rows-1][idx])\r\n",
    "\treturn max(triangle[-1])"
   ]
  },
  {
   "cell_type": "markdown",
   "metadata": {},
   "source": [
    "SQL 테스트"
   ]
  },
  {
   "cell_type": "markdown",
   "metadata": {},
   "source": [
    "(SQL) 고양이와 개는 몇마리 있을까"
   ]
  },
  {
   "cell_type": "code",
   "execution_count": null,
   "metadata": {},
   "outputs": [],
   "source": [
    "\n",
    "'''\n",
    "SELECT ANIMAL_TYPE, COUNT(ANIMAL_TYPE)\n",
    "FROM ANIMAL_INS\n",
    "GROUP BY ANIMAL_TYPE\n",
    "ORDER BY ANIMAL_TYPE\n",
    "'''\n"
   ]
  },
  {
   "cell_type": "markdown",
   "metadata": {},
   "source": [
    "(SQL) 없어진 기록 찾기"
   ]
  },
  {
   "cell_type": "code",
   "execution_count": null,
   "metadata": {},
   "outputs": [],
   "source": [
    "'''\n",
    "SELECT ANIMAL_OUTS.ANIMAL_ID, ANIMAL_OUTS.NAME\n",
    "FROM ANIMAL_OUTS\n",
    "LEFT OUTER JOIN ANIMAL_INS\n",
    "ON ANIMAL_OUTS.ANIMAL_ID = ANIMAL_INS.ANIMAL_ID\n",
    "WHERE ANIMAL_INS.ANIMAL_ID IS NULL\n",
    "ORDER BY ANIMAL_OUTS.ANIMAL_ID\n",
    "'''"
   ]
  },
  {
   "cell_type": "markdown",
   "metadata": {},
   "source": [
    "(SQL) 동명 동물 수 찾기"
   ]
  },
  {
   "cell_type": "code",
   "execution_count": null,
   "metadata": {},
   "outputs": [],
   "source": [
    "'''\n",
    "SELECT NAME, COUNT(NAME) AS 'COUNT'\n",
    "FROM ANIMAL_INS\n",
    "GROUP BY NAME\n",
    "HAVING COUNT(NAME) > 1\n",
    "ORDER BY NAME\n",
    "'''"
   ]
  },
  {
   "cell_type": "markdown",
   "metadata": {},
   "source": [
    "(SQL) 입양 시각 구하기(1)"
   ]
  },
  {
   "cell_type": "code",
   "execution_count": null,
   "metadata": {},
   "outputs": [],
   "source": [
    "-- 풀이 1 HAVING\n",
    "'''\n",
    "SELECT HOUR(DATETIME) HOUR, COUNT(DATETIME) COUNT\n",
    "FROM ANIMAL_OUTS\n",
    "GROUP BY HOUR\n",
    "HAVING HOUR>=9 AND HOUR<=19\n",
    "ORDER BY HOUR\n",
    "'''\n",
    "\n",
    "-- 풀이 2 BETWEEN\n",
    "'''\n",
    "SELECT HOUR(DATETIME) HOUR, COUNT(DATETIME) COUNT\n",
    "FROM ANIMAL_OUTS\n",
    "WHERE HOUR(DATETIME) BETWEEN 9 AND 19\n",
    "GROUP BY HOUR\n",
    "ORDER BY HOUR\n",
    "'''"
   ]
  },
  {
   "cell_type": "markdown",
   "metadata": {},
   "source": [
    "(SQL) 입양 시각 구하기(2)"
   ]
  },
  {
   "cell_type": "code",
   "execution_count": null,
   "metadata": {},
   "outputs": [],
   "source": [
    "-- 풀이 1\n",
    "'''\n",
    "SET @hour := -1;\n",
    "\n",
    "SELECT (@hour := @hour + 1) as HOUR,\n",
    "(SELECT COUNT(*) FROM ANIMAL_OUTS WHERE HOUR(DATETIME) = @hour) as COUNT\n",
    "FROM ANIMAL_OUTS\n",
    "WHERE @hour < 23\n",
    "'''"
   ]
  },
  {
   "cell_type": "markdown",
   "metadata": {},
   "source": [
    "(SQL) NULL 처리 , IF 문"
   ]
  },
  {
   "cell_type": "code",
   "execution_count": null,
   "metadata": {},
   "outputs": [],
   "source": [
    "'''\n",
    "SELECT ANIMAL_TYPE, IFNULL(NAME, 'NO name'), SEX_UPON_INTAKE\n",
    "FROM ANIMAL_INS\n",
    "ORDER BY ANIMAL_ID\n",
    "'''"
   ]
  },
  {
   "cell_type": "markdown",
   "metadata": {},
   "source": [
    "(SQL) 오랜 기간 보호한 동물"
   ]
  },
  {
   "cell_type": "code",
   "execution_count": null,
   "metadata": {},
   "outputs": [],
   "source": [
    "'''\n",
    "SELECT I.NAME, I.DATETIME\n",
    "FROM ANIMAL_INS I\n",
    "LEFT OUTER JOIN  ANIMAL_OUTS O\n",
    "ON I.ANIMAL_ID = O.ANIMAL_ID\n",
    "WHERE O.ANIMAL_ID IS NULL\n",
    "ORDER BY I.DATETIME\n",
    "LIMIT 3\n",
    "'''"
   ]
  },
  {
   "cell_type": "code",
   "execution_count": null,
   "metadata": {},
   "outputs": [],
   "source": [
    "(SQL) 오랜 기간 보호한 동물 2"
   ]
  },
  {
   "cell_type": "code",
   "execution_count": null,
   "metadata": {},
   "outputs": [],
   "source": [
    "-- 풀이 1\n",
    "'''\n",
    "SELECT I.ANIMAL_ID, I.NAME\n",
    "FROM ANIMAL_INS I \n",
    "LEFT OUTER JOIN ANIMAL_OUTS O\n",
    "ON I.ANIMAL_ID = O.ANIMAL_ID\n",
    "ORDER BY O.DATETIME-I.DATETIME DESC\n",
    "LIMIT 2\n",
    "'''\n",
    "\n",
    "-- 풀이 2\n",
    "'''\n",
    "SELECT I.ANIMAL_ID, I.NAME\n",
    "FROM ANIMAL_INS I ANIMAL_OUTS O\n",
    "WHERE I.ANIMAL_ID = O.ANIMAL_ID\n",
    "ORDER BY O.DATETIME-I.DATETIME DESC\n",
    "LIMIT 2\n",
    "'''"
   ]
  },
  {
   "cell_type": "markdown",
   "metadata": {},
   "source": [
    "(SQL) 이름으로 찾기 IN"
   ]
  },
  {
   "cell_type": "code",
   "execution_count": null,
   "metadata": {},
   "outputs": [],
   "source": [
    "'''\n",
    "SELECT ANIMAL_ID, NAME, SEX_UPON_INTAKE\n",
    "FROM ANIMAL_INS\n",
    "WHERE NAME IN ('Lucy', 'Ella', 'Pickle', 'Rogan', 'Sabrina', 'Mitty' ) \n",
    "ORDER BY ANIMAL_ID\n",
    "'''"
   ]
  },
  {
   "cell_type": "markdown",
   "metadata": {},
   "source": [
    "(SQL) 단어 들어간 것 찾기 LIKE"
   ]
  },
  {
   "cell_type": "code",
   "execution_count": null,
   "metadata": {},
   "outputs": [],
   "source": [
    "'''\n",
    "SELECT ANIMAL_ID, NAME\n",
    "FROM ANIMAL_INS\n",
    "WHERE NAME LIKE '%EL%' AND ANIMAL_TYPE = 'Dog'\n",
    "ORDER BY NAME\n",
    "'''"
   ]
  },
  {
   "cell_type": "markdown",
   "metadata": {},
   "source": [
    "(SQL) CASE WHEN THEN ELSE END"
   ]
  },
  {
   "cell_type": "code",
   "execution_count": null,
   "metadata": {},
   "outputs": [],
   "source": [
    "'''\n",
    "SELECT ANIMAL_ID, NAME, \n",
    "\n",
    "CASE\n",
    "WHEN SEX_UPON_INTAKE LIKE '%Neutered%' OR SEX_UPON_INTAKE LIKE '%Spayed%' \n",
    "THEN 'O'\n",
    "ELSE 'X'\n",
    "END '중성화'\n",
    "\n",
    "FROM ANIMAL_INS\n",
    "'''"
   ]
  },
  {
   "cell_type": "markdown",
   "metadata": {},
   "source": []
  },
  {
   "cell_type": "markdown",
   "metadata": {},
   "source": []
  },
  {
   "cell_type": "markdown",
   "metadata": {},
   "source": [
    "코딩책"
   ]
  },
  {
   "cell_type": "markdown",
   "metadata": {},
   "source": [
    "(코테책) 플로이드워셔"
   ]
  },
  {
   "cell_type": "code",
   "execution_count": null,
   "metadata": {},
   "outputs": [],
   "source": [
    "INF = int(1e9)\n",
    "\n",
    "n = int(input())\n",
    "m = int(input())\n",
    "\n",
    "graph = [[INF]*(n+1) for _ in range(n+1)]\n",
    "\n",
    "for a in range(1, n+1):\n",
    "    for b in range(1, n+1):\n",
    "        if a == b:\n",
    "            graph[a][b] = 0\n",
    "\n",
    "for _ in range(m):\n",
    "    a,b,c = map(int, input().split())\n",
    "    graph[a][b] = c\n",
    "\n",
    "for k in range(1, n+1):\n",
    "    for a in range(1, n+1):\n",
    "        for b in range(1, n+1):\n",
    "            graph[a][b] = min(graph[a][b], graph[a][k]+ graph[k][b])\n",
    "\n",
    "for a in range(1, n+1):\n",
    "    for b in range(1, n+1):\n",
    "        if graph[a][b] == INF:\n",
    "            print(\"INFINITY\", end = \" \")\n",
    "        else:\n",
    "            print(graph[a][b], end= \" \")\n",
    "    print()"
   ]
  },
  {
   "cell_type": "markdown",
   "metadata": {},
   "source": [
    "(코테책) 다익스트라"
   ]
  },
  {
   "cell_type": "code",
   "execution_count": null,
   "metadata": {},
   "outputs": [],
   "source": [
    "import heapq\n",
    "import sys\n",
    "\n",
    "input = sys.stdin.readline\n",
    "INF = int(1e9)\n",
    "#n = 6\n",
    "#m = 11\n",
    "n, m = map(int, input().split())\n",
    "start = int(input())\n",
    "\n",
    "graph = [[] for i in range(n+1)]\n",
    "distance = [INF]*(n+1)\n",
    "\n",
    "for _ in range(m):\n",
    "    a,b,c = map(int, input().split())\n",
    "    graph[a].append((b,c))\n",
    "\n",
    "def dijkstra(start):\n",
    "    q =[]\n",
    "\n",
    "    heapq.heappush(q, (0, start))\n",
    "    distance[start] =0\n",
    "    while q:\n",
    "        dist, now = heapq.heappop(q)\n",
    "        if distance[now] < dist:\n",
    "            continue\n",
    "\n",
    "        for i in graph[now]:\n",
    "            cost = dist + i[1]\n",
    "            if cost < distance[i[0]]:\n",
    "                distance[i[0]] = cost\n",
    "                heapq.heappush(q, (cost, i[0]))\n",
    "\n",
    "dijkstra(start)\n",
    "\n",
    "for i in range(1, n+1):\n",
    "    if distance[i] == INF:\n",
    "        print(\"INFINITY\")\n",
    "    else:\n",
    "        print(distance[i])"
   ]
  }
 ],
 "metadata": {
  "interpreter": {
   "hash": "0d12d05ab1afc7278cbb1fa09e775842eb34e7aa5a193c340acf9f8f1f5bb7ed"
  },
  "kernelspec": {
   "display_name": "Python 3.8.5 64-bit ('base': conda)",
   "name": "python3"
  },
  "language_info": {
   "name": "python",
   "version": ""
  },
  "metadata": {
   "interpreter": {
    "hash": "4e2cb1775e1620a719d03ad8f49f4ba606d381b46012f9e0e5f281e2d84692aa"
   }
  },
  "orig_nbformat": 2
 },
 "nbformat": 4,
 "nbformat_minor": 2
}