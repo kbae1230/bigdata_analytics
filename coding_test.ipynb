{
 "cells": [
  {
   "cell_type": "markdown",
   "source": [
    "(해시) 완주하지 못한 선수"
   ],
   "metadata": {}
  },
  {
   "cell_type": "code",
   "execution_count": 1,
   "source": [
    "par=[\"leo\", \"kiki\", \"eden\"]\n",
    "com=\t[\"eden\", \"kiki\"]\n",
    "answer=set(par)-set(com)\n",
    "print(answer)"
   ],
   "outputs": [
    {
     "output_type": "stream",
     "name": "stdout",
     "text": [
      "{'leo'}\n"
     ]
    }
   ],
   "metadata": {}
  },
  {
   "cell_type": "code",
   "execution_count": 1,
   "source": [
    "par = [\"leo\", \"kiki\", \"eden\"]\n",
    "com = [\"eden\", \"kiki\"]\n",
    "\n",
    "hash={}\n",
    "for i in par:\n",
    "    if i in hash:\n",
    "        hash[i] += 1\n",
    "    else:\n",
    "        hash[i] = 1\n",
    "for i in com:\n",
    "    if hash[i] == 1:\n",
    "        del hash[i]\n",
    "    else:\n",
    "        hash[i] -= 1\n",
    "print(list(hash.keys())[0])"
   ],
   "outputs": [
    {
     "output_type": "stream",
     "name": "stdout",
     "text": [
      "leo\n"
     ]
    }
   ],
   "metadata": {}
  },
  {
   "cell_type": "markdown",
   "source": [
    "(해쉬) 전화번호 목록"
   ],
   "metadata": {}
  },
  {
   "cell_type": "code",
   "execution_count": 5,
   "source": [
    "\n",
    "def solution(phone_book):\n",
    "\n",
    "    for number in phone_book:\n",
    "        temp=\"\"\n",
    "        for i in number:\n",
    "            temp+=i\n",
    "            if temp in phone_book and temp!=number:\n",
    "                return False\n",
    "\n",
    "    return True"
   ],
   "outputs": [
    {
     "output_type": "stream",
     "name": "stdout",
     "text": [
      "False\n"
     ]
    }
   ],
   "metadata": {}
  },
  {
   "cell_type": "code",
   "execution_count": 97,
   "source": [
    "phone_book = [\"119\", \"97674223\", \"1195524421\"]\n",
    "\n",
    "answer = True\n",
    "hash = {}\n",
    "for phone_number in phone_book:\n",
    "    hash[phone_number] = 1\n",
    "\n",
    "for phone_number in phone_book:\n",
    "    temp = ''\n",
    "    for number in phone_number:\n",
    "        temp += number\n",
    "        if temp in hash and temp != phone_number:\n",
    "            answer = False\n",
    "print(answer)\n",
    "\n"
   ],
   "outputs": [
    {
     "output_type": "stream",
     "name": "stdout",
     "text": [
      "False\n"
     ]
    }
   ],
   "metadata": {}
  },
  {
   "cell_type": "markdown",
   "source": [
    "(해쉬) 위장"
   ],
   "metadata": {}
  },
  {
   "cell_type": "code",
   "execution_count": 106,
   "source": [
    "from itertools import combinations\n",
    "# clothes = [[\"yellowhat\", \"headgear\"], [\"bluesunglasses\", \"eyewear\"], [\"green_turban\", \"headgear\"]]\n",
    "clothes = [[\"crowmask\", \"face\"], [\"bluesunglasses\", \"face\"], [\"smoky_makeup\", \"face\"]]\n",
    "cloth=[]\n",
    "t=[]\n",
    "for i in clothes:\n",
    "    cloth.append(i[1])\n",
    "    t.append(i[0])\n",
    "print(t)\n",
    "total=0\n",
    "for i in range(len(set(cloth))):\n",
    "    \n",
    "    total+=len(list(combinations(t, i)))\n",
    "print(total+1)"
   ],
   "outputs": [
    {
     "output_type": "stream",
     "name": "stdout",
     "text": [
      "['yellowhat', 'bluesunglasses', 'green_turban']\n",
      "5\n"
     ]
    }
   ],
   "metadata": {}
  },
  {
   "cell_type": "code",
   "execution_count": 114,
   "source": [
    "clothes = [[\"yellowhat\", \"headgear\"], [\"bluesunglasses\", \"eyewear\"], [\"green_turban\", \"headgear\"]]\n",
    "style = []\n",
    "for i in range(len(clothes)):\n",
    "    style.append(clothes[i][1])\n",
    "\n",
    "count = {}\n",
    "\n",
    "for i in style:\n",
    "    try:\n",
    "        count[i] += 1\n",
    "    except:\n",
    "        count[i] = 1\n",
    "\n",
    "\n",
    "val = list(count.values())\n",
    "for a in range(len(val)):\n",
    "    val[a] += 1\n",
    "\n",
    "ans = 1\n",
    "for n in val:\n",
    "    if n == 0 :\n",
    "        ans = 0\n",
    "    ans *= n\n",
    "print(ans-1)"
   ],
   "outputs": [
    {
     "output_type": "stream",
     "name": "stdout",
     "text": [
      "headgear\n",
      "5\n"
     ]
    }
   ],
   "metadata": {}
  },
  {
   "cell_type": "markdown",
   "source": [
    "(해쉬) 베스트앨범"
   ],
   "metadata": {}
  },
  {
   "cell_type": "code",
   "execution_count": 7,
   "source": [
    "genres=[\"classic\", \"pop\", \"classic\", \"classic\", \"pop\"]\n",
    "plays=[500, 600, 150, 800, 2500]\n",
    "genres_set = list(set(genres))\n",
    "i=0\n",
    "play=0\n",
    "a={}\n",
    "for genre in genres_set:\n",
    "    for i in range(len(genres)):\n",
    "        if genre == genres[i]:\n",
    "            play+=plays[i]\n",
    "            i+=1\n",
    "        else:\n",
    "            i+=1\n",
    "    a[genre]=play\n",
    "    play=0\n",
    "print(a)\n"
   ],
   "outputs": [
    {
     "output_type": "stream",
     "name": "stdout",
     "text": [
      "{'classic': 1450, 'pop': 3100}\n"
     ]
    }
   ],
   "metadata": {}
  },
  {
   "cell_type": "code",
   "execution_count": 27,
   "source": [
    "from collections import deque\r\n",
    "import math\r\n",
    "\r\n",
    "progresses = [93, 30, 55]\r\n",
    "speeds = [1, 30, 5]\r\n",
    "\r\n",
    "# progresses = [95, 90, 99, 99, 80, 99]\t\r\n",
    "# speeds = [1, 1, 1, 1, 1, 1]\r\n",
    "\r\n",
    "answer = []\r\n",
    "day = 0\r\n",
    "for i in range(len(progresses)):\r\n",
    "    answer.append(math.ceil((100-progresses[i])/speeds[i]))\r\n",
    "dq = deque(answer)\r\n",
    "a = dq.popleft()\r\n",
    "total = []\r\n",
    "i=1\r\n",
    "\r\n",
    "while True:\r\n",
    "\r\n",
    "    if not dq:\r\n",
    "        total.append(i)\r\n",
    "        break\r\n",
    "\r\n",
    "    elif a >= dq[0]:\r\n",
    "    \r\n",
    "        dq.popleft()\r\n",
    "        i +=1\r\n",
    "    \r\n",
    "    else:\r\n",
    "        total.append(i)\r\n",
    "        a = dq.popleft()\r\n",
    "        i=1\r\n",
    "print(total)"
   ],
   "outputs": [
    {
     "output_type": "stream",
     "name": "stdout",
     "text": [
      "deque([7, 3, 9])\n",
      "[2, 1]\n"
     ]
    }
   ],
   "metadata": {}
  },
  {
   "cell_type": "markdown",
   "source": [
    "(스택/큐) 기능개발"
   ],
   "metadata": {}
  },
  {
   "cell_type": "code",
   "execution_count": null,
   "source": [
    "from collections import deque\r\n",
    "import math\r\n",
    "\r\n",
    "def solution(progresses, speeds):\r\n",
    "    \r\n",
    "    answer = []\r\n",
    "    day = 0\r\n",
    "    for i in range(len(progresses)):\r\n",
    "        answer.append(math.ceil((100-progresses[i])/speeds[i]))\r\n",
    "    dq = deque(answer)\r\n",
    "    a = dq.popleft()\r\n",
    "    total = []\r\n",
    "    i=1\r\n",
    "\r\n",
    "    while True:\r\n",
    "\r\n",
    "        if not dq:\r\n",
    "            total.append(i)\r\n",
    "            break\r\n",
    "\r\n",
    "        elif a >= dq[0]:\r\n",
    "            dq.popleft()\r\n",
    "            i +=1\r\n",
    "\r\n",
    "        else:\r\n",
    "            total.append(i)\r\n",
    "            a = dq.popleft()\r\n",
    "            i=1\r\n",
    "    return total"
   ],
   "outputs": [],
   "metadata": {}
  },
  {
   "cell_type": "markdown",
   "source": [
    "(스택/큐) 프린터"
   ],
   "metadata": {}
  },
  {
   "cell_type": "code",
   "execution_count": 36,
   "source": [
    "from collections import deque\n",
    "\n",
    "priorities = [1, 1, 9, 1, 1, 1]\n",
    "location = 0\n",
    "\n",
    "dq=deque(priorities)\n",
    "answer = 0\n",
    "max_num = max(priorities)\n",
    "loc = priorities[location]\n",
    "i=1\n",
    "while True:\n",
    "    if max_num==loc:\n",
    "        ############# 같은 숫자가 있을 때 카운트가 필요\n",
    "\n",
    "        break\n",
    "    elif max_num==dq.popleft():\n",
    "        i+=1\n",
    "        max_num = max(dq)\n",
    "    else:\n",
    "        a=dq.popleft()\n",
    "        dq.append(a)\n",
    "print(i)"
   ],
   "outputs": [
    {
     "output_type": "stream",
     "name": "stdout",
     "text": [
      "2\n"
     ]
    }
   ],
   "metadata": {}
  },
  {
   "cell_type": "code",
   "execution_count": 144,
   "source": [
    "#all\n",
    "b = [1,2,1,4,5]\n",
    "print(all(b))\n",
    "\n",
    "b = [1,2,0,4,5]\n",
    "print(all(b))\n",
    "\n",
    "b=[]\n",
    "print(all(b))"
   ],
   "outputs": [
    {
     "output_type": "stream",
     "name": "stdout",
     "text": [
      "True\n",
      "False\n",
      "True\n"
     ]
    }
   ],
   "metadata": {}
  },
  {
   "cell_type": "code",
   "execution_count": 143,
   "source": [
    "#any\n",
    "b = [1,2,1,4,5]\n",
    "print(any(b))\n",
    "\n",
    "b = [0,0,0,0,5]\n",
    "print(any(b))\n",
    "\n",
    "b=[]\n",
    "print(any(b))"
   ],
   "outputs": [
    {
     "output_type": "stream",
     "name": "stdout",
     "text": [
      "True\n",
      "True\n",
      "False\n"
     ]
    }
   ],
   "metadata": {}
  },
  {
   "cell_type": "markdown",
   "source": [
    "(스택/큐) 다리를 지나는 트럭"
   ],
   "metadata": {}
  },
  {
   "cell_type": "code",
   "execution_count": 138,
   "source": [
    "import collections\r\n",
    "\r\n",
    "br=2\r\n",
    "we=10\r\n",
    "tr=[7,4,5,6]\r\n",
    "tr_d = collections.deque(tr)\r\n",
    "answer = []\r\n",
    "\r\n",
    "total_we = []\r\n",
    "total_we = collections.deque(total_we)\r\n",
    "time = 0\r\n",
    "\r\n",
    "while True:\r\n",
    "\r\n",
    "    if len(total_we) == br or sum(total_we) == we:\r\n",
    "        answer.append(total_we.popleft())\r\n",
    "        time +=1\r\n",
    "    elif sum(total_we) > we:\r\n",
    "        tr_d.appendleft(total_we.pop())\r\n",
    "        answer.append(total_we.popleft())\r\n",
    "    else:\r\n",
    "        try:\r\n",
    "            total_we.append(tr_d.popleft())\r\n",
    "            time +=1 \r\n",
    "        except:\r\n",
    "            answer.append(total_we.popleft())\r\n",
    "            time +=1\r\n",
    "            break\r\n",
    "print(time)\r\n",
    "print(answer)"
   ],
   "outputs": [
    {
     "output_type": "stream",
     "name": "stdout",
     "text": [
      "8\n",
      "[7, 4, 5, 6]\n"
     ]
    }
   ],
   "metadata": {
    "tags": []
   }
  },
  {
   "cell_type": "markdown",
   "source": [
    "(스택/큐) 주식가격"
   ],
   "metadata": {}
  },
  {
   "cell_type": "code",
   "execution_count": null,
   "source": [
    "def solution(prices):\r\n",
    "    answer = [0] * len(prices)\r\n",
    "    for i in range(len(prices)):\r\n",
    "        for j in range(i+1, len(prices)):\r\n",
    "            if prices[i] <= prices[j]:\r\n",
    "                answer[i] += 1\r\n",
    "            else:\r\n",
    "                answer[i] += 1\r\n",
    "                break\r\n",
    "    return answer"
   ],
   "outputs": [],
   "metadata": {}
  },
  {
   "cell_type": "markdown",
   "source": [
    "(힙) 최소, 최대"
   ],
   "metadata": {}
  },
  {
   "cell_type": "code",
   "execution_count": 48,
   "source": [
    "import heapq\n",
    "\n",
    "heap_items = [1,3,5,7,9]\n",
    "# heap로 바꾸기\n",
    "heapq.heapify(heap_items)\n",
    "print(heap_items)\n",
    "\n",
    "max_heap = []\n",
    "for item in heap_items:\n",
    "  heapq.heappush(max_heap, (-item, item))\n",
    "\n",
    "print(max_heap)\n",
    "print(heapq.heappop(max_heap)[1])"
   ],
   "outputs": [
    {
     "output_type": "stream",
     "name": "stdout",
     "text": [
      "[1, 3, 5, 7, 9]\n",
      "None\n",
      "[(-9, 9), (-7, 7), (-3, 3), (-1, 1), (-5, 5)]\n",
      "9\n"
     ]
    }
   ],
   "metadata": {}
  },
  {
   "cell_type": "markdown",
   "source": [
    "(힙) 더맵게"
   ],
   "metadata": {}
  },
  {
   "cell_type": "code",
   "execution_count": null,
   "source": [
    "import heapq\n",
    "\n",
    "def solution(scoville, K):\n",
    "    i=0\n",
    "    heapq.heapify(scoville)\n",
    "    while True:\n",
    "        min1 = heapq.heappop(scoville)\n",
    "        if min1 >= K:\n",
    "            return i\n",
    "        elif len(scoville)==0:\n",
    "            return -1\n",
    "        else:\n",
    "            min2 = heapq.heappop(scoville)\n",
    "            a = min1 + (min2*2)\n",
    "            scoville.append(a)\n",
    "            i+=1"
   ],
   "outputs": [],
   "metadata": {}
  },
  {
   "cell_type": "markdown",
   "source": [
    "(힙) 디스크 컨트롤러"
   ],
   "metadata": {}
  },
  {
   "cell_type": "code",
   "execution_count": 44,
   "source": [
    "jobs = [[0, 3], [1, 9], [2, 6]]\r\n",
    "n = len(jobs)\r\n",
    "time = 0\r\n",
    "delay =0\r\n",
    "\r\n",
    "jobs = sorted(jobs, key=lambda x: x[1])  # 소요시간 우선 정렬\r\n",
    "\r\n",
    "while len(jobs)>0:\r\n",
    "    for i in range(len(jobs)):\r\n",
    "        if time >= jobs[i][0]:\r\n",
    "            time += jobs[i][1]\r\n",
    "            delay += time - jobs[i][0]\r\n",
    "            jobs.pop(i)\r\n",
    "\r\n",
    "            break\r\n",
    "        if i == len(jobs) - 1:\r\n",
    "            time += 1\r\n",
    "\r\n",
    "print(delay // n)"
   ],
   "outputs": [
    {
     "output_type": "stream",
     "name": "stdout",
     "text": [
      "9\n"
     ]
    }
   ],
   "metadata": {}
  },
  {
   "cell_type": "markdown",
   "source": [
    "(힙) 이중우선순위큐"
   ],
   "metadata": {}
  },
  {
   "cell_type": "code",
   "execution_count": 42,
   "source": [
    "import re\r\n",
    "\r\n",
    "def solution(operations):\r\n",
    "    answer = []\r\n",
    "    num = []\r\n",
    "    for i in operations:\r\n",
    "        if 'I' in i:\r\n",
    "            \r\n",
    "            num.append(int(re.findall('[-+]?\\d+', i)[0]))\r\n",
    "\r\n",
    "        elif i == \"D -1\":\r\n",
    "            if not num:\r\n",
    "                continue\r\n",
    "            num.remove(min(num))\r\n",
    "        elif i == \"D 1\":\r\n",
    "            if not num:\r\n",
    "                continue\r\n",
    "            num.remove(max(num))\r\n",
    "\r\n",
    "\r\n",
    "    if not num:\r\n",
    "        return [0,0]\r\n",
    "    else :\r\n",
    "        return [max(num), min(num)]"
   ],
   "outputs": [],
   "metadata": {}
  },
  {
   "cell_type": "markdown",
   "source": [
    "(정렬) K번째 수"
   ],
   "metadata": {}
  },
  {
   "cell_type": "code",
   "execution_count": 75,
   "source": [
    "# 풀이1\n",
    "array = [1, 5, 2, 6, 3, 7, 4]\n",
    "commands = [[2, 5, 3], [4, 4, 1], [1, 7, 3]]\n",
    "arr = []\n",
    "result = []\n",
    "\n",
    "for i in commands:\n",
    "    start = i[0]\n",
    "    end=i[1]\n",
    "    lo = i[2]\n",
    "    for j in range(start-1, end):\n",
    "        arr.append(array[j])\n",
    "    arr.sort()\n",
    "    result.append(arr[lo-1])\n",
    "    arr=[]\n",
    "\n",
    "print(result)\n",
    "\n",
    "# 풀이2\n",
    "\n",
    "def solution(array, commands):\n",
    "    answer = []\n",
    "    temp=[]\n",
    "    for i in commands:\n",
    "        temp=array[i[0]-1:i[1]]\n",
    "        print(temp)\n",
    "        temp=sorted(temp)\n",
    "        answer.append(temp[i[2]-1])\n",
    "    return answer\n",
    "print(solution(array, commands))"
   ],
   "outputs": [
    {
     "output_type": "stream",
     "name": "stdout",
     "text": [
      "[5, 2, 6, 3]\n",
      "[6]\n",
      "[1, 5, 2, 6, 3, 7, 4]\n",
      "[5, 6, 3]\n"
     ]
    }
   ],
   "metadata": {}
  },
  {
   "cell_type": "markdown",
   "source": [
    "(정렬) 가장 큰 수"
   ],
   "metadata": {}
  },
  {
   "cell_type": "code",
   "execution_count": null,
   "source": [
    "# 첫번째\n",
    "def solution(numbers):\n",
    "    answer = ''\n",
    "    numbers = list(map(str,numbers))\n",
    "    numbers.sort(key=lambda x:x*3, reverse=True)\n",
    "    if sum(list(map(int,numbers))) == 0: #만약 numbers의 모든수의 합이 0이면\n",
    "       numbers = list(set(numbers)) #numbers에 set(numbers)를 대입\n",
    "    answer = ''.join(numbers)\n",
    "    return answer\n",
    "\n",
    "# 두번째\n",
    "def solution(numbers):\n",
    "    numbers = sorted(list(map(str, numbers)), key=lambda x: x*5, reverse=True) #5부분은 이해가 안감\n",
    "    return str(int(''.join(numbers)))\n",
    "#"
   ],
   "outputs": [],
   "metadata": {}
  },
  {
   "cell_type": "code",
   "execution_count": 72,
   "source": [
    "a = [123, 45]\n",
    "b = []\n",
    "c ='123'\n",
    "print(c.split())\n",
    "for i in a:\n",
    "\n",
    "    for j in str(i):\n",
    "        b.append(j)\n",
    "print(b)"
   ],
   "outputs": [
    {
     "output_type": "stream",
     "name": "stdout",
     "text": [
      "['123']\n",
      "['1', '2', '3', '4', '5']\n"
     ]
    }
   ],
   "metadata": {}
  },
  {
   "cell_type": "markdown",
   "source": [
    "(정렬) H-Index"
   ],
   "metadata": {}
  },
  {
   "cell_type": "code",
   "execution_count": null,
   "source": [
    "# 내풀이\n",
    "\n",
    "def solution(citations):\n",
    "    count = 0\n",
    "    max_count = 0\n",
    "    for i in citations:\n",
    "        for j in citations:\n",
    "            \n",
    "            if j>= i:\n",
    "                count += 1\n",
    "        if count > i:\n",
    "            count = i\n",
    "        \n",
    "        if count > max_count:\n",
    "            max_count = count\n",
    "            count = 0\n",
    "        else:\n",
    "            count = 0\n",
    "    \n",
    "    return max_count\n",
    "\n",
    "    # 정답\n",
    "\n",
    "def solution(citations):\n",
    "    answer = 0\n",
    "    citations.sort(reverse=True)\n",
    "    count = 0\n",
    "    for i in range(len(citations)):\n",
    "        if citations[i]>= i+1:\n",
    "            count +=1\n",
    "        else:\n",
    "            break\n",
    "        answer = count\n",
    "    return answer"
   ],
   "outputs": [],
   "metadata": {}
  },
  {
   "cell_type": "markdown",
   "source": [
    "(완전탐색) 모의고사"
   ],
   "metadata": {}
  },
  {
   "cell_type": "code",
   "execution_count": 59,
   "source": [
    "import math\n",
    "import operator\n",
    "#dict 에서 items() 함수\n",
    "\n",
    "def solution(answers):\n",
    "    n = len(answers)\n",
    "    first = [1,2,3,4,5]*math.ceil(n/5)\n",
    "    second = [2,1,2,3,2,4,2,5]*math.ceil(n/8)\n",
    "    third = [3,3,1,1,2,2,4,4,5,5]*math.ceil(n/10)\n",
    "    answer = {}\n",
    "    result = []\n",
    "    \n",
    "    f, s, t= 0, 0, 0\n",
    "    \n",
    "    for i in range(n):\n",
    "        \n",
    "        if answers[i] == first[i]:\n",
    "            f += 1\n",
    "        if answers[i] == second[i]:\n",
    "            s += 1\n",
    "        if answers[i] == third[i]:\n",
    "            t += 1\n",
    "    answer[1] = f\n",
    "    answer[2] = s\n",
    "    answer[3] = t\n",
    "    \n",
    "    result = [k for k,v in answer.items() if max(answer.values())== v]\n",
    "    return result\n",
    "\n",
    "#용균이 답을 모두 정의하고 찾아 쓰기.\n",
    "\n",
    "def solution(answers):\n",
    "    answer = []\n",
    "    one = [1,2,3,4,5]*2000\n",
    "    two = [2,1,2,3,2,4,2,5]*1250\n",
    "    three = [3,3,1,1,2,2,4,4,5,5]*1000\n",
    "    o,t,h = 0,0,0\n",
    "    count = []\n",
    "    for i in range(len(answers)):\n",
    "        if answers[i] == one[i]:\n",
    "            o += 1\n",
    "        if answers[i] == two[i]:\n",
    "            t += 1\n",
    "        if answers[i] == three[i]:\n",
    "            h += 1\n",
    "    count.append(o)\n",
    "    count.append(t)\n",
    "    count.append(h)\n",
    "    if o==t and o==h:\n",
    "        answer = [1,2,3]\n",
    "    elif o==t and o>h:\n",
    "        answer = [1,2]\n",
    "    elif o==h and o>t:\n",
    "        answer = [1,3]\n",
    "    elif t==h and t>0:\n",
    "        answer = [2,3]\n",
    "    else:\n",
    "        answer = [count.index(max(count))+1]\n",
    "    return answer\n"
   ],
   "outputs": [
    {
     "output_type": "stream",
     "name": "stdout",
     "text": [
      "[1, 2, 3, 4, 5, 1, 2, 3, 4, 5, 1, 2, 3, 4, 5]\n",
      "[2, 1, 2, 3, 2, 4, 2, 5, 2, 1, 2, 3, 2, 4, 2, 5]\n",
      "[3, 3, 1, 1, 2, 2, 4, 4, 5, 5, 3, 3, 1, 1, 2, 2, 4, 4, 5, 5]\n"
     ]
    }
   ],
   "metadata": {}
  },
  {
   "cell_type": "markdown",
   "source": [
    "(완전탐색) 소수 찾기"
   ],
   "metadata": {}
  },
  {
   "cell_type": "code",
   "execution_count": null,
   "source": [
    "# 전체 경우 고려\n",
    "from itertools import permutations\n",
    "import math\n",
    "\n",
    "def is_prime_number(n):\n",
    "    if n==0 or n==1:                              \n",
    "        return False\n",
    "    else:\n",
    "        for i in range(2, int(math.sqrt(n)) + 1):  \n",
    "            if n % i == 0:                      \n",
    "                return False\n",
    "        \n",
    "        return True\n",
    "\n",
    "def solution(numbers):\n",
    "    answer = []\n",
    "    for i in range(1, len(numbers)+1):\n",
    "        arr = list(permutations(numbers, i))\n",
    "        for j in range(len(arr)):\n",
    "            num = int(''.join(map(str, arr[j])))\n",
    "            if is_prime_number(num):\n",
    "                answer.append(num)\n",
    "    answer = len(list(set(answer)))\n",
    "    return answer\n",
    "\n",
    "\n",
    "#가장 큰 수만 고려\n",
    "from itertools import permutations\n",
    "\n",
    "def solution(numbers):\n",
    "    answer = []    \n",
    "    arr = list(permutations(numbers, len(numbers)))\n",
    "    for j in range(len(arr)):\n",
    "        num = int(''.join(map(str, arr[j])))\n",
    "        answer.append(num)\n",
    "    return str(max(answer))"
   ],
   "outputs": [],
   "metadata": {}
  },
  {
   "cell_type": "markdown",
   "source": [
    "(완전탐색) 카펫"
   ],
   "metadata": {}
  },
  {
   "cell_type": "code",
   "execution_count": 63,
   "source": [
    "# 약수로 찾기\r\n",
    "def solution(brown, yellow):\r\n",
    "    divisors = []\r\n",
    "    total = brown + yellow\r\n",
    "    for i in range(1, total+1):\r\n",
    "        if i > total/i: # 중복 제거를 위해 나누는 수가 몫보다 커지면 break \r\n",
    "            break\r\n",
    "        elif total % i == 0:\r\n",
    "            divisors.append([total/i, i]) # 약수 모으기\r\n",
    "\r\n",
    "    for divisor in divisors:\r\n",
    "        if yellow == (divisor[0]-2)*(divisor[1]-2) : # 약수-2 곱이 yellow\r\n",
    "            return divisor\r\n",
    "\r\n",
    "# 둘레로 찾기\r\n",
    "import math\r\n",
    "\r\n",
    "def solution(brown, red):\r\n",
    "    for i in range(1, int(math.sqrt(red))+1): # 제곱근 약수 개념.\r\n",
    "        if red % i == 0:\r\n",
    "            if 2*(i + red//i) == brown-4:\r\n",
    "                return [red//i+2, i+2]"
   ],
   "outputs": [],
   "metadata": {}
  },
  {
   "cell_type": "markdown",
   "source": [
    "(탐욕법) 체육복"
   ],
   "metadata": {}
  },
  {
   "cell_type": "code",
   "execution_count": 243,
   "source": [
    "def solution(n, lost, reserve):\r\n",
    "    count=0\r\n",
    "    lost2=lost[:] # 새로 저장 공간을 부여\r\n",
    "                                                                        \r\n",
    "    for x in lost2: #같은 사이즈 있으면 먼저 제거\r\n",
    "        if x in reserve:\r\n",
    "            reserve.remove(x)\r\n",
    "            lost.remove(x)\r\n",
    "            count+=1\r\n",
    "            print(lost2)\r\n",
    "\r\n",
    "\r\n",
    "    for i in lost: \r\n",
    "        for k in reserve:\r\n",
    "            if abs(k-i)==1:\r\n",
    "                count+=1\r\n",
    "                reserve.remove(k) #reserve학생은 여벌의 체육복이 1개이므로 한번 빌려주면 리스트에서 삭제 (중복방지)\r\n",
    "                break #lost학생이 여러번 체육복을 받을수 없게 함\r\n",
    "\r\n",
    "    return (n-len(lost2)+count)\r\n"
   ],
   "outputs": [],
   "metadata": {}
  },
  {
   "cell_type": "code",
   "execution_count": 242,
   "source": [
    "a =[2, 4]\n",
    "b = a\n",
    "c = a[:]\n",
    "print(b)\n",
    "print(c)\n",
    "print(id(a))\n",
    "print(id(b))\n",
    "print(id(c))"
   ],
   "outputs": [
    {
     "output_type": "stream",
     "name": "stdout",
     "text": [
      "[2, 4]\n",
      "[2, 4]\n",
      "2662264603136\n",
      "2662264603136\n",
      "2662273715648\n"
     ]
    }
   ],
   "metadata": {}
  },
  {
   "cell_type": "markdown",
   "source": [
    "(탐욕법) 조이스틱"
   ],
   "metadata": {}
  },
  {
   "cell_type": "code",
   "execution_count": 326,
   "source": [
    "import string\n",
    "from collections import deque\n",
    "alpha = string.ascii_uppercase\n",
    "\n",
    "name ='JEROEN'\n",
    "name = 'JAN'\n",
    "#name = 'JJAAAN'\n",
    "#alpha = deque(alpha)\n",
    "alpha_a = alpha[:13]\n",
    "alpha_z =''\n",
    "alpha2= ''\n",
    "for i in alpha[13:]:\n",
    "    alpha_z = i + alpha_z\n",
    "print(alpha_z)\n",
    "for i in alpha[13:]:\n",
    "    alpha2 = alpha2 + i\n",
    "print(alpha2)\n",
    "for i in name:\n",
    "    \n",
    "    if i in alpha_a:\n",
    "        count += alpha_a.index(i)+1\n",
    "    else:\n",
    "        count += alpha_z.index(i)+2\n",
    "print(count-1)\n"
   ],
   "outputs": [
    {
     "output_type": "stream",
     "name": "stdout",
     "text": [
      "ZYXWVUTSRQPON\n",
      "NOPQRSTUVWXYZ\n",
      "74\n"
     ]
    }
   ],
   "metadata": {}
  },
  {
   "cell_type": "markdown",
   "source": [
    "(탐욕법) 구명 보트"
   ],
   "metadata": {}
  },
  {
   "cell_type": "code",
   "execution_count": 294,
   "source": [
    "people = [70, 50, 80]\n",
    "limit = 100\n",
    "\n",
    "\n",
    "# 성훈이\n",
    "def solution(people, limit):\n",
    "    sum_limit = 0\n",
    "    people.sort()\n",
    "    answer = 0\n",
    "    while len(people) != 0:\n",
    "        sum_limit = people.pop()\n",
    "        answer += 1\n",
    "        if len(people) ==0:\n",
    "            break\n",
    "        elif limit - sum_limit >= people[0]:\n",
    "            people.pop(0)\n",
    "    return answer\n",
    "print(solution(people, limit))\n",
    "\n",
    "\n",
    "# indexing\n",
    "def solution(people, limit):\n",
    "    answer = 0\n",
    "    start = 0\n",
    "    end = len(people) -1\n",
    "    while end>=start:\n",
    "        if people[start] + people[end] <= limit:\n",
    "            start += 1\n",
    "        end -= 1\n",
    "        answer += 1\n",
    "    return answer\n"
   ],
   "outputs": [
    {
     "output_type": "stream",
     "name": "stdout",
     "text": [
      "[80, 70]\n",
      "[80, 50]\n",
      "[70, 50]\n",
      "3\n"
     ]
    }
   ],
   "metadata": {
    "tags": []
   }
  },
  {
   "cell_type": "code",
   "execution_count": 162,
   "source": [
    "from collections import deque\n",
    "c= '12345'\n",
    "b =[0,1,2,3]\n",
    "b = deque(b)\n",
    "temp = [4,5,6]\n",
    "b.appendleft(temp)\n",
    "# temp = deque(temp)\n",
    "print(b)\n",
    "print(b.popleft())\n",
    "\n",
    "    # b가 4개니까 4번하고 멈춤\n"
   ],
   "outputs": [
    {
     "output_type": "stream",
     "name": "stdout",
     "text": [
      "deque([[4, 5, 6], 0, 1, 2, 3])\n",
      "[4, 5, 6]\n"
     ]
    }
   ],
   "metadata": {}
  },
  {
   "cell_type": "markdown",
   "source": [
    "(탐욕법) 큰 수 만들기"
   ],
   "metadata": {}
  },
  {
   "cell_type": "code",
   "execution_count": 347,
   "source": [
    "\n",
    "# number = \"1924\"\n",
    "# k = 2\t\n",
    "\n",
    "# number = \"1231234\"\n",
    "# k =3\n",
    "\n",
    "# number = \"4177252841\"\n",
    "# k =4\n",
    "\n",
    "number = \"4177252841\"\n",
    "k = 4\n",
    "\n",
    "\n",
    "# 런타인 에러 10\n",
    "def solution(number, k):\n",
    "    answer = []\n",
    "    \n",
    "    number = list(map(int,number))\n",
    "    answer.append(number.pop(0))\n",
    "    \n",
    "    while len(number):\n",
    "        if len(answer) == 0:\n",
    "            answer.append(number.pop(0))\n",
    "\n",
    "        elif answer[-1] < number[0]:\n",
    "            answer.pop()\n",
    "            k -= 1\n",
    "            \n",
    "            if k == 0:\n",
    "                answer.append(number.pop(0))\n",
    "                answer += number\n",
    "                break\n",
    "        else:\n",
    "            answer.append(number.pop(0))\n",
    "\n",
    "    answer = ''.join(map(str,answer[:len(answer)-k]))\n",
    "    return answer\n",
    "print(solution(number, k))\n",
    "\n",
    "# 정답\n",
    "# def solution(number, k):\n",
    "\n",
    "#     number = list(map(int,number))\n",
    "#     stack = [number.pop(0)]\n",
    "\n",
    "#     for i in number:\n",
    "#         while len(stack)>0 and stack[-1]< i and k>0:\n",
    "#             stack.pop()\n",
    "#             k -= 1\n",
    "#         stack.append(i)\n",
    "    \n",
    "#     if k != 0:\n",
    "#         stack = stack[:-k]\n",
    "\n",
    "#     answer = list(map(str,stack))\n",
    "#     answer = ''.join(answer)\n",
    "#     return answer\n",
    "\n",
    "# print(solution(number, k))"
   ],
   "outputs": [
    {
     "output_type": "stream",
     "name": "stdout",
     "text": [
      "775841\n"
     ]
    }
   ],
   "metadata": {}
  },
  {
   "cell_type": "markdown",
   "source": [
    "(탐욕법) 섬 연결하기"
   ],
   "metadata": {}
  },
  {
   "cell_type": "code",
   "execution_count": 362,
   "source": [
    "n = 4\t\r\n",
    "costs =\t[[0,1,1],[0,2,2],[1,2,5],[1,3,1],[2,3,8]]\r\n",
    "\r\n",
    "def solution(n, costs):\r\n",
    "    # kruskal algorithm\r\n",
    "    ans = 0\r\n",
    "    costs.sort(key = lambda x: x[2]) # cost 기준으로 오름차순 정렬\r\n",
    "    routes = set([costs[0][0]]) # cost가 가장 작은 섬부터 시작\r\n",
    "    while len(routes)!=n: # routes = n 이 되면 모든 섬이 연결된 것\r\n",
    "        for i, cost in enumerate(costs): # cost 기준으로 오름차순 정렬에 인덱스를 부여\r\n",
    "            if cost[0] in routes and cost[1] in routes: # cost[0]과 cost[1]이 routes 안에 있다면 이 두 섬은 이미 이어져 있는 것\r\n",
    "                continue\r\n",
    "            if cost[0] in routes or cost[1] in routes: # 하나만 있다면 이 두 섬은 이을 수 있는 상태\r\n",
    "                routes.update([cost[0], cost[1]]) # update는 집합(set)에 여러 개의 값을 한꺼번에 추가할 때 쓰는 것. 한 개 추가는 add를 사용\r\n",
    "                ans += cost[2] # 2번 인덱스는 [0,1,1] 에서 cost를 의미하는 맨 뒤 1이므로 ans에 추가해서 카운팅\r\n",
    "                #costs[i] = [-1, -1, -1] # i 번째 cost는 모두 사용 했으므로, 똥 값 처리 ( if 문 지나칠 수 있게)\r\n",
    "                del(costs[i])\r\n",
    "                print(costs)\r\n",
    "                # del(costs[i])이 조금 더 빠름. costs에서 delete해서 for 구문이 덜 돌음.\r\n",
    "                break\r\n",
    "    return ans\r\n",
    "\r\n",
    "print(solution(n, costs))"
   ],
   "outputs": [
    {
     "output_type": "stream",
     "name": "stdout",
     "text": [
      "[[1, 3, 1], [0, 2, 2], [1, 2, 5], [2, 3, 8]]\n",
      "[[0, 2, 2], [1, 2, 5], [2, 3, 8]]\n",
      "[[1, 2, 5], [2, 3, 8]]\n",
      "4\n"
     ]
    }
   ],
   "metadata": {}
  },
  {
   "cell_type": "markdown",
   "source": [
    "(탐욕법)  단속카메라"
   ],
   "metadata": {}
  },
  {
   "cell_type": "code",
   "execution_count": 407,
   "source": [
    "def solution(routes):\r\n",
    "    camera = 1 # 시작할 때 찍히는 차량\r\n",
    "    routes.sort(key=lambda x : x[1]) # 출구 거리가 가까운 순서대로 정렬\r\n",
    "    cars = set([0]) # 카메라를 만난 자동차들\r\n",
    "    end_point = routes[0][1]   # 가장 가까운 출구(end point)\r\n",
    "\r\n",
    "    while len(cars) != len(routes): # 두 개가 같아지면 cars은 카메라를 모두 만난 것\r\n",
    "\r\n",
    "        for i in range(len(cars),len(routes)): # 시작 len(cars)는 통과된 차량은 빼고 통과하지 못한 차량부터 다시 카운트\r\n",
    "\r\n",
    "            if routes[i][0] <= end_point <= routes[i][1]: # 가장 가까운 출구 위치가 route 안에 포함되는 차량은 그 지점에 카메라를 놓으면 해당 차량들은 모두 카메라를 만나게 됨\r\n",
    "                cars.update([i]) # 그래서 카메라를 만난 차량들 업데이트\r\n",
    "            else:\r\n",
    "                camera += 1 # 그렇지 않으면 현재까지 한대의 카메라로 여러 차량이 통과했기 때문에 카메라 갯수 +1\r\n",
    "                end_point = routes[i][1] # 통과하지 못한 차량의 출구 위치를 end point 로 재설정\r\n",
    "                break\r\n",
    "\r\n",
    "    return camera\r\n",
    "\r\n",
    "routes = [[-20,15], [-14,-5], [-18,-13], [-5,-3]]\r\n",
    "print(solution(routes))"
   ],
   "outputs": [
    {
     "output_type": "stream",
     "name": "stdout",
     "text": [
      "2\n"
     ]
    }
   ],
   "metadata": {
    "tags": []
   }
  },
  {
   "cell_type": "code",
   "execution_count": 367,
   "source": [
    "a=set([1])\r\n",
    "print(a)\r\n"
   ],
   "outputs": [
    {
     "output_type": "stream",
     "name": "stdout",
     "text": [
      "{1}\n"
     ]
    }
   ],
   "metadata": {}
  },
  {
   "cell_type": "code",
   "execution_count": 350,
   "source": [
    "str_list = ['좋은하루','good_morning','굿모닝','niceday']\n",
    "print(sorted(str_list, key=len))  # 함수\n",
    "print(sorted(str_list, key=lambda x : x[0]))  # 람다\n",
    "print(sorted(str_list, key=lambda x : x[1]))  # 람다"
   ],
   "outputs": [
    {
     "output_type": "stream",
     "name": "stdout",
     "text": [
      "['굿모닝', '좋은하루', 'niceday', 'good_morning']\n",
      "['good_morning', 'niceday', '굿모닝', '좋은하루']\n",
      "['niceday', 'good_morning', '굿모닝', '좋은하루']\n"
     ]
    }
   ],
   "metadata": {}
  },
  {
   "cell_type": "markdown",
   "source": [
    "(동적계획법) N으로 표현"
   ],
   "metadata": {}
  },
  {
   "cell_type": "code",
   "execution_count": 2,
   "source": [
    "def solution(N, number):\n",
    "    if N == number: # N과 number 가 같으면 최솟값은 1\n",
    "        return 1\n",
    "        \n",
    "    s = [ set() for x in range(8) ] # 리스트 안에 집합으로 초기화\n",
    "    # [set(), set(), set(), set(), set(), set(), set(), set()]\n",
    "\n",
    "\n",
    "\n",
    "    # 같은 수를 여러번 사용해서 만들 수 있는 수\n",
    "    for i,x in enumerate(s, start=1):   # 문자열에 0을 곱하면 '' 없음이 됨. 그래서 start = 1 부터\n",
    "        x.add( int( str(N) * i ) )  # N * i 로 초기화\n",
    "\n",
    "    # 사칙연산을 통해 만들 수 있는 수\n",
    "    for i in range(1, 8):\n",
    "        for j in range(i):\n",
    "            for op1 in s[j]:\n",
    "                for op2 in s[i-j-1]:\n",
    "                    s[i].add(op1 + op2)\n",
    "                    s[i].add(op1 - op2)\n",
    "                    s[i].add(op1 * op2)\n",
    "                    print(s)\n",
    "                    if op2 != 0:\n",
    "                        s[i].add(op1 // op2)\n",
    "\n",
    "        if  number in s[i]: # 같은 수 중복, 1번 조합 2번 조합 ... 해서 일치하는 것 찾기\n",
    "            answer = i + 1  # 인덱스로 카운트하니까 조합된 수는 +1 해줘야함\n",
    "            break\n",
    "\n",
    "    else:\n",
    "        answer = -1\n",
    "\n",
    "    return answer\n",
    "# N=5\n",
    "# number=12\n",
    "# print(solution(N,number))"
   ],
   "outputs": [],
   "metadata": {}
  },
  {
   "cell_type": "markdown",
   "source": [
    "(동적계획법) 정수 삼각형"
   ],
   "metadata": {}
  },
  {
   "cell_type": "code",
   "execution_count": null,
   "source": [
    "# 풀이 1\n",
    "def solution(triangle):\n",
    "    for rows in range(1, len(triangle)):    # 꼭대기 층인 0은 이미 누적이라 생각하고 1부터  시작\n",
    "        for idx in range(rows + 1): #1층은 아래 2개 2층은 아래 3개 3층은 아래가 4개이기에 row + 1\n",
    "            if idx == 0:    # 왼쪽 끝\n",
    "                triangle[rows][idx] += triangle[rows-1][idx]\n",
    "            elif idx == rows:   # 오른쪽 끝\n",
    "                triangle[rows][idx] += triangle[rows-1][-1]\n",
    "            else:   # 가운데는 max 값을 기준으로 더해줌\n",
    "                triangle[rows][idx] += max(triangle[rows-1][idx-1], triangle[rows-1][idx])\n",
    "    print(triangle[-1])\n",
    "\treturn max(triangle[-1])   # 맨 마지막 행은 맨 아래층이기 때문에 여기서 max 값을 찾으면 된다.\n",
    "# triangle = [[7], [3, 8], [8, 1, 0], [2, 7, 4, 4], [4, 5, 2, 6, 5]]\n",
    "# 풀이 2\n",
    "solution = lambda t, l = []: max(l) if not t else solution(t[1:], [max(x,y)+z for x,y,z in zip([0]+l, l+[0], t[0])])\n",
    "# 한 층씩 제거하며, 그 층에서 계산한 최대 이동거리 배열을 계산하여, 한 층을 제거한 traingle을 첫번째 input, \n",
    "# 이동거리 배열을 두 번째 input으로 넣어줍니다. 2. 따라서 traingle이 없으면 제거할 층이 없으므로 최종 조건\n",
    "# [0] + l, l + [0] 을 이용하여 모서리 조건을 해결"
   ],
   "outputs": [],
   "metadata": {}
  },
  {
   "cell_type": "markdown",
   "source": [
    "(동적계획법) 등굣길"
   ],
   "metadata": {}
  },
  {
   "cell_type": "code",
   "execution_count": 46,
   "source": [
    "def solution(m, n, puddles):\n",
    "\n",
    "    map = [[0]*m for _ in range(n)] # nxm 행렬을 0으로\n",
    "\n",
    "    map[0][0]=1\n",
    "\n",
    "    for i in range(n):\n",
    "        for j in range(m):\n",
    " \n",
    "            if [i+1,j+1] in puddles:\n",
    "                map[i][j]=0\n",
    "            elif i!=0 or j!=0: # i, j != 0  \n",
    "\n",
    "                map[i][j]=map[i-1][j]+map[i][j-1] #음수니까 끝부분을 더해주는 것인데 어차피 0이라서 상관없음\n",
    "                print(map)\n",
    "\n",
    "    return map[n-1][m-1]%1000000007 #(3,2) 면 [2][3] 이기 때문\n",
    "\n",
    "\n",
    "print(solution(4, 4, [[2,2]]))\n",
    "\n",
    "\n",
    "# 재귀함수로 돌렸는데 어떻게 한 거?\n",
    "def solution(m, n, puddles):\n",
    "    answer = 0\n",
    "    info = dict([((2, 1), 1), ((1, 2), 1)])\n",
    "    for puddle in puddles:\n",
    "        info[tuple(puddle)] = 0\n",
    "\n",
    "    def func(m, n):\n",
    "        if m < 1 or n < 1:\n",
    "            return 0\n",
    "        if (m, n) in info:\n",
    "            return info[(m, n)]\n",
    "        return info.setdefault((m, n), func(m - 1, n) + func(m, n - 1))\n",
    "    return  func(m, n) % 1000000007"
   ],
   "outputs": [
    {
     "output_type": "stream",
     "name": "stdout",
     "text": [
      "[[1, 1, 0, 0], [0, 0, 0, 0], [0, 0, 0, 0], [0, 0, 0, 0]]\n",
      "[[1, 1, 1, 0], [0, 0, 0, 0], [0, 0, 0, 0], [0, 0, 0, 0]]\n",
      "[[1, 1, 1, 1], [0, 0, 0, 0], [0, 0, 0, 0], [0, 0, 0, 0]]\n",
      "[[1, 1, 1, 1], [1, 0, 0, 0], [0, 0, 0, 0], [0, 0, 0, 0]]\n",
      "[[1, 1, 1, 1], [1, 0, 1, 0], [0, 0, 0, 0], [0, 0, 0, 0]]\n",
      "[[1, 1, 1, 1], [1, 0, 1, 2], [0, 0, 0, 0], [0, 0, 0, 0]]\n",
      "[[1, 1, 1, 1], [1, 0, 1, 2], [1, 0, 0, 0], [0, 0, 0, 0]]\n",
      "[[1, 1, 1, 1], [1, 0, 1, 2], [1, 1, 0, 0], [0, 0, 0, 0]]\n",
      "[[1, 1, 1, 1], [1, 0, 1, 2], [1, 1, 2, 0], [0, 0, 0, 0]]\n",
      "[[1, 1, 1, 1], [1, 0, 1, 2], [1, 1, 2, 4], [0, 0, 0, 0]]\n",
      "[[1, 1, 1, 1], [1, 0, 1, 2], [1, 1, 2, 4], [1, 0, 0, 0]]\n",
      "[[1, 1, 1, 1], [1, 0, 1, 2], [1, 1, 2, 4], [1, 2, 0, 0]]\n",
      "[[1, 1, 1, 1], [1, 0, 1, 2], [1, 1, 2, 4], [1, 2, 4, 0]]\n",
      "[[1, 1, 1, 1], [1, 0, 1, 2], [1, 1, 2, 4], [1, 2, 4, 8]]\n",
      "8\n"
     ]
    }
   ],
   "metadata": {}
  },
  {
   "cell_type": "markdown",
   "source": [
    "(동적계획법)) 도둑질"
   ],
   "metadata": {}
  },
  {
   "cell_type": "code",
   "execution_count": 31,
   "source": [
    "def solution(money:int) -> int :    # Type hint\r\n",
    "    \"\"\"     \r\n",
    "    Args:\r\n",
    "        money (int): list of money\r\n",
    "\r\n",
    "    Raise:\r\n",
    "        에러날 상황이 있으면 기재\r\n",
    "\r\n",
    "    Return:\r\n",
    "        int: return  number\r\n",
    "        \r\n",
    "    Example:\r\n",
    "        number = 4, 5 etc\r\n",
    "    \"\"\"                             # Docstring\r\n",
    "\r\n",
    "    dp1 = [0] * len(money)\r\n",
    "    dp1[0] = money[0]   # 무조건 첫집을 털겠다\r\n",
    "    dp1[1] = max(money[0], money[1])\r\n",
    "    dp1[1] = money[0]\r\n",
    "\r\n",
    "    for i in range(2, len(money)-1): # 마지막 집은 보지 않겠다.\r\n",
    "        dp1[i] = max(dp1[i-1], money[i]+dp1[i-2])\r\n",
    "\r\n",
    "    dp2 = [0] * len(money)\r\n",
    "    dp2[0] = 0\r\n",
    "    dp2[1] = money[1]\r\n",
    "\r\n",
    "    for i in range(2, len(money)): # 마지막 집까지 확인하겠다.\r\n",
    "        dp2[i] = max(dp2[i-1], money[i]+dp2[i-2])\r\n",
    "\r\n",
    "    return max(max(dp1), max(dp2)) # 두 경우 중 최대\r\n",
    "\r\n"
   ],
   "outputs": [
    {
     "output_type": "stream",
     "name": "stdout",
     "text": [
      "dp1 : [1, 1, 101, 101, 111, 0]\n",
      "dp2 : [0, 1, 100, 100, 110, 200]\n",
      "200\n"
     ]
    }
   ],
   "metadata": {}
  },
  {
   "cell_type": "markdown",
   "source": [
    "(깊이/너비 우선 탐색) 타겟 넘버"
   ],
   "metadata": {}
  },
  {
   "cell_type": "code",
   "execution_count": 47,
   "source": [
    "def solution(numbers, target):\r\n",
    "    answer = []\r\n",
    "    answer.append(numbers[0])\r\n",
    "    answer.append(-numbers[0])\r\n",
    "    for i in range(len(answer)):\r\n",
    "        for number in numbers:\r\n",
    "            answer[i] += number\r\n",
    "\r\n",
    "\r\n",
    "    return answer\r\n",
    "\r\n",
    "numbers = [1, 1, 1, 1, 1]\t\t\r\n",
    "target = 3\r\n",
    "print(solution(numbers, target))\r\n",
    "\r\n",
    "# 중복순열로\r\n",
    "from itertools import product\r\n",
    "def solution(numbers, target):\r\n",
    "    l = [(x, -x) for x in numbers]\r\n",
    "    s = list(map(sum, product(*l))) # 이게 의미하는 게 뭐야?\r\n",
    "    return s.count(target)\r\n",
    "numbers = [1, 1, 1, 1, 1]\t\t\r\n",
    "target = 3\r\n",
    "print(solution(numbers, target))\r\n",
    "\r\n",
    "# bfs\r\n",
    "import collections\r\n",
    "\r\n",
    "def solution(numbers, target):\r\n",
    "    answer = 0\r\n",
    "    stack = collections.deque([(0, 0)])\r\n",
    "    while stack:\r\n",
    "        current_sum, num_idx = stack.popleft()\r\n",
    "\r\n",
    "        if num_idx == len(numbers):\r\n",
    "            if current_sum == target:\r\n",
    "                answer += 1\r\n",
    "        else:\r\n",
    "            number = numbers[num_idx]\r\n",
    "            stack.append((current_sum+number, num_idx + 1))\r\n",
    "            stack.append((current_sum-number, num_idx + 1))\r\n",
    "\r\n",
    "    return answer\r\n",
    "\r\n",
    "# dfs\r\n",
    "\r\n",
    "answer = 0\r\n",
    "def DFS(idx, numbers, target, value):\r\n",
    "    global answer\r\n",
    "    N = len(numbers)\r\n",
    "    if(idx== N and target == value):\r\n",
    "        answer += 1\r\n",
    "        return\r\n",
    "    if(idx == N):\r\n",
    "        return\r\n",
    "\r\n",
    "    DFS(idx+1,numbers,target,value+numbers[idx])\r\n",
    "    DFS(idx+1,numbers,target,value-numbers[idx])\r\n",
    "\r\n",
    "def solution(numbers, target):\r\n",
    "    global answer\r\n",
    "    DFS(0,numbers,target,0)\r\n",
    "    return answer"
   ],
   "outputs": [
    {
     "output_type": "stream",
     "name": "stdout",
     "text": [
      "[6, 4]\n",
      "5\n"
     ]
    }
   ],
   "metadata": {}
  },
  {
   "cell_type": "markdown",
   "source": [
    "(깊이/너비 우선탐색) 네트워크"
   ],
   "metadata": {}
  },
  {
   "cell_type": "code",
   "execution_count": 1,
   "source": [
    "# dfs\n",
    "def solution(n: int, computers: int) -> int:\n",
    "    \"\"\"\n",
    "    Args:\n",
    "        n (int): 컴퓨터 수\n",
    "        computers (int): 2차원 list\n",
    "\n",
    "    Raise:\n",
    "        에러날 상황이 있으면 기재\n",
    "\n",
    "    Return:\n",
    "        int: return  answer\n",
    "        \n",
    "    Example:\n",
    "        answer = 1, 2 etc\n",
    "    \n",
    "    \"\"\"\n",
    "    answer = 0\n",
    "    visited = [False for i in range(n)] # 갯수만큼 다 False로 지정. 사실 while을 안써서 True, False는 상관없음\n",
    "    for com in range(n):\n",
    "        if visited[com] == False:   # 특정 컴퓨터 번호가 연결이 안되어있으면 DFS를 호출하고 answer +1로 카운팅\n",
    "            DFS(n, computers, com, visited)\n",
    "            answer += 1 #DFS로 최대한 컴퓨터들을 방문하고 빠져나오게 되면 그것이 하나의 네트워크.\n",
    "    return answer\n",
    "\n",
    "\n",
    "def DFS(n : int, computers : int, com : int , visited : int)-> int:\n",
    "    \"\"\"\n",
    "    Args:\n",
    "        n (int): 컴퓨터 수\n",
    "        computers (int): 네트워크 정보가 있는 2차원 list\n",
    "        com (int): 컴퓨터 번호\n",
    "        visited (int): 방문된 컴퓨터 list\n",
    "\n",
    "    Return:\n",
    "        재귀적으로 계산\n",
    "    \"\"\"\n",
    "    visited[com] = True # 카운팅 했으니 해당 컴퓨터 번호는 True\n",
    "    for connect in range(n):\n",
    "        if connect != com and computers[com][connect] == 1: # (x,x) 가 아니고 = (컴퓨터 번호가 동일하지 않고), 해당 컴퓨터가 이미 연결되어 있으면\n",
    "            if visited[connect] == False:   # 사실상 연결된 것인데 연결 안된걸 찾으면 재귀적으로 돌아가서 해당 컴퓨터 번호는 True 변경\n",
    "                DFS(n, computers, connect, visited)\n",
    "\n",
    "\n",
    "# bfs\n",
    "def solution(n, computers):\n",
    "    answer = 0\n",
    "    visited = [False for i in range(n)]\n",
    "    for com in range(n):\n",
    "        if visited[com] == False:\n",
    "            BFS(n, computers, com, visited)\n",
    "            answer += 1\n",
    "    return answer\n",
    "\n",
    "def BFS(n, computers, com, visited):\n",
    "    visited[com] = True\n",
    "    queue = []\n",
    "    queue.append(com)\n",
    "    while len(queue) != 0:\n",
    "        com = queue.pop(0)\n",
    "        visited[com] = True\n",
    "        for connect in range(n):\n",
    "            if connect != com and computers[com][connect] == 1:\n",
    "                if visited[connect] == False:\n",
    "                    queue.append(connect)\n",
    "\n",
    "\n",
    "# 짧은 코드\n",
    "def solution(n, computers):\n",
    "    answer = 0\n",
    "    bfs = []\n",
    "    visited = [0]*n\n",
    "\n",
    "    while 0 in visited:\n",
    "        bfs.append(visited.index(0))\n",
    "        while bfs:\n",
    "            node = bfs.pop(0)\n",
    "            visited[node] = 1\n",
    "            for i in range(n):\n",
    "                if visited[i] == 0 and computers[node][i] == 1:\n",
    "                    bfs.append(i)\n",
    "        answer += 1\n",
    "    return answer"
   ],
   "outputs": [],
   "metadata": {}
  },
  {
   "cell_type": "markdown",
   "source": [
    "(DFS/BFS) 단어 변환"
   ],
   "metadata": {}
  },
  {
   "cell_type": "code",
   "execution_count": 1,
   "source": [
    "from collections import deque\n",
    "\n",
    "def get_adjacent(current, words) -> None:\n",
    "    \"\"\"\n",
    "    Args:\n",
    "        current (str): 현재 단어\n",
    "        word (str): 단어 리스트\n",
    "\n",
    "    Return:\n",
    "        재귀\n",
    "    \"\"\"\n",
    "    for word in words:\n",
    "        if len(current) != len(word):\n",
    "            continue\n",
    "\n",
    "        count = 0\n",
    "        for c, w in zip(current, word):\n",
    "            if c != w:\n",
    "                count += 1\n",
    "\n",
    "        if count == 1:\n",
    "            # for문 종료안하고 return 값으로 word 보내줌\n",
    "            yield word\n",
    "\n",
    "\n",
    "def solution(begin : str, target : str, words : str) -> int:\n",
    "    \"\"\"\n",
    "    Args:\n",
    "        begin (str): 시작 단어\n",
    "        target (str): 목표 단어\n",
    "        word (str): 단어 리스트\n",
    "\n",
    "    Return:\n",
    "        int: return dist\n",
    "    \"\"\"\n",
    "    dist = {begin: 0}\n",
    "    queue = deque([begin])\n",
    "\n",
    "    while queue:\n",
    "        # 현재 단어 추출\n",
    "        current = queue.popleft()\n",
    "\n",
    "        for next_word in get_adjacent(current, words):\n",
    "            if next_word not in dist:\n",
    "                dist[next_word] = dist[current] + 1\n",
    "                queue.append(next_word)\n",
    "\n",
    "    return dist.get(target, 0)\n",
    "\n",
    "\n",
    "\n",
    "\n",
    "# 재귀 안쓰고 다른 풀이\n",
    "def solution(begin, target, words):\n",
    "    answer = 0 #Depth\n",
    "    stacks = [begin]\n",
    "    visited = {i:0 for i in words} #이미 검사했던 단어를 다시 검사하지 않도록 하기 위한 딕셔너리\n",
    "    if target not in words:\n",
    "        return 0\n",
    "    while stacks:\n",
    "        stack = stacks.pop()\n",
    "        if stack == target:\n",
    "            return answer\n",
    "        \n",
    "        for word in words:\n",
    "            for i in range(len(word)):\n",
    "                copy = list(word)\n",
    "                copy_front = list(stack)\n",
    "                copy[i] = 0\n",
    "                copy_front[i] = 0\n",
    "                if copy == copy_front:\n",
    "                    if visited[word] != 0: #visited가 1이라면 이미 검사했던 단어므로 그냥 넘어간다.\n",
    "                        continue\n",
    "                    visited[word] = 1 #visited가 0이면 해당 단어의 visited 값을 1로 바꾼다.\n",
    "                    stacks.append(word)\n",
    "                    break\n",
    "        answer += 1 #Depth 1추가\n",
    "\n",
    "    return answer\n",
    "\n",
    "\n",
    "\n",
    "\n",
    "begin = \"hit\"\n",
    "target = \"cog\"\t\n",
    "words = [\"hot\", \"dot\", \"dog\", \"lot\", \"log\", \"cog\"]\n",
    "print(solution(begin, target, words))"
   ],
   "outputs": [
    {
     "output_type": "stream",
     "name": "stdout",
     "text": [
      "4\n"
     ]
    }
   ],
   "metadata": {}
  },
  {
   "cell_type": "markdown",
   "source": [
    "(DFS/BFS) 여행경로"
   ],
   "metadata": {}
  },
  {
   "cell_type": "code",
   "execution_count": 1,
   "source": [
    "# 스택으로\n",
    "def solution(tickets):\n",
    "    tickets.sort(reverse=True)\n",
    "    routes = dict()\n",
    "    for t1, t2 in tickets:\n",
    "        if t1 in routes:\n",
    "            routes[t1].append(t2)\n",
    "        else:\n",
    "            routes[t1] = [t2]\n",
    "    st = ['ICN']\n",
    "    ans = []\n",
    "    while st:\n",
    "        top = st[-1]\n",
    "        if top not in routes or len(routes[top])==0:\n",
    "            ans.append(st.pop())\n",
    "        else:\n",
    "            st.append(routes[top].pop())\n",
    "    ans.reverse()\n",
    "    return ans\n",
    "\n",
    "\n",
    "\n",
    "# DFS\n",
    "from collections import defaultdict\n",
    "# default 값이 int며 지정하지 않은 키는 0\n",
    "# default를 list로 줄 수도 있음.\n",
    "\n",
    "def solution(tickets):\n",
    "    answer = []\n",
    "    graph = defaultdict(list)\n",
    "    for dept, arrv in sorted(tickets):\n",
    "        graph[dept].append(arrv)\n",
    "    \n",
    "    def dfs(dept):\n",
    "        while graph[dept]:\n",
    "            dfs(graph[dept]).pop(0)\n",
    "        answer.append(dept)\n",
    "    dfs('ICN')\n",
    "    return answer[::-1]\n",
    "\n",
    "\n",
    "def solution(tickets):\n",
    "    tickets.sort(reverse=True)\n",
    "    routes = dict()\n",
    "    for t1, t2 in tickets:\n",
    "        if t1 in routes:\n",
    "            routes[t1].append(t2)\n",
    "        else:\n",
    "            routes[t1] = [t2]\n",
    "    st = ['ICN']\n",
    "    ans = []\n",
    "    while st:\n",
    "        top = st[-1]\n",
    "        if top not in routes or len(routes[top])==0:\n",
    "            ans.append(st.pop())\n",
    "        else:\n",
    "            st.append(routes[top].pop())\n",
    "    ans.reverse()\n",
    "    return ans\n",
    "\n",
    "\n",
    "\n",
    "# DFS 긴 코드 \n",
    "# 함수 안에 DFS 정의\n",
    "def solution(tickets): \n",
    "    answer = [] # start 지점부터 tickets 내에서 used_ticket에 없는(사용하지 않은) 항공권들로 여행경로 찾기 \n",
    "    def DFS(tickets, start, used_ticket): # start에서 다음으로 이동할 공항 찾기 \n",
    "        for i in range(len(tickets)): # 출발 공항이 start와 같고, 사용하지 않은 항공권인 경우 \n",
    "            if tickets[i][0] == start and i not in used_ticket: \n",
    "                used_ticket.append(i) # 항공권 사용 체크 \n",
    "                DFS(tickets, tickets[i][1], used_ticket) # 도착 항공에서부터 다음 여행경로 찾기 \n",
    "                # 항공권을 모두 사용한 경우 DFS 종료 \n",
    "                if len(used_ticket) == len(tickets): \n",
    "                    return \n",
    "                    # 도착 항공에서부터 다음 여행 경로를 찾았음에도 항공권을 모두 사용하지 않은 것은 \n",
    "                    # 해당 항공권을 지금 사용하는 것이 맞지 않으므로 used_ticket에서 삭제\n",
    "                else: \n",
    "                    used_ticket.pop() \n",
    "\n",
    "    new_tickets = sorted(tickets, key=lambda x: (x[0], x[1])) # 항공권 오름차순 정렬 \n",
    "    used_ticket = [] # 사용한 항공권 index 저장하는 list \n",
    "    DFS(new_tickets, \"ICN\", used_ticket) # ICN을 시작으로 DFS 수행 \n",
    "    # 거쳐간 공항을 answer에 저장 \n",
    "    answer = [\"ICN\"] \n",
    "    for ticket_num in used_ticket: \n",
    "        answer.append(new_tickets[ticket_num][1]) \n",
    "\n",
    "    return answer"
   ],
   "outputs": [],
   "metadata": {}
  },
  {
   "cell_type": "markdown",
   "source": [
    "(이분탐색) 입국심사"
   ],
   "metadata": {}
  },
  {
   "cell_type": "code",
   "execution_count": 5,
   "source": [
    "n = 6\n",
    "times = [ 7, 10 ]\n",
    "sum(times)\n",
    "def solution(n: int, times: list)->int:\n",
    "    '''\n",
    "    Args:\n",
    "    n (int): 사람 수\n",
    "    times (list): 심사관들마다 걸리는 심사 시간\n",
    "\n",
    "    Return:\n",
    "        int: return short_time\n",
    "    '''\n",
    "    short_time = 1\n",
    "    long_time = max(times)*n\n",
    "\n",
    "    while short_time<long_time:\n",
    "        mid = (short_time+long_time)//2\n",
    "        count = 0\n",
    "        for i in times:\n",
    "            count += mid//i\n",
    "        if count >= n: # 몫이기 때문에 count == n이라고 가장 짧은 시간이 아니다.\n",
    "            long_time = mid\n",
    "        else :\n",
    "            short_time = mid + 1\n",
    "    return short_time\n"
   ],
   "outputs": [
    {
     "output_type": "stream",
     "name": "stdout",
     "text": [
      "[7, 10]\n"
     ]
    }
   ],
   "metadata": {}
  },
  {
   "cell_type": "markdown",
   "source": [
    "(이분탐색) 징검다리"
   ],
   "metadata": {}
  },
  {
   "cell_type": "code",
   "execution_count": null,
   "source": [
    "def solution(distance: int, rocks: list, n: int)->int:\n",
    "    '''\n",
    "    Args:\n",
    "        distance (int): 도착지점\n",
    "        rocks (list): 바위들\n",
    "        n (int): 사람 수\n",
    "\n",
    "    Return:\n",
    "        int: 거리의 최솟값 (최솟값 중 가장 큰 것)\n",
    "    '''\n",
    "    answer = 0\n",
    "    start = 0\n",
    "    end = distance\n",
    "    rocks.append(start)\n",
    "    rocks.append(end)\n",
    "    rocks.sort()\n",
    "    while start <= end:\n",
    "        \n",
    "        mid = (start + end)//2\n",
    "        min_distance = mid\n",
    "        current = 0\n",
    "        removed_rocks = 0\n",
    "\n",
    "        for rock in rocks[1:]:\n",
    "            current_distance = rock - current\n",
    "\n",
    "            if current_distance < mid:\n",
    "                removed_rocks += 1\n",
    "            else:\n",
    "                current = rock\n",
    "                \n",
    "        if removed_rocks > n:\n",
    "            end = mid - 1\n",
    "\n",
    "        else:\n",
    "            answer = min_distance\n",
    "            start = mid + 1\n",
    "    return answer\n",
    "\n",
    "    \n",
    "distance = 25\n",
    "rocks = [2, 14, 11, 21, 17]\n",
    "n =2\n",
    "print(solution(distance, rocks, n))\n"
   ],
   "outputs": [],
   "metadata": {}
  },
  {
   "cell_type": "markdown",
   "source": [
    "(그래프) 가장 먼 노드"
   ],
   "metadata": {}
  },
  {
   "cell_type": "code",
   "execution_count": null,
   "source": [
    "from collections import deque\n",
    "\n",
    "def bfs(v: int, visited: list, adj: list):\n",
    "    '''\n",
    "    Args:\n",
    "        v (int)\n",
    "        visited (list)\n",
    "        adj (list)\n",
    "    '''\n",
    "    count = 0\n",
    "    q = deque([[v, count]])\n",
    "    while q:\n",
    "        value = q.popleft()\n",
    "        v = value[0]\n",
    "        count = value[1]\n",
    "        if visited[v] == -1:\n",
    "            visited[v] = count\n",
    "            count += 1\n",
    "            for e in adj[v]:\n",
    "                q.append([e, count])\n",
    "\n",
    "def solution(n: int, edge: list)->int:\n",
    "    '''\n",
    "    Args:\n",
    "        n (int)\n",
    "        edge (list)\n",
    "    Return:\n",
    "        int: 가장 멀리 떨어진 노드 갯수\n",
    "    '''\n",
    "    answer = 0\n",
    "    visited = [-1] * (n + 1)\n",
    "    adj = [[] for _ in range(n + 1)]\n",
    "    for e in edge:\n",
    "        x = e[0]\n",
    "        y = e[1]\n",
    "        adj[x].append(y)\n",
    "        adj[y].append(x)\n",
    "    bfs(1, visited, adj)\n",
    "    for value in visited:\n",
    "        if value == max(visited):\n",
    "            answer += 1\n",
    "    return answer"
   ],
   "outputs": [],
   "metadata": {}
  },
  {
   "cell_type": "code",
   "execution_count": 2,
   "source": [
    "a =[[3, 6], [4, 3], [3, 2], [1, 3], [1, 2], [2, 4], [5, 2]]\n",
    "n = 6\n",
    "\n",
    "adj = [[] for _ in range(n + 1)]\n",
    "for e in a:\n",
    "    x = e[0]\n",
    "    y = e[1]\n",
    "    adj[x].append(y)\n",
    "    adj[y].append(x)\n",
    "print(adj)"
   ],
   "outputs": [
    {
     "output_type": "stream",
     "name": "stdout",
     "text": [
      "[[], [3, 2], [3, 1, 4, 5], [6, 4, 2, 1], [3, 2], [2], [3]]\n"
     ]
    }
   ],
   "metadata": {}
  },
  {
   "cell_type": "code",
   "execution_count": null,
   "source": [
    "# bfs\n",
    "\n",
    "import collections\n",
    "def solution(n, vertex):\n",
    "    dists = {i:0 for i in range(1, n+1)}  #(1)  \n",
    "    edge = collections.defaultdict(list)\n",
    "    \n",
    "    for v, u in vertex:                   #(2)\n",
    "        edge[v].append(u)\n",
    "        edge[u].append(v)\n",
    "        \n",
    "    q = collections.deque(edge[1])        #(3)\n",
    "    dist = 1 \n",
    "    while q:                              \n",
    "        for i in range(len(q)):\n",
    "            v = q.popleft()\n",
    "            \n",
    "            if dists[v] == 0:\n",
    "                dists[v] = dist\n",
    "                \n",
    "                for w in edge[v]:\n",
    "                    q.append(w)\n",
    "        dist += 1        \n",
    "    \n",
    "    del dists[1]                          #(4)\n",
    "    \n",
    "    max_value = max(dists.values())\n",
    "    \n",
    "    answer = 0\n",
    "    for v in dists.values():              #(5)\n",
    "        if v == max_value:\n",
    "            answer += 1\n",
    "        \n",
    "    return answer\n",
    "\n",
    "# 영준이 코드\n",
    "from collections import deque\n",
    "def solution(n, edge):\n",
    "    sorted_list=edge\n",
    "    sorted_list.sort() #start_node 오름차순 정렬\n",
    "\n",
    "    nodes=dict()\n",
    "    for (start, end) in sorted_list:\n",
    "        nodes[start] = nodes.get(start, []) + [end] # dictionary형태 저장\n",
    "        nodes[end] = nodes.get(end, [])+ [start]\n",
    "\n",
    "    connect = [False]*n\n",
    "    queue = deque()\n",
    "\n",
    "    connect[0]=True\n",
    "    queue.append(1)\n",
    "    \n",
    "    while queue:\n",
    "        answer=len(queue)\n",
    "        for i in range(answer):\n",
    "            here = queue.popleft()\n",
    "            for j in nodes[here]:\n",
    "                if connect[j-1]==False:\n",
    "                    connect[j-1]=True\n",
    "                    queue.append(j)\n",
    "    return answer"
   ],
   "outputs": [],
   "metadata": {}
  },
  {
   "cell_type": "code",
   "execution_count": null,
   "source": [
    "if len([i for i in range(0,len(words[w])) if words[w][i]!=stack[i]]) == 1:"
   ],
   "outputs": [],
   "metadata": {}
  },
  {
   "cell_type": "code",
   "execution_count": 27,
   "source": [
    "a = [[1,2,3],[2,2,4],[2,1,4]]\n",
    "b =reversed(sorted(a))\n",
    "for i in b:\n",
    "    print(i)\n",
    "\n",
    "weights = [50,82,75,120]\n",
    "weights.sort()\n",
    "print(weights[0])\n",
    "print(weights.index(weights[1]))"
   ],
   "outputs": [
    {
     "output_type": "stream",
     "name": "stdout",
     "text": [
      "[2, 2, 4]\n",
      "[2, 1, 4]\n",
      "[1, 2, 3]\n",
      "50\n",
      "1\n"
     ]
    }
   ],
   "metadata": {}
  },
  {
   "cell_type": "markdown",
   "source": [
    "(위클리 챌린지 6주차)"
   ],
   "metadata": {}
  },
  {
   "cell_type": "code",
   "execution_count": 19,
   "source": [
    "\n",
    "weights = [50,82,75,120]\n",
    "\n",
    "head2head = [\"NLWL\",\"WNLL\",\"LWNW\",\"WWLN\"]\n",
    "\n",
    "# weights =[145,92,86]\t\n",
    "# head2head = [\"NLW\",\"WNL\",\"LWN\"]\n",
    "\n",
    "n=len(weights)\n",
    "m=4\n",
    "result = [[0]*m for _ in range(n)]\n",
    "sort_weight = sorted(weights)\n",
    "\n",
    "for i in range(n):\n",
    "    total = n\n",
    "    for j in range(n):\n",
    "\n",
    "        # 1. 승률 \n",
    "        if head2head[i][j] == \"W\":\n",
    "            result[i][0] += 1\n",
    "\n",
    "            # 2. 상대가 높은 몸무게\n",
    "            if weights[i] < weights[j]:\n",
    "                result[i][1] += 1\n",
    "\n",
    "        elif head2head[i][j] == \"N\":\n",
    "            total -= 1\n",
    "    result[i][0] /= total\n",
    "\n",
    "    # 3. 자기 몸무게 \n",
    "    result[i][2] = sort_weight.index(weights[i])\n",
    "    \n",
    "    # 4. 현재 위치\n",
    "    result[i][3] = abs(i-4)\n",
    "    \n",
    "\n",
    "dic = {}\n",
    "for i in range(n):\n",
    "    dic[i+1]=result[i]\n",
    "\n",
    "# key는 item[0], value는 item[1]\n",
    "cccc = sorted(dic.items(), key=lambda item: item[1], reverse = True)\n",
    "answer = []\n",
    "for i in range(n):\n",
    "    answer.append(cccc[i][0])\n",
    "    \n",
    "\n",
    "print(answer)"
   ],
   "outputs": [
    {
     "output_type": "stream",
     "name": "stdout",
     "text": [
      "[3, 4, 1, 2]\n"
     ]
    }
   ],
   "metadata": {}
  },
  {
   "cell_type": "markdown",
   "source": [
    "(위클리 챌린지 1주차)"
   ],
   "metadata": {}
  },
  {
   "cell_type": "code",
   "execution_count": null,
   "source": [
    "def solution(price, money, count):\n",
    "    answer = 0\n",
    "    for i in range(count):\n",
    "        answer += price*(i+1)\n",
    "        \n",
    "    answer -= money\n",
    "\n",
    "    # 금액이 부족하지 않으면 0을 return\n",
    "    if answer <= 0:\n",
    "        answer = 0\n",
    "    \n",
    "    return answer"
   ],
   "outputs": [],
   "metadata": {}
  },
  {
   "cell_type": "markdown",
   "source": [
    "(위클리 챌린지 2주차)"
   ],
   "metadata": {}
  },
  {
   "cell_type": "code",
   "execution_count": null,
   "source": [
    "def grade_test(grade):\n",
    "    if grade >= 90:\n",
    "        result = 'A'\n",
    "    elif 80 <= grade < 90:\n",
    "        result = 'B'\n",
    "    elif 70 <= grade < 80:\n",
    "        result = 'C'\n",
    "    elif 50 <= grade < 70:\n",
    "        result = 'D'\n",
    "    else :\n",
    "        result = 'F'\n",
    "    return result\n",
    "\n",
    "def solution(scores):\n",
    "    result = ''\n",
    "    \n",
    "    for i in range(len(scores)):\n",
    "        tmp = []\n",
    "        for score in scores:\n",
    "            \n",
    "            tmp.append(score[i])\n",
    "            \n",
    "        high_score = max(tmp)\n",
    "        low_score = min(tmp)\n",
    "\n",
    "        if tmp.count(high_score)==1 and tmp[i]==high_score:\n",
    "            tmp.remove(high_score)\n",
    "            grade = sum(tmp)/len(tmp)\n",
    "            result += grade_test(grade)\n",
    "        elif tmp.count(low_score)==1 and tmp[i]==low_score:\n",
    "            tmp.remove(low_score)\n",
    "            grade = sum(tmp)/len(tmp)\n",
    "            result += grade_test(grade)\n",
    "        else:\n",
    "            grade = sum(tmp)/len(tmp)\n",
    "            result += grade_test(grade)\n",
    "            \n",
    "    return result"
   ],
   "outputs": [],
   "metadata": {}
  },
  {
   "cell_type": "code",
   "execution_count": null,
   "source": [],
   "outputs": [],
   "metadata": {}
  },
  {
   "cell_type": "code",
   "execution_count": 5,
   "source": [
    "a =[[60, 50], [30, 70], [60, 30], [80, 40]]\n",
    "print(a[1].sort())"
   ],
   "outputs": [
    {
     "output_type": "stream",
     "name": "stdout",
     "text": [
      "None\n"
     ]
    }
   ],
   "metadata": {}
  },
  {
   "cell_type": "markdown",
   "source": [
    "(위클리 챌린지 8주차)"
   ],
   "metadata": {}
  },
  {
   "cell_type": "code",
   "execution_count": 1,
   "source": [
    "def solution(sizes):\n",
    "\n",
    "    w = []\n",
    "    h = []\n",
    "    for size in sizes:\n",
    "        size.sort()\n",
    "        w.append(size[0])\n",
    "        h.append(size[1])\n",
    "    \n",
    "    \n",
    "    return max(w)*max(h)\n",
    "\n",
    "sizes = [[60, 50], [30, 70], [60, 30], [80, 40]]\n",
    "print(solution(sizes))"
   ],
   "outputs": [
    {
     "output_type": "stream",
     "name": "stdout",
     "text": [
      "4000\n"
     ]
    }
   ],
   "metadata": {}
  },
  {
   "cell_type": "code",
   "execution_count": 19,
   "source": [
    "size = [123,60]\n",
    "sizes = [[60, 50], [30, 70], ['바보'], [60, 30], [80, 40]]\n",
    "sum_test2 = [[60], [30], [30], [40]]\n",
    "\n",
    "b = sorted(size)\n",
    "\n",
    "size.pop(0)\n",
    "print(b)\n",
    "print(c)\n",
    "print(size)\n",
    "result = []\n",
    "for i in sum_test2:\n",
    "    result += i\n",
    "print(result)\n",
    "\n",
    "\n",
    "print(sum(sum_test2, []))\n",
    "print(sum(sizes, []))\n",
    "print(sizes+[])"
   ],
   "outputs": [
    {
     "output_type": "stream",
     "name": "stdout",
     "text": [
      "[60, 123]\n",
      "None\n",
      "[123]\n",
      "[60, 30, 30, 40]\n",
      "[60, 30, 30, 40]\n",
      "[60, 50, 30, 70, '바보', 60, 30, 80, 40]\n",
      "[[60, 50], [30, 70], ['바보'], [60, 30], [80, 40]]\n"
     ]
    }
   ],
   "metadata": {}
  },
  {
   "cell_type": "markdown",
   "source": [
<<<<<<< HEAD
    "(위클리 챌린지 8주차)"
=======
    "(백준 bfs 단지번호붙이기)"
>>>>>>> 106dc5b445343a6ba079af7751c78e94ab09818f
   ],
   "metadata": {}
  },
  {
   "cell_type": "code",
<<<<<<< HEAD
   "execution_count": null,
   "source": [],
   "outputs": [],
=======
   "execution_count": 13,
   "source": [
    "# graph = [[0110100],[0110101],[1110101],[0000111],[0100000],[0111110],[0111000]]\r\n",
    "# print(graph)\r\n",
    "a = [[0]*n for _ in range(n)]\r\n",
    "print(a)\r\n",
    "graph = [[0,1,1,0,1,0,0],[0,1,1,0,1,0,1],[1,1,1,0,1,0,1],[0,0,0,0,1,1,1],[0,1,0,0,0,0,0],[0,1,1,1,1,1,0],[0,1,1,1,0,0,0]]\r\n",
    "\r\n",
    "print(graph[1][1])"
   ],
   "outputs": [
    {
     "output_type": "stream",
     "name": "stdout",
     "text": [
      "[[0, 0, 0, 0, 0, 0, 0], [0, 0, 0, 0, 0, 0, 0], [0, 0, 0, 0, 0, 0, 0], [0, 0, 0, 0, 0, 0, 0], [0, 0, 0, 0, 0, 0, 0], [0, 0, 0, 0, 0, 0, 0], [0, 0, 0, 0, 0, 0, 0]]\n",
      "1\n"
     ]
    }
   ],
   "metadata": {}
  },
  {
   "cell_type": "code",
   "execution_count": 18,
   "source": [
    "n = 7\r\n",
    "num = []\r\n",
    "graph = [[0,1,1,0,1,0,0],[0,1,1,0,1,0,1],[1,1,1,0,1,0,1],[0,0,0,0,1,1,1],[0,1,0,0,0,0,0],[0,1,1,1,1,1,0],[0,1,1,1,0,0,0]]\r\n",
    "    \r\n",
    "dx = [0, 0, 1, -1]\r\n",
    "dy = [1, -1, 0, 0]\r\n",
    "\r\n",
    "def DFS(x,y):\r\n",
    "    if x < 0 or x >= n or y < 0 or y >= n:\r\n",
    "        return False\r\n",
    "\r\n",
    "    if graph[x][y] == 1:\r\n",
    "        global count\r\n",
    "        count += 1\r\n",
    "        graph[x][y] = 0\r\n",
    "        for i in range(4):\r\n",
    "            nx = x + dx[i]\r\n",
    "            ny = y + dy[i]\r\n",
    "            DFS(nx, ny)\r\n",
    "        return True\r\n",
    "    return False\r\n",
    "count = 0\r\n",
    "result = 0\r\n",
    "\r\n",
    "for i in range(n):\r\n",
    "    for j in range(n):\r\n",
    "        if DFS(i, j) == True:\r\n",
    "            num.append(count)\r\n",
    "            result += 1\r\n",
    "            count = 0\r\n",
    "\r\n",
    "print(result)\r\n",
    "print(num)"
   ],
   "outputs": [
    {
     "output_type": "stream",
     "name": "stdout",
     "text": [
      "3\n",
      "[7, 8, 9]\n"
     ]
    }
   ],
>>>>>>> 106dc5b445343a6ba079af7751c78e94ab09818f
   "metadata": {}
  },
  {
   "cell_type": "markdown",
   "source": [
    "SQL 테스트"
   ],
   "metadata": {}
  },
  {
   "cell_type": "markdown",
   "source": [
    "(SQL) 고양이와 개는 몇마리 있을까"
   ],
   "metadata": {}
  },
  {
   "cell_type": "code",
   "execution_count": null,
   "source": [
    "\n",
    "'''\n",
    "SELECT ANIMAL_TYPE, COUNT(ANIMAL_TYPE)\n",
    "FROM ANIMAL_INS\n",
    "GROUP BY ANIMAL_TYPE\n",
    "ORDER BY ANIMAL_TYPE\n",
    "'''\n"
   ],
   "outputs": [],
   "metadata": {}
  },
  {
   "cell_type": "markdown",
   "source": [
    "(SQL) 없어진 기록 찾기"
   ],
   "metadata": {}
  },
  {
   "cell_type": "code",
   "execution_count": null,
   "source": [
    "'''\n",
    "SELECT ANIMAL_OUTS.ANIMAL_ID, ANIMAL_OUTS.NAME\n",
    "FROM ANIMAL_OUTS\n",
    "LEFT OUTER JOIN ANIMAL_INS\n",
    "ON ANIMAL_OUTS.ANIMAL_ID = ANIMAL_INS.ANIMAL_ID\n",
    "WHERE ANIMAL_INS.ANIMAL_ID IS NULL\n",
    "ORDER BY ANIMAL_OUTS.ANIMAL_ID\n",
    "'''"
   ],
   "outputs": [],
   "metadata": {}
  },
  {
   "cell_type": "markdown",
   "source": [
    "(SQL) 동명 동물 수 찾기"
   ],
   "metadata": {}
  },
  {
   "cell_type": "code",
   "execution_count": null,
   "source": [
    "'''\n",
    "SELECT NAME, COUNT(NAME) AS 'COUNT'\n",
    "FROM ANIMAL_INS\n",
    "GROUP BY NAME\n",
    "HAVING COUNT(NAME) > 1\n",
    "ORDER BY NAME\n",
    "'''"
   ],
   "outputs": [],
   "metadata": {}
  },
  {
   "cell_type": "markdown",
   "source": [
    "(SQL) 입양 시각 구하기(1)"
   ],
   "metadata": {}
  },
  {
   "cell_type": "code",
   "execution_count": null,
   "source": [
    "-- 풀이 1 HAVING\n",
    "'''\n",
    "SELECT HOUR(DATETIME) HOUR, COUNT(DATETIME) COUNT\n",
    "FROM ANIMAL_OUTS\n",
    "GROUP BY HOUR\n",
    "HAVING HOUR>=9 AND HOUR<=19\n",
    "ORDER BY HOUR\n",
    "'''\n",
    "\n",
    "-- 풀이 2 BETWEEN\n",
    "'''\n",
    "SELECT HOUR(DATETIME) HOUR, COUNT(DATETIME) COUNT\n",
    "FROM ANIMAL_OUTS\n",
    "WHERE HOUR(DATETIME) BETWEEN 9 AND 19\n",
    "GROUP BY HOUR\n",
    "ORDER BY HOUR\n",
    "'''"
   ],
   "outputs": [],
   "metadata": {}
  },
  {
   "cell_type": "markdown",
   "source": [
    "(SQL) 입양 시각 구하기(2)"
   ],
   "metadata": {}
  },
  {
   "cell_type": "code",
   "execution_count": null,
   "source": [
    "-- 풀이 1\r\n",
    "'''\r\n",
    "SET @hour := -1;\r\n",
    "\r\n",
    "SELECT (@hour := @hour + 1) as HOUR,\r\n",
    "(SELECT COUNT(*) FROM ANIMAL_OUTS WHERE HOUR(DATETIME) = @hour) as COUNT\r\n",
    "FROM ANIMAL_OUTS\r\n",
    "WHERE @hour < 23\r\n",
    "'''"
   ],
   "outputs": [],
   "metadata": {}
  },
  {
   "cell_type": "markdown",
   "source": [
    "(SQL) NULL 처리 , IF 문"
   ],
   "metadata": {}
  },
  {
   "cell_type": "code",
   "execution_count": null,
   "source": [
    "'''\r\n",
    "SELECT ANIMAL_TYPE, IFNULL(NAME, 'NO name'), SEX_UPON_INTAKE\r\n",
    "FROM ANIMAL_INS\r\n",
    "ORDER BY ANIMAL_ID\r\n",
    "'''"
   ],
   "outputs": [],
   "metadata": {}
  },
  {
   "cell_type": "markdown",
   "source": [
    "(SQL) 오랜 기간 보호한 동물"
   ],
   "metadata": {}
  },
  {
   "cell_type": "code",
   "execution_count": null,
   "source": [
    "'''\r\n",
    "SELECT I.NAME, I.DATETIME\r\n",
    "FROM ANIMAL_INS I\r\n",
    "LEFT OUTER JOIN  ANIMAL_OUTS O\r\n",
    "ON I.ANIMAL_ID = O.ANIMAL_ID\r\n",
    "WHERE O.ANIMAL_ID IS NULL\r\n",
    "ORDER BY I.DATETIME\r\n",
    "LIMIT 3\r\n",
    "'''"
   ],
   "outputs": [],
   "metadata": {}
  },
  {
   "cell_type": "code",
   "execution_count": null,
   "source": [
    "(SQL) 오랜 기간 보호한 동물 2"
   ],
   "outputs": [],
   "metadata": {}
  },
  {
   "cell_type": "code",
   "execution_count": null,
   "source": [
    "-- 풀이 1\r\n",
    "'''\r\n",
    "SELECT I.ANIMAL_ID, I.NAME\r\n",
    "FROM ANIMAL_INS I \r\n",
    "LEFT OUTER JOIN ANIMAL_OUTS O\r\n",
    "ON I.ANIMAL_ID = O.ANIMAL_ID\r\n",
    "ORDER BY O.DATETIME-I.DATETIME DESC\r\n",
    "LIMIT 2\r\n",
    "'''\r\n",
    "\r\n",
    "-- 풀이 2\r\n",
    "'''\r\n",
    "SELECT I.ANIMAL_ID, I.NAME\r\n",
    "FROM ANIMAL_INS I ANIMAL_OUTS O\r\n",
    "WHERE I.ANIMAL_ID = O.ANIMAL_ID\r\n",
    "ORDER BY O.DATETIME-I.DATETIME DESC\r\n",
    "LIMIT 2\r\n",
    "'''"
   ],
   "outputs": [],
   "metadata": {}
  },
  {
   "cell_type": "markdown",
   "source": [
    "(SQL) 이름으로 찾기 IN"
   ],
   "metadata": {}
  },
  {
   "cell_type": "code",
   "execution_count": null,
   "source": [
    "'''\r\n",
    "SELECT ANIMAL_ID, NAME, SEX_UPON_INTAKE\r\n",
    "FROM ANIMAL_INS\r\n",
    "WHERE NAME IN ('Lucy', 'Ella', 'Pickle', 'Rogan', 'Sabrina', 'Mitty' ) \r\n",
    "ORDER BY ANIMAL_ID\r\n",
    "'''"
   ],
   "outputs": [],
   "metadata": {}
  },
  {
   "cell_type": "markdown",
   "source": [
    "(SQL) 단어 들어간 것 찾기 LIKE"
   ],
   "metadata": {}
  },
  {
   "cell_type": "code",
   "execution_count": null,
   "source": [
    "'''\r\n",
    "SELECT ANIMAL_ID, NAME\r\n",
    "FROM ANIMAL_INS\r\n",
    "WHERE NAME LIKE '%EL%' AND ANIMAL_TYPE = 'Dog'\r\n",
    "ORDER BY NAME\r\n",
    "'''"
   ],
   "outputs": [],
   "metadata": {}
  },
  {
   "cell_type": "markdown",
   "source": [
    "(SQL) CASE WHEN THEN ELSE END"
   ],
   "metadata": {}
  },
  {
   "cell_type": "code",
   "execution_count": null,
   "source": [
    "SELECT ANIMAL_ID, NAME, \r\n",
    "\r\n",
    "CASE\r\n",
    "WHEN SEX_UPON_INTAKE LIKE '%Neutered%' OR SEX_UPON_INTAKE LIKE '%Spayed%' \r\n",
    "THEN 'O'\r\n",
    "ELSE 'X'\r\n",
    "END '중성화'\r\n",
    "\r\n",
    "FROM ANIMAL_INS"
   ],
   "outputs": [],
   "metadata": {}
  },
  {
   "cell_type": "code",
   "execution_count": null,
   "source": [
    "-- (SQL) HIGHER THAN 75\r\n",
    "\r\n",
    "SELECT NAME FROM STUDENT WHERE MARKS > 75 ORDER BY RIGHT(NAME, 3), ID ASC;"
   ],
   "outputs": [],
   "metadata": {}
  },
  {
   "cell_type": "code",
   "execution_count": null,
   "source": [],
   "outputs": [],
   "metadata": {}
  },
  {
   "cell_type": "markdown",
   "source": [],
   "metadata": {}
  },
  {
   "cell_type": "markdown",
   "source": [],
   "metadata": {}
  },
  {
   "cell_type": "markdown",
   "source": [
    "코딩책"
   ],
   "metadata": {}
  },
  {
   "cell_type": "markdown",
   "source": [
    "(코테책) 플로이드워셔"
   ],
   "metadata": {}
  },
  {
   "cell_type": "code",
   "execution_count": null,
   "source": [
    "INF = int(1e9)\r\n",
    "\r\n",
    "n = int(input())\r\n",
    "m = int(input())\r\n",
    "\r\n",
    "graph = [[INF]*(n+1) for _ in range(n+1)]\r\n",
    "\r\n",
    "for a in range(1, n+1):\r\n",
    "    for b in range(1, n+1):\r\n",
    "        if a == b:\r\n",
    "            graph[a][b] = 0\r\n",
    "\r\n",
    "for _ in range(m):\r\n",
    "    a,b,c = map(int, input().split())\r\n",
    "    graph[a][b] = c\r\n",
    "\r\n",
    "for k in range(1, n+1):\r\n",
    "    for a in range(1, n+1):\r\n",
    "        for b in range(1, n+1):\r\n",
    "            graph[a][b] = min(graph[a][b], graph[a][k]+ graph[k][b])\r\n",
    "\r\n",
    "for a in range(1, n+1):\r\n",
    "    for b in range(1, n+1):\r\n",
    "        if graph[a][b] == INF:\r\n",
    "            print(\"INFINITY\", end = \" \")\r\n",
    "        else:\r\n",
    "            print(graph[a][b], end= \" \")\r\n",
    "    print()"
   ],
   "outputs": [],
   "metadata": {}
  },
  {
   "cell_type": "markdown",
   "source": [
    "(코테책) 다익스트라"
   ],
   "metadata": {}
  },
  {
   "cell_type": "code",
   "execution_count": null,
   "source": [
    "import heapq\r\n",
    "import sys\r\n",
    "\r\n",
    "input = sys.stdin.readline\r\n",
    "INF = int(1e9)\r\n",
    "#n = 6\r\n",
    "#m = 11\r\n",
    "n, m = map(int, input().split())\r\n",
    "start = int(input())\r\n",
    "\r\n",
    "graph = [[] for i in range(n+1)]\r\n",
    "distance = [INF]*(n+1)\r\n",
    "\r\n",
    "for _ in range(m):\r\n",
    "    a,b,c = map(int, input().split())\r\n",
    "    graph[a].append((b,c))\r\n",
    "\r\n",
    "def dijkstra(start):\r\n",
    "    q =[]\r\n",
    "\r\n",
    "    heapq.heappush(q, (0, start))\r\n",
    "    distance[start] =0\r\n",
    "    while q:\r\n",
    "        dist, now = heapq.heappop(q)\r\n",
    "        if distance[now] < dist:\r\n",
    "            continue\r\n",
    "\r\n",
    "        for i in graph[now]:\r\n",
    "            cost = dist + i[1]\r\n",
    "            if cost < distance[i[0]]:\r\n",
    "                distance[i[0]] = cost\r\n",
    "                heapq.heappush(q, (cost, i[0]))\r\n",
    "\r\n",
    "dijkstra(start)\r\n",
    "\r\n",
    "for i in range(1, n+1):\r\n",
    "    if distance[i] == INF:\r\n",
    "        print(\"INFINITY\")\r\n",
    "    else:\r\n",
    "        print(distance[i])"
   ],
   "outputs": [],
   "metadata": {}
  }
 ],
 "metadata": {
  "interpreter": {
<<<<<<< HEAD
   "hash": "916dbcbb3f70747c44a77c7bcd40155683ae19c65e1c03b4aa3499c5328201f1"
  },
  "kernelspec": {
   "name": "python3",
   "display_name": "Python 3.8.10 64-bit"
=======
   "hash": "86b40d917a9c044f02321ad8043c3c98ddf9a58b306d7e41e07bbb65ae936a3a"
  },
  "kernelspec": {
   "name": "python3",
   "display_name": "Python 3.8.10 64-bit ('python_38': conda)"
>>>>>>> 106dc5b445343a6ba079af7751c78e94ab09818f
  },
  "language_info": {
   "name": "python",
   "version": "3.8.10",
   "mimetype": "text/x-python",
   "codemirror_mode": {
    "name": "ipython",
    "version": 3
   },
   "pygments_lexer": "ipython3",
   "nbconvert_exporter": "python",
   "file_extension": ".py"
  },
  "metadata": {
   "interpreter": {
    "hash": "4e2cb1775e1620a719d03ad8f49f4ba606d381b46012f9e0e5f281e2d84692aa"
   }
  },
  "orig_nbformat": 2
 },
 "nbformat": 4,
 "nbformat_minor": 2
}