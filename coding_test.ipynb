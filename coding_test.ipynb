{
 "metadata": {
  "language_info": {
   "codemirror_mode": {
    "name": "ipython",
    "version": 3
   },
   "file_extension": ".py",
   "mimetype": "text/x-python",
   "name": "python",
   "nbconvert_exporter": "python",
   "pygments_lexer": "ipython3",
   "version": "3.8.5"
  },
  "orig_nbformat": 2,
  "kernelspec": {
   "name": "python3",
   "display_name": "Python 3.8.5 64-bit ('base': conda)"
  },
  "metadata": {
   "interpreter": {
    "hash": "4e2cb1775e1620a719d03ad8f49f4ba606d381b46012f9e0e5f281e2d84692aa"
   }
  },
  "interpreter": {
   "hash": "0d12d05ab1afc7278cbb1fa09e775842eb34e7aa5a193c340acf9f8f1f5bb7ed"
  }
 },
 "nbformat": 4,
 "nbformat_minor": 2,
 "cells": [
  {
   "source": [
    "(해시) 완주하지 못한 선수"
   ],
   "cell_type": "code",
   "metadata": {},
   "execution_count": null,
   "outputs": []
  },
  {
   "cell_type": "code",
   "execution_count": 1,
   "metadata": {},
   "outputs": [
    {
     "output_type": "stream",
     "name": "stdout",
     "text": [
      "{'leo'}\n"
     ]
    }
   ],
   "source": [
    "par=[\"leo\", \"kiki\", \"eden\"]\n",
    "com=\t[\"eden\", \"kiki\"]\n",
    "answer=set(par)-set(com)\n",
    "print(answer)"
   ]
  },
  {
   "cell_type": "code",
   "execution_count": 95,
   "metadata": {},
   "outputs": [
    {
     "output_type": "stream",
     "name": "stdout",
     "text": [
      "leo\n"
     ]
    }
   ],
   "source": [
    "par = [\"leo\", \"kiki\", \"eden\"]\n",
    "com = [\"eden\", \"kiki\"]\n",
    "\n",
    "hash={}\n",
    "for i in par:\n",
    "    if i in hash:\n",
    "        hash[i] += 1\n",
    "    else:\n",
    "        hash[i] = 1\n",
    "for i in com:\n",
    "    if hash[i] == 1:\n",
    "        del hash[i]\n",
    "    else:\n",
    "        hash[i] -= 1\n",
    "print(list(hash.keys())[0])"
   ]
  },
  {
   "source": [
    "(해쉬) 전화번호 목록"
   ],
   "cell_type": "markdown",
   "metadata": {}
  },
  {
   "cell_type": "code",
   "execution_count": 5,
   "metadata": {},
   "outputs": [
    {
     "output_type": "stream",
     "name": "stdout",
     "text": [
      "False\n"
     ]
    }
   ],
   "source": [
    "\n",
    "def solution(phone_book):\n",
    "\n",
    "    for number in phone_book:\n",
    "        temp=\"\"\n",
    "        for i in number:\n",
    "            temp+=i\n",
    "            if temp in phone_book and temp!=number:\n",
    "                return False\n",
    "\n",
    "    return True"
   ]
  },
  {
   "cell_type": "code",
   "execution_count": 97,
   "metadata": {},
   "outputs": [
    {
     "output_type": "stream",
     "name": "stdout",
     "text": [
      "False\n"
     ]
    }
   ],
   "source": [
    "phone_book = [\"119\", \"97674223\", \"1195524421\"]\n",
    "\n",
    "answer = True\n",
    "hash = {}\n",
    "for phone_number in phone_book:\n",
    "    hash[phone_number] = 1\n",
    "\n",
    "for phone_number in phone_book:\n",
    "    temp = ''\n",
    "    for number in phone_number:\n",
    "        temp += number\n",
    "        if temp in hash and temp != phone_number:\n",
    "            answer = False\n",
    "print(answer)\n",
    "\n"
   ]
  },
  {
   "source": [
    "(해쉬) 위장"
   ],
   "cell_type": "markdown",
   "metadata": {}
  },
  {
   "cell_type": "code",
   "execution_count": 106,
   "metadata": {},
   "outputs": [
    {
     "output_type": "stream",
     "name": "stdout",
     "text": [
      "['yellowhat', 'bluesunglasses', 'green_turban']\n5\n"
     ]
    }
   ],
   "source": [
    "from itertools import combinations\n",
    "# clothes = [[\"yellowhat\", \"headgear\"], [\"bluesunglasses\", \"eyewear\"], [\"green_turban\", \"headgear\"]]\n",
    "clothes = [[\"crowmask\", \"face\"], [\"bluesunglasses\", \"face\"], [\"smoky_makeup\", \"face\"]]\n",
    "cloth=[]\n",
    "t=[]\n",
    "for i in clothes:\n",
    "    cloth.append(i[1])\n",
    "    t.append(i[0])\n",
    "print(t)\n",
    "total=0\n",
    "for i in range(len(set(cloth))):\n",
    "    \n",
    "    total+=len(list(combinations(t, i)))\n",
    "print(total+1)"
   ]
  },
  {
   "cell_type": "code",
   "execution_count": 114,
   "metadata": {},
   "outputs": [
    {
     "output_type": "stream",
     "name": "stdout",
     "text": [
      "headgear\n5\n"
     ]
    }
   ],
   "source": [
    "clothes = [[\"yellowhat\", \"headgear\"], [\"bluesunglasses\", \"eyewear\"], [\"green_turban\", \"headgear\"]]\n",
    "style = []\n",
    "for i in range(len(clothes)):\n",
    "    style.append(clothes[i][1])\n",
    "\n",
    "count = {}\n",
    "\n",
    "for i in style:\n",
    "    try:\n",
    "        count[i] += 1\n",
    "    except:\n",
    "        count[i] = 1\n",
    "\n",
    "\n",
    "val = list(count.values())\n",
    "for a in range(len(val)):\n",
    "    val[a] += 1\n",
    "\n",
    "ans = 1\n",
    "for n in val:\n",
    "    if n == 0 :\n",
    "        ans = 0\n",
    "    ans *= n\n",
    "print(ans-1)"
   ]
  },
  {
   "source": [
    "(해쉬) 베스트앨범"
   ],
   "cell_type": "markdown",
   "metadata": {}
  },
  {
   "cell_type": "code",
   "execution_count": 7,
   "metadata": {},
   "outputs": [
    {
     "output_type": "stream",
     "name": "stdout",
     "text": [
      "{'classic': 1450, 'pop': 3100}\n"
     ]
    }
   ],
   "source": [
    "genres=[\"classic\", \"pop\", \"classic\", \"classic\", \"pop\"]\n",
    "plays=[500, 600, 150, 800, 2500]\n",
    "genres_set = list(set(genres))\n",
    "i=0\n",
    "play=0\n",
    "a={}\n",
    "for genre in genres_set:\n",
    "    for i in range(len(genres)):\n",
    "        if genre == genres[i]:\n",
    "            play+=plays[i]\n",
    "            i+=1\n",
    "        else:\n",
    "            i+=1\n",
    "    a[genre]=play\n",
    "    play=0\n",
    "print(a)\n"
   ]
  },
  {
   "cell_type": "code",
   "execution_count": 27,
   "metadata": {},
   "outputs": [
    {
     "output_type": "stream",
     "name": "stdout",
     "text": [
      "deque([7, 3, 9])\n[2, 1]\n"
     ]
    }
   ],
   "source": [
    "from collections import deque\n",
    "import math\n",
    "\n",
    "progresses = [93, 30, 55]\n",
    "speeds = [1, 30, 5]\n",
    "\n",
    "# progresses = [95, 90, 99, 99, 80, 99]\t\n",
    "# speeds = [1, 1, 1, 1, 1, 1]\n",
    "\n",
    "answer = []\n",
    "day = 0\n",
    "for i in range(len(progresses)):\n",
    "    answer.append(math.ceil((100-progresses[i])/speeds[i]))\n",
    "dq = deque(answer)\n",
    "a = dq.popleft()\n",
    "total = []\n",
    "i=1\n",
    "\n",
    "while True:\n",
    "\n",
    "    if not dq:\n",
    "        total.append(i)\n",
    "        break\n",
    "\n",
    "    elif a >= dq[0]:\n",
    "    \n",
    "        dq.popleft()\n",
    "        i +=1\n",
    "    \n",
    "    else:\n",
    "        total.append(i)\n",
    "        a = dq.popleft()\n",
    "        i=1\n",
    "print(total)"
   ]
  },
  {
   "source": [
    "(스택/큐) 기능개발"
   ],
   "cell_type": "markdown",
   "metadata": {}
  },
  {
   "cell_type": "code",
   "execution_count": null,
   "metadata": {},
   "outputs": [],
   "source": [
    "from collections import deque\n",
    "import math\n",
    "\n",
    "def solution(progresses, speeds):\n",
    "    \n",
    "    answer = []\n",
    "    day = 0\n",
    "    for i in range(len(progresses)):\n",
    "        answer.append(math.ceil((100-progresses[i])/speeds[i]))\n",
    "    dq = deque(answer)\n",
    "    a = dq.popleft()\n",
    "    total = []\n",
    "    i=1\n",
    "\n",
    "    while True:\n",
    "\n",
    "        if not dq:\n",
    "            total.append(i)\n",
    "            break\n",
    "\n",
    "        elif a >= dq[0]:\n",
    "            dq.popleft()\n",
    "            i +=1\n",
    "\n",
    "        else:\n",
    "            total.append(i)\n",
    "            a = dq.popleft()\n",
    "            i=1\n",
    "    return total"
   ]
  },
  {
   "source": [
    "(스택/큐) 프린터"
   ],
   "cell_type": "markdown",
   "metadata": {}
  },
  {
   "cell_type": "code",
   "execution_count": 36,
   "metadata": {},
   "outputs": [
    {
     "output_type": "stream",
     "name": "stdout",
     "text": [
      "2\n"
     ]
    }
   ],
   "source": [
    "from collections import deque\n",
    "\n",
    "priorities = [1, 1, 9, 1, 1, 1]\n",
    "location = 0\n",
    "\n",
    "dq=deque(priorities)\n",
    "answer = 0\n",
    "max_num = max(priorities)\n",
    "loc = priorities[location]\n",
    "i=1\n",
    "while True:\n",
    "    if max_num==loc:\n",
    "        ############# 같은 숫자가 있을 때 카운트가 필요\n",
    "\n",
    "        break\n",
    "    elif max_num==dq.popleft():\n",
    "        i+=1\n",
    "        max_num = max(dq)\n",
    "    else:\n",
    "        a=dq.popleft()\n",
    "        dq.append(a)\n",
    "print(i)"
   ]
  },
  {
   "cell_type": "code",
   "execution_count": 144,
   "metadata": {},
   "outputs": [
    {
     "output_type": "stream",
     "name": "stdout",
     "text": [
      "True\nFalse\nTrue\n"
     ]
    }
   ],
   "source": [
    "#all\n",
    "b = [1,2,1,4,5]\n",
    "print(all(b))\n",
    "\n",
    "b = [1,2,0,4,5]\n",
    "print(all(b))\n",
    "\n",
    "b=[]\n",
    "print(all(b))"
   ]
  },
  {
   "cell_type": "code",
   "execution_count": 143,
   "metadata": {},
   "outputs": [
    {
     "output_type": "stream",
     "name": "stdout",
     "text": [
      "True\nTrue\nFalse\n"
     ]
    }
   ],
   "source": [
    "#any\n",
    "b = [1,2,1,4,5]\n",
    "print(any(b))\n",
    "\n",
    "b = [0,0,0,0,5]\n",
    "print(any(b))\n",
    "\n",
    "b=[]\n",
    "print(any(b))"
   ]
  },
  {
   "source": [
    "(스택/큐) 다리를 지나는 트럭"
   ],
   "cell_type": "markdown",
   "metadata": {}
  },
  {
   "cell_type": "code",
   "execution_count": 138,
   "metadata": {
    "tags": []
   },
   "outputs": [
    {
     "output_type": "stream",
     "name": "stdout",
     "text": [
      "8\n[7, 4, 5, 6]\n"
     ]
    }
   ],
   "source": [
    "import collections\n",
    "\n",
    "br=2\n",
    "we=10\n",
    "tr=[7,4,5,6]\n",
    "tr_d = collections.deque(tr)\n",
    "answer = []\n",
    "\n",
    "total_we = []\n",
    "total_we = collections.deque(total_we)\n",
    "time = 0\n",
    "\n",
    "while True:\n",
    "\n",
    "    if len(total_we) == br or sum(total_we) == we:\n",
    "        answer.append(total_we.popleft())\n",
    "        time +=1\n",
    "    elif sum(total_we) > we:\n",
    "        tr_d.appendleft(total_we.pop())\n",
    "        answer.append(total_we.popleft())\n",
    "    else:\n",
    "        try:\n",
    "            total_we.append(tr_d.popleft())\n",
    "            time +=1 \n",
    "        except:\n",
    "            answer.append(total_we.popleft())\n",
    "            time +=1\n",
    "            break\n",
    "print(time)\n",
    "print(answer)"
   ]
  },
  {
   "source": [
    "(스택/큐) 주식가격"
   ],
   "cell_type": "markdown",
   "metadata": {}
  },
  {
   "cell_type": "code",
   "execution_count": null,
   "metadata": {},
   "outputs": [],
   "source": [
    "def solution(prices):\n",
    "    answer = [0] * len(prices)\n",
    "    for i in range(len(prices)):\n",
    "        for j in range(i+1, len(prices)):\n",
    "            if prices[i] <= prices[j]:\n",
    "                answer[i] += 1\n",
    "            else:\n",
    "                answer[i] += 1\n",
    "                break\n",
    "    return answer"
   ]
  },
  {
   "source": [
    "(힙) 최소, 최대"
   ],
   "cell_type": "markdown",
   "metadata": {}
  },
  {
   "source": [
    "import heapq\n",
    "\n",
    "heap_items = [1,3,5,7,9]\n",
    "# heap로 바꾸기\n",
    "heapq.heapify(heap_items)\n",
    "print(heap_items)\n",
    "\n",
    "max_heap = []\n",
    "for item in heap_items:\n",
    "  heapq.heappush(max_heap, (-item, item))\n",
    "\n",
    "print(max_heap)\n",
    "print(heapq.heappop(max_heap)[1])"
   ],
   "cell_type": "code",
   "metadata": {},
   "execution_count": 48,
   "outputs": [
    {
     "output_type": "stream",
     "name": "stdout",
     "text": [
      "[1, 3, 5, 7, 9]\nNone\n[(-9, 9), (-7, 7), (-3, 3), (-1, 1), (-5, 5)]\n9\n"
     ]
    }
   ]
  },
  {
   "source": [
    "(힙) 더맵게"
   ],
   "cell_type": "markdown",
   "metadata": {}
  },
  {
   "cell_type": "code",
   "execution_count": null,
   "metadata": {},
   "outputs": [],
   "source": [
    "import heapq\n",
    "\n",
    "def solution(scoville, K):\n",
    "    i=0\n",
    "    heapq.heapify(scoville)\n",
    "    while True:\n",
    "        min1 = heapq.heappop(scoville)\n",
    "        if min1 >= K:\n",
    "            return i\n",
    "        elif len(scoville)==0:\n",
    "            return -1\n",
    "        else:\n",
    "            min2 = heapq.heappop(scoville)\n",
    "            a = min1 + (min2*2)\n",
    "            scoville.append(a)\n",
    "            i+=1"
   ]
  },
  {
   "source": [
    "(힙) 디스크 컨트롤러"
   ],
   "cell_type": "markdown",
   "metadata": {}
  },
  {
   "cell_type": "code",
   "execution_count": 44,
   "metadata": {},
   "outputs": [
    {
     "output_type": "stream",
     "name": "stdout",
     "text": [
      "9\n"
     ]
    }
   ],
   "source": [
    "jobs = [[0, 3], [1, 9], [2, 6]]\n",
    "n = len(jobs)\n",
    "time = 0\n",
    "delay =0\n",
    "\n",
    "jobs = sorted(jobs, key=lambda x: x[1])  # 소요시간 우선 정렬\n",
    "\n",
    "while len(jobs)>0:\n",
    "    for i in range(len(jobs)):\n",
    "        if time >= jobs[i][0]:\n",
    "            time += jobs[i][1]\n",
    "            delay += time - jobs[i][0]\n",
    "            jobs.pop(i)\n",
    "\n",
    "            break\n",
    "        if i == len(jobs) - 1:\n",
    "            time += 1\n",
    "\n",
    "print(delay // n)"
   ]
  },
  {
   "cell_type": "code",
   "execution_count": null,
   "metadata": {},
   "outputs": [],
   "source": [
    "(힙) 이중우선순위큐"
   ]
  },
  {
   "cell_type": "code",
   "execution_count": 42,
   "metadata": {},
   "outputs": [],
   "source": [
    "import re\n",
    "\n",
    "def solution(operations):\n",
    "    answer = []\n",
    "    num = []\n",
    "    for i in operations:\n",
    "        if 'I' in i:\n",
    "            \n",
    "            num.append(int(re.findall('[-+]?\\d+', i)[0]))\n",
    "\n",
    "        elif i == \"D -1\":\n",
    "            if not num:\n",
    "                continue\n",
    "            num.remove(min(num))\n",
    "        elif i == \"D 1\":\n",
    "            if not num:\n",
    "                continue\n",
    "            num.remove(max(num))\n",
    "\n",
    "\n",
    "    if not num:\n",
    "        return [0,0]\n",
    "    else :\n",
    "        return [max(num), min(num)]"
   ]
  },
  {
   "source": [
    "(정렬) K번째 수"
   ],
   "cell_type": "markdown",
   "metadata": {}
  },
  {
   "cell_type": "code",
   "execution_count": 53,
   "metadata": {},
   "outputs": [
    {
     "output_type": "stream",
     "name": "stdout",
     "text": [
      "[5, 6, 3]\n"
     ]
    }
   ],
   "source": [
    "# 풀이1\n",
    "array = [1, 5, 2, 6, 3, 7, 4]\n",
    "commands = [[2, 5, 3], [4, 4, 1], [1, 7, 3]]\n",
    "arr = []\n",
    "result = []\n",
    "\n",
    "for i in commands:\n",
    "    start = i[0]\n",
    "    end=i[1]\n",
    "    lo = i[2]\n",
    "    for j in range(start-1, end):\n",
    "        arr.append(array[j])\n",
    "    arr.sort()\n",
    "    result.append(arr[lo-1])\n",
    "    arr=[]\n",
    "        # print(arr)\n",
    "print(result)\n",
    "\n",
    "# 풀이2\n",
    "\n",
    "def solution(array, commands):\n",
    "    answer = []\n",
    "    temp=[]\n",
    "    for i in commands:\n",
    "        temp=array[i[0]-1:i[1]]\n",
    "        temp=sorted(temp)\n",
    "        answer.append(temp[i[2]-1])\n",
    "    return answer"
   ]
  },
  {
   "source": [
    "(정렬) 가장 큰 수"
   ],
   "cell_type": "markdown",
   "metadata": {}
  },
  {
   "cell_type": "code",
   "execution_count": null,
   "metadata": {},
   "outputs": [],
   "source": []
  },
  {
   "source": [
    "(정렬) H-Index"
   ],
   "cell_type": "markdown",
   "metadata": {}
  },
  {
   "cell_type": "code",
   "execution_count": null,
   "metadata": {},
   "outputs": [],
   "source": []
  },
  {
   "source": [
    "(완전탐색) 모의고사"
   ],
   "cell_type": "markdown",
   "metadata": {}
  },
  {
   "cell_type": "code",
   "execution_count": null,
   "metadata": {},
   "outputs": [],
   "source": []
  },
  {
   "source": [
    "(완전탐색) 소수 찾기"
   ],
   "cell_type": "markdown",
   "metadata": {}
  },
  {
   "cell_type": "code",
   "execution_count": null,
   "metadata": {},
   "outputs": [],
   "source": []
  },
  {
   "source": [
    "(완전탐색) 카펫펫"
   ],
   "cell_type": "markdown",
   "metadata": {}
  },
  {
   "source": [
    "SQL 테스트"
   ],
   "cell_type": "markdown",
   "metadata": {}
  },
  {
   "source": [
    "(SQL) 고양이와 개는 몇마리 있을까"
   ],
   "cell_type": "markdown",
   "metadata": {}
  },
  {
   "cell_type": "code",
   "execution_count": null,
   "metadata": {},
   "outputs": [],
   "source": [
    "\n",
    "'''\n",
    "SELECT ANIMAL_TYPE, COUNT(ANIMAL_TYPE)\n",
    "FROM ANIMAL_INS\n",
    "GROUP BY ANIMAL_TYPE\n",
    "ORDER BY ANIMAL_TYPE\n",
    "'''\n"
   ]
  },
  {
   "source": [
    "(SQL) 없어진 기록 찾기"
   ],
   "cell_type": "markdown",
   "metadata": {}
  },
  {
   "cell_type": "code",
   "execution_count": null,
   "metadata": {},
   "outputs": [],
   "source": [
    "'''\n",
    "SELECT ANIMAL_OUTS.ANIMAL_ID, ANIMAL_OUTS.NAME\n",
    "FROM ANIMAL_OUTS\n",
    "LEFT OUTER JOIN ANIMAL_INS\n",
    "ON ANIMAL_OUTS.ANIMAL_ID = ANIMAL_INS.ANIMAL_ID\n",
    "WHERE ANIMAL_INS.ANIMAL_ID IS NULL\n",
    "ORDER BY ANIMAL_OUTS.ANIMAL_ID\n",
    "'''"
   ]
  },
  {
   "source": [
    "(SQL) 동명 동물 수 찾기"
   ],
   "cell_type": "markdown",
   "metadata": {}
  },
  {
   "cell_type": "code",
   "execution_count": null,
   "metadata": {},
   "outputs": [],
   "source": [
    "'''\n",
    "SELECT NAME, COUNT(NAME) AS 'COUNT'\n",
    "FROM ANIMAL_INS\n",
    "GROUP BY NAME\n",
    "HAVING COUNT(NAME) > 1\n",
    "ORDER BY NAME\n",
    "'''"
   ]
  },
  {
   "source": [
    "(SQL) 입양 시각 구하기(1)"
   ],
   "cell_type": "markdown",
   "metadata": {}
  },
  {
   "cell_type": "code",
   "execution_count": null,
   "metadata": {},
   "outputs": [],
   "source": [
    "-- 풀이 1 HAVING\n",
    "'''\n",
    "SELECT HOUR(DATETIME) HOUR, COUNT(DATETIME) COUNT\n",
    "FROM ANIMAL_OUTS\n",
    "GROUP BY HOUR\n",
    "HAVING HOUR>=9 AND HOUR<=19\n",
    "ORDER BY HOUR\n",
    "'''\n",
    "\n",
    "-- 풀이 2 BETWEEN\n",
    "'''\n",
    "SELECT HOUR(DATETIME) HOUR, COUNT(DATETIME) COUNT\n",
    "FROM ANIMAL_OUTS\n",
    "WHERE HOUR(DATETIME) BETWEEN 9 AND 19\n",
    "GROUP BY HOUR\n",
    "ORDER BY HOUR\n",
    "'''"
   ]
  },
  {
   "source": [
    "(SQL) 입양 시각 구하기(2)"
   ],
   "cell_type": "markdown",
   "metadata": {}
  },
  {
   "cell_type": "code",
   "execution_count": null,
   "metadata": {},
   "outputs": [],
   "source": [
    "-- 풀이 1\n",
    "'''\n",
    "SET @hour := -1;\n",
    "\n",
    "SELECT (@hour := @hour + 1) as HOUR,\n",
    "(SELECT COUNT(*) FROM ANIMAL_OUTS WHERE HOUR(DATETIME) = @hour) as COUNT\n",
    "FROM ANIMAL_OUTS\n",
    "WHERE @hour < 23\n",
    "'''"
   ]
  },
  {
   "source": [
    "(SQL) NULL 처리 , IF 문"
   ],
   "cell_type": "markdown",
   "metadata": {}
  },
  {
   "cell_type": "code",
   "execution_count": null,
   "metadata": {},
   "outputs": [],
   "source": [
    "'''\n",
    "SELECT ANIMAL_TYPE, IFNULL(NAME, 'NO name'), SEX_UPON_INTAKE\n",
    "FROM ANIMAL_INS\n",
    "ORDER BY ANIMAL_ID\n",
    "'''"
   ]
  },
  {
   "source": [
    "(SQL) 오랜 기간 보호한 동물"
   ],
   "cell_type": "markdown",
   "metadata": {}
  },
  {
   "cell_type": "code",
   "execution_count": null,
   "metadata": {},
   "outputs": [],
   "source": [
    "'''\n",
    "SELECT I.NAME, I.DATETIME\n",
    "FROM ANIMAL_INS I\n",
    "LEFT OUTER JOIN  ANIMAL_OUTS O\n",
    "ON I.ANIMAL_ID = O.ANIMAL_ID\n",
    "WHERE O.ANIMAL_ID IS NULL\n",
    "ORDER BY I.DATETIME\n",
    "LIMIT 3\n",
    "'''"
   ]
  },
  {
   "cell_type": "code",
   "execution_count": null,
   "metadata": {},
   "outputs": [],
   "source": [
    "(SQL) 오랜 기간 보호한 동물 2"
   ]
  },
  {
   "cell_type": "code",
   "execution_count": null,
   "metadata": {},
   "outputs": [],
   "source": [
    "-- 풀이 1\n",
    "'''\n",
    "SELECT I.ANIMAL_ID, I.NAME\n",
    "FROM ANIMAL_INS I \n",
    "LEFT OUTER JOIN ANIMAL_OUTS O\n",
    "ON I.ANIMAL_ID = O.ANIMAL_ID\n",
    "ORDER BY O.DATETIME-I.DATETIME DESC\n",
    "LIMIT 2\n",
    "'''\n",
    "\n",
    "-- 풀이 2\n",
    "'''\n",
    "SELECT I.ANIMAL_ID, I.NAME\n",
    "FROM ANIMAL_INS I ANIMAL_OUTS O\n",
    "WHERE I.ANIMAL_ID = O.ANIMAL_ID\n",
    "ORDER BY O.DATETIME-I.DATETIME DESC\n",
    "LIMIT 2\n",
    "'''"
   ]
  },
  {
   "source": [
    "(SQL) 이름으로 찾기 IN"
   ],
   "cell_type": "markdown",
   "metadata": {}
  },
  {
   "cell_type": "code",
   "execution_count": null,
   "metadata": {},
   "outputs": [],
   "source": [
    "'''\n",
    "SELECT ANIMAL_ID, NAME, SEX_UPON_INTAKE\n",
    "FROM ANIMAL_INS\n",
    "WHERE NAME IN ('Lucy', 'Ella', 'Pickle', 'Rogan', 'Sabrina', 'Mitty' ) \n",
    "ORDER BY ANIMAL_ID\n",
    "'''"
   ]
  },
  {
   "source": [
    "(SQL) 단어 들어간 것 찾기 LIKE"
   ],
   "cell_type": "markdown",
   "metadata": {}
  },
  {
   "cell_type": "code",
   "execution_count": null,
   "metadata": {},
   "outputs": [],
   "source": [
    "'''\n",
    "SELECT ANIMAL_ID, NAME\n",
    "FROM ANIMAL_INS\n",
    "WHERE NAME LIKE '%EL%' AND ANIMAL_TYPE = 'Dog'\n",
    "ORDER BY NAME\n",
    "'''"
   ]
  },
  {
   "source": [
    "(SQL) CASE WHEN THEN ELSE END"
   ],
   "cell_type": "markdown",
   "metadata": {}
  },
  {
   "cell_type": "code",
   "execution_count": null,
   "metadata": {},
   "outputs": [],
   "source": [
    "'''\n",
    "SELECT ANIMAL_ID, NAME, \n",
    "\n",
    "CASE\n",
    "WHEN SEX_UPON_INTAKE LIKE '%Neutered%' OR SEX_UPON_INTAKE LIKE '%Spayed%' \n",
    "THEN 'O'\n",
    "ELSE 'X'\n",
    "END '중성화'\n",
    "\n",
    "FROM ANIMAL_INS\n",
    "'''"
   ]
  },
  {
   "source": [],
   "cell_type": "markdown",
   "metadata": {}
  },
  {
   "source": [],
   "cell_type": "markdown",
   "metadata": {}
  },
  {
   "source": [
    "코딩책"
   ],
   "cell_type": "markdown",
   "metadata": {}
  },
  {
   "source": [
    "(코테책) 플로이드워셔"
   ],
   "cell_type": "markdown",
   "metadata": {}
  },
  {
   "cell_type": "code",
   "execution_count": null,
   "metadata": {},
   "outputs": [],
   "source": [
    "INF = int(1e9)\n",
    "\n",
    "n = int(input())\n",
    "m = int(input())\n",
    "\n",
    "graph = [[INF]*(n+1) for _ in range(n+1)]\n",
    "\n",
    "for a in range(1, n+1):\n",
    "    for b in range(1, n+1):\n",
    "        if a == b:\n",
    "            graph[a][b] = 0\n",
    "\n",
    "for _ in range(m):\n",
    "    a,b,c = map(int, input().split())\n",
    "    graph[a][b] = c\n",
    "\n",
    "for k in range(1, n+1):\n",
    "    for a in range(1, n+1):\n",
    "        for b in range(1, n+1):\n",
    "            graph[a][b] = min(graph[a][b], graph[a][k]+ graph[k][b])\n",
    "\n",
    "for a in range(1, n+1):\n",
    "    for b in range(1, n+1):\n",
    "        if graph[a][b] == INF:\n",
    "            print(\"INFINITY\", end = \" \")\n",
    "        else:\n",
    "            print(graph[a][b], end= \" \")\n",
    "    print()"
   ]
  },
  {
   "source": [
    "(코테책) 다익스트라"
   ],
   "cell_type": "markdown",
   "metadata": {}
  },
  {
   "cell_type": "code",
   "execution_count": null,
   "metadata": {},
   "outputs": [],
   "source": [
    "import heapq\n",
    "import sys\n",
    "\n",
    "input = sys.stdin.readline\n",
    "INF = int(1e9)\n",
    "#n = 6\n",
    "#m = 11\n",
    "n, m = map(int, input().split())\n",
    "start = int(input())\n",
    "\n",
    "graph = [[] for i in range(n+1)]\n",
    "distance = [INF]*(n+1)\n",
    "\n",
    "for _ in range(m):\n",
    "    a,b,c = map(int, input().split())\n",
    "    graph[a].append((b,c))\n",
    "\n",
    "def dijkstra(start):\n",
    "    q =[]\n",
    "\n",
    "    heapq.heappush(q, (0, start))\n",
    "    distance[start] =0\n",
    "    while q:\n",
    "        dist, now = heapq.heappop(q)\n",
    "        if distance[now] < dist:\n",
    "            continue\n",
    "\n",
    "        for i in graph[now]:\n",
    "            cost = dist + i[1]\n",
    "            if cost < distance[i[0]]:\n",
    "                distance[i[0]] = cost\n",
    "                heapq.heappush(q, (cost, i[0]))\n",
    "\n",
    "dijkstra(start)\n",
    "\n",
    "for i in range(1, n+1):\n",
    "    if distance[i] == INF:\n",
    "        print(\"INFINITY\")\n",
    "    else:\n",
    "        print(distance[i])"
   ]
  }
 ]
}