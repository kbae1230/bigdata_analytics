{
 "metadata": {
  "language_info": {
   "codemirror_mode": {
    "name": "ipython",
    "version": 3
   },
   "file_extension": ".py",
   "mimetype": "text/x-python",
   "name": "python",
   "nbconvert_exporter": "python",
   "pygments_lexer": "ipython3",
   "version": "3.8.5"
  },
  "orig_nbformat": 2,
  "kernelspec": {
   "name": "python3",
   "display_name": "Python 3.8.5 64-bit ('base': conda)"
  },
  "metadata": {
   "interpreter": {
    "hash": "4e2cb1775e1620a719d03ad8f49f4ba606d381b46012f9e0e5f281e2d84692aa"
   }
  },
  "interpreter": {
   "hash": "0d12d05ab1afc7278cbb1fa09e775842eb34e7aa5a193c340acf9f8f1f5bb7ed"
  }
 },
 "nbformat": 4,
 "nbformat_minor": 2,
 "cells": [
  {
   "source": [
    "(해시) 완주하지 못한 선수"
   ],
   "cell_type": "code",
   "metadata": {},
   "execution_count": null,
   "outputs": []
  },
  {
   "cell_type": "code",
   "execution_count": 1,
   "metadata": {},
   "outputs": [
    {
     "output_type": "stream",
     "name": "stdout",
     "text": [
      "{'leo'}\n"
     ]
    }
   ],
   "source": [
    "par=[\"leo\", \"kiki\", \"eden\"]\n",
    "com=\t[\"eden\", \"kiki\"]\n",
    "answer=set(par)-set(com)\n",
    "print(answer)"
   ]
  },
  {
   "cell_type": "code",
   "execution_count": 95,
   "metadata": {},
   "outputs": [
    {
     "output_type": "stream",
     "name": "stdout",
     "text": [
      "leo\n"
     ]
    }
   ],
   "source": [
    "par = [\"leo\", \"kiki\", \"eden\"]\n",
    "com = [\"eden\", \"kiki\"]\n",
    "\n",
    "hash={}\n",
    "for i in par:\n",
    "    if i in hash:\n",
    "        hash[i] += 1\n",
    "    else:\n",
    "        hash[i] = 1\n",
    "for i in com:\n",
    "    if hash[i] == 1:\n",
    "        del hash[i]\n",
    "    else:\n",
    "        hash[i] -= 1\n",
    "print(list(hash.keys())[0])"
   ]
  },
  {
   "source": [
    "(해쉬) 전화번호 목록"
   ],
   "cell_type": "markdown",
   "metadata": {}
  },
  {
   "cell_type": "code",
   "execution_count": 5,
   "metadata": {},
   "outputs": [
    {
     "output_type": "stream",
     "name": "stdout",
     "text": [
      "False\n"
     ]
    }
   ],
   "source": [
    "\n",
    "def solution(phone_book):\n",
    "\n",
    "    for number in phone_book:\n",
    "        temp=\"\"\n",
    "        for i in number:\n",
    "            temp+=i\n",
    "            if temp in phone_book and temp!=number:\n",
    "                return False\n",
    "\n",
    "    return True"
   ]
  },
  {
   "cell_type": "code",
   "execution_count": 97,
   "metadata": {},
   "outputs": [
    {
     "output_type": "stream",
     "name": "stdout",
     "text": [
      "False\n"
     ]
    }
   ],
   "source": [
    "phone_book = [\"119\", \"97674223\", \"1195524421\"]\n",
    "\n",
    "answer = True\n",
    "hash = {}\n",
    "for phone_number in phone_book:\n",
    "    hash[phone_number] = 1\n",
    "\n",
    "for phone_number in phone_book:\n",
    "    temp = ''\n",
    "    for number in phone_number:\n",
    "        temp += number\n",
    "        if temp in hash and temp != phone_number:\n",
    "            answer = False\n",
    "print(answer)\n",
    "\n"
   ]
  },
  {
   "source": [
    "(해쉬) 위장"
   ],
   "cell_type": "markdown",
   "metadata": {}
  },
  {
   "cell_type": "code",
   "execution_count": 106,
   "metadata": {},
   "outputs": [
    {
     "output_type": "stream",
     "name": "stdout",
     "text": [
      "['yellowhat', 'bluesunglasses', 'green_turban']\n5\n"
     ]
    }
   ],
   "source": [
    "from itertools import combinations\n",
    "# clothes = [[\"yellowhat\", \"headgear\"], [\"bluesunglasses\", \"eyewear\"], [\"green_turban\", \"headgear\"]]\n",
    "clothes = [[\"crowmask\", \"face\"], [\"bluesunglasses\", \"face\"], [\"smoky_makeup\", \"face\"]]\n",
    "cloth=[]\n",
    "t=[]\n",
    "for i in clothes:\n",
    "    cloth.append(i[1])\n",
    "    t.append(i[0])\n",
    "print(t)\n",
    "total=0\n",
    "for i in range(len(set(cloth))):\n",
    "    \n",
    "    total+=len(list(combinations(t, i)))\n",
    "print(total+1)"
   ]
  },
  {
   "cell_type": "code",
   "execution_count": 114,
   "metadata": {},
   "outputs": [
    {
     "output_type": "stream",
     "name": "stdout",
     "text": [
      "headgear\n5\n"
     ]
    }
   ],
   "source": [
    "clothes = [[\"yellowhat\", \"headgear\"], [\"bluesunglasses\", \"eyewear\"], [\"green_turban\", \"headgear\"]]\n",
    "style = []\n",
    "for i in range(len(clothes)):\n",
    "    style.append(clothes[i][1])\n",
    "\n",
    "count = {}\n",
    "\n",
    "for i in style:\n",
    "    try:\n",
    "        count[i] += 1\n",
    "    except:\n",
    "        count[i] = 1\n",
    "\n",
    "\n",
    "val = list(count.values())\n",
    "for a in range(len(val)):\n",
    "    val[a] += 1\n",
    "\n",
    "ans = 1\n",
    "for n in val:\n",
    "    if n == 0 :\n",
    "        ans = 0\n",
    "    ans *= n\n",
    "print(ans-1)"
   ]
  },
  {
   "source": [
    "(해쉬) 베스트앨범"
   ],
   "cell_type": "markdown",
   "metadata": {}
  },
  {
   "cell_type": "code",
   "execution_count": 7,
   "metadata": {},
   "outputs": [
    {
     "output_type": "stream",
     "name": "stdout",
     "text": [
      "{'classic': 1450, 'pop': 3100}\n"
     ]
    }
   ],
   "source": [
    "genres=[\"classic\", \"pop\", \"classic\", \"classic\", \"pop\"]\n",
    "plays=[500, 600, 150, 800, 2500]\n",
    "genres_set = list(set(genres))\n",
    "i=0\n",
    "play=0\n",
    "a={}\n",
    "for genre in genres_set:\n",
    "    for i in range(len(genres)):\n",
    "        if genre == genres[i]:\n",
    "            play+=plays[i]\n",
    "            i+=1\n",
    "        else:\n",
    "            i+=1\n",
    "    a[genre]=play\n",
    "    play=0\n",
    "print(a)\n"
   ]
  },
  {
   "cell_type": "code",
   "execution_count": 27,
   "metadata": {},
   "outputs": [
    {
     "output_type": "stream",
     "name": "stdout",
     "text": [
      "deque([7, 3, 9])\n[2, 1]\n"
     ]
    }
   ],
   "source": [
    "from collections import deque\n",
    "import math\n",
    "\n",
    "progresses = [93, 30, 55]\n",
    "speeds = [1, 30, 5]\n",
    "\n",
    "# progresses = [95, 90, 99, 99, 80, 99]\t\n",
    "# speeds = [1, 1, 1, 1, 1, 1]\n",
    "\n",
    "answer = []\n",
    "day = 0\n",
    "for i in range(len(progresses)):\n",
    "    answer.append(math.ceil((100-progresses[i])/speeds[i]))\n",
    "dq = deque(answer)\n",
    "a = dq.popleft()\n",
    "total = []\n",
    "i=1\n",
    "\n",
    "while True:\n",
    "\n",
    "    if not dq:\n",
    "        total.append(i)\n",
    "        break\n",
    "\n",
    "    elif a >= dq[0]:\n",
    "    \n",
    "        dq.popleft()\n",
    "        i +=1\n",
    "    \n",
    "    else:\n",
    "        total.append(i)\n",
    "        a = dq.popleft()\n",
    "        i=1\n",
    "print(total)"
   ]
  },
  {
   "source": [
    "(스택/큐) 기능개발"
   ],
   "cell_type": "markdown",
   "metadata": {}
  },
  {
   "cell_type": "code",
   "execution_count": null,
   "metadata": {},
   "outputs": [],
   "source": [
    "from collections import deque\n",
    "import math\n",
    "\n",
    "def solution(progresses, speeds):\n",
    "    \n",
    "    answer = []\n",
    "    day = 0\n",
    "    for i in range(len(progresses)):\n",
    "        answer.append(math.ceil((100-progresses[i])/speeds[i]))\n",
    "    dq = deque(answer)\n",
    "    a = dq.popleft()\n",
    "    total = []\n",
    "    i=1\n",
    "\n",
    "    while True:\n",
    "\n",
    "        if not dq:\n",
    "            total.append(i)\n",
    "            break\n",
    "\n",
    "        elif a >= dq[0]:\n",
    "            dq.popleft()\n",
    "            i +=1\n",
    "\n",
    "        else:\n",
    "            total.append(i)\n",
    "            a = dq.popleft()\n",
    "            i=1\n",
    "    return total"
   ]
  },
  {
   "source": [
    "(스택/큐) 프린터"
   ],
   "cell_type": "markdown",
   "metadata": {}
  },
  {
   "cell_type": "code",
   "execution_count": 36,
   "metadata": {},
   "outputs": [
    {
     "output_type": "stream",
     "name": "stdout",
     "text": [
      "2\n"
     ]
    }
   ],
   "source": [
    "from collections import deque\n",
    "\n",
    "priorities = [1, 1, 9, 1, 1, 1]\n",
    "location = 0\n",
    "\n",
    "dq=deque(priorities)\n",
    "answer = 0\n",
    "max_num = max(priorities)\n",
    "loc = priorities[location]\n",
    "i=1\n",
    "while True:\n",
    "    if max_num==loc:\n",
    "        ############# 같은 숫자가 있을 때 카운트가 필요\n",
    "\n",
    "        break\n",
    "    elif max_num==dq.popleft():\n",
    "        i+=1\n",
    "        max_num = max(dq)\n",
    "    else:\n",
    "        a=dq.popleft()\n",
    "        dq.append(a)\n",
    "print(i)"
   ]
  },
  {
   "cell_type": "code",
   "execution_count": 144,
   "metadata": {},
   "outputs": [
    {
     "output_type": "stream",
     "name": "stdout",
     "text": [
      "True\nFalse\nTrue\n"
     ]
    }
   ],
   "source": [
    "#all\n",
    "b = [1,2,1,4,5]\n",
    "print(all(b))\n",
    "\n",
    "b = [1,2,0,4,5]\n",
    "print(all(b))\n",
    "\n",
    "b=[]\n",
    "print(all(b))"
   ]
  },
  {
   "cell_type": "code",
   "execution_count": 143,
   "metadata": {},
   "outputs": [
    {
     "output_type": "stream",
     "name": "stdout",
     "text": [
      "True\nTrue\nFalse\n"
     ]
    }
   ],
   "source": [
    "#any\n",
    "b = [1,2,1,4,5]\n",
    "print(any(b))\n",
    "\n",
    "b = [0,0,0,0,5]\n",
    "print(any(b))\n",
    "\n",
    "b=[]\n",
    "print(any(b))"
   ]
  },
  {
   "source": [
    "(스택/큐) 다리를 지나는 트럭"
   ],
   "cell_type": "markdown",
   "metadata": {}
  },
  {
   "cell_type": "code",
   "execution_count": 138,
   "metadata": {
    "tags": []
   },
   "outputs": [
    {
     "output_type": "stream",
     "name": "stdout",
     "text": [
      "8\n[7, 4, 5, 6]\n"
     ]
    }
   ],
   "source": [
    "import collections\n",
    "\n",
    "br=2\n",
    "we=10\n",
    "tr=[7,4,5,6]\n",
    "tr_d = collections.deque(tr)\n",
    "answer = []\n",
    "\n",
    "total_we = []\n",
    "total_we = collections.deque(total_we)\n",
    "time = 0\n",
    "\n",
    "while True:\n",
    "\n",
    "    if len(total_we) == br or sum(total_we) == we:\n",
    "        answer.append(total_we.popleft())\n",
    "        time +=1\n",
    "    elif sum(total_we) > we:\n",
    "        tr_d.appendleft(total_we.pop())\n",
    "        answer.append(total_we.popleft())\n",
    "    else:\n",
    "        try:\n",
    "            total_we.append(tr_d.popleft())\n",
    "            time +=1 \n",
    "        except:\n",
    "            answer.append(total_we.popleft())\n",
    "            time +=1\n",
    "            break\n",
    "print(time)\n",
    "print(answer)"
   ]
  },
  {
   "source": [
    "(스택/큐) 주식가격"
   ],
   "cell_type": "markdown",
   "metadata": {}
  },
  {
   "cell_type": "code",
   "execution_count": null,
   "metadata": {},
   "outputs": [],
   "source": [
    "def solution(prices):\n",
    "    answer = [0] * len(prices)\n",
    "    for i in range(len(prices)):\n",
    "        for j in range(i+1, len(prices)):\n",
    "            if prices[i] <= prices[j]:\n",
    "                answer[i] += 1\n",
    "            else:\n",
    "                answer[i] += 1\n",
    "                break\n",
    "    return answer"
   ]
  },
  {
   "source": [
    "(힙) 최소, 최대"
   ],
   "cell_type": "markdown",
   "metadata": {}
  },
  {
   "source": [
    "import heapq\n",
    "\n",
    "heap_items = [1,3,5,7,9]\n",
    "# heap로 바꾸기\n",
    "heapq.heapify(heap_items)\n",
    "print(heap_items)\n",
    "\n",
    "max_heap = []\n",
    "for item in heap_items:\n",
    "  heapq.heappush(max_heap, (-item, item))\n",
    "\n",
    "print(max_heap)\n",
    "print(heapq.heappop(max_heap)[1])"
   ],
   "cell_type": "code",
   "metadata": {},
   "execution_count": 48,
   "outputs": [
    {
     "output_type": "stream",
     "name": "stdout",
     "text": [
      "[1, 3, 5, 7, 9]\nNone\n[(-9, 9), (-7, 7), (-3, 3), (-1, 1), (-5, 5)]\n9\n"
     ]
    }
   ]
  },
  {
   "source": [
    "(힙) 더맵게"
   ],
   "cell_type": "markdown",
   "metadata": {}
  },
  {
   "cell_type": "code",
   "execution_count": null,
   "metadata": {},
   "outputs": [],
   "source": [
    "import heapq\n",
    "\n",
    "def solution(scoville, K):\n",
    "    i=0\n",
    "    heapq.heapify(scoville)\n",
    "    while True:\n",
    "        min1 = heapq.heappop(scoville)\n",
    "        if min1 >= K:\n",
    "            return i\n",
    "        elif len(scoville)==0:\n",
    "            return -1\n",
    "        else:\n",
    "            min2 = heapq.heappop(scoville)\n",
    "            a = min1 + (min2*2)\n",
    "            scoville.append(a)\n",
    "            i+=1"
   ]
  },
  {
   "source": [
    "(힙) 디스크 컨트롤러"
   ],
   "cell_type": "markdown",
   "metadata": {}
  },
  {
   "cell_type": "code",
   "execution_count": 44,
   "metadata": {},
   "outputs": [
    {
     "output_type": "stream",
     "name": "stdout",
     "text": [
      "9\n"
     ]
    }
   ],
   "source": [
    "jobs = [[0, 3], [1, 9], [2, 6]]\n",
    "n = len(jobs)\n",
    "time = 0\n",
    "delay =0\n",
    "\n",
    "jobs = sorted(jobs, key=lambda x: x[1])  # 소요시간 우선 정렬\n",
    "\n",
    "while len(jobs)>0:\n",
    "    for i in range(len(jobs)):\n",
    "        if time >= jobs[i][0]:\n",
    "            time += jobs[i][1]\n",
    "            delay += time - jobs[i][0]\n",
    "            jobs.pop(i)\n",
    "\n",
    "            break\n",
    "        if i == len(jobs) - 1:\n",
    "            time += 1\n",
    "\n",
    "print(delay // n)"
   ]
  },
  {
   "cell_type": "code",
   "execution_count": null,
   "metadata": {},
   "outputs": [],
   "source": [
    "(힙) 이중우선순위큐"
   ]
  },
  {
   "cell_type": "code",
   "execution_count": 42,
   "metadata": {},
   "outputs": [],
   "source": [
    "import re\n",
    "\n",
    "def solution(operations):\n",
    "    answer = []\n",
    "    num = []\n",
    "    for i in operations:\n",
    "        if 'I' in i:\n",
    "            \n",
    "            num.append(int(re.findall('[-+]?\\d+', i)[0]))\n",
    "\n",
    "        elif i == \"D -1\":\n",
    "            if not num:\n",
    "                continue\n",
    "            num.remove(min(num))\n",
    "        elif i == \"D 1\":\n",
    "            if not num:\n",
    "                continue\n",
    "            num.remove(max(num))\n",
    "\n",
    "\n",
    "    if not num:\n",
    "        return [0,0]\n",
    "    else :\n",
    "        return [max(num), min(num)]"
   ]
  },
  {
   "source": [
    "(정렬) K번째 수"
   ],
   "cell_type": "markdown",
   "metadata": {}
  },
  {
   "cell_type": "code",
   "execution_count": 75,
   "metadata": {},
   "outputs": [
    {
     "output_type": "stream",
     "name": "stdout",
     "text": [
      "[5, 2, 6, 3]\n[6]\n[1, 5, 2, 6, 3, 7, 4]\n[5, 6, 3]\n"
     ]
    }
   ],
   "source": [
    "# 풀이1\n",
    "array = [1, 5, 2, 6, 3, 7, 4]\n",
    "commands = [[2, 5, 3], [4, 4, 1], [1, 7, 3]]\n",
    "arr = []\n",
    "result = []\n",
    "\n",
    "for i in commands:\n",
    "    start = i[0]\n",
    "    end=i[1]\n",
    "    lo = i[2]\n",
    "    for j in range(start-1, end):\n",
    "        arr.append(array[j])\n",
    "    arr.sort()\n",
    "    result.append(arr[lo-1])\n",
    "    arr=[]\n",
    "\n",
    "print(result)\n",
    "\n",
    "# 풀이2\n",
    "\n",
    "def solution(array, commands):\n",
    "    answer = []\n",
    "    temp=[]\n",
    "    for i in commands:\n",
    "        temp=array[i[0]-1:i[1]]\n",
    "        print(temp)\n",
    "        temp=sorted(temp)\n",
    "        answer.append(temp[i[2]-1])\n",
    "    return answer\n",
    "print(solution(array, commands))"
   ]
  },
  {
   "source": [
    "(정렬) 가장 큰 수"
   ],
   "cell_type": "markdown",
   "metadata": {}
  },
  {
   "cell_type": "code",
   "execution_count": null,
   "metadata": {},
   "outputs": [],
   "source": [
    "# 첫번째\n",
    "def solution(numbers):\n",
    "    answer = ''\n",
    "    numbers = list(map(str,numbers))\n",
    "    numbers.sort(key=lambda x:x*3, reverse=True)\n",
    "    if sum(list(map(int,numbers))) == 0: #만약 numbers의 모든수의 합이 0이면\n",
    "       numbers = list(set(numbers)) #numbers에 set(numbers)를 대입\n",
    "    answer = ''.join(numbers)\n",
    "    return answer\n",
    "\n",
    "# 두번째\n",
    "def solution(numbers):\n",
    "    numbers = sorted(list(map(str, numbers)), key=lambda x: x*5, reverse=True) #5부분은 이해가 안감\n",
    "    return str(int(''.join(numbers)))\n",
    "#"
   ]
  },
  {
   "cell_type": "code",
   "execution_count": 72,
   "metadata": {},
   "outputs": [
    {
     "output_type": "stream",
     "name": "stdout",
     "text": [
      "['123']\n['1', '2', '3', '4', '5']\n"
     ]
    }
   ],
   "source": [
    "a = [123, 45]\n",
    "b = []\n",
    "c ='123'\n",
    "print(c.split())\n",
    "for i in a:\n",
    "\n",
    "    for j in str(i):\n",
    "        b.append(j)\n",
    "print(b)"
   ]
  },
  {
   "source": [
    "(정렬) H-Index"
   ],
   "cell_type": "markdown",
   "metadata": {}
  },
  {
   "cell_type": "code",
   "execution_count": null,
   "metadata": {},
   "outputs": [],
   "source": [
    "# 내풀이\n",
    "\n",
    "def solution(citations):\n",
    "    count = 0\n",
    "    max_count = 0\n",
    "    for i in citations:\n",
    "        for j in citations:\n",
    "            \n",
    "            if j>= i:\n",
    "                count += 1\n",
    "        if count > i:\n",
    "            count = i\n",
    "        \n",
    "        if count > max_count:\n",
    "            max_count = count\n",
    "            count = 0\n",
    "        else:\n",
    "            count = 0\n",
    "    \n",
    "    return max_count\n",
    "\n",
    "    # 정답\n",
    "\n",
    "def solution(citations):\n",
    "    answer = 0\n",
    "    citations.sort(reverse=True)\n",
    "    count = 0\n",
    "    for i in range(len(citations)):\n",
    "        if citations[i]>= i+1:\n",
    "            count +=1\n",
    "        else:\n",
    "            break\n",
    "        answer = count\n",
    "    return answer"
   ]
  },
  {
   "source": [
    "(완전탐색) 모의고사"
   ],
   "cell_type": "markdown",
   "metadata": {}
  },
  {
   "cell_type": "code",
   "execution_count": 59,
   "metadata": {},
   "outputs": [
    {
     "output_type": "stream",
     "name": "stdout",
     "text": [
      "[1, 2, 3, 4, 5, 1, 2, 3, 4, 5, 1, 2, 3, 4, 5]\n[2, 1, 2, 3, 2, 4, 2, 5, 2, 1, 2, 3, 2, 4, 2, 5]\n[3, 3, 1, 1, 2, 2, 4, 4, 5, 5, 3, 3, 1, 1, 2, 2, 4, 4, 5, 5]\n"
     ]
    }
   ],
   "source": [
    "import math\n",
    "import operator\n",
    "#dict 에서 items() 함수\n",
    "\n",
    "def solution(answers):\n",
    "    n = len(answers)\n",
    "    first = [1,2,3,4,5]*math.ceil(n/5)\n",
    "    second = [2,1,2,3,2,4,2,5]*math.ceil(n/8)\n",
    "    third = [3,3,1,1,2,2,4,4,5,5]*math.ceil(n/10)\n",
    "    answer = {}\n",
    "    result = []\n",
    "    \n",
    "    f, s, t= 0, 0, 0\n",
    "    \n",
    "    for i in range(n):\n",
    "        \n",
    "        if answers[i] == first[i]:\n",
    "            f += 1\n",
    "        if answers[i] == second[i]:\n",
    "            s += 1\n",
    "        if answers[i] == third[i]:\n",
    "            t += 1\n",
    "    answer[1] = f\n",
    "    answer[2] = s\n",
    "    answer[3] = t\n",
    "    \n",
    "    result = [k for k,v in answer.items() if max(answer.values())== v]\n",
    "    return result\n",
    "\n",
    "#용균이 답을 모두 정의하고 찾아 쓰기.\n",
    "\n",
    "def solution(answers):\n",
    "    answer = []\n",
    "    one = [1,2,3,4,5]*2000\n",
    "    two = [2,1,2,3,2,4,2,5]*1250\n",
    "    three = [3,3,1,1,2,2,4,4,5,5]*1000\n",
    "    o,t,h = 0,0,0\n",
    "    count = []\n",
    "    for i in range(len(answers)):\n",
    "        if answers[i] == one[i]:\n",
    "            o += 1\n",
    "        if answers[i] == two[i]:\n",
    "            t += 1\n",
    "        if answers[i] == three[i]:\n",
    "            h += 1\n",
    "    count.append(o)\n",
    "    count.append(t)\n",
    "    count.append(h)\n",
    "    if o==t and o==h:\n",
    "        answer = [1,2,3]\n",
    "    elif o==t and o>h:\n",
    "        answer = [1,2]\n",
    "    elif o==h and o>t:\n",
    "        answer = [1,3]\n",
    "    elif t==h and t>0:\n",
    "        answer = [2,3]\n",
    "    else:\n",
    "        answer = [count.index(max(count))+1]\n",
    "    return answer\n"
   ]
  },
  {
   "source": [
    "(완전탐색) 소수 찾기"
   ],
   "cell_type": "markdown",
   "metadata": {}
  },
  {
   "cell_type": "code",
   "execution_count": null,
   "metadata": {},
   "outputs": [],
   "source": [
    "# 전체 경우 고려\n",
    "from itertools import permutations\n",
    "import math\n",
    "\n",
    "def is_prime_number(n):\n",
    "    if n==0 or n==1:                              \n",
    "        return False\n",
    "    else:\n",
    "        for i in range(2, int(math.sqrt(n)) + 1):  \n",
    "            if n % i == 0:                      \n",
    "                return False\n",
    "        \n",
    "        return True\n",
    "\n",
    "def solution(numbers):\n",
    "    answer = []\n",
    "    for i in range(1, len(numbers)+1):\n",
    "        arr = list(permutations(numbers, i))\n",
    "        for j in range(len(arr)):\n",
    "            num = int(''.join(map(str, arr[j])))\n",
    "            if is_prime_number(num):\n",
    "                answer.append(num)\n",
    "    answer = len(list(set(answer)))\n",
    "    return answer\n",
    "\n",
    "\n",
    "#가장 큰 수만 고려\n",
    "from itertools import permutations\n",
    "\n",
    "def solution(numbers):\n",
    "    answer = []    \n",
    "    arr = list(permutations(numbers, len(numbers)))\n",
    "    for j in range(len(arr)):\n",
    "        num = int(''.join(map(str, arr[j])))\n",
    "        answer.append(num)\n",
    "    return str(max(answer))"
   ]
  },
  {
   "source": [
    "(완전탐색) 카펫"
   ],
   "cell_type": "markdown",
   "metadata": {}
  },
  {
   "cell_type": "code",
   "execution_count": 63,
   "metadata": {},
   "outputs": [],
   "source": [
    "# 약수로 찾기\n",
    "def solution(brown, yellow):\n",
    "    divisors = []\n",
    "    total = brown + yellow\n",
    "    for i in range(1, total+1):\n",
    "        if i > total/i: # 중복 제거를 위해 나누는 수가 몫보다 커지면 break \n",
    "            break\n",
    "        elif total % i == 0:\n",
    "            divisors.append([total/i, i]) # 약수 모으기\n",
    "\n",
    "    for divisor in divisors:\n",
    "        if yellow == (divisor[0]-2)*(divisor[1]-2) : # 약수-2 곱이 yellow\n",
    "            return divisor\n",
    "\n",
    "# 둘레로 찾기\n",
    "import math\n",
    "\n",
    "def solution(brown, red):\n",
    "    for i in range(1, int(math.sqrt(red))+1): # 제곱근 약수 개념.\n",
    "        if red % i == 0:\n",
    "            if 2*(i + red//i) == brown-4:\n",
    "                return [red//i+2, i+2]"
   ]
  },
  {
   "source": [
    "(탐욕법) 체육복"
   ],
   "cell_type": "markdown",
   "metadata": {}
  },
  {
   "cell_type": "code",
   "execution_count": null,
   "metadata": {},
   "outputs": [],
   "source": []
  },
  {
   "source": [
    "(탐욕법) 조이스틱"
   ],
   "cell_type": "markdown",
   "metadata": {}
  },
  {
   "cell_type": "code",
   "execution_count": null,
   "metadata": {},
   "outputs": [],
   "source": []
  },
  {
   "source": [
    "(탐욕법) 구명 보트"
   ],
   "cell_type": "markdown",
   "metadata": {}
  },
  {
   "cell_type": "code",
   "execution_count": 231,
   "metadata": {
    "tags": []
   },
   "outputs": [
    {
     "output_type": "error",
     "ename": "KeyboardInterrupt",
     "evalue": "",
     "traceback": [
      "\u001b[1;31m---------------------------------------------------------------------------\u001b[0m",
      "\u001b[1;31mKeyboardInterrupt\u001b[0m                         Traceback (most recent call last)",
      "\u001b[1;32m<ipython-input-231-972e1b6feb5d>\u001b[0m in \u001b[0;36m<module>\u001b[1;34m\u001b[0m\n\u001b[0;32m     64\u001b[0m \u001b[0mlimit\u001b[0m \u001b[1;33m=\u001b[0m \u001b[1;36m100\u001b[0m\u001b[1;33m\u001b[0m\u001b[1;33m\u001b[0m\u001b[0m\n\u001b[0;32m     65\u001b[0m \u001b[1;33m\u001b[0m\u001b[0m\n\u001b[1;32m---> 66\u001b[1;33m \u001b[0mprint\u001b[0m\u001b[1;33m(\u001b[0m\u001b[0msolution\u001b[0m\u001b[1;33m(\u001b[0m\u001b[0mpeople\u001b[0m\u001b[1;33m,\u001b[0m \u001b[0mlimit\u001b[0m\u001b[1;33m)\u001b[0m\u001b[1;33m)\u001b[0m\u001b[1;33m\u001b[0m\u001b[1;33m\u001b[0m\u001b[0m\n\u001b[0m",
      "\u001b[1;32m<ipython-input-231-972e1b6feb5d>\u001b[0m in \u001b[0;36msolution\u001b[1;34m(people, limit)\u001b[0m\n\u001b[0;32m     44\u001b[0m         \u001b[0mtemp\u001b[0m \u001b[1;33m=\u001b[0m \u001b[0mboat\u001b[0m\u001b[1;33m\u001b[0m\u001b[1;33m\u001b[0m\u001b[0m\n\u001b[0;32m     45\u001b[0m         \u001b[1;32mwhile\u001b[0m \u001b[0mlen\u001b[0m\u001b[1;33m(\u001b[0m\u001b[0mpeople\u001b[0m\u001b[1;33m)\u001b[0m \u001b[1;33m!=\u001b[0m \u001b[1;36m0\u001b[0m\u001b[1;33m:\u001b[0m\u001b[1;33m\u001b[0m\u001b[1;33m\u001b[0m\u001b[0m\n\u001b[1;32m---> 46\u001b[1;33m             \u001b[0mboat\u001b[0m\u001b[1;33m.\u001b[0m\u001b[0mappend\u001b[0m\u001b[1;33m(\u001b[0m\u001b[0mpeople\u001b[0m\u001b[1;33m.\u001b[0m\u001b[0mpop\u001b[0m\u001b[1;33m(\u001b[0m\u001b[1;33m)\u001b[0m\u001b[1;33m)\u001b[0m\u001b[1;33m\u001b[0m\u001b[1;33m\u001b[0m\u001b[0m\n\u001b[0m\u001b[0;32m     47\u001b[0m             \u001b[1;32mif\u001b[0m \u001b[0msum\u001b[0m\u001b[1;33m(\u001b[0m\u001b[0mboat\u001b[0m\u001b[1;33m)\u001b[0m \u001b[1;33m<=\u001b[0m \u001b[0mlimit\u001b[0m\u001b[1;33m:\u001b[0m\u001b[1;33m\u001b[0m\u001b[1;33m\u001b[0m\u001b[0m\n\u001b[0;32m     48\u001b[0m                 \u001b[0manswer\u001b[0m \u001b[1;33m+=\u001b[0m\u001b[1;36m1\u001b[0m\u001b[1;33m\u001b[0m\u001b[1;33m\u001b[0m\u001b[0m\n",
      "\u001b[1;31mKeyboardInterrupt\u001b[0m: "
     ]
    }
   ],
   "source": [
    "# 큰 수 기준으로 먼저 넣기\n",
    "# temp 만들고 boat는 그냥 숫자로\n",
    "# 한 배에 여러명이 탈 수도 있음\n",
    "\n",
    "\n",
    "# def solution(people, limit):\n",
    "#     answer = 0\n",
    "\n",
    "#     while len(people):\n",
    "#         boat =[]\n",
    "#         temp = []\n",
    "#         people.sort()\n",
    "#         boat.append(people.pop())\n",
    "\n",
    "#         while True:\n",
    "            \n",
    "#             if sum(boat) > limit and len(people) == 0 :\n",
    "#                 temp.append(boat.pop())\n",
    "#                 answer += 1\n",
    "#                 people = temp\n",
    "#                 break\n",
    "\n",
    "#             elif sum(boat) < limit and len(people) != 0:\n",
    "#                 boat.append(people.pop())\n",
    "\n",
    "#             elif sum(boat) > limit and len(people) != 0:\n",
    "#                 temp.append(boat.pop())\n",
    "                \n",
    "#             else:\n",
    "#                 answer += 1\n",
    "#                 people += temp\n",
    "#                 break\n",
    "\n",
    "#     return answer\n",
    "\n",
    "\n",
    "# 내가 뭘 짰는 지 모르겠음\n",
    "\n",
    "# def solution(people, limit):\n",
    "#     answer = 0\n",
    "\n",
    "#     while True:\n",
    "#         if len(people) == 0:\n",
    "#             break\n",
    "#         people.sort()\n",
    "#         boat = [people.pop()]\n",
    "#         temp = boat\n",
    "#         while len(people) != 0:\n",
    "#             boat.append(people.pop())\n",
    "#             if sum(boat) <= limit:\n",
    "#                 answer +=1 \n",
    "#                 people += temp\n",
    "#                 break\n",
    "#             elif sum(boat) > limit and len(people) == 0:\n",
    "#                 answer +=1 \n",
    "#                 temp.append(boat.pop())\n",
    "#                 people = temp\n",
    "#                 break\n",
    "#             else:\n",
    "#                 temp.append(boat.pop())\n",
    "\n",
    "  \n",
    "#     return answer\n",
    "\n",
    "\n",
    "people = [70, 50, 80]\n",
    "limit = 100\n",
    "\n",
    "print(solution(people, limit))\n"
   ]
  },
  {
   "cell_type": "code",
   "execution_count": 162,
   "metadata": {},
   "outputs": [
    {
     "output_type": "stream",
     "name": "stdout",
     "text": [
      "deque([[4, 5, 6], 0, 1, 2, 3])\n[4, 5, 6]\n"
     ]
    }
   ],
   "source": [
    "from collections import deque\n",
    "c= '12345'\n",
    "b =[ 0,1,2,3]\n",
    "b = deque(b)\n",
    "temp = [4,5,6]\n",
    "b.appendleft(temp)\n",
    "# temp = deque(temp)\n",
    "print(b)\n",
    "print(b.popleft())\n",
    "\n",
    "    # b가 4개니까 4번하고 멈춤\n"
   ]
  },
  {
   "source": [
    "(탐욕법) 큰 수 만들기"
   ],
   "cell_type": "markdown",
   "metadata": {}
  },
  {
   "cell_type": "code",
   "execution_count": 218,
   "metadata": {},
   "outputs": [
    {
     "output_type": "stream",
     "name": "stdout",
     "text": [
      "numberk [4, 1, 7, 7, 2]\nanswer []\nnumberk [7, 2, 5]\nanswer [7]\nnumberk [2, 5, 2]\nanswer [7, 7]\nnumberk [2, 8]\nanswer [7, 7, 5]\n[7, 7, 5, 8, 4, 1]\n"
     ]
    }
   ],
   "source": [
    "\n",
    "# number = \"1924\"\n",
    "# k = 2\t\n",
    "\n",
    "# number = \"1231234\"\n",
    "# k =3\n",
    "\n",
    "\n",
    "# number = \"4177252841\"\n",
    "# k =4\n",
    "\n",
    "\n",
    "# number = \"4177252841\"\n",
    "# k = 3\n",
    "\n",
    "\n",
    "# 런타임에러 3 6 10 11 실패 12\n",
    "def solution(number, k):\n",
    "    answer=[]\n",
    "    number=list(map(int,number))\n",
    "    start=0\n",
    "    end=k+1\n",
    "    while k > 0:\n",
    "        numberk=number[start:end]\n",
    "        answer.append(max(numberk))\n",
    "        start += numberk.index(max(numberk))+1      \n",
    "        k -= 1\n",
    "        end += 1\n",
    "\n",
    "        if k == 0:\n",
    "            \n",
    "            answer += number[start:]\n",
    "    answer = list(map(str,answer))\n",
    "    answer = ''.join(answer)\n",
    "    return answer\n",
    "\n",
    "print(solution(number, k))\n",
    "\n",
    "\n",
    "\n",
    "\n",
    "# 런타인 에러 10 12\n",
    "# def solution(number, k):\n",
    "#     answer = []\n",
    "    \n",
    "#     number = list(map(int,number))\n",
    "#     answer.append(number.pop(0))\n",
    "    \n",
    "#     while True:\n",
    "#         if len(answer) == 0:\n",
    "#             answer.append(number.pop(0))\n",
    "\n",
    "#         elif answer[-1] < number[0]:\n",
    "#             answer.pop()\n",
    "#             k -= 1\n",
    "            \n",
    "#             if k == 0:\n",
    "#                 answer.append(number.pop(0))\n",
    "#                 answer += number\n",
    "#                 break\n",
    "#         else:\n",
    "#             answer.append(number.pop(0))\n",
    "\n",
    "#     answer = list(map(str,answer))\n",
    "#     answer = ''.join(answer)\n",
    "\n",
    "    \n",
    "#     return answer\n",
    "\n",
    "# print(solution(number, k))"
   ]
  },
  {
   "source": [
    "SQL 테스트"
   ],
   "cell_type": "markdown",
   "metadata": {}
  },
  {
   "source": [
    "(SQL) 고양이와 개는 몇마리 있을까"
   ],
   "cell_type": "markdown",
   "metadata": {}
  },
  {
   "cell_type": "code",
   "execution_count": null,
   "metadata": {},
   "outputs": [],
   "source": [
    "\n",
    "'''\n",
    "SELECT ANIMAL_TYPE, COUNT(ANIMAL_TYPE)\n",
    "FROM ANIMAL_INS\n",
    "GROUP BY ANIMAL_TYPE\n",
    "ORDER BY ANIMAL_TYPE\n",
    "'''\n"
   ]
  },
  {
   "source": [
    "(SQL) 없어진 기록 찾기"
   ],
   "cell_type": "markdown",
   "metadata": {}
  },
  {
   "cell_type": "code",
   "execution_count": null,
   "metadata": {},
   "outputs": [],
   "source": [
    "'''\n",
    "SELECT ANIMAL_OUTS.ANIMAL_ID, ANIMAL_OUTS.NAME\n",
    "FROM ANIMAL_OUTS\n",
    "LEFT OUTER JOIN ANIMAL_INS\n",
    "ON ANIMAL_OUTS.ANIMAL_ID = ANIMAL_INS.ANIMAL_ID\n",
    "WHERE ANIMAL_INS.ANIMAL_ID IS NULL\n",
    "ORDER BY ANIMAL_OUTS.ANIMAL_ID\n",
    "'''"
   ]
  },
  {
   "source": [
    "(SQL) 동명 동물 수 찾기"
   ],
   "cell_type": "markdown",
   "metadata": {}
  },
  {
   "cell_type": "code",
   "execution_count": null,
   "metadata": {},
   "outputs": [],
   "source": [
    "'''\n",
    "SELECT NAME, COUNT(NAME) AS 'COUNT'\n",
    "FROM ANIMAL_INS\n",
    "GROUP BY NAME\n",
    "HAVING COUNT(NAME) > 1\n",
    "ORDER BY NAME\n",
    "'''"
   ]
  },
  {
   "source": [
    "(SQL) 입양 시각 구하기(1)"
   ],
   "cell_type": "markdown",
   "metadata": {}
  },
  {
   "cell_type": "code",
   "execution_count": null,
   "metadata": {},
   "outputs": [],
   "source": [
    "-- 풀이 1 HAVING\n",
    "'''\n",
    "SELECT HOUR(DATETIME) HOUR, COUNT(DATETIME) COUNT\n",
    "FROM ANIMAL_OUTS\n",
    "GROUP BY HOUR\n",
    "HAVING HOUR>=9 AND HOUR<=19\n",
    "ORDER BY HOUR\n",
    "'''\n",
    "\n",
    "-- 풀이 2 BETWEEN\n",
    "'''\n",
    "SELECT HOUR(DATETIME) HOUR, COUNT(DATETIME) COUNT\n",
    "FROM ANIMAL_OUTS\n",
    "WHERE HOUR(DATETIME) BETWEEN 9 AND 19\n",
    "GROUP BY HOUR\n",
    "ORDER BY HOUR\n",
    "'''"
   ]
  },
  {
   "source": [
    "(SQL) 입양 시각 구하기(2)"
   ],
   "cell_type": "markdown",
   "metadata": {}
  },
  {
   "cell_type": "code",
   "execution_count": null,
   "metadata": {},
   "outputs": [],
   "source": [
    "-- 풀이 1\n",
    "'''\n",
    "SET @hour := -1;\n",
    "\n",
    "SELECT (@hour := @hour + 1) as HOUR,\n",
    "(SELECT COUNT(*) FROM ANIMAL_OUTS WHERE HOUR(DATETIME) = @hour) as COUNT\n",
    "FROM ANIMAL_OUTS\n",
    "WHERE @hour < 23\n",
    "'''"
   ]
  },
  {
   "source": [
    "(SQL) NULL 처리 , IF 문"
   ],
   "cell_type": "markdown",
   "metadata": {}
  },
  {
   "cell_type": "code",
   "execution_count": null,
   "metadata": {},
   "outputs": [],
   "source": [
    "'''\n",
    "SELECT ANIMAL_TYPE, IFNULL(NAME, 'NO name'), SEX_UPON_INTAKE\n",
    "FROM ANIMAL_INS\n",
    "ORDER BY ANIMAL_ID\n",
    "'''"
   ]
  },
  {
   "source": [
    "(SQL) 오랜 기간 보호한 동물"
   ],
   "cell_type": "markdown",
   "metadata": {}
  },
  {
   "cell_type": "code",
   "execution_count": null,
   "metadata": {},
   "outputs": [],
   "source": [
    "'''\n",
    "SELECT I.NAME, I.DATETIME\n",
    "FROM ANIMAL_INS I\n",
    "LEFT OUTER JOIN  ANIMAL_OUTS O\n",
    "ON I.ANIMAL_ID = O.ANIMAL_ID\n",
    "WHERE O.ANIMAL_ID IS NULL\n",
    "ORDER BY I.DATETIME\n",
    "LIMIT 3\n",
    "'''"
   ]
  },
  {
   "cell_type": "code",
   "execution_count": null,
   "metadata": {},
   "outputs": [],
   "source": [
    "(SQL) 오랜 기간 보호한 동물 2"
   ]
  },
  {
   "cell_type": "code",
   "execution_count": null,
   "metadata": {},
   "outputs": [],
   "source": [
    "-- 풀이 1\n",
    "'''\n",
    "SELECT I.ANIMAL_ID, I.NAME\n",
    "FROM ANIMAL_INS I \n",
    "LEFT OUTER JOIN ANIMAL_OUTS O\n",
    "ON I.ANIMAL_ID = O.ANIMAL_ID\n",
    "ORDER BY O.DATETIME-I.DATETIME DESC\n",
    "LIMIT 2\n",
    "'''\n",
    "\n",
    "-- 풀이 2\n",
    "'''\n",
    "SELECT I.ANIMAL_ID, I.NAME\n",
    "FROM ANIMAL_INS I ANIMAL_OUTS O\n",
    "WHERE I.ANIMAL_ID = O.ANIMAL_ID\n",
    "ORDER BY O.DATETIME-I.DATETIME DESC\n",
    "LIMIT 2\n",
    "'''"
   ]
  },
  {
   "source": [
    "(SQL) 이름으로 찾기 IN"
   ],
   "cell_type": "markdown",
   "metadata": {}
  },
  {
   "cell_type": "code",
   "execution_count": null,
   "metadata": {},
   "outputs": [],
   "source": [
    "'''\n",
    "SELECT ANIMAL_ID, NAME, SEX_UPON_INTAKE\n",
    "FROM ANIMAL_INS\n",
    "WHERE NAME IN ('Lucy', 'Ella', 'Pickle', 'Rogan', 'Sabrina', 'Mitty' ) \n",
    "ORDER BY ANIMAL_ID\n",
    "'''"
   ]
  },
  {
   "source": [
    "(SQL) 단어 들어간 것 찾기 LIKE"
   ],
   "cell_type": "markdown",
   "metadata": {}
  },
  {
   "cell_type": "code",
   "execution_count": null,
   "metadata": {},
   "outputs": [],
   "source": [
    "'''\n",
    "SELECT ANIMAL_ID, NAME\n",
    "FROM ANIMAL_INS\n",
    "WHERE NAME LIKE '%EL%' AND ANIMAL_TYPE = 'Dog'\n",
    "ORDER BY NAME\n",
    "'''"
   ]
  },
  {
   "source": [
    "(SQL) CASE WHEN THEN ELSE END"
   ],
   "cell_type": "markdown",
   "metadata": {}
  },
  {
   "cell_type": "code",
   "execution_count": null,
   "metadata": {},
   "outputs": [],
   "source": [
    "'''\n",
    "SELECT ANIMAL_ID, NAME, \n",
    "\n",
    "CASE\n",
    "WHEN SEX_UPON_INTAKE LIKE '%Neutered%' OR SEX_UPON_INTAKE LIKE '%Spayed%' \n",
    "THEN 'O'\n",
    "ELSE 'X'\n",
    "END '중성화'\n",
    "\n",
    "FROM ANIMAL_INS\n",
    "'''"
   ]
  },
  {
   "source": [],
   "cell_type": "markdown",
   "metadata": {}
  },
  {
   "source": [],
   "cell_type": "markdown",
   "metadata": {}
  },
  {
   "source": [
    "코딩책"
   ],
   "cell_type": "markdown",
   "metadata": {}
  },
  {
   "source": [
    "(코테책) 플로이드워셔"
   ],
   "cell_type": "markdown",
   "metadata": {}
  },
  {
   "cell_type": "code",
   "execution_count": null,
   "metadata": {},
   "outputs": [],
   "source": [
    "INF = int(1e9)\n",
    "\n",
    "n = int(input())\n",
    "m = int(input())\n",
    "\n",
    "graph = [[INF]*(n+1) for _ in range(n+1)]\n",
    "\n",
    "for a in range(1, n+1):\n",
    "    for b in range(1, n+1):\n",
    "        if a == b:\n",
    "            graph[a][b] = 0\n",
    "\n",
    "for _ in range(m):\n",
    "    a,b,c = map(int, input().split())\n",
    "    graph[a][b] = c\n",
    "\n",
    "for k in range(1, n+1):\n",
    "    for a in range(1, n+1):\n",
    "        for b in range(1, n+1):\n",
    "            graph[a][b] = min(graph[a][b], graph[a][k]+ graph[k][b])\n",
    "\n",
    "for a in range(1, n+1):\n",
    "    for b in range(1, n+1):\n",
    "        if graph[a][b] == INF:\n",
    "            print(\"INFINITY\", end = \" \")\n",
    "        else:\n",
    "            print(graph[a][b], end= \" \")\n",
    "    print()"
   ]
  },
  {
   "source": [
    "(코테책) 다익스트라"
   ],
   "cell_type": "markdown",
   "metadata": {}
  },
  {
   "cell_type": "code",
   "execution_count": null,
   "metadata": {},
   "outputs": [],
   "source": [
    "import heapq\n",
    "import sys\n",
    "\n",
    "input = sys.stdin.readline\n",
    "INF = int(1e9)\n",
    "#n = 6\n",
    "#m = 11\n",
    "n, m = map(int, input().split())\n",
    "start = int(input())\n",
    "\n",
    "graph = [[] for i in range(n+1)]\n",
    "distance = [INF]*(n+1)\n",
    "\n",
    "for _ in range(m):\n",
    "    a,b,c = map(int, input().split())\n",
    "    graph[a].append((b,c))\n",
    "\n",
    "def dijkstra(start):\n",
    "    q =[]\n",
    "\n",
    "    heapq.heappush(q, (0, start))\n",
    "    distance[start] =0\n",
    "    while q:\n",
    "        dist, now = heapq.heappop(q)\n",
    "        if distance[now] < dist:\n",
    "            continue\n",
    "\n",
    "        for i in graph[now]:\n",
    "            cost = dist + i[1]\n",
    "            if cost < distance[i[0]]:\n",
    "                distance[i[0]] = cost\n",
    "                heapq.heappush(q, (cost, i[0]))\n",
    "\n",
    "dijkstra(start)\n",
    "\n",
    "for i in range(1, n+1):\n",
    "    if distance[i] == INF:\n",
    "        print(\"INFINITY\")\n",
    "    else:\n",
    "        print(distance[i])"
   ]
  }
 ]
}