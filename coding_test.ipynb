{
 "cells": [
  {
   "cell_type": "markdown",
   "source": [
    "(해시) 완주하지 못한 선수"
   ],
   "metadata": {}
  },
  {
   "cell_type": "code",
   "execution_count": 1,
   "source": [
    "par=[\"leo\", \"kiki\", \"eden\"]\r\n",
    "com=\t[\"eden\", \"kiki\"]\r\n",
    "answer=set(par)-set(com)\r\n",
    "print(answer)"
   ],
   "outputs": [
    {
     "output_type": "stream",
     "name": "stdout",
     "text": [
      "{'leo'}\n"
     ]
    }
   ],
   "metadata": {}
  },
  {
   "cell_type": "code",
   "execution_count": 95,
   "source": [
    "par = [\"leo\", \"kiki\", \"eden\"]\r\n",
    "com = [\"eden\", \"kiki\"]\r\n",
    "\r\n",
    "hash={}\r\n",
    "for i in par:\r\n",
    "    if i in hash:\r\n",
    "        hash[i] += 1\r\n",
    "    else:\r\n",
    "        hash[i] = 1\r\n",
    "for i in com:\r\n",
    "    if hash[i] == 1:\r\n",
    "        del hash[i]\r\n",
    "    else:\r\n",
    "        hash[i] -= 1\r\n",
    "print(list(hash.keys())[0])"
   ],
   "outputs": [
    {
     "output_type": "stream",
     "name": "stdout",
     "text": [
      "leo\n"
     ]
    }
   ],
   "metadata": {}
  },
  {
   "cell_type": "markdown",
   "source": [
    "(해쉬) 전화번호 목록"
   ],
   "metadata": {}
  },
  {
   "cell_type": "code",
   "execution_count": 5,
   "source": [
    "\r\n",
    "def solution(phone_book):\r\n",
    "\r\n",
    "    for number in phone_book:\r\n",
    "        temp=\"\"\r\n",
    "        for i in number:\r\n",
    "            temp+=i\r\n",
    "            if temp in phone_book and temp!=number:\r\n",
    "                return False\r\n",
    "\r\n",
    "    return True"
   ],
   "outputs": [
    {
     "output_type": "stream",
     "name": "stdout",
     "text": [
      "False\n"
     ]
    }
   ],
   "metadata": {}
  },
  {
   "cell_type": "code",
   "execution_count": 97,
   "source": [
    "phone_book = [\"119\", \"97674223\", \"1195524421\"]\r\n",
    "\r\n",
    "answer = True\r\n",
    "hash = {}\r\n",
    "for phone_number in phone_book:\r\n",
    "    hash[phone_number] = 1\r\n",
    "\r\n",
    "for phone_number in phone_book:\r\n",
    "    temp = ''\r\n",
    "    for number in phone_number:\r\n",
    "        temp += number\r\n",
    "        if temp in hash and temp != phone_number:\r\n",
    "            answer = False\r\n",
    "print(answer)\r\n",
    "\r\n"
   ],
   "outputs": [
    {
     "output_type": "stream",
     "name": "stdout",
     "text": [
      "False\n"
     ]
    }
   ],
   "metadata": {}
  },
  {
   "cell_type": "markdown",
   "source": [
    "(해쉬) 위장"
   ],
   "metadata": {}
  },
  {
   "cell_type": "code",
   "execution_count": 106,
   "source": [
    "from itertools import combinations\r\n",
    "# clothes = [[\"yellowhat\", \"headgear\"], [\"bluesunglasses\", \"eyewear\"], [\"green_turban\", \"headgear\"]]\r\n",
    "clothes = [[\"crowmask\", \"face\"], [\"bluesunglasses\", \"face\"], [\"smoky_makeup\", \"face\"]]\r\n",
    "cloth=[]\r\n",
    "t=[]\r\n",
    "for i in clothes:\r\n",
    "    cloth.append(i[1])\r\n",
    "    t.append(i[0])\r\n",
    "print(t)\r\n",
    "total=0\r\n",
    "for i in range(len(set(cloth))):\r\n",
    "    \r\n",
    "    total+=len(list(combinations(t, i)))\r\n",
    "print(total+1)"
   ],
   "outputs": [
    {
     "output_type": "stream",
     "name": "stdout",
     "text": [
      "['yellowhat', 'bluesunglasses', 'green_turban']\n",
      "5\n"
     ]
    }
   ],
   "metadata": {}
  },
  {
   "cell_type": "code",
   "execution_count": 114,
   "source": [
    "clothes = [[\"yellowhat\", \"headgear\"], [\"bluesunglasses\", \"eyewear\"], [\"green_turban\", \"headgear\"]]\r\n",
    "style = []\r\n",
    "for i in range(len(clothes)):\r\n",
    "    style.append(clothes[i][1])\r\n",
    "\r\n",
    "count = {}\r\n",
    "\r\n",
    "for i in style:\r\n",
    "    try:\r\n",
    "        count[i] += 1\r\n",
    "    except:\r\n",
    "        count[i] = 1\r\n",
    "\r\n",
    "\r\n",
    "val = list(count.values())\r\n",
    "for a in range(len(val)):\r\n",
    "    val[a] += 1\r\n",
    "\r\n",
    "ans = 1\r\n",
    "for n in val:\r\n",
    "    if n == 0 :\r\n",
    "        ans = 0\r\n",
    "    ans *= n\r\n",
    "print(ans-1)"
   ],
   "outputs": [
    {
     "output_type": "stream",
     "name": "stdout",
     "text": [
      "headgear\n",
      "5\n"
     ]
    }
   ],
   "metadata": {}
  },
  {
   "cell_type": "markdown",
   "source": [
    "(해쉬) 베스트앨범"
   ],
   "metadata": {}
  },
  {
   "cell_type": "code",
   "execution_count": 7,
   "source": [
    "genres=[\"classic\", \"pop\", \"classic\", \"classic\", \"pop\"]\r\n",
    "plays=[500, 600, 150, 800, 2500]\r\n",
    "genres_set = list(set(genres))\r\n",
    "i=0\r\n",
    "play=0\r\n",
    "a={}\r\n",
    "for genre in genres_set:\r\n",
    "    for i in range(len(genres)):\r\n",
    "        if genre == genres[i]:\r\n",
    "            play+=plays[i]\r\n",
    "            i+=1\r\n",
    "        else:\r\n",
    "            i+=1\r\n",
    "    a[genre]=play\r\n",
    "    play=0\r\n",
    "print(a)\r\n"
   ],
   "outputs": [
    {
     "output_type": "stream",
     "name": "stdout",
     "text": [
      "{'classic': 1450, 'pop': 3100}\n"
     ]
    }
   ],
   "metadata": {}
  },
  {
   "cell_type": "code",
   "execution_count": 27,
   "source": [
    "from collections import deque\r\n",
    "import math\r\n",
    "\r\n",
    "progresses = [93, 30, 55]\r\n",
    "speeds = [1, 30, 5]\r\n",
    "\r\n",
    "# progresses = [95, 90, 99, 99, 80, 99]\t\r\n",
    "# speeds = [1, 1, 1, 1, 1, 1]\r\n",
    "\r\n",
    "answer = []\r\n",
    "day = 0\r\n",
    "for i in range(len(progresses)):\r\n",
    "    answer.append(math.ceil((100-progresses[i])/speeds[i]))\r\n",
    "dq = deque(answer)\r\n",
    "a = dq.popleft()\r\n",
    "total = []\r\n",
    "i=1\r\n",
    "\r\n",
    "while True:\r\n",
    "\r\n",
    "    if not dq:\r\n",
    "        total.append(i)\r\n",
    "        break\r\n",
    "\r\n",
    "    elif a >= dq[0]:\r\n",
    "    \r\n",
    "        dq.popleft()\r\n",
    "        i +=1\r\n",
    "    \r\n",
    "    else:\r\n",
    "        total.append(i)\r\n",
    "        a = dq.popleft()\r\n",
    "        i=1\r\n",
    "print(total)"
   ],
   "outputs": [
    {
     "output_type": "stream",
     "name": "stdout",
     "text": [
      "deque([7, 3, 9])\n",
      "[2, 1]\n"
     ]
    }
   ],
   "metadata": {}
  },
  {
   "cell_type": "markdown",
   "source": [
    "(스택/큐) 기능개발"
   ],
   "metadata": {}
  },
  {
   "cell_type": "code",
   "execution_count": null,
   "source": [
    "from collections import deque\r\n",
    "import math\r\n",
    "\r\n",
    "def solution(progresses, speeds):\r\n",
    "    \r\n",
    "    answer = []\r\n",
    "    day = 0\r\n",
    "    for i in range(len(progresses)):\r\n",
    "        answer.append(math.ceil((100-progresses[i])/speeds[i]))\r\n",
    "    dq = deque(answer)\r\n",
    "    a = dq.popleft()\r\n",
    "    total = []\r\n",
    "    i=1\r\n",
    "\r\n",
    "    while True:\r\n",
    "\r\n",
    "        if not dq:\r\n",
    "            total.append(i)\r\n",
    "            break\r\n",
    "\r\n",
    "        elif a >= dq[0]:\r\n",
    "            dq.popleft()\r\n",
    "            i +=1\r\n",
    "\r\n",
    "        else:\r\n",
    "            total.append(i)\r\n",
    "            a = dq.popleft()\r\n",
    "            i=1\r\n",
    "    return total"
   ],
   "outputs": [],
   "metadata": {}
  },
  {
   "cell_type": "markdown",
   "source": [
    "(스택/큐) 프린터"
   ],
   "metadata": {}
  },
  {
   "cell_type": "code",
   "execution_count": 36,
   "source": [
    "from collections import deque\r\n",
    "\r\n",
    "priorities = [1, 1, 9, 1, 1, 1]\r\n",
    "location = 0\r\n",
    "\r\n",
    "dq=deque(priorities)\r\n",
    "answer = 0\r\n",
    "max_num = max(priorities)\r\n",
    "loc = priorities[location]\r\n",
    "i=1\r\n",
    "while True:\r\n",
    "    if max_num==loc:\r\n",
    "        ############# 같은 숫자가 있을 때 카운트가 필요\r\n",
    "\r\n",
    "        break\r\n",
    "    elif max_num==dq.popleft():\r\n",
    "        i+=1\r\n",
    "        max_num = max(dq)\r\n",
    "    else:\r\n",
    "        a=dq.popleft()\r\n",
    "        dq.append(a)\r\n",
    "print(i)"
   ],
   "outputs": [
    {
     "output_type": "stream",
     "name": "stdout",
     "text": [
      "2\n"
     ]
    }
   ],
   "metadata": {}
  },
  {
   "cell_type": "code",
   "execution_count": 144,
   "source": [
    "#all\r\n",
    "b = [1,2,1,4,5]\r\n",
    "print(all(b))\r\n",
    "\r\n",
    "b = [1,2,0,4,5]\r\n",
    "print(all(b))\r\n",
    "\r\n",
    "b=[]\r\n",
    "print(all(b))"
   ],
   "outputs": [
    {
     "output_type": "stream",
     "name": "stdout",
     "text": [
      "True\n",
      "False\n",
      "True\n"
     ]
    }
   ],
   "metadata": {}
  },
  {
   "cell_type": "code",
   "execution_count": 143,
   "source": [
    "#any\r\n",
    "b = [1,2,1,4,5]\r\n",
    "print(any(b))\r\n",
    "\r\n",
    "b = [0,0,0,0,5]\r\n",
    "print(any(b))\r\n",
    "\r\n",
    "b=[]\r\n",
    "print(any(b))"
   ],
   "outputs": [
    {
     "output_type": "stream",
     "name": "stdout",
     "text": [
      "True\n",
      "True\n",
      "False\n"
     ]
    }
   ],
   "metadata": {}
  },
  {
   "cell_type": "markdown",
   "source": [
    "(스택/큐) 다리를 지나는 트럭"
   ],
   "metadata": {}
  },
  {
   "cell_type": "code",
   "execution_count": 138,
   "source": [
    "import collections\r\n",
    "\r\n",
    "br=2\r\n",
    "we=10\r\n",
    "tr=[7,4,5,6]\r\n",
    "tr_d = collections.deque(tr)\r\n",
    "answer = []\r\n",
    "\r\n",
    "total_we = []\r\n",
    "total_we = collections.deque(total_we)\r\n",
    "time = 0\r\n",
    "\r\n",
    "while True:\r\n",
    "\r\n",
    "    if len(total_we) == br or sum(total_we) == we:\r\n",
    "        answer.append(total_we.popleft())\r\n",
    "        time +=1\r\n",
    "    elif sum(total_we) > we:\r\n",
    "        tr_d.appendleft(total_we.pop())\r\n",
    "        answer.append(total_we.popleft())\r\n",
    "    else:\r\n",
    "        try:\r\n",
    "            total_we.append(tr_d.popleft())\r\n",
    "            time +=1 \r\n",
    "        except:\r\n",
    "            answer.append(total_we.popleft())\r\n",
    "            time +=1\r\n",
    "            break\r\n",
    "print(time)\r\n",
    "print(answer)"
   ],
   "outputs": [
    {
     "output_type": "stream",
     "name": "stdout",
     "text": [
      "8\n",
      "[7, 4, 5, 6]\n"
     ]
    }
   ],
   "metadata": {
    "tags": []
   }
  },
  {
   "cell_type": "markdown",
   "source": [
    "(스택/큐) 주식가격"
   ],
   "metadata": {}
  },
  {
   "cell_type": "code",
   "execution_count": null,
   "source": [
    "def solution(prices):\r\n",
    "    answer = [0] * len(prices)\r\n",
    "    for i in range(len(prices)):\r\n",
    "        for j in range(i+1, len(prices)):\r\n",
    "            if prices[i] <= prices[j]:\r\n",
    "                answer[i] += 1\r\n",
    "            else:\r\n",
    "                answer[i] += 1\r\n",
    "                break\r\n",
    "    return answer"
   ],
   "outputs": [],
   "metadata": {}
  },
  {
   "cell_type": "markdown",
   "source": [
    "(힙) 최소, 최대"
   ],
   "metadata": {}
  },
  {
   "cell_type": "code",
   "execution_count": 48,
   "source": [
    "import heapq\r\n",
    "\r\n",
    "heap_items = [1,3,5,7,9]\r\n",
    "# heap로 바꾸기\r\n",
    "heapq.heapify(heap_items)\r\n",
    "print(heap_items)\r\n",
    "\r\n",
    "max_heap = []\r\n",
    "for item in heap_items:\r\n",
    "  heapq.heappush(max_heap, (-item, item))\r\n",
    "\r\n",
    "print(max_heap)\r\n",
    "print(heapq.heappop(max_heap)[1])"
   ],
   "outputs": [
    {
     "output_type": "stream",
     "name": "stdout",
     "text": [
      "[1, 3, 5, 7, 9]\n",
      "None\n",
      "[(-9, 9), (-7, 7), (-3, 3), (-1, 1), (-5, 5)]\n",
      "9\n"
     ]
    }
   ],
   "metadata": {}
  },
  {
   "cell_type": "markdown",
   "source": [
    "(힙) 더맵게"
   ],
   "metadata": {}
  },
  {
   "cell_type": "code",
   "execution_count": null,
   "source": [
    "import heapq\r\n",
    "\r\n",
    "def solution(scoville, K):\r\n",
    "    i=0\r\n",
    "    heapq.heapify(scoville)\r\n",
    "    while True:\r\n",
    "        min1 = heapq.heappop(scoville)\r\n",
    "        if min1 >= K:\r\n",
    "            return i\r\n",
    "        elif len(scoville)==0:\r\n",
    "            return -1\r\n",
    "        else:\r\n",
    "            min2 = heapq.heappop(scoville)\r\n",
    "            a = min1 + (min2*2)\r\n",
    "            scoville.append(a)\r\n",
    "            i+=1"
   ],
   "outputs": [],
   "metadata": {}
  },
  {
   "cell_type": "markdown",
   "source": [
    "(힙) 디스크 컨트롤러"
   ],
   "metadata": {}
  },
  {
   "cell_type": "code",
   "execution_count": 44,
   "source": [
    "jobs = [[0, 3], [1, 9], [2, 6]]\r\n",
    "n = len(jobs)\r\n",
    "time = 0\r\n",
    "delay =0\r\n",
    "\r\n",
    "jobs = sorted(jobs, key=lambda x: x[1])  # 소요시간 우선 정렬\r\n",
    "\r\n",
    "while len(jobs)>0:\r\n",
    "    for i in range(len(jobs)):\r\n",
    "        if time >= jobs[i][0]:\r\n",
    "            time += jobs[i][1]\r\n",
    "            delay += time - jobs[i][0]\r\n",
    "            jobs.pop(i)\r\n",
    "\r\n",
    "            break\r\n",
    "        if i == len(jobs) - 1:\r\n",
    "            time += 1\r\n",
    "\r\n",
    "print(delay // n)"
   ],
   "outputs": [
    {
     "output_type": "stream",
     "name": "stdout",
     "text": [
      "9\n"
     ]
    }
   ],
   "metadata": {}
  },
  {
   "cell_type": "markdown",
   "source": [
    "(힙) 이중우선순위큐"
   ],
   "metadata": {}
  },
  {
   "cell_type": "code",
   "execution_count": 42,
   "source": [
    "import re\r\n",
    "\r\n",
    "def solution(operations):\r\n",
    "    answer = []\r\n",
    "    num = []\r\n",
    "    for i in operations:\r\n",
    "        if 'I' in i:\r\n",
    "            \r\n",
    "            num.append(int(re.findall('[-+]?\\d+', i)[0]))\r\n",
    "\r\n",
    "        elif i == \"D -1\":\r\n",
    "            if not num:\r\n",
    "                continue\r\n",
    "            num.remove(min(num))\r\n",
    "        elif i == \"D 1\":\r\n",
    "            if not num:\r\n",
    "                continue\r\n",
    "            num.remove(max(num))\r\n",
    "\r\n",
    "\r\n",
    "    if not num:\r\n",
    "        return [0,0]\r\n",
    "    else :\r\n",
    "        return [max(num), min(num)]"
   ],
   "outputs": [],
   "metadata": {}
  },
  {
   "cell_type": "markdown",
   "source": [
    "(정렬) K번째 수"
   ],
   "metadata": {}
  },
  {
   "cell_type": "code",
   "execution_count": 75,
   "source": [
    "# 풀이1\r\n",
    "array = [1, 5, 2, 6, 3, 7, 4]\r\n",
    "commands = [[2, 5, 3], [4, 4, 1], [1, 7, 3]]\r\n",
    "arr = []\r\n",
    "result = []\r\n",
    "\r\n",
    "for i in commands:\r\n",
    "    start = i[0]\r\n",
    "    end=i[1]\r\n",
    "    lo = i[2]\r\n",
    "    for j in range(start-1, end):\r\n",
    "        arr.append(array[j])\r\n",
    "    arr.sort()\r\n",
    "    result.append(arr[lo-1])\r\n",
    "    arr=[]\r\n",
    "\r\n",
    "print(result)\r\n",
    "\r\n",
    "# 풀이2\r\n",
    "\r\n",
    "def solution(array, commands):\r\n",
    "    answer = []\r\n",
    "    temp=[]\r\n",
    "    for i in commands:\r\n",
    "        temp=array[i[0]-1:i[1]]\r\n",
    "        print(temp)\r\n",
    "        temp=sorted(temp)\r\n",
    "        answer.append(temp[i[2]-1])\r\n",
    "    return answer\r\n",
    "print(solution(array, commands))"
   ],
   "outputs": [
    {
     "output_type": "stream",
     "name": "stdout",
     "text": [
      "[5, 2, 6, 3]\n",
      "[6]\n",
      "[1, 5, 2, 6, 3, 7, 4]\n",
      "[5, 6, 3]\n"
     ]
    }
   ],
   "metadata": {}
  },
  {
   "cell_type": "markdown",
   "source": [
    "(정렬) 가장 큰 수"
   ],
   "metadata": {}
  },
  {
   "cell_type": "code",
   "execution_count": null,
   "source": [
    "# 첫번째\r\n",
    "def solution(numbers):\r\n",
    "    answer = ''\r\n",
    "    numbers = list(map(str,numbers))\r\n",
    "    numbers.sort(key=lambda x:x*3, reverse=True)\r\n",
    "    if sum(list(map(int,numbers))) == 0: #만약 numbers의 모든수의 합이 0이면\r\n",
    "       numbers = list(set(numbers)) #numbers에 set(numbers)를 대입\r\n",
    "    answer = ''.join(numbers)\r\n",
    "    return answer\r\n",
    "\r\n",
    "# 두번째\r\n",
    "def solution(numbers):\r\n",
    "    numbers = sorted(list(map(str, numbers)), key=lambda x: x*5, reverse=True) #5부분은 이해가 안감\r\n",
    "    return str(int(''.join(numbers)))\r\n",
    "#"
   ],
   "outputs": [],
   "metadata": {}
  },
  {
   "cell_type": "code",
   "execution_count": 72,
   "source": [
    "a = [123, 45]\r\n",
    "b = []\r\n",
    "c ='123'\r\n",
    "print(c.split())\r\n",
    "for i in a:\r\n",
    "\r\n",
    "    for j in str(i):\r\n",
    "        b.append(j)\r\n",
    "print(b)"
   ],
   "outputs": [
    {
     "output_type": "stream",
     "name": "stdout",
     "text": [
      "['123']\n",
      "['1', '2', '3', '4', '5']\n"
     ]
    }
   ],
   "metadata": {}
  },
  {
   "cell_type": "markdown",
   "source": [
    "(정렬) H-Index"
   ],
   "metadata": {}
  },
  {
   "cell_type": "code",
   "execution_count": null,
   "source": [
    "# 내풀이\r\n",
    "\r\n",
    "def solution(citations):\r\n",
    "    count = 0\r\n",
    "    max_count = 0\r\n",
    "    for i in citations:\r\n",
    "        for j in citations:\r\n",
    "            \r\n",
    "            if j>= i:\r\n",
    "                count += 1\r\n",
    "        if count > i:\r\n",
    "            count = i\r\n",
    "        \r\n",
    "        if count > max_count:\r\n",
    "            max_count = count\r\n",
    "            count = 0\r\n",
    "        else:\r\n",
    "            count = 0\r\n",
    "    \r\n",
    "    return max_count\r\n",
    "\r\n",
    "    # 정답\r\n",
    "\r\n",
    "def solution(citations):\r\n",
    "    answer = 0\r\n",
    "    citations.sort(reverse=True)\r\n",
    "    count = 0\r\n",
    "    for i in range(len(citations)):\r\n",
    "        if citations[i]>= i+1:\r\n",
    "            count +=1\r\n",
    "        else:\r\n",
    "            break\r\n",
    "        answer = count\r\n",
    "    return answer"
   ],
   "outputs": [],
   "metadata": {}
  },
  {
   "cell_type": "markdown",
   "source": [
    "(완전탐색) 모의고사"
   ],
   "metadata": {}
  },
  {
   "cell_type": "code",
   "execution_count": 59,
   "source": [
    "import math\r\n",
    "import operator\r\n",
    "#dict 에서 items() 함수\r\n",
    "\r\n",
    "def solution(answers):\r\n",
    "    n = len(answers)\r\n",
    "    first = [1,2,3,4,5]*math.ceil(n/5)\r\n",
    "    second = [2,1,2,3,2,4,2,5]*math.ceil(n/8)\r\n",
    "    third = [3,3,1,1,2,2,4,4,5,5]*math.ceil(n/10)\r\n",
    "    answer = {}\r\n",
    "    result = []\r\n",
    "    \r\n",
    "    f, s, t= 0, 0, 0\r\n",
    "    \r\n",
    "    for i in range(n):\r\n",
    "        \r\n",
    "        if answers[i] == first[i]:\r\n",
    "            f += 1\r\n",
    "        if answers[i] == second[i]:\r\n",
    "            s += 1\r\n",
    "        if answers[i] == third[i]:\r\n",
    "            t += 1\r\n",
    "    answer[1] = f\r\n",
    "    answer[2] = s\r\n",
    "    answer[3] = t\r\n",
    "    \r\n",
    "    result = [k for k,v in answer.items() if max(answer.values())== v]\r\n",
    "    return result\r\n",
    "\r\n",
    "#용균이 답을 모두 정의하고 찾아 쓰기.\r\n",
    "\r\n",
    "def solution(answers):\r\n",
    "    answer = []\r\n",
    "    one = [1,2,3,4,5]*2000\r\n",
    "    two = [2,1,2,3,2,4,2,5]*1250\r\n",
    "    three = [3,3,1,1,2,2,4,4,5,5]*1000\r\n",
    "    o,t,h = 0,0,0\r\n",
    "    count = []\r\n",
    "    for i in range(len(answers)):\r\n",
    "        if answers[i] == one[i]:\r\n",
    "            o += 1\r\n",
    "        if answers[i] == two[i]:\r\n",
    "            t += 1\r\n",
    "        if answers[i] == three[i]:\r\n",
    "            h += 1\r\n",
    "    count.append(o)\r\n",
    "    count.append(t)\r\n",
    "    count.append(h)\r\n",
    "    if o==t and o==h:\r\n",
    "        answer = [1,2,3]\r\n",
    "    elif o==t and o>h:\r\n",
    "        answer = [1,2]\r\n",
    "    elif o==h and o>t:\r\n",
    "        answer = [1,3]\r\n",
    "    elif t==h and t>0:\r\n",
    "        answer = [2,3]\r\n",
    "    else:\r\n",
    "        answer = [count.index(max(count))+1]\r\n",
    "    return answer\r\n"
   ],
   "outputs": [
    {
     "output_type": "stream",
     "name": "stdout",
     "text": [
      "[1, 2, 3, 4, 5, 1, 2, 3, 4, 5, 1, 2, 3, 4, 5]\n",
      "[2, 1, 2, 3, 2, 4, 2, 5, 2, 1, 2, 3, 2, 4, 2, 5]\n",
      "[3, 3, 1, 1, 2, 2, 4, 4, 5, 5, 3, 3, 1, 1, 2, 2, 4, 4, 5, 5]\n"
     ]
    }
   ],
   "metadata": {}
  },
  {
   "cell_type": "markdown",
   "source": [
    "(완전탐색) 소수 찾기"
   ],
   "metadata": {}
  },
  {
   "cell_type": "code",
   "execution_count": null,
   "source": [
    "# 전체 경우 고려\r\n",
    "from itertools import permutations\r\n",
    "import math\r\n",
    "\r\n",
    "def is_prime_number(n):\r\n",
    "    if n==0 or n==1:                              \r\n",
    "        return False\r\n",
    "    else:\r\n",
    "        for i in range(2, int(math.sqrt(n)) + 1):  \r\n",
    "            if n % i == 0:                      \r\n",
    "                return False\r\n",
    "        \r\n",
    "        return True\r\n",
    "\r\n",
    "def solution(numbers):\r\n",
    "    answer = []\r\n",
    "    for i in range(1, len(numbers)+1):\r\n",
    "        arr = list(permutations(numbers, i))\r\n",
    "        for j in range(len(arr)):\r\n",
    "            num = int(''.join(map(str, arr[j])))\r\n",
    "            if is_prime_number(num):\r\n",
    "                answer.append(num)\r\n",
    "    answer = len(list(set(answer)))\r\n",
    "    return answer\r\n",
    "\r\n",
    "\r\n",
    "#가장 큰 수만 고려\r\n",
    "from itertools import permutations\r\n",
    "\r\n",
    "def solution(numbers):\r\n",
    "    answer = []    \r\n",
    "    arr = list(permutations(numbers, len(numbers)))\r\n",
    "    for j in range(len(arr)):\r\n",
    "        num = int(''.join(map(str, arr[j])))\r\n",
    "        answer.append(num)\r\n",
    "    return str(max(answer))"
   ],
   "outputs": [],
   "metadata": {}
  },
  {
   "cell_type": "markdown",
   "source": [
    "(완전탐색) 카펫"
   ],
   "metadata": {}
  },
  {
   "cell_type": "code",
   "execution_count": 63,
   "source": [
    "# 약수로 찾기\r\n",
    "def solution(brown, yellow):\r\n",
    "    divisors = []\r\n",
    "    total = brown + yellow\r\n",
    "    for i in range(1, total+1):\r\n",
    "        if i > total/i: # 중복 제거를 위해 나누는 수가 몫보다 커지면 break \r\n",
    "            break\r\n",
    "        elif total % i == 0:\r\n",
    "            divisors.append([total/i, i]) # 약수 모으기\r\n",
    "\r\n",
    "    for divisor in divisors:\r\n",
    "        if yellow == (divisor[0]-2)*(divisor[1]-2) : # 약수-2 곱이 yellow\r\n",
    "            return divisor\r\n",
    "\r\n",
    "# 둘레로 찾기\r\n",
    "import math\r\n",
    "\r\n",
    "def solution(brown, red):\r\n",
    "    for i in range(1, int(math.sqrt(red))+1): # 제곱근 약수 개념.\r\n",
    "        if red % i == 0:\r\n",
    "            if 2*(i + red//i) == brown-4:\r\n",
    "                return [red//i+2, i+2]"
   ],
   "outputs": [],
   "metadata": {}
  },
  {
   "cell_type": "markdown",
   "source": [
    "(탐욕법) 체육복"
   ],
   "metadata": {}
  },
  {
   "cell_type": "code",
   "execution_count": 243,
   "source": [
    "def solution(n, lost, reserve):\r\n",
    "    count=0\r\n",
    "    lost2=lost[:] # 새로 저장 공간을 부여\r\n",
    "                                                                        \r\n",
    "    for x in lost2: #같은 사이즈 있으면 먼저 제거\r\n",
    "        if x in reserve:\r\n",
    "            reserve.remove(x)\r\n",
    "            lost.remove(x)\r\n",
    "            count+=1\r\n",
    "            print(lost2)\r\n",
    "\r\n",
    "\r\n",
    "    for i in lost: \r\n",
    "        for k in reserve:\r\n",
    "            if abs(k-i)==1:\r\n",
    "                count+=1\r\n",
    "                reserve.remove(k) #reserve학생은 여벌의 체육복이 1개이므로 한번 빌려주면 리스트에서 삭제 (중복방지)\r\n",
    "                break #lost학생이 여러번 체육복을 받을수 없게 함\r\n",
    "\r\n",
    "    return (n-len(lost2)+count)\r\n"
   ],
   "outputs": [],
   "metadata": {}
  },
  {
   "cell_type": "code",
   "execution_count": 242,
   "source": [
    "a =[2, 4]\r\n",
    "b = a\r\n",
    "c = a[:]\r\n",
    "print(b)\r\n",
    "print(c)\r\n",
    "print(id(a))\r\n",
    "print(id(b))\r\n",
    "print(id(c))"
   ],
   "outputs": [
    {
     "output_type": "stream",
     "name": "stdout",
     "text": [
      "[2, 4]\n",
      "[2, 4]\n",
      "2662264603136\n",
      "2662264603136\n",
      "2662273715648\n"
     ]
    }
   ],
   "metadata": {}
  },
  {
   "cell_type": "markdown",
   "source": [
    "(탐욕법) 조이스틱"
   ],
   "metadata": {}
  },
  {
   "cell_type": "code",
   "execution_count": 326,
   "source": [
    "import string\r\n",
    "from collections import deque\r\n",
    "alpha = string.ascii_uppercase\r\n",
    "\r\n",
    "name ='JEROEN'\r\n",
    "name = 'JAN'\r\n",
    "#name = 'JJAAAN'\r\n",
    "#alpha = deque(alpha)\r\n",
    "alpha_a = alpha[:13]\r\n",
    "alpha_z =''\r\n",
    "alpha2= ''\r\n",
    "for i in alpha[13:]:\r\n",
    "    alpha_z = i + alpha_z\r\n",
    "print(alpha_z)\r\n",
    "for i in alpha[13:]:\r\n",
    "    alpha2 = alpha2 + i\r\n",
    "print(alpha2)\r\n",
    "for i in name:\r\n",
    "    \r\n",
    "    if i in alpha_a:\r\n",
    "        count += alpha_a.index(i)+1\r\n",
    "    else:\r\n",
    "        count += alpha_z.index(i)+2\r\n",
    "print(count-1)\r\n"
   ],
   "outputs": [
    {
     "output_type": "stream",
     "name": "stdout",
     "text": [
      "ZYXWVUTSRQPON\n",
      "NOPQRSTUVWXYZ\n",
      "74\n"
     ]
    }
   ],
   "metadata": {}
  },
  {
   "cell_type": "markdown",
   "source": [
    "(탐욕법) 구명 보트"
   ],
   "metadata": {}
  },
  {
   "cell_type": "code",
   "execution_count": 294,
   "source": [
    "people = [70, 50, 80]\r\n",
    "limit = 100\r\n",
    "\r\n",
    "\r\n",
    "# 성훈이\r\n",
    "def solution(people, limit):\r\n",
    "    sum_limit = 0\r\n",
    "    people.sort()\r\n",
    "    answer = 0\r\n",
    "    while len(people) != 0:\r\n",
    "        sum_limit = people.pop()\r\n",
    "        answer += 1\r\n",
    "        if len(people) ==0:\r\n",
    "            break\r\n",
    "        elif limit - sum_limit >= people[0]:\r\n",
    "            people.pop(0)\r\n",
    "    return answer\r\n",
    "print(solution(people, limit))\r\n",
    "\r\n",
    "\r\n",
    "# indexing\r\n",
    "def solution(people, limit):\r\n",
    "    answer = 0\r\n",
    "    start = 0\r\n",
    "    end = len(people) -1\r\n",
    "    while end>=start:\r\n",
    "        if people[start] + people[end] <= limit:\r\n",
    "            start += 1\r\n",
    "        end -= 1\r\n",
    "        answer += 1\r\n",
    "    return answer\r\n"
   ],
   "outputs": [
    {
     "output_type": "stream",
     "name": "stdout",
     "text": [
      "[80, 70]\n",
      "[80, 50]\n",
      "[70, 50]\n",
      "3\n"
     ]
    }
   ],
   "metadata": {
    "tags": []
   }
  },
  {
   "cell_type": "code",
   "execution_count": 162,
   "source": [
    "from collections import deque\r\n",
    "c= '12345'\r\n",
    "b =[0,1,2,3]\r\n",
    "b = deque(b)\r\n",
    "temp = [4,5,6]\r\n",
    "b.appendleft(temp)\r\n",
    "# temp = deque(temp)\r\n",
    "print(b)\r\n",
    "print(b.popleft())\r\n",
    "\r\n",
    "    # b가 4개니까 4번하고 멈춤\r\n"
   ],
   "outputs": [
    {
     "output_type": "stream",
     "name": "stdout",
     "text": [
      "deque([[4, 5, 6], 0, 1, 2, 3])\n",
      "[4, 5, 6]\n"
     ]
    }
   ],
   "metadata": {}
  },
  {
   "cell_type": "markdown",
   "source": [
    "(탐욕법) 큰 수 만들기"
   ],
   "metadata": {}
  },
  {
   "cell_type": "code",
   "execution_count": 347,
   "source": [
    "\r\n",
    "# number = \"1924\"\r\n",
    "# k = 2\t\r\n",
    "\r\n",
    "# number = \"1231234\"\r\n",
    "# k =3\r\n",
    "\r\n",
    "# number = \"4177252841\"\r\n",
    "# k =4\r\n",
    "\r\n",
    "number = \"4177252841\"\r\n",
    "k = 4\r\n",
    "\r\n",
    "\r\n",
    "# 런타인 에러 10\r\n",
    "def solution(number, k):\r\n",
    "    answer = []\r\n",
    "    \r\n",
    "    number = list(map(int,number))\r\n",
    "    answer.append(number.pop(0))\r\n",
    "    \r\n",
    "    while len(number):\r\n",
    "        if len(answer) == 0:\r\n",
    "            answer.append(number.pop(0))\r\n",
    "\r\n",
    "        elif answer[-1] < number[0]:\r\n",
    "            answer.pop()\r\n",
    "            k -= 1\r\n",
    "            \r\n",
    "            if k == 0:\r\n",
    "                answer.append(number.pop(0))\r\n",
    "                answer += number\r\n",
    "                break\r\n",
    "        else:\r\n",
    "            answer.append(number.pop(0))\r\n",
    "\r\n",
    "    answer = ''.join(map(str,answer[:len(answer)-k]))\r\n",
    "    return answer\r\n",
    "print(solution(number, k))\r\n",
    "\r\n",
    "# 정답\r\n",
    "# def solution(number, k):\r\n",
    "\r\n",
    "#     number = list(map(int,number))\r\n",
    "#     stack = [number.pop(0)]\r\n",
    "\r\n",
    "#     for i in number:\r\n",
    "#         while len(stack)>0 and stack[-1]< i and k>0:\r\n",
    "#             stack.pop()\r\n",
    "#             k -= 1\r\n",
    "#         stack.append(i)\r\n",
    "    \r\n",
    "#     if k != 0:\r\n",
    "#         stack = stack[:-k]\r\n",
    "\r\n",
    "#     answer = list(map(str,stack))\r\n",
    "#     answer = ''.join(answer)\r\n",
    "#     return answer\r\n",
    "\r\n",
    "# print(solution(number, k))"
   ],
   "outputs": [
    {
     "output_type": "stream",
     "name": "stdout",
     "text": [
      "775841\n"
     ]
    }
   ],
   "metadata": {}
  },
  {
   "cell_type": "markdown",
   "source": [
    "(탐욕법) 섬 연결하기"
   ],
   "metadata": {}
  },
  {
   "cell_type": "code",
   "execution_count": 362,
   "source": [
    "n = 4\t\r\n",
    "costs =\t[[0,1,1],[0,2,2],[1,2,5],[1,3,1],[2,3,8]]\r\n",
    "\r\n",
    "def solution(n, costs):\r\n",
    "    # kruskal algorithm\r\n",
    "    ans = 0\r\n",
    "    costs.sort(key = lambda x: x[2]) # cost 기준으로 오름차순 정렬\r\n",
    "    routes = set([costs[0][0]]) # cost가 가장 작은 섬부터 시작\r\n",
    "    while len(routes)!=n: # routes = n 이 되면 모든 섬이 연결된 것\r\n",
    "        for i, cost in enumerate(costs): # cost 기준으로 오름차순 정렬에 인덱스를 부여\r\n",
    "            if cost[0] in routes and cost[1] in routes: # cost[0]과 cost[1]이 routes 안에 있다면 이 두 섬은 이미 이어져 있는 것\r\n",
    "                continue\r\n",
    "            if cost[0] in routes or cost[1] in routes: # 하나만 있다면 이 두 섬은 이을 수 있는 상태\r\n",
    "                routes.update([cost[0], cost[1]]) # update는 집합(set)에 여러 개의 값을 한꺼번에 추가할 때 쓰는 것. 한 개 추가는 add를 사용\r\n",
    "                ans += cost[2] # 2번 인덱스는 [0,1,1] 에서 cost를 의미하는 맨 뒤 1이므로 ans에 추가해서 카운팅\r\n",
    "                #costs[i] = [-1, -1, -1] # i 번째 cost는 모두 사용 했으므로, 똥 값 처리 ( if 문 지나칠 수 있게)\r\n",
    "                del(costs[i])\r\n",
    "                print(costs)\r\n",
    "                # del(costs[i])이 조금 더 빠름. costs에서 delete해서 for 구문이 덜 돌음.\r\n",
    "                break\r\n",
    "    return ans\r\n",
    "\r\n",
    "print(solution(n, costs))"
   ],
   "outputs": [
    {
     "output_type": "stream",
     "name": "stdout",
     "text": [
      "[[1, 3, 1], [0, 2, 2], [1, 2, 5], [2, 3, 8]]\n",
      "[[0, 2, 2], [1, 2, 5], [2, 3, 8]]\n",
      "[[1, 2, 5], [2, 3, 8]]\n",
      "4\n"
     ]
    }
   ],
   "metadata": {}
  },
  {
   "cell_type": "markdown",
   "source": [
    "(탐욕법)  단속카메라"
   ],
   "metadata": {}
  },
  {
   "cell_type": "code",
   "execution_count": 407,
   "source": [
    "def solution(routes):\r\n",
    "    camera = 1 # 시작할 때 찍히는 차량\r\n",
    "    routes.sort(key=lambda x : x[1]) # 출구 거리가 가까운 순서대로 정렬\r\n",
    "    cars = set([0]) # 카메라를 만난 자동차들\r\n",
    "    end_point = routes[0][1]   # 가장 가까운 출구(end point)\r\n",
    "\r\n",
    "    while len(cars) != len(routes): # 두 개가 같아지면 cars은 카메라를 모두 만난 것\r\n",
    "\r\n",
    "        for i in range(len(cars),len(routes)): # 시작 len(cars)는 통과된 차량은 빼고 통과하지 못한 차량부터 다시 카운트\r\n",
    "\r\n",
    "            if routes[i][0] <= end_point <= routes[i][1]: # 가장 가까운 출구 위치가 route 안에 포함되는 차량은 그 지점에 카메라를 놓으면 해당 차량들은 모두 카메라를 만나게 됨\r\n",
    "                cars.update([i]) # 그래서 카메라를 만난 차량들 업데이트\r\n",
    "            else:\r\n",
    "                camera += 1 # 그렇지 않으면 현재까지 한대의 카메라로 여러 차량이 통과했기 때문에 카메라 갯수 +1\r\n",
    "                end_point = routes[i][1] # 통과하지 못한 차량의 출구 위치를 end point 로 재설정\r\n",
    "                break\r\n",
    "\r\n",
    "    return camera\r\n",
    "\r\n",
    "routes = [[-20,15], [-14,-5], [-18,-13], [-5,-3]]\r\n",
    "print(solution(routes))"
   ],
   "outputs": [
    {
     "output_type": "stream",
     "name": "stdout",
     "text": [
      "2\n"
     ]
    }
   ],
   "metadata": {
    "tags": []
   }
  },
  {
   "cell_type": "code",
   "execution_count": 367,
   "source": [
    "a=set([1])\r\n",
    "print(a)\r\n"
   ],
   "outputs": [
    {
     "output_type": "stream",
     "name": "stdout",
     "text": [
      "{1}\n"
     ]
    }
   ],
   "metadata": {}
  },
  {
   "cell_type": "code",
   "execution_count": 350,
   "source": [
    "str_list = ['좋은하루','good_morning','굿모닝','niceday']\r\n",
    "print(sorted(str_list, key=len))  # 함수\r\n",
    "print(sorted(str_list, key=lambda x : x[0]))  # 람다\r\n",
    "print(sorted(str_list, key=lambda x : x[1]))  # 람다"
   ],
   "outputs": [
    {
     "output_type": "stream",
     "name": "stdout",
     "text": [
      "['굿모닝', '좋은하루', 'niceday', 'good_morning']\n",
      "['good_morning', 'niceday', '굿모닝', '좋은하루']\n",
      "['niceday', 'good_morning', '굿모닝', '좋은하루']\n"
     ]
    }
   ],
   "metadata": {}
  },
  {
   "cell_type": "markdown",
   "source": [
    "(동적계획법) N으로 표현"
   ],
   "metadata": {}
  },
  {
   "cell_type": "code",
   "execution_count": 2,
   "source": [
    "def solution(N, number):\r\n",
    "    if N == number: # N과 number 가 같으면 최솟값은 1\r\n",
    "        return 1\r\n",
    "        \r\n",
    "    s = [ set() for x in range(8) ] # 리스트 안에 집합으로 초기화\r\n",
    "    # [set(), set(), set(), set(), set(), set(), set(), set()]\r\n",
    "\r\n",
    "\r\n",
    "\r\n",
    "    # 같은 수를 여러번 사용해서 만들 수 있는 수\r\n",
    "    for i,x in enumerate(s, start=1):   # 문자열에 0을 곱하면 '' 없음이 됨. 그래서 start = 1 부터\r\n",
    "        x.add( int( str(N) * i ) )  # N * i 로 초기화\r\n",
    "\r\n",
    "    # 사칙연산을 통해 만들 수 있는 수\r\n",
    "    for i in range(1, 8):\r\n",
    "        for j in range(i):\r\n",
    "            for op1 in s[j]:\r\n",
    "                for op2 in s[i-j-1]:\r\n",
    "                    s[i].add(op1 + op2)\r\n",
    "                    s[i].add(op1 - op2)\r\n",
    "                    s[i].add(op1 * op2)\r\n",
    "                    print(s)\r\n",
    "                    if op2 != 0:\r\n",
    "                        s[i].add(op1 // op2)\r\n",
    "\r\n",
    "        if  number in s[i]: # 같은 수 중복, 1번 조합 2번 조합 ... 해서 일치하는 것 찾기\r\n",
    "            answer = i + 1  # 인덱스로 카운트하니까 조합된 수는 +1 해줘야함\r\n",
    "            break\r\n",
    "\r\n",
    "    else:\r\n",
    "        answer = -1\r\n",
    "\r\n",
    "    return answer\r\n",
    "# N=5\r\n",
    "# number=12\r\n",
    "# print(solution(N,number))"
   ],
   "outputs": [],
   "metadata": {}
  },
  {
   "cell_type": "markdown",
   "source": [
    "(동적계획법) 정수 삼각형"
   ],
   "metadata": {}
  },
  {
   "cell_type": "code",
   "execution_count": null,
   "source": [
    "# 풀이 1\r\n",
    "def solution(triangle):\r\n",
    "    for rows in range(1, len(triangle)):    # 꼭대기 층인 0은 이미 누적이라 생각하고 1부터  시작\r\n",
    "        for idx in range(rows + 1): #1층은 아래 2개 2층은 아래 3개 3층은 아래가 4개이기에 row + 1\r\n",
    "            if idx == 0:    # 왼쪽 끝\r\n",
    "                triangle[rows][idx] += triangle[rows-1][idx]\r\n",
    "            elif idx == rows:   # 오른쪽 끝\r\n",
    "                triangle[rows][idx] += triangle[rows-1][-1]\r\n",
    "            else:   # 가운데는 max 값을 기준으로 더해줌\r\n",
    "                triangle[rows][idx] += max(triangle[rows-1][idx-1], triangle[rows-1][idx])\r\n",
    "    print(triangle[-1])\r\n",
    "\treturn max(triangle[-1])   # 맨 마지막 행은 맨 아래층이기 때문에 여기서 max 값을 찾으면 된다.\r\n",
    "# triangle = [[7], [3, 8], [8, 1, 0], [2, 7, 4, 4], [4, 5, 2, 6, 5]]\r\n",
    "# 풀이 2\r\n",
    "solution = lambda t, l = []: max(l) if not t else solution(t[1:], [max(x,y)+z for x,y,z in zip([0]+l, l+[0], t[0])])\r\n",
    "# 한 층씩 제거하며, 그 층에서 계산한 최대 이동거리 배열을 계산하여, 한 층을 제거한 traingle을 첫번째 input, \r\n",
    "# 이동거리 배열을 두 번째 input으로 넣어줍니다. 2. 따라서 traingle이 없으면 제거할 층이 없으므로 최종 조건\r\n",
    "# [0] + l, l + [0] 을 이용하여 모서리 조건을 해결"
   ],
   "outputs": [],
   "metadata": {}
  },
  {
   "cell_type": "markdown",
   "source": [
    "(동적계획법) 등굣길"
   ],
   "metadata": {}
  },
  {
   "cell_type": "code",
   "execution_count": 46,
   "source": [
    "def solution(m, n, puddles):\r\n",
    "\r\n",
    "    map = [[0]*m for _ in range(n)] # nxm 행렬을 0으로\r\n",
    "\r\n",
    "    map[0][0]=1\r\n",
    "\r\n",
    "    for i in range(n):\r\n",
    "        for j in range(m):\r\n",
    " \r\n",
    "            if [i+1,j+1] in puddles:\r\n",
    "                map[i][j]=0\r\n",
    "            elif i!=0 or j!=0: # i, j != 0  \r\n",
    "\r\n",
    "                map[i][j]=map[i-1][j]+map[i][j-1] #음수니까 끝부분을 더해주는 것인데 어차피 0이라서 상관없음\r\n",
    "                print(map)\r\n",
    "\r\n",
    "    return map[n-1][m-1]%1000000007 #(3,2) 면 [2][3] 이기 때문\r\n",
    "\r\n",
    "\r\n",
    "print(solution(4, 4, [[2,2]]))\r\n",
    "\r\n",
    "\r\n",
    "# 재귀함수로 돌렸는데 어떻게 한 거?\r\n",
    "def solution(m, n, puddles):\r\n",
    "    answer = 0\r\n",
    "    info = dict([((2, 1), 1), ((1, 2), 1)])\r\n",
    "    for puddle in puddles:\r\n",
    "        info[tuple(puddle)] = 0\r\n",
    "\r\n",
    "    def func(m, n):\r\n",
    "        if m < 1 or n < 1:\r\n",
    "            return 0\r\n",
    "        if (m, n) in info:\r\n",
    "            return info[(m, n)]\r\n",
    "        return info.setdefault((m, n), func(m - 1, n) + func(m, n - 1))\r\n",
    "    return  func(m, n) % 1000000007"
   ],
   "outputs": [
    {
     "output_type": "stream",
     "name": "stdout",
     "text": [
      "[[1, 1, 0, 0], [0, 0, 0, 0], [0, 0, 0, 0], [0, 0, 0, 0]]\n",
      "[[1, 1, 1, 0], [0, 0, 0, 0], [0, 0, 0, 0], [0, 0, 0, 0]]\n",
      "[[1, 1, 1, 1], [0, 0, 0, 0], [0, 0, 0, 0], [0, 0, 0, 0]]\n",
      "[[1, 1, 1, 1], [1, 0, 0, 0], [0, 0, 0, 0], [0, 0, 0, 0]]\n",
      "[[1, 1, 1, 1], [1, 0, 1, 0], [0, 0, 0, 0], [0, 0, 0, 0]]\n",
      "[[1, 1, 1, 1], [1, 0, 1, 2], [0, 0, 0, 0], [0, 0, 0, 0]]\n",
      "[[1, 1, 1, 1], [1, 0, 1, 2], [1, 0, 0, 0], [0, 0, 0, 0]]\n",
      "[[1, 1, 1, 1], [1, 0, 1, 2], [1, 1, 0, 0], [0, 0, 0, 0]]\n",
      "[[1, 1, 1, 1], [1, 0, 1, 2], [1, 1, 2, 0], [0, 0, 0, 0]]\n",
      "[[1, 1, 1, 1], [1, 0, 1, 2], [1, 1, 2, 4], [0, 0, 0, 0]]\n",
      "[[1, 1, 1, 1], [1, 0, 1, 2], [1, 1, 2, 4], [1, 0, 0, 0]]\n",
      "[[1, 1, 1, 1], [1, 0, 1, 2], [1, 1, 2, 4], [1, 2, 0, 0]]\n",
      "[[1, 1, 1, 1], [1, 0, 1, 2], [1, 1, 2, 4], [1, 2, 4, 0]]\n",
      "[[1, 1, 1, 1], [1, 0, 1, 2], [1, 1, 2, 4], [1, 2, 4, 8]]\n",
      "8\n"
     ]
    }
   ],
   "metadata": {}
  },
  {
   "cell_type": "markdown",
   "source": [
    "(동적계획법)) 도둑질"
   ],
   "metadata": {}
  },
  {
   "cell_type": "code",
   "execution_count": 31,
   "source": [
    "def solution(money:int) -> int :    # Type hint\r\n",
    "    \"\"\"     \r\n",
    "    Args:\r\n",
    "        money (int): list of money\r\n",
    "\r\n",
    "    Raise:\r\n",
    "        에러날 상황이 있으면 기재\r\n",
    "\r\n",
    "    Return:\r\n",
    "        int: return  number\r\n",
    "        \r\n",
    "    Example:\r\n",
    "        number = 4, 5 etc\r\n",
    "    \"\"\"                             # Docstring\r\n",
    "\r\n",
    "    dp1 = [0] * len(money)\r\n",
    "    dp1[0] = money[0]   # 무조건 첫집을 털겠다\r\n",
    "    dp1[1] = max(money[0], money[1])\r\n",
    "    dp1[1] = money[0]\r\n",
    "\r\n",
    "    for i in range(2, len(money)-1): # 마지막 집은 보지 않겠다.\r\n",
    "        dp1[i] = max(dp1[i-1], money[i]+dp1[i-2])\r\n",
    "\r\n",
    "    dp2 = [0] * len(money)\r\n",
    "    dp2[0] = 0\r\n",
    "    dp2[1] = money[1]\r\n",
    "\r\n",
    "    for i in range(2, len(money)): # 마지막 집까지 확인하겠다.\r\n",
    "        dp2[i] = max(dp2[i-1], money[i]+dp2[i-2])\r\n",
    "\r\n",
    "    return max(max(dp1), max(dp2)) # 두 경우 중 최대\r\n",
    "\r\n"
   ],
   "outputs": [
    {
     "output_type": "stream",
     "name": "stdout",
     "text": [
      "dp1 : [1, 1, 101, 101, 111, 0]\n",
      "dp2 : [0, 1, 100, 100, 110, 200]\n",
      "200\n"
     ]
    }
   ],
   "metadata": {}
  },
  {
   "cell_type": "markdown",
   "source": [
    "(깊이/너비 우선 탐색) 타겟 넘버"
   ],
   "metadata": {}
  },
  {
   "cell_type": "code",
   "execution_count": 47,
   "source": [
    "def solution(numbers, target):\r\n",
    "    answer = []\r\n",
    "    answer.append(numbers[0])\r\n",
    "    answer.append(-numbers[0])\r\n",
    "    for i in range(len(answer)):\r\n",
    "        for number in numbers:\r\n",
    "            answer[i] += number\r\n",
    "\r\n",
    "\r\n",
    "    return answer\r\n",
    "\r\n",
    "numbers = [1, 1, 1, 1, 1]\t\t\r\n",
    "target = 3\r\n",
    "print(solution(numbers, target))\r\n",
    "\r\n",
    "# 중복순열로\r\n",
    "from itertools import product\r\n",
    "def solution(numbers, target):\r\n",
    "    l = [(x, -x) for x in numbers]\r\n",
    "    s = list(map(sum, product(*l))) # 이게 의미하는 게 뭐야?\r\n",
    "    return s.count(target)\r\n",
    "numbers = [1, 1, 1, 1, 1]\t\t\r\n",
    "target = 3\r\n",
    "print(solution(numbers, target))\r\n",
    "\r\n",
    "# bfs\r\n",
    "import collections\r\n",
    "\r\n",
    "def solution(numbers, target):\r\n",
    "    answer = 0\r\n",
    "    stack = collections.deque([(0, 0)])\r\n",
    "    while stack:\r\n",
    "        current_sum, num_idx = stack.popleft()\r\n",
    "\r\n",
    "        if num_idx == len(numbers):\r\n",
    "            if current_sum == target:\r\n",
    "                answer += 1\r\n",
    "        else:\r\n",
    "            number = numbers[num_idx]\r\n",
    "            stack.append((current_sum+number, num_idx + 1))\r\n",
    "            stack.append((current_sum-number, num_idx + 1))\r\n",
    "\r\n",
    "    return answer\r\n",
    "\r\n",
    "# dfs\r\n",
    "\r\n",
    "answer = 0\r\n",
    "def DFS(idx, numbers, target, value):\r\n",
    "    global answer\r\n",
    "    N = len(numbers)\r\n",
    "    if(idx== N and target == value):\r\n",
    "        answer += 1\r\n",
    "        return\r\n",
    "    if(idx == N):\r\n",
    "        return\r\n",
    "\r\n",
    "    DFS(idx+1,numbers,target,value+numbers[idx])\r\n",
    "    DFS(idx+1,numbers,target,value-numbers[idx])\r\n",
    "\r\n",
    "def solution(numbers, target):\r\n",
    "    global answer\r\n",
    "    DFS(0,numbers,target,0)\r\n",
    "    return answer"
   ],
   "outputs": [
    {
     "output_type": "stream",
     "name": "stdout",
     "text": [
      "[6, 4]\n",
      "5\n"
     ]
    }
   ],
   "metadata": {}
  },
  {
   "cell_type": "markdown",
   "source": [
    "(깊이/너비 우선탐색) 네트워크"
   ],
   "metadata": {}
  },
  {
   "cell_type": "code",
   "execution_count": 1,
   "source": [
    "# dfs\r\n",
    "def solution(n: int, computers: int) -> int:\r\n",
    "    \"\"\"\r\n",
    "    Args:\r\n",
    "        n (int): 컴퓨터 수\r\n",
    "        computers (int): 2차원 list\r\n",
    "\r\n",
    "    Raise:\r\n",
    "        에러날 상황이 있으면 기재\r\n",
    "\r\n",
    "    Return:\r\n",
    "        int: return  answer\r\n",
    "        \r\n",
    "    Example:\r\n",
    "        answer = 1, 2 etc\r\n",
    "    \r\n",
    "    \"\"\"\r\n",
    "    answer = 0\r\n",
    "    visited = [False for i in range(n)] # 갯수만큼 다 False로 지정. 사실 while을 안써서 True, False는 상관없음\r\n",
    "    for com in range(n):\r\n",
    "        if visited[com] == False:   # 특정 컴퓨터 번호가 연결이 안되어있으면 DFS를 호출하고 answer +1로 카운팅\r\n",
    "            DFS(n, computers, com, visited)\r\n",
    "            answer += 1 #DFS로 최대한 컴퓨터들을 방문하고 빠져나오게 되면 그것이 하나의 네트워크.\r\n",
    "    return answer\r\n",
    "\r\n",
    "\r\n",
    "def DFS(n : int, computers : int, com : int , visited : int)-> int:\r\n",
    "    \"\"\"\r\n",
    "    Args:\r\n",
    "        n (int): 컴퓨터 수\r\n",
    "        computers (int): 네트워크 정보가 있는 2차원 list\r\n",
    "        com (int): 컴퓨터 번호\r\n",
    "        visited (int): 방문된 컴퓨터 list\r\n",
    "\r\n",
    "    Return:\r\n",
    "        재귀적으로 계산\r\n",
    "    \"\"\"\r\n",
    "    visited[com] = True # 카운팅 했으니 해당 컴퓨터 번호는 True\r\n",
    "    for connect in range(n):\r\n",
    "        if connect != com and computers[com][connect] == 1: # (x,x) 가 아니고 = (컴퓨터 번호가 동일하지 않고), 해당 컴퓨터가 이미 연결되어 있으면\r\n",
    "            if visited[connect] == False:   # 사실상 연결된 것인데 연결 안된걸 찾으면 재귀적으로 돌아가서 해당 컴퓨터 번호는 True 변경\r\n",
    "                DFS(n, computers, connect, visited)\r\n",
    "\r\n",
    "\r\n",
    "# bfs\r\n",
    "def solution(n, computers):\r\n",
    "    answer = 0\r\n",
    "    visited = [False for i in range(n)]\r\n",
    "    for com in range(n):\r\n",
    "        if visited[com] == False:\r\n",
    "            BFS(n, computers, com, visited)\r\n",
    "            answer += 1\r\n",
    "    return answer\r\n",
    "\r\n",
    "def BFS(n, computers, com, visited):\r\n",
    "    visited[com] = True\r\n",
    "    queue = []\r\n",
    "    queue.append(com)\r\n",
    "    while len(queue) != 0:\r\n",
    "        com = queue.pop(0)\r\n",
    "        visited[com] = True\r\n",
    "        for connect in range(n):\r\n",
    "            if connect != com and computers[com][connect] == 1:\r\n",
    "                if visited[connect] == False:\r\n",
    "                    queue.append(connect)\r\n",
    "\r\n",
    "\r\n",
    "# 짧은 코드\r\n",
    "def solution(n, computers):\r\n",
    "    answer = 0\r\n",
    "    bfs = []\r\n",
    "    visited = [0]*n\r\n",
    "\r\n",
    "    while 0 in visited:\r\n",
    "        bfs.append(visited.index(0))\r\n",
    "        while bfs:\r\n",
    "            node = bfs.pop(0)\r\n",
    "            visited[node] = 1\r\n",
    "            for i in range(n):\r\n",
    "                if visited[i] == 0 and computers[node][i] == 1:\r\n",
    "                    bfs.append(i)\r\n",
    "        answer += 1\r\n",
    "    return answer"
   ],
   "outputs": [],
   "metadata": {}
  },
  {
   "cell_type": "markdown",
   "source": [
    "(DFS/BFS) 단어 변환"
   ],
   "metadata": {}
  },
  {
   "cell_type": "code",
   "execution_count": 1,
   "source": [
    "from collections import deque\r\n",
    "\r\n",
    "def get_adjacent(current, words) -> None:\r\n",
    "    \"\"\"\r\n",
    "    Args:\r\n",
    "        current (str): 현재 단어\r\n",
    "        word (str): 단어 리스트\r\n",
    "\r\n",
    "    Return:\r\n",
    "        재귀\r\n",
    "    \"\"\"\r\n",
    "    for word in words:\r\n",
    "        if len(current) != len(word):\r\n",
    "            continue\r\n",
    "\r\n",
    "        count = 0\r\n",
    "        for c, w in zip(current, word):\r\n",
    "            if c != w:\r\n",
    "                count += 1\r\n",
    "\r\n",
    "        if count == 1:\r\n",
    "            # for문 종료안하고 return 값으로 word 보내줌\r\n",
    "            yield word\r\n",
    "\r\n",
    "\r\n",
    "def solution(begin : str, target : str, words : str) -> int:\r\n",
    "    \"\"\"\r\n",
    "    Args:\r\n",
    "        begin (str): 시작 단어\r\n",
    "        target (str): 목표 단어\r\n",
    "        word (str): 단어 리스트\r\n",
    "\r\n",
    "    Return:\r\n",
    "        int: return dist\r\n",
    "    \"\"\"\r\n",
    "    dist = {begin: 0}\r\n",
    "    queue = deque([begin])\r\n",
    "\r\n",
    "    while queue:\r\n",
    "        # 현재 단어 추출\r\n",
    "        current = queue.popleft()\r\n",
    "\r\n",
    "        for next_word in get_adjacent(current, words):\r\n",
    "            if next_word not in dist:\r\n",
    "                dist[next_word] = dist[current] + 1\r\n",
    "                queue.append(next_word)\r\n",
    "\r\n",
    "    return dist.get(target, 0)\r\n",
    "\r\n",
    "\r\n",
    "\r\n",
    "\r\n",
    "# 재귀 안쓰고 다른 풀이\r\n",
    "def solution(begin, target, words):\r\n",
    "    answer = 0 #Depth\r\n",
    "    stacks = [begin]\r\n",
    "    visited = {i:0 for i in words} #이미 검사했던 단어를 다시 검사하지 않도록 하기 위한 딕셔너리\r\n",
    "    if target not in words:\r\n",
    "        return 0\r\n",
    "    while stacks:\r\n",
    "        stack = stacks.pop()\r\n",
    "        if stack == target:\r\n",
    "            return answer\r\n",
    "        \r\n",
    "        for word in words:\r\n",
    "            for i in range(len(word)):\r\n",
    "                copy = list(word)\r\n",
    "                copy_front = list(stack)\r\n",
    "                copy[i] = 0\r\n",
    "                copy_front[i] = 0\r\n",
    "                if copy == copy_front:\r\n",
    "                    if visited[word] != 0: #visited가 1이라면 이미 검사했던 단어므로 그냥 넘어간다.\r\n",
    "                        continue\r\n",
    "                    visited[word] = 1 #visited가 0이면 해당 단어의 visited 값을 1로 바꾼다.\r\n",
    "                    stacks.append(word)\r\n",
    "                    break\r\n",
    "        answer += 1 #Depth 1추가\r\n",
    "\r\n",
    "    return answer\r\n",
    "\r\n",
    "\r\n",
    "\r\n",
    "\r\n",
    "begin = \"hit\"\r\n",
    "target = \"cog\"\t\r\n",
    "words = [\"hot\", \"dot\", \"dog\", \"lot\", \"log\", \"cog\"]\r\n",
    "print(solution(begin, target, words))"
   ],
   "outputs": [
    {
     "output_type": "stream",
     "name": "stdout",
     "text": [
      "4\n"
     ]
    }
   ],
   "metadata": {}
  },
  {
   "cell_type": "markdown",
   "source": [
    "(DFS/BFS) 여행경로"
   ],
   "metadata": {}
  },
  {
   "cell_type": "code",
   "execution_count": 1,
   "source": [
    "# 스택으로\r\n",
    "def solution(tickets):\r\n",
    "    tickets.sort(reverse=True)\r\n",
    "    routes = dict()\r\n",
    "    for t1, t2 in tickets:\r\n",
    "        if t1 in routes:\r\n",
    "            routes[t1].append(t2)\r\n",
    "        else:\r\n",
    "            routes[t1] = [t2]\r\n",
    "    st = ['ICN']\r\n",
    "    ans = []\r\n",
    "    while st:\r\n",
    "        top = st[-1]\r\n",
    "        if top not in routes or len(routes[top])==0:\r\n",
    "            ans.append(st.pop())\r\n",
    "        else:\r\n",
    "            st.append(routes[top].pop())\r\n",
    "    ans.reverse()\r\n",
    "    return ans\r\n",
    "\r\n",
    "\r\n",
    "\r\n",
    "# DFS\r\n",
    "from collections import defaultdict\r\n",
    "# default 값이 int며 지정하지 않은 키는 0\r\n",
    "# default를 list로 줄 수도 있음.\r\n",
    "\r\n",
    "def solution(tickets):\r\n",
    "    answer = []\r\n",
    "    graph = defaultdict(list)\r\n",
    "    for dept, arrv in sorted(tickets):\r\n",
    "        graph[dept].append(arrv)\r\n",
    "    \r\n",
    "    def dfs(dept):\r\n",
    "        while graph[dept]:\r\n",
    "            dfs(graph[dept]).pop(0)\r\n",
    "        answer.append(dept)\r\n",
    "    dfs('ICN')\r\n",
    "    return answer[::-1]\r\n",
    "\r\n",
    "\r\n",
    "def solution(tickets):\r\n",
    "    tickets.sort(reverse=True)\r\n",
    "    routes = dict()\r\n",
    "    for t1, t2 in tickets:\r\n",
    "        if t1 in routes:\r\n",
    "            routes[t1].append(t2)\r\n",
    "        else:\r\n",
    "            routes[t1] = [t2]\r\n",
    "    st = ['ICN']\r\n",
    "    ans = []\r\n",
    "    while st:\r\n",
    "        top = st[-1]\r\n",
    "        if top not in routes or len(routes[top])==0:\r\n",
    "            ans.append(st.pop())\r\n",
    "        else:\r\n",
    "            st.append(routes[top].pop())\r\n",
    "    ans.reverse()\r\n",
    "    return ans\r\n",
    "\r\n",
    "\r\n",
    "\r\n",
    "# DFS 긴 코드 \r\n",
    "# 함수 안에 DFS 정의\r\n",
    "def solution(tickets): \r\n",
    "    answer = [] # start 지점부터 tickets 내에서 used_ticket에 없는(사용하지 않은) 항공권들로 여행경로 찾기 \r\n",
    "    def DFS(tickets, start, used_ticket): # start에서 다음으로 이동할 공항 찾기 \r\n",
    "        for i in range(len(tickets)): # 출발 공항이 start와 같고, 사용하지 않은 항공권인 경우 \r\n",
    "            if tickets[i][0] == start and i not in used_ticket: \r\n",
    "                used_ticket.append(i) # 항공권 사용 체크 \r\n",
    "                DFS(tickets, tickets[i][1], used_ticket) # 도착 항공에서부터 다음 여행경로 찾기 \r\n",
    "                # 항공권을 모두 사용한 경우 DFS 종료 \r\n",
    "                if len(used_ticket) == len(tickets): \r\n",
    "                    return \r\n",
    "                    # 도착 항공에서부터 다음 여행 경로를 찾았음에도 항공권을 모두 사용하지 않은 것은 \r\n",
    "                    # 해당 항공권을 지금 사용하는 것이 맞지 않으므로 used_ticket에서 삭제\r\n",
    "                else: \r\n",
    "                    used_ticket.pop() \r\n",
    "\r\n",
    "    new_tickets = sorted(tickets, key=lambda x: (x[0], x[1])) # 항공권 오름차순 정렬 \r\n",
    "    used_ticket = [] # 사용한 항공권 index 저장하는 list \r\n",
    "    DFS(new_tickets, \"ICN\", used_ticket) # ICN을 시작으로 DFS 수행 \r\n",
    "    # 거쳐간 공항을 answer에 저장 \r\n",
    "    answer = [\"ICN\"] \r\n",
    "    for ticket_num in used_ticket: \r\n",
    "        answer.append(new_tickets[ticket_num][1]) \r\n",
    "\r\n",
    "    return answer"
   ],
   "outputs": [],
   "metadata": {}
  },
  {
   "cell_type": "markdown",
   "source": [
    "(이분탐색) 입국심사"
   ],
   "metadata": {}
  },
  {
   "cell_type": "code",
   "execution_count": 5,
   "source": [
    "n = 6\r\n",
    "times = [ 7, 10 ]\r\n",
    "sum(times)\r\n",
    "def solution(n: int, times: list)->int:\r\n",
    "    '''\r\n",
    "    Args:\r\n",
    "    n (int): 사람 수\r\n",
    "    times (list): 심사관들마다 걸리는 심사 시간\r\n",
    "\r\n",
    "    Return:\r\n",
    "        int: return short_time\r\n",
    "    '''\r\n",
    "    short_time = 1\r\n",
    "    long_time = max(times)*n\r\n",
    "\r\n",
    "    while short_time<long_time:\r\n",
    "        mid = (short_time+long_time)//2\r\n",
    "        count = 0\r\n",
    "        for i in times:\r\n",
    "            count += mid//i\r\n",
    "        if count >= n: # 몫이기 때문에 count == n이라고 가장 짧은 시간이 아니다.\r\n",
    "            long_time = mid\r\n",
    "        else :\r\n",
    "            short_time = mid + 1\r\n",
    "    return short_time\r\n"
   ],
   "outputs": [
    {
     "output_type": "stream",
     "name": "stdout",
     "text": [
      "[7, 10]\n"
     ]
    }
   ],
   "metadata": {}
  },
  {
   "cell_type": "markdown",
   "source": [
    "(이분탐색) 징검다리"
   ],
   "metadata": {}
  },
  {
   "cell_type": "code",
   "execution_count": null,
   "source": [
    "def solution(distance, rocks, n):\r\n",
    "    answer = 0\r\n",
    "    \r\n",
    "    rocks.sort()  # 징검다리 정렬\r\n",
    "    rocks.append(distance)  # 마지막 도착지와의 거리까지 계산하기 위해\r\n",
    "    \r\n",
    "    left, right = 0, distance  # 이분 탐색 스타트!\r\n",
    "    while left <= right:\r\n",
    "        # 나는 거리의 최솟값을 mid로 잡겠다!(거리가 mid 이하이면 다 없앤다!)\r\n",
    "        mid = (left + right) // 2  \r\n",
    "        min_distance = float('inf')  # 각 mid 에서 최솟값을 저장할 녀석\r\n",
    "        current = 0  # 현재 위치\r\n",
    "        remove_cnt = 0  # 바위를 제거한 개수\r\n",
    "        \r\n",
    "        # 거리 재기 스타트\r\n",
    "        for rock in rocks:\r\n",
    "            diff = rock - current  # 바위와 현재 위치 사이의 거리\r\n",
    "            if diff < mid:  # mid 보다 거리가 짧으면 바위 제거\r\n",
    "                remove_cnt += 1\r\n",
    "            else:  # mid 보다 거리가 길거나 같으면 바위 그대로 두고\r\n",
    "                current = rock  # 현재 위치를 그 바위로 옮기고\r\n",
    "                min_distance = min(min_distance, diff)  # 해당 mid 단계에서의 최소거리인지 체크\r\n",
    "        \r\n",
    "        # mid를 설정하는 단계\r\n",
    "        if remove_cnt > n:  # 바위를 너무 많이 제거 했다. mid를 줄여서 바위를 조금만 제거하자\r\n",
    "            right = mid - 1\r\n",
    "        else:  # 바위를 너무 적게 제거했다 and 딱 맞다. mid를 늘려서 바위를 더 제거하거나 mid의 최댓값을 올려보자\r\n",
    "            answer = min_distance\r\n",
    "            left = mid + 1\r\n",
    "\r\n",
    "    return answer"
   ],
   "outputs": [],
   "metadata": {}
  },
  {
   "cell_type": "markdown",
   "source": [],
   "metadata": {}
  },
  {
   "cell_type": "code",
   "execution_count": null,
   "source": [
    "# django, restfullapi, post, get, swagger"
   ],
   "outputs": [],
   "metadata": {}
  },
  {
   "cell_type": "code",
   "execution_count": null,
   "source": [
    "if len([i for i in range(0,len(words[w])) if words[w][i]!=stack[i]]) == 1:"
   ],
   "outputs": [],
   "metadata": {}
  },
  {
   "cell_type": "markdown",
   "source": [
    "SQL 테스트"
   ],
   "metadata": {}
  },
  {
   "cell_type": "markdown",
   "source": [
    "(SQL) 고양이와 개는 몇마리 있을까"
   ],
   "metadata": {}
  },
  {
   "cell_type": "code",
   "execution_count": null,
   "source": [
    "\r\n",
    "'''\r\n",
    "SELECT ANIMAL_TYPE, COUNT(ANIMAL_TYPE)\r\n",
    "FROM ANIMAL_INS\r\n",
    "GROUP BY ANIMAL_TYPE\r\n",
    "ORDER BY ANIMAL_TYPE\r\n",
    "'''\r\n"
   ],
   "outputs": [],
   "metadata": {}
  },
  {
   "cell_type": "markdown",
   "source": [
    "(SQL) 없어진 기록 찾기"
   ],
   "metadata": {}
  },
  {
   "cell_type": "code",
   "execution_count": null,
   "source": [
    "'''\r\n",
    "SELECT ANIMAL_OUTS.ANIMAL_ID, ANIMAL_OUTS.NAME\r\n",
    "FROM ANIMAL_OUTS\r\n",
    "LEFT OUTER JOIN ANIMAL_INS\r\n",
    "ON ANIMAL_OUTS.ANIMAL_ID = ANIMAL_INS.ANIMAL_ID\r\n",
    "WHERE ANIMAL_INS.ANIMAL_ID IS NULL\r\n",
    "ORDER BY ANIMAL_OUTS.ANIMAL_ID\r\n",
    "'''"
   ],
   "outputs": [],
   "metadata": {}
  },
  {
   "cell_type": "markdown",
   "source": [
    "(SQL) 동명 동물 수 찾기"
   ],
   "metadata": {}
  },
  {
   "cell_type": "code",
   "execution_count": null,
   "source": [
    "'''\r\n",
    "SELECT NAME, COUNT(NAME) AS 'COUNT'\r\n",
    "FROM ANIMAL_INS\r\n",
    "GROUP BY NAME\r\n",
    "HAVING COUNT(NAME) > 1\r\n",
    "ORDER BY NAME\r\n",
    "'''"
   ],
   "outputs": [],
   "metadata": {}
  },
  {
   "cell_type": "markdown",
   "source": [
    "(SQL) 입양 시각 구하기(1)"
   ],
   "metadata": {}
  },
  {
   "cell_type": "code",
   "execution_count": null,
   "source": [
    "-- 풀이 1 HAVING\r\n",
    "'''\r\n",
    "SELECT HOUR(DATETIME) HOUR, COUNT(DATETIME) COUNT\r\n",
    "FROM ANIMAL_OUTS\r\n",
    "GROUP BY HOUR\r\n",
    "HAVING HOUR>=9 AND HOUR<=19\r\n",
    "ORDER BY HOUR\r\n",
    "'''\r\n",
    "\r\n",
    "-- 풀이 2 BETWEEN\r\n",
    "'''\r\n",
    "SELECT HOUR(DATETIME) HOUR, COUNT(DATETIME) COUNT\r\n",
    "FROM ANIMAL_OUTS\r\n",
    "WHERE HOUR(DATETIME) BETWEEN 9 AND 19\r\n",
    "GROUP BY HOUR\r\n",
    "ORDER BY HOUR\r\n",
    "'''"
   ],
   "outputs": [],
   "metadata": {}
  },
  {
   "cell_type": "markdown",
   "source": [
    "(SQL) 입양 시각 구하기(2)"
   ],
   "metadata": {}
  },
  {
   "cell_type": "code",
   "execution_count": null,
   "source": [
    "-- 풀이 1\r\n",
    "'''\r\n",
    "SET @hour := -1;\r\n",
    "\r\n",
    "SELECT (@hour := @hour + 1) as HOUR,\r\n",
    "(SELECT COUNT(*) FROM ANIMAL_OUTS WHERE HOUR(DATETIME) = @hour) as COUNT\r\n",
    "FROM ANIMAL_OUTS\r\n",
    "WHERE @hour < 23\r\n",
    "'''"
   ],
   "outputs": [],
   "metadata": {}
  },
  {
   "cell_type": "markdown",
   "source": [
    "(SQL) NULL 처리 , IF 문"
   ],
   "metadata": {}
  },
  {
   "cell_type": "code",
   "execution_count": null,
   "source": [
    "'''\r\n",
    "SELECT ANIMAL_TYPE, IFNULL(NAME, 'NO name'), SEX_UPON_INTAKE\r\n",
    "FROM ANIMAL_INS\r\n",
    "ORDER BY ANIMAL_ID\r\n",
    "'''"
   ],
   "outputs": [],
   "metadata": {}
  },
  {
   "cell_type": "markdown",
   "source": [
    "(SQL) 오랜 기간 보호한 동물"
   ],
   "metadata": {}
  },
  {
   "cell_type": "code",
   "execution_count": null,
   "source": [
    "'''\r\n",
    "SELECT I.NAME, I.DATETIME\r\n",
    "FROM ANIMAL_INS I\r\n",
    "LEFT OUTER JOIN  ANIMAL_OUTS O\r\n",
    "ON I.ANIMAL_ID = O.ANIMAL_ID\r\n",
    "WHERE O.ANIMAL_ID IS NULL\r\n",
    "ORDER BY I.DATETIME\r\n",
    "LIMIT 3\r\n",
    "'''"
   ],
   "outputs": [],
   "metadata": {}
  },
  {
   "cell_type": "code",
   "execution_count": null,
   "source": [
    "(SQL) 오랜 기간 보호한 동물 2"
   ],
   "outputs": [],
   "metadata": {}
  },
  {
   "cell_type": "code",
   "execution_count": null,
   "source": [
    "-- 풀이 1\n",
    "'''\n",
    "SELECT I.ANIMAL_ID, I.NAME\n",
    "FROM ANIMAL_INS I \n",
    "LEFT OUTER JOIN ANIMAL_OUTS O\n",
    "ON I.ANIMAL_ID = O.ANIMAL_ID\n",
    "ORDER BY O.DATETIME-I.DATETIME DESC\n",
    "LIMIT 2\n",
    "'''\n",
    "\n",
    "-- 풀이 2\n",
    "'''\n",
    "SELECT I.ANIMAL_ID, I.NAME\n",
    "FROM ANIMAL_INS I ANIMAL_OUTS O\n",
    "WHERE I.ANIMAL_ID = O.ANIMAL_ID\n",
    "ORDER BY O.DATETIME-I.DATETIME DESC\n",
    "LIMIT 2\n",
    "'''"
   ],
   "outputs": [],
   "metadata": {}
  },
  {
   "cell_type": "markdown",
   "source": [
    "(SQL) 이름으로 찾기 IN"
   ],
   "metadata": {}
  },
  {
   "cell_type": "code",
   "execution_count": null,
   "source": [
    "'''\n",
    "SELECT ANIMAL_ID, NAME, SEX_UPON_INTAKE\n",
    "FROM ANIMAL_INS\n",
    "WHERE NAME IN ('Lucy', 'Ella', 'Pickle', 'Rogan', 'Sabrina', 'Mitty' ) \n",
    "ORDER BY ANIMAL_ID\n",
    "'''"
   ],
   "outputs": [],
   "metadata": {}
  },
  {
   "cell_type": "markdown",
   "source": [
    "(SQL) 단어 들어간 것 찾기 LIKE"
   ],
   "metadata": {}
  },
  {
   "cell_type": "code",
   "execution_count": null,
   "source": [
    "'''\n",
    "SELECT ANIMAL_ID, NAME\n",
    "FROM ANIMAL_INS\n",
    "WHERE NAME LIKE '%EL%' AND ANIMAL_TYPE = 'Dog'\n",
    "ORDER BY NAME\n",
    "'''"
   ],
   "outputs": [],
   "metadata": {}
  },
  {
   "cell_type": "markdown",
   "source": [
    "(SQL) CASE WHEN THEN ELSE END"
   ],
   "metadata": {}
  },
  {
   "cell_type": "code",
   "execution_count": null,
   "source": [
    "'''\n",
    "SELECT ANIMAL_ID, NAME, \n",
    "\n",
    "CASE\n",
    "WHEN SEX_UPON_INTAKE LIKE '%Neutered%' OR SEX_UPON_INTAKE LIKE '%Spayed%' \n",
    "THEN 'O'\n",
    "ELSE 'X'\n",
    "END '중성화'\n",
    "\n",
    "FROM ANIMAL_INS\n",
    "'''"
   ],
   "outputs": [],
   "metadata": {}
  },
  {
   "cell_type": "markdown",
   "source": [],
   "metadata": {}
  },
  {
   "cell_type": "markdown",
   "source": [],
   "metadata": {}
  },
  {
   "cell_type": "markdown",
   "source": [
    "코딩책"
   ],
   "metadata": {}
  },
  {
   "cell_type": "markdown",
   "source": [
    "(코테책) 플로이드워셔"
   ],
   "metadata": {}
  },
  {
   "cell_type": "code",
   "execution_count": null,
   "source": [
    "INF = int(1e9)\n",
    "\n",
    "n = int(input())\n",
    "m = int(input())\n",
    "\n",
    "graph = [[INF]*(n+1) for _ in range(n+1)]\n",
    "\n",
    "for a in range(1, n+1):\n",
    "    for b in range(1, n+1):\n",
    "        if a == b:\n",
    "            graph[a][b] = 0\n",
    "\n",
    "for _ in range(m):\n",
    "    a,b,c = map(int, input().split())\n",
    "    graph[a][b] = c\n",
    "\n",
    "for k in range(1, n+1):\n",
    "    for a in range(1, n+1):\n",
    "        for b in range(1, n+1):\n",
    "            graph[a][b] = min(graph[a][b], graph[a][k]+ graph[k][b])\n",
    "\n",
    "for a in range(1, n+1):\n",
    "    for b in range(1, n+1):\n",
    "        if graph[a][b] == INF:\n",
    "            print(\"INFINITY\", end = \" \")\n",
    "        else:\n",
    "            print(graph[a][b], end= \" \")\n",
    "    print()"
   ],
   "outputs": [],
   "metadata": {}
  },
  {
   "cell_type": "markdown",
   "source": [
    "(코테책) 다익스트라"
   ],
   "metadata": {}
  },
  {
   "cell_type": "code",
   "execution_count": null,
   "source": [
    "import heapq\n",
    "import sys\n",
    "\n",
    "input = sys.stdin.readline\n",
    "INF = int(1e9)\n",
    "#n = 6\n",
    "#m = 11\n",
    "n, m = map(int, input().split())\n",
    "start = int(input())\n",
    "\n",
    "graph = [[] for i in range(n+1)]\n",
    "distance = [INF]*(n+1)\n",
    "\n",
    "for _ in range(m):\n",
    "    a,b,c = map(int, input().split())\n",
    "    graph[a].append((b,c))\n",
    "\n",
    "def dijkstra(start):\n",
    "    q =[]\n",
    "\n",
    "    heapq.heappush(q, (0, start))\n",
    "    distance[start] =0\n",
    "    while q:\n",
    "        dist, now = heapq.heappop(q)\n",
    "        if distance[now] < dist:\n",
    "            continue\n",
    "\n",
    "        for i in graph[now]:\n",
    "            cost = dist + i[1]\n",
    "            if cost < distance[i[0]]:\n",
    "                distance[i[0]] = cost\n",
    "                heapq.heappush(q, (cost, i[0]))\n",
    "\n",
    "dijkstra(start)\n",
    "\n",
    "for i in range(1, n+1):\n",
    "    if distance[i] == INF:\n",
    "        print(\"INFINITY\")\n",
    "    else:\n",
    "        print(distance[i])"
   ],
   "outputs": [],
   "metadata": {}
  }
 ],
 "metadata": {
  "interpreter": {
   "hash": "0d12d05ab1afc7278cbb1fa09e775842eb34e7aa5a193c340acf9f8f1f5bb7ed"
  },
  "kernelspec": {
   "name": "python3",
   "display_name": "Python 3.8.5 64-bit ('base': conda)"
  },
  "language_info": {
   "codemirror_mode": {
    "name": "ipython",
    "version": 3
   },
   "file_extension": ".py",
   "mimetype": "text/x-python",
   "name": "python",
   "nbconvert_exporter": "python",
   "pygments_lexer": "ipython3",
   "version": "3.8.5"
  },
  "metadata": {
   "interpreter": {
    "hash": "4e2cb1775e1620a719d03ad8f49f4ba606d381b46012f9e0e5f281e2d84692aa"
   }
  },
  "orig_nbformat": 2
 },
 "nbformat": 4,
 "nbformat_minor": 2
}