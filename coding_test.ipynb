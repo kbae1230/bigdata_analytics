{
 "metadata": {
  "language_info": {
   "codemirror_mode": {
    "name": "ipython",
    "version": 3
   },
   "file_extension": ".py",
   "mimetype": "text/x-python",
   "name": "python",
   "nbconvert_exporter": "python",
   "pygments_lexer": "ipython3",
   "version": "3.8.5"
  },
  "orig_nbformat": 2,
  "kernelspec": {
   "name": "python385jvsc74a57bd00d12d05ab1afc7278cbb1fa09e775842eb34e7aa5a193c340acf9f8f1f5bb7ed",
   "display_name": "Python 3.8.5 64-bit ('base': conda)"
  },
  "metadata": {
   "interpreter": {
    "hash": "4e2cb1775e1620a719d03ad8f49f4ba606d381b46012f9e0e5f281e2d84692aa"
   }
  }
 },
 "nbformat": 4,
 "nbformat_minor": 2,
 "cells": [
  {
   "source": [
    "(알고리즘) 완주하지 못한 선수"
   ],
   "cell_type": "markdown",
   "metadata": {}
  },
  {
   "cell_type": "code",
   "execution_count": 1,
   "metadata": {},
   "outputs": [
    {
     "output_type": "stream",
     "name": "stdout",
     "text": [
      "{'leo'}\n"
     ]
    }
   ],
   "source": [
    "par=[\"leo\", \"kiki\", \"eden\"]\n",
    "com=\t[\"eden\", \"kiki\"]\n",
    "answer=set(par)-set(com)\n",
    "print(answer)"
   ]
  },
  {
   "source": [
    "(알고리즘) 전화번호 목록"
   ],
   "cell_type": "markdown",
   "metadata": {}
  },
  {
   "cell_type": "code",
   "execution_count": 5,
   "metadata": {},
   "outputs": [
    {
     "output_type": "stream",
     "name": "stdout",
     "text": [
      "False\n"
     ]
    }
   ],
   "source": [
    "\n",
    "def solution(phone_book):\n",
    "\n",
    "    for number in phone_book:\n",
    "        temp=\"\"\n",
    "        for i in number:\n",
    "            temp+=i\n",
    "            if temp in phone_book and temp!=number:\n",
    "                return False\n",
    "\n",
    "    return True"
   ]
  },
  {
   "source": [
    "(알고리즘) 위장"
   ],
   "cell_type": "markdown",
   "metadata": {}
  },
  {
   "cell_type": "code",
   "execution_count": 25,
   "metadata": {},
   "outputs": [
    {
     "output_type": "stream",
     "name": "stdout",
     "text": [
      "['yellowhat', 'bluesunglasses', 'green_turban']\n4\n"
     ]
    }
   ],
   "source": [
    "from itertools import combinations\n",
    "clothes = [[\"yellowhat\", \"headgear\"], [\"bluesunglasses\", \"eyewear\"], [\"green_turban\", \"headgear\"]]\n",
    "cloth=[]\n",
    "t=[]\n",
    "for i in clothes:\n",
    "    cloth.append(i[1])\n",
    "    t.append(i[0])\n",
    "print(t)\n",
    "total=0\n",
    "for i in range(len(set(cloth))):\n",
    "    \n",
    "    total+=len(list(combinations(t, i)))\n",
    "print(total)"
   ]
  },
  {
   "source": [
    "(알고리즘) 베스트앨범"
   ],
   "cell_type": "markdown",
   "metadata": {}
  },
  {
   "cell_type": "code",
   "execution_count": 7,
   "metadata": {},
   "outputs": [
    {
     "output_type": "stream",
     "name": "stdout",
     "text": [
      "{'classic': 1450, 'pop': 3100}\n"
     ]
    }
   ],
   "source": [
    "genres=[\"classic\", \"pop\", \"classic\", \"classic\", \"pop\"]\n",
    "plays=[500, 600, 150, 800, 2500]\n",
    "genres_set = list(set(genres))\n",
    "i=0\n",
    "play=0\n",
    "a={}\n",
    "for genre in genres_set:\n",
    "    for i in range(len(genres)):\n",
    "        if genre == genres[i]:\n",
    "            play+=plays[i]\n",
    "            i+=1\n",
    "        else:\n",
    "            i+=1\n",
    "    a[genre]=play\n",
    "    play=0\n",
    "print(a)\n"
   ]
  },
  {
   "source": [
    "SQL 테스트"
   ],
   "cell_type": "markdown",
   "metadata": {}
  },
  {
   "source": [
    "(SQL) 고양이와 개는 몇마리 있을까"
   ],
   "cell_type": "markdown",
   "metadata": {}
  },
  {
   "cell_type": "code",
   "execution_count": null,
   "metadata": {},
   "outputs": [],
   "source": [
    "\n",
    "'''\n",
    "SELECT ANIMAL_TYPE, COUNT(ANIMAL_TYPE)\n",
    "FROM ANIMAL_INS\n",
    "GROUP BY ANIMAL_TYPE\n",
    "ORDER BY ANIMAL_TYPE\n",
    "'''\n"
   ]
  },
  {
   "source": [
    "(SQL) 없어진 기록 찾기"
   ],
   "cell_type": "markdown",
   "metadata": {}
  },
  {
   "cell_type": "code",
   "execution_count": null,
   "metadata": {},
   "outputs": [],
   "source": [
    "'''\n",
    "SELECT ANIMAL_OUTS.ANIMAL_ID, ANIMAL_OUTS.NAME\n",
    "FROM ANIMAL_OUTS\n",
    "LEFT OUTER JOIN ANIMAL_INS\n",
    "ON ANIMAL_OUTS.ANIMAL_ID = ANIMAL_INS.ANIMAL_ID\n",
    "WHERE ANIMAL_INS.ANIMAL_ID IS NULL\n",
    "ORDER BY ANIMAL_OUTS.ANIMAL_ID\n",
    "'''"
   ]
  }
 ]
}