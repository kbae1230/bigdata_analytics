{
 "cells": [
  {
   "cell_type": "code",
   "execution_count": 1,
   "metadata": {},
   "outputs": [],
   "source": [
    "import pandas as pd\n",
    "\n",
    "df = pd.read_csv('/home/sia/personal/bigdata_analytics/big_data/mtcars.csv')"
   ]
  },
  {
   "cell_type": "code",
   "execution_count": 19,
   "metadata": {},
   "outputs": [
    {
     "data": {
      "text/plain": [
       "18.90    2\n",
       "17.02    2\n",
       "16.46    1\n",
       "19.47    1\n",
       "14.60    1\n",
       "15.50    1\n",
       "14.50    1\n",
       "16.90    1\n",
       "16.70    1\n",
       "17.05    1\n",
       "15.41    1\n",
       "17.30    1\n",
       "16.87    1\n",
       "20.01    1\n",
       "19.90    1\n",
       "18.52    1\n",
       "17.42    1\n",
       "17.82    1\n",
       "17.98    1\n",
       "18.00    1\n",
       "17.60    1\n",
       "17.40    1\n",
       "18.30    1\n",
       "22.90    1\n",
       "20.00    1\n",
       "15.84    1\n",
       "20.22    1\n",
       "19.44    1\n",
       "18.61    1\n",
       "18.60    1\n",
       "Name: qsec, dtype: int64"
      ]
     },
     "execution_count": 19,
     "metadata": {},
     "output_type": "execute_result"
    }
   ],
   "source": [
    "df['qsec'].value_counts()"
   ]
  },
  {
   "cell_type": "code",
   "execution_count": 3,
   "metadata": {},
   "outputs": [
    {
     "data": {
      "text/plain": [
       "Unnamed: 0    0\n",
       "mpg           0\n",
       "cyl           0\n",
       "disp          0\n",
       "hp            0\n",
       "drat          0\n",
       "wt            0\n",
       "qsec          0\n",
       "vs            0\n",
       "am            0\n",
       "gear          0\n",
       "carb          0\n",
       "dtype: int64"
      ]
     },
     "execution_count": 3,
     "metadata": {},
     "output_type": "execute_result"
    }
   ],
   "source": [
    "df.isnull().sum()"
   ]
  },
  {
   "cell_type": "code",
   "execution_count": 20,
   "metadata": {},
   "outputs": [],
   "source": [
    "# IQR 문제\n",
    "import numpy as np\n",
    "\n",
    "Q1 = np.percentile(df['qsec'], 25)\n",
    "Q3 = np.percentile(df['qsec'], 75)\n",
    "IQR = Q3 - Q1\n",
    "IQR_weight = IQR*1.5\n",
    "lowest = Q1 - IQR_weight\n",
    "highest = Q3 + IQR_weight"
   ]
  },
  {
   "cell_type": "code",
   "execution_count": 16,
   "metadata": {},
   "outputs": [
    {
     "name": "stdout",
     "output_type": "stream",
     "text": [
      "9\n"
     ]
    }
   ],
   "source": [
    "# MinMaxScaler\n",
    "\n",
    "from sklearn.preprocessing import MinMaxScaler\n",
    "\n",
    "scaler = MinMaxScaler()\n",
    "subdf = df['qsec'].values.reshape(-1,1)\n",
    "subdf = scaler.fit_transform(subdf)\n",
    "print((subdf>0.5).sum())"
   ]
  },
  {
   "cell_type": "code",
   "execution_count": 17,
   "metadata": {},
   "outputs": [
    {
     "data": {
      "text/plain": [
       "0.04384041507227893"
      ]
     },
     "execution_count": 17,
     "metadata": {},
     "output_type": "execute_result"
    }
   ],
   "source": [
    "subdf.var()"
   ]
  },
  {
   "cell_type": "code",
   "execution_count": null,
   "metadata": {},
   "outputs": [],
   "source": []
  }
 ],
 "metadata": {
  "kernelspec": {
   "display_name": "Python 3.10.4 ('python3_10')",
   "language": "python",
   "name": "python3"
  },
  "language_info": {
   "codemirror_mode": {
    "name": "ipython",
    "version": 3
   },
   "file_extension": ".py",
   "mimetype": "text/x-python",
   "name": "python",
   "nbconvert_exporter": "python",
   "pygments_lexer": "ipython3",
   "version": "3.10.4"
  },
  "orig_nbformat": 4,
  "vscode": {
   "interpreter": {
    "hash": "ec69b780e5e1c8653f31e6c490fe1d1e1879af08210cb17a51f6c1c632cc28dc"
   }
  }
 },
 "nbformat": 4,
 "nbformat_minor": 2
}
