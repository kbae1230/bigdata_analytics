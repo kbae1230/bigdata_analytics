{
 "metadata": {
  "language_info": {
   "codemirror_mode": {
    "name": "ipython",
    "version": 3
   },
   "file_extension": ".py",
   "mimetype": "text/x-python",
   "name": "python",
   "nbconvert_exporter": "python",
   "pygments_lexer": "ipython3",
   "version": "3.8.5"
  },
  "orig_nbformat": 4,
  "kernelspec": {
   "name": "python3",
   "display_name": "Python 3.8.5 64-bit ('base': conda)"
  },
  "interpreter": {
   "hash": "0d12d05ab1afc7278cbb1fa09e775842eb34e7aa5a193c340acf9f8f1f5bb7ed"
  }
 },
 "nbformat": 4,
 "nbformat_minor": 2,
 "cells": [
  {
   "cell_type": "code",
   "execution_count": null,
   "metadata": {},
   "outputs": [],
   "source": [
    "# 문자열 위주"
   ]
  },
  {
   "cell_type": "code",
   "execution_count": null,
   "metadata": {},
   "outputs": [],
   "source": [
    "# 1번"
   ]
  },
  {
   "cell_type": "code",
   "execution_count": null,
   "metadata": {},
   "outputs": [],
   "source": [
    "# 2번"
   ]
  },
  {
   "cell_type": "code",
   "execution_count": 7,
   "metadata": {},
   "outputs": [
    {
     "output_type": "stream",
     "name": "stdout",
     "text": [
      "zgj\n"
     ]
    }
   ],
   "source": [
    "# 3번\n",
    "\n",
    "letters = \"zbgaj\"\n",
    "k = 3\n",
    "\n",
    "def solution(letters, k):\n",
    "\n",
    "    answer = [letters[0]]\n",
    "    out = len(letters)-k\n",
    "\n",
    "    for letter in letters[1:]:\n",
    "        while len(answer) > 0 and answer[-1] < letter and out > 0:\n",
    "            out -= 1\n",
    "            answer.pop()\n",
    "        answer.append(letter)\n",
    "    \n",
    "    if out != 0:\n",
    "        answer = answer[:-out]\n",
    "    answer = ''.join(answer)\n",
    "\n",
    "    return answer\n",
    "\n",
    "print(solution(letters, k))"
   ]
  },
  {
   "cell_type": "code",
   "execution_count": 6,
   "metadata": {},
   "outputs": [
    {
     "output_type": "stream",
     "name": "stdout",
     "text": [
      "[1, 2, 3]\n"
     ]
    }
   ],
   "source": [
    "a=[1,2,3,4,5]\n",
    "print(a[:-2])"
   ]
  }
 ]
}