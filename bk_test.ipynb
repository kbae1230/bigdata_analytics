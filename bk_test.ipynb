{
 "cells": [
  {
   "cell_type": "markdown",
   "metadata": {},
   "source": [
    "2839번 설탕가게"
   ]
  },
  {
   "cell_type": "code",
   "execution_count": 39,
   "metadata": {},
   "outputs": [
    {
     "name": "stdout",
     "output_type": "stream",
     "text": [
      "3\n"
     ]
    }
   ],
   "source": [
    "sugar = int(input())\r\n",
    "count = 0\r\n",
    "while True:\r\n",
    "\r\n",
    "    if sugar % 5 != 0:\r\n",
    "        sugar -=3\r\n",
    "        count +=1\r\n",
    "        if sugar < 5 and sugar%3!=0:\r\n",
    "            print(-1)\r\n",
    "            break\r\n",
    "    else:\r\n",
    "        count += sugar//5\r\n",
    "        print(count)\r\n",
    "        break\r\n",
    "\r\n"
   ]
  },
  {
   "cell_type": "markdown",
   "metadata": {},
   "source": [
    "1463번 1로 만들기"
   ]
  },
  {
   "cell_type": "code",
   "execution_count": 41,
   "metadata": {},
   "outputs": [
    {
     "name": "stdout",
     "output_type": "stream",
     "text": [
      "4\n"
     ]
    }
   ],
   "source": [
    "X = int(input())\r\n",
    "count = 0\r\n",
    "while X!=1:\r\n",
    "    if X%3==0:\r\n",
    "        X //= 3\r\n",
    "        count += 1\r\n",
    "    elif X%2==0:\r\n",
    "        X //= 2\r\n",
    "        count += 1\r\n",
    "    else:\r\n",
    "        X -= 1\r\n",
    "        count += 1\r\n",
    "print(count)\r\n",
    "14= 7 6 2 =1\r\n",
    "14= 1 2 7 14\r\n",
    "\r\n",
    "14= 13 12 4 2 = 1\r\n",
    "16 = 8 4 2 = 1\r\n",
    "# 제곱근 찾기"
   ]
  },
  {
   "cell_type": "markdown",
   "metadata": {},
   "source": [
    "9095번 1,2,3 더하기"
   ]
  },
  {
   "cell_type": "code",
   "execution_count": 2,
   "metadata": {},
   "outputs": [
    {
     "name": "stdout",
     "output_type": "stream",
     "text": [
      "7\n",
      "44\n",
      "274\n"
     ]
    }
   ],
   "source": [
    "T = int(input())\r\n",
    "\r\n",
    "#재귀용법으로 해결\r\n",
    "def sol(n):\r\n",
    "    if n == 1 :\r\n",
    "        return 1\r\n",
    "    elif n == 2 :\r\n",
    "        return 2\r\n",
    "    elif n == 3 :\r\n",
    "        return 4\r\n",
    "    else:\r\n",
    "        return sol(n-1) + sol(n-2) + sol(n-3)\r\n",
    "\r\n",
    "for i in range(T):\r\n",
    "    n = int(input())\r\n",
    "    print(sol(n))"
   ]
  }
 ],
 "metadata": {
  "interpreter": {
   "hash": "0d12d05ab1afc7278cbb1fa09e775842eb34e7aa5a193c340acf9f8f1f5bb7ed"
  },
  "kernelspec": {
   "display_name": "Python 3.8.5 64-bit ('base': conda)",
   "name": "python3"
  },
  "language_info": {
   "codemirror_mode": {
    "name": "ipython",
    "version": 3
   },
   "file_extension": ".py",
   "mimetype": "text/x-python",
   "name": "python",
   "nbconvert_exporter": "python",
   "pygments_lexer": "ipython3",
   "version": "3.8.5"
  },
  "orig_nbformat": 4
 },
 "nbformat": 4,
 "nbformat_minor": 2
}