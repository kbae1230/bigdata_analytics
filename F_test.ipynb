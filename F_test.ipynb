{
  "cells": [
    {
      "cell_type": "code",
      "execution_count": 1,
      "metadata": {
        "colab": {
          "base_uri": "https://localhost:8080/",
          "height": 423
        },
        "id": "TzbmN6jSM5CG",
        "outputId": "45d89a69-8ba8-47bb-b862-a9954057c9fa"
      },
      "outputs": [
        {
          "data": {
            "text/html": [
              "<div>\n",
              "<style scoped>\n",
              "    .dataframe tbody tr th:only-of-type {\n",
              "        vertical-align: middle;\n",
              "    }\n",
              "\n",
              "    .dataframe tbody tr th {\n",
              "        vertical-align: top;\n",
              "    }\n",
              "\n",
              "    .dataframe thead th {\n",
              "        text-align: right;\n",
              "    }\n",
              "</style>\n",
              "<table border=\"1\" class=\"dataframe\">\n",
              "  <thead>\n",
              "    <tr style=\"text-align: right;\">\n",
              "      <th></th>\n",
              "      <th>id1</th>\n",
              "      <th>text1</th>\n",
              "    </tr>\n",
              "  </thead>\n",
              "  <tbody>\n",
              "    <tr>\n",
              "      <th>0</th>\n",
              "      <td>1</td>\n",
              "      <td>김 감독은 27일 소프트뱅크 2군과 평가전을 마친 뒤 \"어린 투수들이 안정적이고 자...</td>\n",
              "    </tr>\n",
              "    <tr>\n",
              "      <th>1</th>\n",
              "      <td>2</td>\n",
              "      <td>포수로 영입한 베탄코트는 나성범이 없는 동안 주로 우익수로 나섰고, 최근에 본업인 ...</td>\n",
              "    </tr>\n",
              "    <tr>\n",
              "      <th>2</th>\n",
              "      <td>3</td>\n",
              "      <td>그러나 미드에서 한화생명이 순간이동을 활용한 포위 공격으로 에이스를 띄웠다.</td>\n",
              "    </tr>\n",
              "    <tr>\n",
              "      <th>3</th>\n",
              "      <td>4</td>\n",
              "      <td>손목이 볼이 놓일 위치인 최저점에서 펴지는지를 느끼면서 몇 차례 반복한다.</td>\n",
              "    </tr>\n",
              "    <tr>\n",
              "      <th>4</th>\n",
              "      <td>5</td>\n",
              "      <td>그가 활약하고 있는 라이트헤비급에서는 한국뿐만 아니라 아시아 선수들을 찾아보기 힘들다.</td>\n",
              "    </tr>\n",
              "    <tr>\n",
              "      <th>...</th>\n",
              "      <td>...</td>\n",
              "      <td>...</td>\n",
              "    </tr>\n",
              "    <tr>\n",
              "      <th>199926</th>\n",
              "      <td>199927</td>\n",
              "      <td>단 같은 클럽 소속 선수는 최대 3명까지만 선택 가능해 한 구단에만 표가 쏠리는 현...</td>\n",
              "    </tr>\n",
              "    <tr>\n",
              "      <th>199927</th>\n",
              "      <td>199928</td>\n",
              "      <td>다만 디스플레이 패널을 조금 더 개선되었으면 하는 바람이 생겼다.</td>\n",
              "    </tr>\n",
              "    <tr>\n",
              "      <th>199928</th>\n",
              "      <td>199929</td>\n",
              "      <td>대회규정에 따라 2개부로 나뉘어 2부(선수출신 5명 등록, 3명 출전)는 무한천A구...</td>\n",
              "    </tr>\n",
              "    <tr>\n",
              "      <th>199929</th>\n",
              "      <td>199930</td>\n",
              "      <td>방망이 문제도 그렇고 식사 역시 타구단에 비해 상대적으로 단가가 낮은 편이다.</td>\n",
              "    </tr>\n",
              "    <tr>\n",
              "      <th>199930</th>\n",
              "      <td>199931</td>\n",
              "      <td>대한축구협회 관계자는 26일 '선수단에 포상금을 균등하게 지급하기로 내부 방침을 정...</td>\n",
              "    </tr>\n",
              "  </tbody>\n",
              "</table>\n",
              "<p>199931 rows × 2 columns</p>\n",
              "</div>"
            ],
            "text/plain": [
              "           id1                                              text1\n",
              "0            1  김 감독은 27일 소프트뱅크 2군과 평가전을 마친 뒤 \"어린 투수들이 안정적이고 자...\n",
              "1            2  포수로 영입한 베탄코트는 나성범이 없는 동안 주로 우익수로 나섰고, 최근에 본업인 ...\n",
              "2            3         그러나 미드에서 한화생명이 순간이동을 활용한 포위 공격으로 에이스를 띄웠다.\n",
              "3            4          손목이 볼이 놓일 위치인 최저점에서 펴지는지를 느끼면서 몇 차례 반복한다.\n",
              "4            5   그가 활약하고 있는 라이트헤비급에서는 한국뿐만 아니라 아시아 선수들을 찾아보기 힘들다.\n",
              "...        ...                                                ...\n",
              "199926  199927  단 같은 클럽 소속 선수는 최대 3명까지만 선택 가능해 한 구단에만 표가 쏠리는 현...\n",
              "199927  199928               다만 디스플레이 패널을 조금 더 개선되었으면 하는 바람이 생겼다.\n",
              "199928  199929  대회규정에 따라 2개부로 나뉘어 2부(선수출신 5명 등록, 3명 출전)는 무한천A구...\n",
              "199929  199930        방망이 문제도 그렇고 식사 역시 타구단에 비해 상대적으로 단가가 낮은 편이다.\n",
              "199930  199931  대한축구협회 관계자는 26일 '선수단에 포상금을 균등하게 지급하기로 내부 방침을 정...\n",
              "\n",
              "[199931 rows x 2 columns]"
            ]
          },
          "execution_count": 1,
          "metadata": {},
          "output_type": "execute_result"
        }
      ],
      "source": [
        "import pandas as pd\n",
        "from urllib.request import urlretrieve\n",
        "\n",
        "df0 = pd.read_excel('/home/kbae/bigdata_analytics/aihub_or_kr-sports_ko.xlsx', names=['id1', 'text1'])\n",
        "\n",
        "df0"
      ]
    },
    {
      "cell_type": "code",
      "execution_count": 151,
      "metadata": {
        "id": "HAahsCQU630C"
      },
      "outputs": [],
      "source": [
        "# a=[]\n",
        "# for i in range(len(df)):\n",
        "#   a.append(set(df['text1'][i].split())"
      ]
    },
    {
      "cell_type": "code",
      "execution_count": 2,
      "metadata": {
        "colab": {
          "base_uri": "https://localhost:8080/",
          "height": 423
        },
        "id": "JJCycsnoP5Qw",
        "outputId": "81ce0a3a-f440-47cc-a527-1cc2c6028fc1"
      },
      "outputs": [
        {
          "data": {
            "text/html": [
              "<div>\n",
              "<style scoped>\n",
              "    .dataframe tbody tr th:only-of-type {\n",
              "        vertical-align: middle;\n",
              "    }\n",
              "\n",
              "    .dataframe tbody tr th {\n",
              "        vertical-align: top;\n",
              "    }\n",
              "\n",
              "    .dataframe thead th {\n",
              "        text-align: right;\n",
              "    }\n",
              "</style>\n",
              "<table border=\"1\" class=\"dataframe\">\n",
              "  <thead>\n",
              "    <tr style=\"text-align: right;\">\n",
              "      <th></th>\n",
              "      <th>id1</th>\n",
              "      <th>text1</th>\n",
              "      <th>id2</th>\n",
              "      <th>text2</th>\n",
              "    </tr>\n",
              "  </thead>\n",
              "  <tbody>\n",
              "    <tr>\n",
              "      <th>0</th>\n",
              "      <td>1</td>\n",
              "      <td>김 감독은 27일 소프트뱅크 2군과 평가전을 마친 뒤 \"어린 투수들이 안정적이고 자...</td>\n",
              "      <td>1</td>\n",
              "      <td>김 감독은 27일 소프트뱅크 2군과 평가전을 마친 뒤 \"어린 투수들이 안정적이고 자...</td>\n",
              "    </tr>\n",
              "    <tr>\n",
              "      <th>1</th>\n",
              "      <td>2</td>\n",
              "      <td>포수로 영입한 베탄코트는 나성범이 없는 동안 주로 우익수로 나섰고, 최근에 본업인 ...</td>\n",
              "      <td>2</td>\n",
              "      <td>포수로 영입한 베탄코트는 나성범이 없는 동안 주로 우익수로 나섰고, 최근에 본업인 ...</td>\n",
              "    </tr>\n",
              "    <tr>\n",
              "      <th>2</th>\n",
              "      <td>3</td>\n",
              "      <td>그러나 미드에서 한화생명이 순간이동을 활용한 포위 공격으로 에이스를 띄웠다.</td>\n",
              "      <td>3</td>\n",
              "      <td>그러나 미드에서 한화생명이 순간이동을 활용한 포위 공격으로 에이스를 띄웠다.</td>\n",
              "    </tr>\n",
              "    <tr>\n",
              "      <th>3</th>\n",
              "      <td>4</td>\n",
              "      <td>손목이 볼이 놓일 위치인 최저점에서 펴지는지를 느끼면서 몇 차례 반복한다.</td>\n",
              "      <td>4</td>\n",
              "      <td>손목이 볼이 놓일 위치인 최저점에서 펴지는지를 느끼면서 몇 차례 반복한다.</td>\n",
              "    </tr>\n",
              "    <tr>\n",
              "      <th>4</th>\n",
              "      <td>5</td>\n",
              "      <td>그가 활약하고 있는 라이트헤비급에서는 한국뿐만 아니라 아시아 선수들을 찾아보기 힘들다.</td>\n",
              "      <td>5</td>\n",
              "      <td>그가 활약하고 있는 라이트헤비급에서는 한국뿐만 아니라 아시아 선수들을 찾아보기 힘들다.</td>\n",
              "    </tr>\n",
              "    <tr>\n",
              "      <th>...</th>\n",
              "      <td>...</td>\n",
              "      <td>...</td>\n",
              "      <td>...</td>\n",
              "      <td>...</td>\n",
              "    </tr>\n",
              "    <tr>\n",
              "      <th>199926</th>\n",
              "      <td>199927</td>\n",
              "      <td>단 같은 클럽 소속 선수는 최대 3명까지만 선택 가능해 한 구단에만 표가 쏠리는 현...</td>\n",
              "      <td>199927</td>\n",
              "      <td>단 같은 클럽 소속 선수는 최대 3명까지만 선택 가능해 한 구단에만 표가 쏠리는 현...</td>\n",
              "    </tr>\n",
              "    <tr>\n",
              "      <th>199927</th>\n",
              "      <td>199928</td>\n",
              "      <td>다만 디스플레이 패널을 조금 더 개선되었으면 하는 바람이 생겼다.</td>\n",
              "      <td>199928</td>\n",
              "      <td>다만 디스플레이 패널을 조금 더 개선되었으면 하는 바람이 생겼다.</td>\n",
              "    </tr>\n",
              "    <tr>\n",
              "      <th>199928</th>\n",
              "      <td>199929</td>\n",
              "      <td>대회규정에 따라 2개부로 나뉘어 2부(선수출신 5명 등록, 3명 출전)는 무한천A구...</td>\n",
              "      <td>199929</td>\n",
              "      <td>대회규정에 따라 2개부로 나뉘어 2부(선수출신 5명 등록, 3명 출전)는 무한천A구...</td>\n",
              "    </tr>\n",
              "    <tr>\n",
              "      <th>199929</th>\n",
              "      <td>199930</td>\n",
              "      <td>방망이 문제도 그렇고 식사 역시 타구단에 비해 상대적으로 단가가 낮은 편이다.</td>\n",
              "      <td>199930</td>\n",
              "      <td>방망이 문제도 그렇고 식사 역시 타구단에 비해 상대적으로 단가가 낮은 편이다.</td>\n",
              "    </tr>\n",
              "    <tr>\n",
              "      <th>199930</th>\n",
              "      <td>199931</td>\n",
              "      <td>대한축구협회 관계자는 26일 '선수단에 포상금을 균등하게 지급하기로 내부 방침을 정...</td>\n",
              "      <td>199931</td>\n",
              "      <td>대한축구협회 관계자는 26일 '선수단에 포상금을 균등하게 지급하기로 내부 방침을 정...</td>\n",
              "    </tr>\n",
              "  </tbody>\n",
              "</table>\n",
              "<p>199931 rows × 4 columns</p>\n",
              "</div>"
            ],
            "text/plain": [
              "           id1                                              text1     id2  \\\n",
              "0            1  김 감독은 27일 소프트뱅크 2군과 평가전을 마친 뒤 \"어린 투수들이 안정적이고 자...       1   \n",
              "1            2  포수로 영입한 베탄코트는 나성범이 없는 동안 주로 우익수로 나섰고, 최근에 본업인 ...       2   \n",
              "2            3         그러나 미드에서 한화생명이 순간이동을 활용한 포위 공격으로 에이스를 띄웠다.       3   \n",
              "3            4          손목이 볼이 놓일 위치인 최저점에서 펴지는지를 느끼면서 몇 차례 반복한다.       4   \n",
              "4            5   그가 활약하고 있는 라이트헤비급에서는 한국뿐만 아니라 아시아 선수들을 찾아보기 힘들다.       5   \n",
              "...        ...                                                ...     ...   \n",
              "199926  199927  단 같은 클럽 소속 선수는 최대 3명까지만 선택 가능해 한 구단에만 표가 쏠리는 현...  199927   \n",
              "199927  199928               다만 디스플레이 패널을 조금 더 개선되었으면 하는 바람이 생겼다.  199928   \n",
              "199928  199929  대회규정에 따라 2개부로 나뉘어 2부(선수출신 5명 등록, 3명 출전)는 무한천A구...  199929   \n",
              "199929  199930        방망이 문제도 그렇고 식사 역시 타구단에 비해 상대적으로 단가가 낮은 편이다.  199930   \n",
              "199930  199931  대한축구협회 관계자는 26일 '선수단에 포상금을 균등하게 지급하기로 내부 방침을 정...  199931   \n",
              "\n",
              "                                                    text2  \n",
              "0       김 감독은 27일 소프트뱅크 2군과 평가전을 마친 뒤 \"어린 투수들이 안정적이고 자...  \n",
              "1       포수로 영입한 베탄코트는 나성범이 없는 동안 주로 우익수로 나섰고, 최근에 본업인 ...  \n",
              "2              그러나 미드에서 한화생명이 순간이동을 활용한 포위 공격으로 에이스를 띄웠다.  \n",
              "3               손목이 볼이 놓일 위치인 최저점에서 펴지는지를 느끼면서 몇 차례 반복한다.  \n",
              "4        그가 활약하고 있는 라이트헤비급에서는 한국뿐만 아니라 아시아 선수들을 찾아보기 힘들다.  \n",
              "...                                                   ...  \n",
              "199926  단 같은 클럽 소속 선수는 최대 3명까지만 선택 가능해 한 구단에만 표가 쏠리는 현...  \n",
              "199927               다만 디스플레이 패널을 조금 더 개선되었으면 하는 바람이 생겼다.  \n",
              "199928  대회규정에 따라 2개부로 나뉘어 2부(선수출신 5명 등록, 3명 출전)는 무한천A구...  \n",
              "199929        방망이 문제도 그렇고 식사 역시 타구단에 비해 상대적으로 단가가 낮은 편이다.  \n",
              "199930  대한축구협회 관계자는 26일 '선수단에 포상금을 균등하게 지급하기로 내부 방침을 정...  \n",
              "\n",
              "[199931 rows x 4 columns]"
            ]
          },
          "execution_count": 2,
          "metadata": {},
          "output_type": "execute_result"
        }
      ],
      "source": [
        "df = df0.copy()\n",
        "df['id2'] = df['id1']\n",
        "df['text2'] = df['text1']\n",
        "df"
      ]
    },
    {
      "cell_type": "code",
      "execution_count": 153,
      "metadata": {
        "id": "V4iFIuYjRXF7"
      },
      "outputs": [],
      "source": [
        "# mydoclist = list(df['text1'])\n",
        "# mydoclist"
      ]
    },
    {
      "cell_type": "code",
      "execution_count": 154,
      "metadata": {
        "id": "y30kAm5MSpvQ"
      },
      "outputs": [],
      "source": [
        "# from sklearn.feature_extraction.text import TfidfVectorizer\n",
        "# import jellyfish\n",
        "\n",
        "\n",
        "# tfidf_vectorizer = TfidfVectorizer()\n",
        "# tfidf_matrix = tfidf_vectorizer.fit_transform(mydoclist)\n",
        "# print(tfidf_vectorizer)\n",
        "# print(tfidf_matrix)\n",
        "\n",
        "# document_distances = (tfidf_matrix * tfidf_matrix.T)\n",
        "\n",
        "# print('유사도 분석을 위한 ' + str(document_distances.get_shape()[0]) + 'x' + str(document_distances.get_shape()[1])+ 'matrix를 만들었습니다.')\n",
        "# print(document_distances.toarray())"
      ]
    },
    {
      "cell_type": "code",
      "execution_count": 155,
      "metadata": {
        "id": "1ExlTxqoQv1C"
      },
      "outputs": [],
      "source": [
        "# df['text1'].iloc[0]"
      ]
    },
    {
      "cell_type": "code",
      "execution_count": 3,
      "metadata": {
        "colab": {
          "base_uri": "https://localhost:8080/",
          "height": 423
        },
        "id": "lBzmVEhIPW1V",
        "outputId": "6560d120-bae3-43e6-db7b-d1850d3e809c"
      },
      "outputs": [
        {
          "data": {
            "text/html": [
              "<div>\n",
              "<style scoped>\n",
              "    .dataframe tbody tr th:only-of-type {\n",
              "        vertical-align: middle;\n",
              "    }\n",
              "\n",
              "    .dataframe tbody tr th {\n",
              "        vertical-align: top;\n",
              "    }\n",
              "\n",
              "    .dataframe thead th {\n",
              "        text-align: right;\n",
              "    }\n",
              "</style>\n",
              "<table border=\"1\" class=\"dataframe\">\n",
              "  <thead>\n",
              "    <tr style=\"text-align: right;\">\n",
              "      <th></th>\n",
              "      <th>id1</th>\n",
              "      <th>text1</th>\n",
              "      <th>id2</th>\n",
              "      <th>text2</th>\n",
              "    </tr>\n",
              "  </thead>\n",
              "  <tbody>\n",
              "    <tr>\n",
              "      <th>65467</th>\n",
              "      <td>65468</td>\n",
              "      <td>\"'LoL 챔피언스 코리아(LCK)'에서도 탑 티어로 분류되는 것은 물론 해외, 특...</td>\n",
              "      <td>65468</td>\n",
              "      <td>\"'LoL 챔피언스 코리아(LCK)'에서도 탑 티어로 분류되는 것은 물론 해외, 특...</td>\n",
              "    </tr>\n",
              "    <tr>\n",
              "      <th>38632</th>\n",
              "      <td>38633</td>\n",
              "      <td>\"'어떻게 이강인은 찢어진 눈으로 저런 시야를 가질 수가 있지' 내 여친이 이렇게 ...</td>\n",
              "      <td>38633</td>\n",
              "      <td>\"'어떻게 이강인은 찢어진 눈으로 저런 시야를 가질 수가 있지' 내 여친이 이렇게 ...</td>\n",
              "    </tr>\n",
              "    <tr>\n",
              "      <th>81574</th>\n",
              "      <td>81575</td>\n",
              "      <td>\"'코리언킬러' 마이티 모, 크로캅, 제롬 르배너와 싸우고 싶다\" 명현만이 목표를 ...</td>\n",
              "      <td>81575</td>\n",
              "      <td>\"'코리언킬러' 마이티 모, 크로캅, 제롬 르배너와 싸우고 싶다\" 명현만이 목표를 ...</td>\n",
              "    </tr>\n",
              "    <tr>\n",
              "      <th>11305</th>\n",
              "      <td>11306</td>\n",
              "      <td>\"(2000년대생들의 활약에)정말 잘 친다는 생각만 했고, 감탄도 했다\"며 \"내가 ...</td>\n",
              "      <td>11306</td>\n",
              "      <td>\"(2000년대생들의 활약에)정말 잘 친다는 생각만 했고, 감탄도 했다\"며 \"내가 ...</td>\n",
              "    </tr>\n",
              "    <tr>\n",
              "      <th>123601</th>\n",
              "      <td>123602</td>\n",
              "      <td>\"(K리그1)경기를 보면서 뛰고 싶다는 생각을 많이 했다\"고 밝힌 그였지만, 자신의...</td>\n",
              "      <td>123602</td>\n",
              "      <td>\"(K리그1)경기를 보면서 뛰고 싶다는 생각을 많이 했다\"고 밝힌 그였지만, 자신의...</td>\n",
              "    </tr>\n",
              "    <tr>\n",
              "      <th>...</th>\n",
              "      <td>...</td>\n",
              "      <td>...</td>\n",
              "      <td>...</td>\n",
              "      <td>...</td>\n",
              "    </tr>\n",
              "    <tr>\n",
              "      <th>40625</th>\n",
              "      <td>40626</td>\n",
              "      <td>힘을 모으기 위해 앉는 동작은 천천히 내려가야 하고 힘을 발휘하기 위해 서는 동작은...</td>\n",
              "      <td>40626</td>\n",
              "      <td>힘을 모으기 위해 앉는 동작은 천천히 내려가야 하고 힘을 발휘하기 위해 서는 동작은...</td>\n",
              "    </tr>\n",
              "    <tr>\n",
              "      <th>146359</th>\n",
              "      <td>146360</td>\n",
              "      <td>힘을 빼고 하는 평가전이기에 큰 의미를 부여할 필요까진 없지만, 그래도 투구 내용이...</td>\n",
              "      <td>146360</td>\n",
              "      <td>힘을 빼고 하는 평가전이기에 큰 의미를 부여할 필요까진 없지만, 그래도 투구 내용이...</td>\n",
              "    </tr>\n",
              "    <tr>\n",
              "      <th>100803</th>\n",
              "      <td>100804</td>\n",
              "      <td>힘을 활용하는 스타일이라면 상대 수비가 강할 때 제 플레이를 못할 수 있는데 손흥민...</td>\n",
              "      <td>100804</td>\n",
              "      <td>힘을 활용하는 스타일이라면 상대 수비가 강할 때 제 플레이를 못할 수 있는데 손흥민...</td>\n",
              "    </tr>\n",
              "    <tr>\n",
              "      <th>157702</th>\n",
              "      <td>157703</td>\n",
              "      <td>힘이 떨어진 기색을 보였으나 넥센은 투수 교체를 주저했고 한현희는 4회말 타자 3명...</td>\n",
              "      <td>157703</td>\n",
              "      <td>힘이 떨어진 기색을 보였으나 넥센은 투수 교체를 주저했고 한현희는 4회말 타자 3명...</td>\n",
              "    </tr>\n",
              "    <tr>\n",
              "      <th>108622</th>\n",
              "      <td>108623</td>\n",
              "      <td>힘이 있을 때에는 몸쪽 빠른 공이 파울이 되거나 먹히는 타구가 될 수 있지만 악력이...</td>\n",
              "      <td>108623</td>\n",
              "      <td>힘이 있을 때에는 몸쪽 빠른 공이 파울이 되거나 먹히는 타구가 될 수 있지만 악력이...</td>\n",
              "    </tr>\n",
              "  </tbody>\n",
              "</table>\n",
              "<p>199931 rows × 4 columns</p>\n",
              "</div>"
            ],
            "text/plain": [
              "           id1                                              text1     id2  \\\n",
              "65467    65468  \"'LoL 챔피언스 코리아(LCK)'에서도 탑 티어로 분류되는 것은 물론 해외, 특...   65468   \n",
              "38632    38633  \"'어떻게 이강인은 찢어진 눈으로 저런 시야를 가질 수가 있지' 내 여친이 이렇게 ...   38633   \n",
              "81574    81575  \"'코리언킬러' 마이티 모, 크로캅, 제롬 르배너와 싸우고 싶다\" 명현만이 목표를 ...   81575   \n",
              "11305    11306  \"(2000년대생들의 활약에)정말 잘 친다는 생각만 했고, 감탄도 했다\"며 \"내가 ...   11306   \n",
              "123601  123602  \"(K리그1)경기를 보면서 뛰고 싶다는 생각을 많이 했다\"고 밝힌 그였지만, 자신의...  123602   \n",
              "...        ...                                                ...     ...   \n",
              "40625    40626  힘을 모으기 위해 앉는 동작은 천천히 내려가야 하고 힘을 발휘하기 위해 서는 동작은...   40626   \n",
              "146359  146360  힘을 빼고 하는 평가전이기에 큰 의미를 부여할 필요까진 없지만, 그래도 투구 내용이...  146360   \n",
              "100803  100804  힘을 활용하는 스타일이라면 상대 수비가 강할 때 제 플레이를 못할 수 있는데 손흥민...  100804   \n",
              "157702  157703  힘이 떨어진 기색을 보였으나 넥센은 투수 교체를 주저했고 한현희는 4회말 타자 3명...  157703   \n",
              "108622  108623  힘이 있을 때에는 몸쪽 빠른 공이 파울이 되거나 먹히는 타구가 될 수 있지만 악력이...  108623   \n",
              "\n",
              "                                                    text2  \n",
              "65467   \"'LoL 챔피언스 코리아(LCK)'에서도 탑 티어로 분류되는 것은 물론 해외, 특...  \n",
              "38632   \"'어떻게 이강인은 찢어진 눈으로 저런 시야를 가질 수가 있지' 내 여친이 이렇게 ...  \n",
              "81574   \"'코리언킬러' 마이티 모, 크로캅, 제롬 르배너와 싸우고 싶다\" 명현만이 목표를 ...  \n",
              "11305   \"(2000년대생들의 활약에)정말 잘 친다는 생각만 했고, 감탄도 했다\"며 \"내가 ...  \n",
              "123601  \"(K리그1)경기를 보면서 뛰고 싶다는 생각을 많이 했다\"고 밝힌 그였지만, 자신의...  \n",
              "...                                                   ...  \n",
              "40625   힘을 모으기 위해 앉는 동작은 천천히 내려가야 하고 힘을 발휘하기 위해 서는 동작은...  \n",
              "146359  힘을 빼고 하는 평가전이기에 큰 의미를 부여할 필요까진 없지만, 그래도 투구 내용이...  \n",
              "100803  힘을 활용하는 스타일이라면 상대 수비가 강할 때 제 플레이를 못할 수 있는데 손흥민...  \n",
              "157702  힘이 떨어진 기색을 보였으나 넥센은 투수 교체를 주저했고 한현희는 4회말 타자 3명...  \n",
              "108622  힘이 있을 때에는 몸쪽 빠른 공이 파울이 되거나 먹히는 타구가 될 수 있지만 악력이...  \n",
              "\n",
              "[199931 rows x 4 columns]"
            ]
          },
          "execution_count": 3,
          "metadata": {},
          "output_type": "execute_result"
        }
      ],
      "source": [
        "# df['similarity'] = jellyfish.jaro_distance(df['text'].iloc[0], df['text'].iloc[0])\n",
        "\n",
        "df = df.sort_values(by=['text1'], axis=0)\n",
        "df"
      ]
    },
    {
      "cell_type": "code",
      "execution_count": 157,
      "metadata": {
        "id": "UCYHKzX9aMmk"
      },
      "outputs": [],
      "source": [
        "# len(df)\n",
        "# print(df['id1'].iloc[0])\n",
        "# print(df['id2'].iloc[1])\n",
        "# print(df['text1'].iloc[0])\n",
        "# print(df['text2'].iloc[1])"
      ]
    },
    {
      "cell_type": "code",
      "execution_count": 158,
      "metadata": {
        "id": "WwsETGvj8IvV"
      },
      "outputs": [],
      "source": [
        "# df = df[0:1000]\n",
        "# df"
      ]
    },
    {
      "cell_type": "code",
      "execution_count": 5,
      "metadata": {
        "colab": {
          "base_uri": "https://localhost:8080/",
          "height": 50
        },
        "id": "qS9Qe-rIdlGf",
        "outputId": "de35e621-b8c8-4c88-cc4e-80dceb76a8a8"
      },
      "outputs": [
        {
          "data": {
            "text/html": [
              "<div>\n",
              "<style scoped>\n",
              "    .dataframe tbody tr th:only-of-type {\n",
              "        vertical-align: middle;\n",
              "    }\n",
              "\n",
              "    .dataframe tbody tr th {\n",
              "        vertical-align: top;\n",
              "    }\n",
              "\n",
              "    .dataframe thead th {\n",
              "        text-align: right;\n",
              "    }\n",
              "</style>\n",
              "<table border=\"1\" class=\"dataframe\">\n",
              "  <thead>\n",
              "    <tr style=\"text-align: right;\">\n",
              "      <th></th>\n",
              "      <th>id1</th>\n",
              "      <th>id2</th>\n",
              "      <th>text1</th>\n",
              "      <th>text2</th>\n",
              "      <th>similarity</th>\n",
              "    </tr>\n",
              "  </thead>\n",
              "  <tbody>\n",
              "  </tbody>\n",
              "</table>\n",
              "</div>"
            ],
            "text/plain": [
              "Empty DataFrame\n",
              "Columns: [id1, id2, text1, text2, similarity]\n",
              "Index: []"
            ]
          },
          "execution_count": 5,
          "metadata": {},
          "output_type": "execute_result"
        }
      ],
      "source": [
        "df2 = pd.DataFrame(columns=['id1', 'id2', 'text1', 'text2', 'similarity'])\n",
        "df2"
      ]
    },
    {
      "cell_type": "code",
      "execution_count": 6,
      "metadata": {
        "colab": {
          "base_uri": "https://localhost:8080/",
          "height": 50
        },
        "id": "VeHTwfZqjk0e",
        "outputId": "3efd1b73-a1ff-4fa4-ee89-50122a775b1a"
      },
      "outputs": [
        {
          "data": {
            "text/html": [
              "<div>\n",
              "<style scoped>\n",
              "    .dataframe tbody tr th:only-of-type {\n",
              "        vertical-align: middle;\n",
              "    }\n",
              "\n",
              "    .dataframe tbody tr th {\n",
              "        vertical-align: top;\n",
              "    }\n",
              "\n",
              "    .dataframe thead th {\n",
              "        text-align: right;\n",
              "    }\n",
              "</style>\n",
              "<table border=\"1\" class=\"dataframe\">\n",
              "  <thead>\n",
              "    <tr style=\"text-align: right;\">\n",
              "      <th></th>\n",
              "      <th>id1</th>\n",
              "      <th>id2</th>\n",
              "      <th>text1</th>\n",
              "      <th>text2</th>\n",
              "      <th>similarity</th>\n",
              "    </tr>\n",
              "  </thead>\n",
              "  <tbody>\n",
              "  </tbody>\n",
              "</table>\n",
              "</div>"
            ],
            "text/plain": [
              "Empty DataFrame\n",
              "Columns: [id1, id2, text1, text2, similarity]\n",
              "Index: []"
            ]
          },
          "execution_count": 6,
          "metadata": {},
          "output_type": "execute_result"
        }
      ],
      "source": [
        "# a = df['text1'][0].split()[0]\n",
        "# a\n",
        "df3 = pd.DataFrame(columns=['id1', 'id2', 'text1', 'text2', 'similarity'])\n",
        "df3"
      ]
    },
    {
      "cell_type": "code",
      "execution_count": 9,
      "metadata": {
        "id": "e4LbyPg-YAu8"
      },
      "outputs": [
        {
          "ename": "KeyboardInterrupt",
          "evalue": "",
          "output_type": "error",
          "traceback": [
            "\u001b[0;31m---------------------------------------------------------------------------\u001b[0m",
            "\u001b[0;31mKeyboardInterrupt\u001b[0m                         Traceback (most recent call last)",
            "\u001b[0;32m/tmp/ipykernel_740/1415400157.py\u001b[0m in \u001b[0;36m<module>\u001b[0;34m\u001b[0m\n\u001b[1;32m      9\u001b[0m     \u001b[0;31m# if a not in df['text2'][j]: 2100 700\u001b[0m\u001b[0;34m\u001b[0m\u001b[0;34m\u001b[0m\u001b[0;34m\u001b[0m\u001b[0m\n\u001b[1;32m     10\u001b[0m     \u001b[0;31m#   break\u001b[0m\u001b[0;34m\u001b[0m\u001b[0;34m\u001b[0m\u001b[0;34m\u001b[0m\u001b[0m\n\u001b[0;32m---> 11\u001b[0;31m     \u001b[0;32mif\u001b[0m \u001b[0mjellyfish\u001b[0m\u001b[0;34m.\u001b[0m\u001b[0mjaro_distance\u001b[0m\u001b[0;34m(\u001b[0m\u001b[0mdf\u001b[0m\u001b[0;34m[\u001b[0m\u001b[0;34m'text1'\u001b[0m\u001b[0;34m]\u001b[0m\u001b[0;34m.\u001b[0m\u001b[0miloc\u001b[0m\u001b[0;34m[\u001b[0m\u001b[0mi\u001b[0m\u001b[0;34m]\u001b[0m\u001b[0;34m[\u001b[0m\u001b[0;36m0\u001b[0m\u001b[0;34m:\u001b[0m\u001b[0;36m3\u001b[0m\u001b[0;34m]\u001b[0m\u001b[0;34m,\u001b[0m \u001b[0mdf\u001b[0m\u001b[0;34m[\u001b[0m\u001b[0;34m'text2'\u001b[0m\u001b[0;34m]\u001b[0m\u001b[0;34m.\u001b[0m\u001b[0miloc\u001b[0m\u001b[0;34m[\u001b[0m\u001b[0mj\u001b[0m\u001b[0;34m]\u001b[0m\u001b[0;34m[\u001b[0m\u001b[0;36m0\u001b[0m\u001b[0;34m:\u001b[0m\u001b[0;36m3\u001b[0m\u001b[0;34m]\u001b[0m\u001b[0;34m)\u001b[0m\u001b[0;34m!=\u001b[0m\u001b[0;36m1\u001b[0m\u001b[0;34m:\u001b[0m\u001b[0;34m\u001b[0m\u001b[0;34m\u001b[0m\u001b[0m\n\u001b[0m\u001b[1;32m     12\u001b[0m       \u001b[0;31m# if len(df['text1'].iloc[i]) > len(df['text2'].iloc[j]):\u001b[0m\u001b[0;34m\u001b[0m\u001b[0;34m\u001b[0m\u001b[0;34m\u001b[0m\u001b[0m\n\u001b[1;32m     13\u001b[0m       \u001b[0;31m#   if df['text2'].iloc[j][0:5] not in df['text1'].iloc[i]:\u001b[0m\u001b[0;34m\u001b[0m\u001b[0;34m\u001b[0m\u001b[0;34m\u001b[0m\u001b[0m\n",
            "\u001b[0;32m/usr/local/lib/python3.8/dist-packages/pandas/core/indexing.py\u001b[0m in \u001b[0;36m__getitem__\u001b[0;34m(self, key)\u001b[0m\n\u001b[1;32m    929\u001b[0m \u001b[0;34m\u001b[0m\u001b[0m\n\u001b[1;32m    930\u001b[0m             \u001b[0mmaybe_callable\u001b[0m \u001b[0;34m=\u001b[0m \u001b[0mcom\u001b[0m\u001b[0;34m.\u001b[0m\u001b[0mapply_if_callable\u001b[0m\u001b[0;34m(\u001b[0m\u001b[0mkey\u001b[0m\u001b[0;34m,\u001b[0m \u001b[0mself\u001b[0m\u001b[0;34m.\u001b[0m\u001b[0mobj\u001b[0m\u001b[0;34m)\u001b[0m\u001b[0;34m\u001b[0m\u001b[0;34m\u001b[0m\u001b[0m\n\u001b[0;32m--> 931\u001b[0;31m             \u001b[0;32mreturn\u001b[0m \u001b[0mself\u001b[0m\u001b[0;34m.\u001b[0m\u001b[0m_getitem_axis\u001b[0m\u001b[0;34m(\u001b[0m\u001b[0mmaybe_callable\u001b[0m\u001b[0;34m,\u001b[0m \u001b[0maxis\u001b[0m\u001b[0;34m=\u001b[0m\u001b[0maxis\u001b[0m\u001b[0;34m)\u001b[0m\u001b[0;34m\u001b[0m\u001b[0;34m\u001b[0m\u001b[0m\n\u001b[0m\u001b[1;32m    932\u001b[0m \u001b[0;34m\u001b[0m\u001b[0m\n\u001b[1;32m    933\u001b[0m     \u001b[0;32mdef\u001b[0m \u001b[0m_is_scalar_access\u001b[0m\u001b[0;34m(\u001b[0m\u001b[0mself\u001b[0m\u001b[0;34m,\u001b[0m \u001b[0mkey\u001b[0m\u001b[0;34m:\u001b[0m \u001b[0mtuple\u001b[0m\u001b[0;34m)\u001b[0m\u001b[0;34m:\u001b[0m\u001b[0;34m\u001b[0m\u001b[0;34m\u001b[0m\u001b[0m\n",
            "\u001b[0;32m/usr/local/lib/python3.8/dist-packages/pandas/core/indexing.py\u001b[0m in \u001b[0;36m_getitem_axis\u001b[0;34m(self, key, axis)\u001b[0m\n\u001b[1;32m   1549\u001b[0m             \u001b[0mkey\u001b[0m \u001b[0;34m=\u001b[0m \u001b[0mnp\u001b[0m\u001b[0;34m.\u001b[0m\u001b[0masarray\u001b[0m\u001b[0;34m(\u001b[0m\u001b[0mkey\u001b[0m\u001b[0;34m)\u001b[0m\u001b[0;34m\u001b[0m\u001b[0;34m\u001b[0m\u001b[0m\n\u001b[1;32m   1550\u001b[0m \u001b[0;34m\u001b[0m\u001b[0m\n\u001b[0;32m-> 1551\u001b[0;31m         \u001b[0;32mif\u001b[0m \u001b[0mcom\u001b[0m\u001b[0;34m.\u001b[0m\u001b[0mis_bool_indexer\u001b[0m\u001b[0;34m(\u001b[0m\u001b[0mkey\u001b[0m\u001b[0;34m)\u001b[0m\u001b[0;34m:\u001b[0m\u001b[0;34m\u001b[0m\u001b[0;34m\u001b[0m\u001b[0m\n\u001b[0m\u001b[1;32m   1552\u001b[0m             \u001b[0mself\u001b[0m\u001b[0;34m.\u001b[0m\u001b[0m_validate_key\u001b[0m\u001b[0;34m(\u001b[0m\u001b[0mkey\u001b[0m\u001b[0;34m,\u001b[0m \u001b[0maxis\u001b[0m\u001b[0;34m)\u001b[0m\u001b[0;34m\u001b[0m\u001b[0;34m\u001b[0m\u001b[0m\n\u001b[1;32m   1553\u001b[0m             \u001b[0;32mreturn\u001b[0m \u001b[0mself\u001b[0m\u001b[0;34m.\u001b[0m\u001b[0m_getbool_axis\u001b[0m\u001b[0;34m(\u001b[0m\u001b[0mkey\u001b[0m\u001b[0;34m,\u001b[0m \u001b[0maxis\u001b[0m\u001b[0;34m=\u001b[0m\u001b[0maxis\u001b[0m\u001b[0;34m)\u001b[0m\u001b[0;34m\u001b[0m\u001b[0;34m\u001b[0m\u001b[0m\n",
            "\u001b[0;32m/usr/local/lib/python3.8/dist-packages/pandas/core/common.py\u001b[0m in \u001b[0;36mis_bool_indexer\u001b[0;34m(key)\u001b[0m\n\u001b[1;32m    126\u001b[0m         \u001b[0;32mand\u001b[0m \u001b[0mconvert\u001b[0m \u001b[0mto\u001b[0m \u001b[0man\u001b[0m \u001b[0mndarray\u001b[0m\u001b[0;34m.\u001b[0m\u001b[0;34m\u001b[0m\u001b[0;34m\u001b[0m\u001b[0m\n\u001b[1;32m    127\u001b[0m     \"\"\"\n\u001b[0;32m--> 128\u001b[0;31m     if isinstance(key, (ABCSeries, np.ndarray, ABCIndex)) or (\n\u001b[0m\u001b[1;32m    129\u001b[0m         \u001b[0mis_array_like\u001b[0m\u001b[0;34m(\u001b[0m\u001b[0mkey\u001b[0m\u001b[0;34m)\u001b[0m \u001b[0;32mand\u001b[0m \u001b[0mis_extension_array_dtype\u001b[0m\u001b[0;34m(\u001b[0m\u001b[0mkey\u001b[0m\u001b[0;34m.\u001b[0m\u001b[0mdtype\u001b[0m\u001b[0;34m)\u001b[0m\u001b[0;34m\u001b[0m\u001b[0;34m\u001b[0m\u001b[0m\n\u001b[1;32m    130\u001b[0m     ):\n",
            "\u001b[0;32m/usr/local/lib/python3.8/dist-packages/pandas/core/dtypes/generic.py\u001b[0m in \u001b[0;36m_check\u001b[0;34m(cls, inst)\u001b[0m\n\u001b[1;32m     41\u001b[0m     \u001b[0;31m# https://github.com/python/mypy/issues/1006\u001b[0m\u001b[0;34m\u001b[0m\u001b[0;34m\u001b[0m\u001b[0;34m\u001b[0m\u001b[0m\n\u001b[1;32m     42\u001b[0m     \u001b[0;31m# error: 'classmethod' used with a non-method\u001b[0m\u001b[0;34m\u001b[0m\u001b[0;34m\u001b[0m\u001b[0;34m\u001b[0m\u001b[0m\n\u001b[0;32m---> 43\u001b[0;31m     \u001b[0;34m@\u001b[0m\u001b[0mclassmethod\u001b[0m  \u001b[0;31m# type: ignore[misc]\u001b[0m\u001b[0;34m\u001b[0m\u001b[0;34m\u001b[0m\u001b[0m\n\u001b[0m\u001b[1;32m     44\u001b[0m     \u001b[0;32mdef\u001b[0m \u001b[0m_check\u001b[0m\u001b[0;34m(\u001b[0m\u001b[0mcls\u001b[0m\u001b[0;34m,\u001b[0m \u001b[0minst\u001b[0m\u001b[0;34m)\u001b[0m \u001b[0;34m->\u001b[0m \u001b[0mbool\u001b[0m\u001b[0;34m:\u001b[0m\u001b[0;34m\u001b[0m\u001b[0;34m\u001b[0m\u001b[0m\n\u001b[1;32m     45\u001b[0m         \u001b[0;32mreturn\u001b[0m \u001b[0mgetattr\u001b[0m\u001b[0;34m(\u001b[0m\u001b[0minst\u001b[0m\u001b[0;34m,\u001b[0m \u001b[0mattr\u001b[0m\u001b[0;34m,\u001b[0m \u001b[0;34m\"_typ\"\u001b[0m\u001b[0;34m)\u001b[0m \u001b[0;32min\u001b[0m \u001b[0mcomp\u001b[0m\u001b[0;34m\u001b[0m\u001b[0;34m\u001b[0m\u001b[0m\n",
            "\u001b[0;31mKeyboardInterrupt\u001b[0m: "
          ]
        }
      ],
      "source": [
        "import jellyfish\n",
        "\n",
        "cnt = 0\n",
        "for i in range(len(df)):\n",
        "  for j in range(i+1, len(df)):\n",
        "\n",
        "    if jellyfish.jaro_distance(df['text1'].iloc[i][0:3], df['text2'].iloc[j][0:3])!=1: \n",
        "\n",
        "        break\n",
        " \n",
        "    if jellyfish.jaro_distance(df['text1'].iloc[i], df['text2'].iloc[j]) >= 0.9:\n",
        "      df2.loc[cnt]=[df['id1'].iloc[i],df['id2'].iloc[j], df['text1'].iloc[i], df['text2'].iloc[j], jellyfish.jaro_distance(df['text1'].iloc[i], df['text2'].iloc[j])]\n",
        "      cnt+=1\n",
        " \n"
      ]
    },
    {
      "cell_type": "code",
      "execution_count": 8,
      "metadata": {
        "id": "HNnu1q0Da3sg"
      },
      "outputs": [
        {
          "name": "stdout",
          "output_type": "stream",
          "text": [
            "3062\n"
          ]
        }
      ],
      "source": [
        "print(len(df2))"
      ]
    },
    {
      "cell_type": "code",
      "execution_count": null,
      "metadata": {
        "id": "g1heqmdIflBg"
      },
      "outputs": [],
      "source": [
        "sort_df = df2.sort_values(by=['similarity'], axis=0, ascending=False)\n",
        "sort_df"
      ]
    },
    {
      "cell_type": "code",
      "execution_count": null,
      "metadata": {
        "id": "TPIkGH_P9Fax"
      },
      "outputs": [],
      "source": [
        "writer = pd.ExcelWriter('/content/drive/MyDrive/test.xlsx')\n",
        "sort_df.to_excel(writer)\n",
        "writer.save()"
      ]
    }
  ],
  "metadata": {
    "colab": {
      "collapsed_sections": [],
      "name": "Flitto.ipynb",
      "provenance": []
    },
    "kernelspec": {
      "display_name": "Python 3",
      "name": "python3"
    },
    "language_info": {
      "codemirror_mode": {
        "name": "ipython",
        "version": 3
      },
      "file_extension": ".py",
      "mimetype": "text/x-python",
      "name": "python",
      "nbconvert_exporter": "python",
      "pygments_lexer": "ipython3",
      "version": "3.8.10"
    }
  },
  "nbformat": 4,
  "nbformat_minor": 0
}
