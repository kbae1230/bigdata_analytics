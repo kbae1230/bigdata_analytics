{
 "cells": [
  {
   "cell_type": "code",
   "execution_count": 1,
   "source": [
    "import os\r\n",
    "\r\n",
    "abspath = '/nas/workspace/kbae/GLC21/GLC_JSON_LIST'\r\n",
    "output = ' /nas/workspace/kbae/GLC21/GLC_JSON_LIST/basic_meta/running_car/WV2PS_190924_52259_56913_01_01_01_FS.json'\r\n",
    "output_path = os.path.join(abspath, output)\r\n",
    "print(output_path)"
   ],
   "outputs": [
    {
     "output_type": "stream",
     "name": "stdout",
     "text": [
      "/nas/workspace/kbae/GLC21/GLC_JSON_LIST\\ /nas/workspace/kbae/GLC21/GLC_JSON_LIST/basic_meta/running_car/WV2PS_190924_52259_56913_01_01_01_FS.json\n"
     ]
    }
   ],
   "metadata": {}
  }
 ],
 "metadata": {
  "orig_nbformat": 4,
  "language_info": {
   "name": "python",
   "version": "3.8.10",
   "mimetype": "text/x-python",
   "codemirror_mode": {
    "name": "ipython",
    "version": 3
   },
   "pygments_lexer": "ipython3",
   "nbconvert_exporter": "python",
   "file_extension": ".py"
  },
  "kernelspec": {
   "name": "python3",
   "display_name": "Python 3.8.10 64-bit ('python_38': conda)"
  },
  "interpreter": {
   "hash": "86b40d917a9c044f02321ad8043c3c98ddf9a58b306d7e41e07bbb65ae936a3a"
  }
 },
 "nbformat": 4,
 "nbformat_minor": 2
}