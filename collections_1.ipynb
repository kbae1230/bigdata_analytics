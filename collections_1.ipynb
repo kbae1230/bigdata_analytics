{
 "cells": [
  {
   "cell_type": "code",
   "execution_count": 8,
   "metadata": {},
   "outputs": [
    {
     "name": "stdout",
     "output_type": "stream",
     "text": [
      "before:  {'green': 12, 'blue': 3}\n",
      "Key added.\n",
      "Key added.\n",
      "After:  {'green': 12, 'blue': 20, 'red': 5, 'white': 11}\n"
     ]
    }
   ],
   "source": [
    "from collections import defaultdict\n",
    "\n",
    "# 키가 없을 때마다 '키: 0'을 반환하는 함수.\n",
    "def log_missing():\n",
    "    print('Key added.')\n",
    "    return 0\n",
    "\n",
    "current = {'green': 12, 'blue': 3}\n",
    "increments = [\n",
    "    ('red', 5),\n",
    "    ('blue', 17),\n",
    "    ('white', 11),\n",
    "]\n",
    "\n",
    "result = defaultdict(log_missing, current)\n",
    "print('before: ', dict(result))\n",
    "\n",
    "for key, amount in increments:\n",
    "    result[key] += amount\n",
    "\n",
    "print('After: ', dict(result))"
   ]
  },
  {
   "cell_type": "code",
   "execution_count": 9,
   "metadata": {},
   "outputs": [
    {
     "name": "stdout",
     "output_type": "stream",
     "text": [
      "68625 objects now\n"
     ]
    }
   ],
   "source": [
    "import gc\n",
    "\n",
    "found_objects = gc.get_objects()\n",
    "print(f'{len(found_objects)} objects now')"
   ]
  },
  {
   "cell_type": "code",
   "execution_count": 17,
   "metadata": {},
   "outputs": [
    {
     "name": "stdout",
     "output_type": "stream",
     "text": [
      "  File \"/usr/local/lib/python3.8/dist-packages/ipykernel/kernelbase.py\", line 648\n",
      "    reply_content = await reply_content\n",
      "  File \"/usr/local/lib/python3.8/dist-packages/ipykernel/ipkernel.py\", line 353\n",
      "    res = shell.run_cell(code, store_history=store_history, silent=silent)\n",
      "  File \"/usr/local/lib/python3.8/dist-packages/ipykernel/zmqshell.py\", line 533\n",
      "    return super(ZMQInteractiveShell, self).run_cell(*args, **kwargs)\n",
      "  File \"/usr/local/lib/python3.8/dist-packages/IPython/core/interactiveshell.py\", line 2914\n",
      "    result = self._run_cell(\n",
      "  File \"/usr/local/lib/python3.8/dist-packages/IPython/core/interactiveshell.py\", line 2960\n",
      "    return runner(coro)\n",
      "  File \"/usr/local/lib/python3.8/dist-packages/IPython/core/async_helpers.py\", line 78\n",
      "    coro.send(None)\n",
      "  File \"/usr/local/lib/python3.8/dist-packages/IPython/core/interactiveshell.py\", line 3185\n",
      "    has_raised = await self.run_ast_nodes(code_ast.body, cell_name,\n",
      "  File \"/usr/local/lib/python3.8/dist-packages/IPython/core/interactiveshell.py\", line 3377\n",
      "    if (await self.run_code(code, result,  async_=asy)):\n",
      "  File \"/usr/local/lib/python3.8/dist-packages/IPython/core/interactiveshell.py\", line 3457\n",
      "    exec(code_obj, self.user_global_ns, self.user_ns)\n",
      "  File \"/tmp/ipykernel_370/1924174177.py\", line 10\n",
      "    exec('v' + str(i) + ' = ' + str(i))\n"
     ]
    }
   ],
   "source": []
  },
  {
   "cell_type": "code",
   "execution_count": 15,
   "metadata": {},
   "outputs": [
    {
     "name": "stdout",
     "output_type": "stream",
     "text": [
      "Sucess\n",
      "None\n",
      "hihi\n"
     ]
    }
   ],
   "source": [
    "b = '''\n",
    "a = 1\n",
    "if a > 0:\n",
    "    print('Success')\n",
    "'''\n",
    "c = 'print(\"hihi\")'\n",
    "print(exec(b))\n",
    "exec(c)"
   ]
  }
 ],
 "metadata": {
  "interpreter": {
   "hash": "916dbcbb3f70747c44a77c7bcd40155683ae19c65e1c03b4aa3499c5328201f1"
  },
  "kernelspec": {
   "display_name": "Python 3.8.10 64-bit",
   "language": "python",
   "name": "python3"
  },
  "language_info": {
   "codemirror_mode": {
    "name": "ipython",
    "version": 3
   },
   "file_extension": ".py",
   "mimetype": "text/x-python",
   "name": "python",
   "nbconvert_exporter": "python",
   "pygments_lexer": "ipython3",
   "version": "3.8.10"
  },
  "orig_nbformat": 4
 },
 "nbformat": 4,
 "nbformat_minor": 2
}
