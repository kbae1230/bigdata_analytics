{
 "metadata": {
  "language_info": {
   "codemirror_mode": {
    "name": "ipython",
    "version": 3
   },
   "file_extension": ".py",
   "mimetype": "text/x-python",
   "name": "python",
   "nbconvert_exporter": "python",
   "pygments_lexer": "ipython3",
   "version": "3.8.5"
  },
  "orig_nbformat": 4,
  "kernelspec": {
   "name": "python3",
   "display_name": "Python 3.8.5 64-bit ('base': conda)"
  },
  "interpreter": {
   "hash": "0d12d05ab1afc7278cbb1fa09e775842eb34e7aa5a193c340acf9f8f1f5bb7ed"
  }
 },
 "nbformat": 4,
 "nbformat_minor": 2,
 "cells": [
  {
   "cell_type": "code",
   "execution_count": 231,
   "metadata": {},
   "outputs": [
    {
     "output_type": "stream",
     "name": "stdout",
     "text": [
      "[[1, 3], [10, 7], [6, 2], [5, 8], [6, 7], [9, 3]]\n[1, 3]\n1\n2\n3\n4\n5\n1\n[6, 2]\n2\n3\n4\n1\n2\n3\n[9, 3]\n"
     ]
    },
    {
     "output_type": "error",
     "ename": "IndexError",
     "evalue": "list index out of range",
     "traceback": [
      "\u001b[1;31m---------------------------------------------------------------------------\u001b[0m",
      "\u001b[1;31mIndexError\u001b[0m                                Traceback (most recent call last)",
      "\u001b[1;32m<ipython-input-231-bd22b15fe81c>\u001b[0m in \u001b[0;36m<module>\u001b[1;34m\u001b[0m\n\u001b[0;32m     23\u001b[0m         \u001b[0mteam\u001b[0m\u001b[1;33m.\u001b[0m\u001b[0mappend\u001b[0m\u001b[1;33m(\u001b[0m\u001b[1;33m[\u001b[0m\u001b[0mnum\u001b[0m\u001b[1;33m]\u001b[0m\u001b[1;33m)\u001b[0m\u001b[1;33m\u001b[0m\u001b[1;33m\u001b[0m\u001b[0m\n\u001b[0;32m     24\u001b[0m     \u001b[1;32mwhile\u001b[0m \u001b[1;32mTrue\u001b[0m\u001b[1;33m:\u001b[0m\u001b[1;33m\u001b[0m\u001b[1;33m\u001b[0m\u001b[0m\n\u001b[1;32m---> 25\u001b[1;33m         \u001b[1;32mif\u001b[0m \u001b[0mnum\u001b[0m \u001b[1;32min\u001b[0m \u001b[0mt_team\u001b[0m\u001b[1;33m[\u001b[0m\u001b[0mi\u001b[0m\u001b[1;33m]\u001b[0m\u001b[1;33m:\u001b[0m\u001b[1;33m\u001b[0m\u001b[1;33m\u001b[0m\u001b[0m\n\u001b[0m\u001b[0;32m     26\u001b[0m             \u001b[0mtemp\u001b[0m \u001b[1;33m+=\u001b[0m \u001b[0mt_team\u001b[0m\u001b[1;33m[\u001b[0m\u001b[0mi\u001b[0m\u001b[1;33m]\u001b[0m\u001b[1;33m\u001b[0m\u001b[1;33m\u001b[0m\u001b[0m\n\u001b[0;32m     27\u001b[0m             \u001b[0mprint\u001b[0m\u001b[1;33m(\u001b[0m\u001b[0mtemp\u001b[0m\u001b[1;33m)\u001b[0m\u001b[1;33m\u001b[0m\u001b[1;33m\u001b[0m\u001b[0m\n",
      "\u001b[1;31mIndexError\u001b[0m: list index out of range"
     ]
    }
   ],
   "source": [
    "# 2번 실패 \n",
    "\n",
    "n = 10\n",
    "v1 = [1, 10, 6, 5, 6, 9]\n",
    "v2 = [3, 7, 2, 8, 7, 3]\n",
    "num = [3, 4, 5, 1, 8, 7, 9, 2]\n",
    "amount = [10, 5, 6, -6, -8, 2, -2, 5]\n",
    "v3= v1+v2\n",
    "team = []\n",
    "t_team = []\n",
    "\n",
    "\n",
    "for i in range(len(v1)):\n",
    "    t_team.append([v1[i],v2[i]])\n",
    "    \n",
    "print(t_team)\n",
    "\n",
    "temp = []\n",
    "for num in range(1, n+1):\n",
    "\n",
    "    i=0\n",
    "    if num not in v3:\n",
    "        team.append([num])\n",
    "    while True:\n",
    "        if num in t_team[i]:\n",
    "            temp += t_team[i]\n",
    "            print(temp)\n",
    "            t_team.remove(t_team[i])\n",
    "        else:\n",
    "            i +=1\n",
    "            print(i)\n",
    "            if i == len(t_team):\n",
    "                team.append(list(set(temp)))\n",
    "                temp = []\n",
    "                break\n"
   ]
  },
  {
   "cell_type": "code",
   "execution_count": 220,
   "metadata": {},
   "outputs": [
    {
     "output_type": "stream",
     "name": "stdout",
     "text": [
      "[1, 2, 3, []]\n"
     ]
    }
   ],
   "source": [
    "a =[1,2,3]\n",
    "b= [4]\n",
    "c=[]\n",
    "a.append(c)\n",
    "print(a)"
   ]
  },
  {
   "cell_type": "code",
   "execution_count": 186,
   "metadata": {},
   "outputs": [
    {
     "output_type": "stream",
     "name": "stdout",
     "text": [
      "i: 1\ni: 2\ni: 3\ni: 4\n[[2, 3], [4, 5], [4, 5], [3, 7]]\nstart : 3\n-------\ni: 1\ni: 2\n[[4, 5], [4, 5], [3, 7]]\nstart : 4\n-------\n[[4, 5], [4, 5]]\nstart : 5\nanswer= 3\n"
     ]
    }
   ],
   "source": [
    "# 3번 해결!!\n",
    "\n",
    "n=6\n",
    "K=4\n",
    "# T=[[1,3],[1,1],[2,3],[3,4]]\n",
    "# T=[[1,3],[3,4],[2,4],[2,4],[2,3],[1,2]]\n",
    "T=[[2,3],[3,7],[4,5],[4,5]]\n",
    "\n",
    "student = 0\n",
    "start = 1  # 현재 날짜 (1일차)\n",
    "i=0\n",
    "t1 = sorted(T, key=lambda x: x[1]) # 끝나는 날짜가 빠른 애들을 앞쪽으로 정렬. ***이게 제일 중요함.\n",
    "while len(t1)!=0:  # 날짜가 지나기 전에 상담이 모두 끝나면 종료시킨다.\n",
    "    if i==len(t1): # 현재 날짜에 상담을 할 수 있는 애들이 없으면 종료.\n",
    "        start += 1 # 다음 날로 이동\n",
    "        i=0\n",
    "    elif t1[i][0] <= start <= t1[i][1]: # 현재 날짜에 상담 가능한 학생\n",
    "        t1.pop(i)\n",
    "        start += 1\n",
    "        student += 1\n",
    "        i=0\n",
    "        if start > K:   # 현재 날짜가 K (상담 가능한 날짜)를 넘기면 상담 종료.\n",
    "            break\n",
    "\n",
    "    elif t1[i][1]< start:   # 현재 날짜에 상담 가능한 기일이 지난 학생들은 버린다.\n",
    "        t1.pop(i)\n",
    "\n",
    "    else:\n",
    "        i +=1   # 다음 학생\n",
    "\n",
    " \n",
    "print('answer=', student)"
   ]
  },
  {
   "cell_type": "code",
   "execution_count": 150,
   "metadata": {},
   "outputs": [
    {
     "output_type": "stream",
     "name": "stdout",
     "text": [
      "1\n"
     ]
    }
   ],
   "source": [
    "a = {'a':1, 'b':2}\n",
    "print(a['a'])"
   ]
  }
 ]
}