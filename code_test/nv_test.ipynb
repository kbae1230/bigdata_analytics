{
 "metadata": {
  "language_info": {
   "codemirror_mode": {
    "name": "ipython",
    "version": 3
   },
   "file_extension": ".py",
   "mimetype": "text/x-python",
   "name": "python",
   "nbconvert_exporter": "python",
   "pygments_lexer": "ipython3",
   "version": "3.8.5"
  },
  "orig_nbformat": 4,
  "kernelspec": {
   "name": "python3",
   "display_name": "Python 3.8.5 64-bit ('base': conda)"
  },
  "interpreter": {
   "hash": "0d12d05ab1afc7278cbb1fa09e775842eb34e7aa5a193c340acf9f8f1f5bb7ed"
  }
 },
 "nbformat": 4,
 "nbformat_minor": 2,
 "cells": [
  {
   "source": [
    "# 문자열 위주"
   ],
   "cell_type": "markdown",
   "metadata": {}
  },
  {
   "cell_type": "code",
   "execution_count": 44,
   "metadata": {},
   "outputs": [
    {
     "output_type": "stream",
     "name": "stdout",
     "text": [
      "['e', 'g', 'o', 'r', 's', 't']\n['e', 'g', 'n', 'o', 'r', 's']\n['a', 'g', 'n', 'o', 'r', 's']\n['a', 'm', 'n', 'o', 'r', 's']\n['a', 'm', 'n', 'o', 'r', 'w']\n['a', 'a', 'm', 'n', 'r', 'w']\n['a', 'a', 'm', 'n', 'r', 'w']\n['a', 'a', 'e', 'm', 'r', 'w']\n['a', 'e', 'm', 'r', 's', 'w']\n['a', 'e', 'o', 'r', 's', 'w']\n['a', 'e', 'm', 'o', 'r', 's']\n['e', 'm', 'o', 'r', 'r', 's']\n['a', 'e', 'm', 'o', 'r', 's']\n['a', 'm', 'n', 'o', 'r', 's']\n2\n"
     ]
    }
   ],
   "source": [
    "# 1번\n",
    "S = \"tegsornamwaresomran\"\n",
    "pattern = \"ransom\"\n",
    "\n",
    "def solution(S, pattern):\n",
    "    pattern = sorted(pattern)\n",
    "    length = len(pattern)\n",
    "    answer = 0\n",
    "    a = []\n",
    "    for i in range(len(S)-length+1):\n",
    "        for j in range(i, length+i):\n",
    "            a.append(S[j])\n",
    "        a = sorted(a)\n",
    "        print(a)\n",
    "        if a == pattern:\n",
    "            answer+=1\n",
    "        a = []\n",
    "    return answer\n",
    "print(solution(S,pattern))"
   ]
  },
  {
   "cell_type": "code",
   "execution_count": 41,
   "metadata": {},
   "outputs": [
    {
     "output_type": "stream",
     "name": "stdout",
     "text": [
      "9\n"
     ]
    }
   ],
   "source": [
    "# 2번\n",
    "#1 A\n",
    "#2 AA\n",
    "#3 AAA\n",
    "#4 AAAA\n",
    "#5 AAAAA\n",
    "#6 AAAAE\n",
    "#7 AAAAI\n",
    "#8 AAAAO\n",
    "#9 AAAAU\n",
    "#10 AAAE\n",
    "\n",
    "word = 'AAAAE'\n",
    "word = 'AAAAU'\n",
    "\n",
    "from itertools import product\n",
    "\n",
    "total = []\n",
    "collection = ['A', 'E', 'I', 'O', 'U']\n",
    "for i in range(1,6):\n",
    "    total += list(product(collection, repeat=i))\n",
    "total.sort()\n",
    "\n",
    "def solution(word):\n",
    "\n",
    "    put = tuple(list(word))\n",
    "\n",
    "    return total.index(put)+1\n",
    "\n",
    "print(solution(word))"
   ]
  },
  {
   "cell_type": "code",
   "execution_count": 13,
   "metadata": {},
   "outputs": [
    {
     "output_type": "stream",
     "name": "stdout",
     "text": [
      "['a', 'aa', 'aab', 'ab']\n['aa', 'dd']\n"
     ]
    }
   ],
   "source": [
    "a = ['a','aa', 'ab', 'aab']\n",
    "b=['aa']\n",
    "c=['dd']\n",
    "a.sort()\n",
    "print(a)\n",
    "print(b+c)"
   ]
  },
  {
   "cell_type": "code",
   "execution_count": 42,
   "metadata": {},
   "outputs": [
    {
     "output_type": "stream",
     "name": "stdout",
     "text": [
      "['z', 'b']\n['z', 'g']\n['z', 'g', 'a']\n['z', 'g', 'j']\nzgj\n"
     ]
    }
   ],
   "source": [
    "# 3번\n",
    "\n",
    "letters = \"zbgaj\"\n",
    "k = 3\n",
    "\n",
    "def solution(letters, k):\n",
    "\n",
    "    answer = [letters[0]] # 일단 맨 앞에꺼 하나 갖고옴\n",
    "    out = len(letters)-k # 뺄 갯수로 카운팅\n",
    "\n",
    "    for letter in letters[1:]:\n",
    "        while len(answer) > 0 and answer[-1] < letter and out > 0: # answer 끝에꺼랑 letter 앞에꺼 비교 대신 answer이 0이면 안되고 out 카운트가 0보다 커야함\n",
    "            answer.pop() # while 돌면서 letter보다 작은 answer은 다빼줌\n",
    "            out -= 1    # 뺄 때마다 카운팅 -1\n",
    "            \n",
    "        answer.append(letter)  # letter을 이제 answer에 넣어줌\n",
    "        print(answer)\n",
    "    \n",
    "    if out != 0:            # 만약에 애초에 큰 수로 정렬이 잘 되어 있어서 out 을 다 소거하지 못했을 때, out 수만큼 뒤에꺼 슬라이스\n",
    "        answer = answer[:-out]\n",
    "    answer = ''.join(answer)\n",
    "\n",
    "    return answer\n",
    "\n",
    "print(solution(letters, k))"
   ]
  },
  {
   "cell_type": "code",
   "execution_count": 6,
   "metadata": {},
   "outputs": [
    {
     "output_type": "stream",
     "name": "stdout",
     "text": [
      "[1, 2, 3]\n"
     ]
    }
   ],
   "source": [
    "a=[1,2,3,4,5]\n",
    "print(a[:-2])"
   ]
  }
 ]
}