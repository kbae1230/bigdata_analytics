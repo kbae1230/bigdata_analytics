{
 "cells": [
  {
   "cell_type": "code",
   "execution_count": 6,
   "metadata": {},
   "outputs": [
    {
     "ename": "SyntaxError",
     "evalue": "invalid syntax (<ipython-input-6-36a4eb121b10>, line 10)",
     "output_type": "error",
     "traceback": [
      "\u001b[1;36m  File \u001b[1;32m\"<ipython-input-6-36a4eb121b10>\"\u001b[1;36m, line \u001b[1;32m10\u001b[0m\n\u001b[1;33m    output = #\u001b[0m\n\u001b[1;37m             ^\u001b[0m\n\u001b[1;31mSyntaxError\u001b[0m\u001b[1;31m:\u001b[0m invalid syntax\n"
     ]
    }
   ],
   "source": [
    "# 1번\n",
    "# <- 기호를 채워 넣어주세요.\n",
    "\n",
    "# input -> list\n",
    "input = [1, 12, 13, 14, 15]\n",
    "\n",
    "# output -> int (input 숫자의 합.)\n",
    "\n",
    "output = #\n",
    "for # in input:\n",
    "    output += int(#)\n",
    "\n",
    "print(output)"
   ]
  },
  {
   "cell_type": "code",
   "execution_count": 13,
   "metadata": {},
   "outputs": [
    {
     "name": "stdout",
     "output_type": "stream",
     "text": [
      "['i', 'l', 'o', 'v', 'e', 'y', 'o', 'u', 'j', 'o', 'o', 'h', 'e', 'e', 'e']\n"
     ]
    }
   ],
   "source": [
    "# 2번\n",
    "# - 없애고 list 안에 넣기\n",
    "\n",
    "# input -> str\n",
    "input = 'i-l-o-v-e-y-o-u-j-o-o-h-e-e-e'\n",
    "\n",
    "# output = ['i', 'l', 'o', 'v', 'e', 'y', 'o', 'u', 'j', 'o', 'o', 'h', 'e', 'e', 'e']\n",
    "\n",
    "# make code\n",
    "\n"
   ]
  },
  {
   "cell_type": "code",
   "execution_count": 14,
   "metadata": {},
   "outputs": [
    {
     "name": "stdout",
     "output_type": "stream",
     "text": [
      "iloveyoujooheee\n"
     ]
    }
   ],
   "source": [
    "# 3번\n",
    "# 각 문자를 합치기\n",
    "\n",
    "# input -> list\n",
    "input = ['i', 'l', 'o', 'v', 'e', 'y', 'o', 'u', 'j', 'o', 'o', 'h', 'e', 'e', 'e']\n",
    "\n",
    "# ex : output = 'iloveyoujooheee'\n",
    "output = ''\n",
    "\n",
    "# 을 채워서 문자를 합쳐보세요\n",
    "for i in input:\n",
    "    #\n",
    "print(output)"
   ]
  },
  {
   "cell_type": "code",
   "execution_count": 1,
   "metadata": {},
   "outputs": [
    {
     "name": "stdout",
     "output_type": "stream",
     "text": [
      "2 단\n",
      "2 * 1 = 2 \n",
      "\n",
      "2 * 2 = 4 \n",
      "\n",
      "2 * 3 = 6 \n",
      "\n",
      "2 * 4 = 8 \n",
      "\n",
      "2 * 5 = 10 \n",
      "\n",
      "2 * 6 = 12 \n",
      "\n",
      "2 * 7 = 14 \n",
      "\n",
      "2 * 8 = 16 \n",
      "\n",
      "2 * 9 = 18 \n",
      "\n"
     ]
    }
   ],
   "source": [
    "# 주희가 짠 코드\n",
    "\n",
    "for i in range(2, 3):\n",
    "   print(i, '단')\n",
    "   for j in range(1, 10):\n",
    "    #   print('\\t',i, '*', j, '=',i*j)\n",
    "      print(f'{i} * {j} = {i*j} \\n')\n",
    "\n"
   ]
  },
  {
   "cell_type": "code",
   "execution_count": 5,
   "metadata": {},
   "outputs": [
    {
     "name": "stdout",
     "output_type": "stream",
     "text": [
      "\n",
      "2 단\n",
      "2 * 1 = 2\n",
      "2 * 2 = 4\n",
      "2 * 3 = 6\n",
      "2 * 4 = 8\n",
      "2 * 5 = 10\n",
      "2 * 6 = 12\n",
      "2 * 7 = 14\n",
      "2 * 8 = 16\n",
      "2 * 9 = 18\n",
      "\n",
      "3 단\n",
      "3 * 1 = 3\n",
      "3 * 2 = 6\n",
      "3 * 3 = 9\n",
      "3 * 4 = 12\n",
      "3 * 5 = 15\n",
      "3 * 6 = 18\n",
      "3 * 7 = 21\n",
      "3 * 8 = 24\n",
      "3 * 9 = 27\n"
     ]
    }
   ],
   "source": [
    "for i in range(2, 4):\n",
    "    print()\n",
    "    print(i, '단')\n",
    "    for j in range(1, 10):\n",
    "        print(i, '*', j, '=',i*j)"
   ]
  }
 ],
 "metadata": {
  "interpreter": {
   "hash": "b3ba2566441a7c06988d0923437866b63cedc61552a5af99d1f4fb67d367b25f"
  },
  "kernelspec": {
   "display_name": "Python 3.8.8 64-bit ('base': conda)",
   "name": "python3"
  },
  "language_info": {
   "codemirror_mode": {
    "name": "ipython",
    "version": 3
   },
   "file_extension": ".py",
   "mimetype": "text/x-python",
   "name": "python",
   "nbconvert_exporter": "python",
   "pygments_lexer": "ipython3",
   "version": "3.8.8"
  },
  "orig_nbformat": 4
 },
 "nbformat": 4,
 "nbformat_minor": 2
}
