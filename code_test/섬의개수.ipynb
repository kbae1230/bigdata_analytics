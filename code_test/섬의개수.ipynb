{
 "cells": [
  {
   "cell_type": "code",
   "execution_count": 2,
   "metadata": {},
   "outputs": [
    {
     "name": "stdout",
     "output_type": "stream",
     "text": [
      "[[1, 0, 1, 0, 0], [1, 0, 0, 0, 0], [1, 0, 1, 0, 1], [1, 0, 0, 1, 0]]\n",
      "1\n",
      "0\n",
      "1\n",
      "0\n",
      "0\n",
      "1\n",
      "0\n",
      "0\n",
      "0\n",
      "0\n",
      "1\n",
      "0\n",
      "1\n",
      "0\n",
      "1\n",
      "1\n",
      "0\n",
      "0\n",
      "1\n",
      "0\n"
     ]
    }
   ],
   "source": [
    "from collections import deque\n",
    "\n",
    "island = [[1, 0, 1, 0, 0],\n",
    "[1, 0, 0, 0, 0],\n",
    "[1, 0, 1, 0, 1],\n",
    "[1, 0, 0, 1, 0]]\n",
    "\n",
    "print(island)\n",
    "\n",
    "\n",
    "dx = [-1,-1,-1,0,1,1,1,0]\n",
    "dy = [-1,0,1,1,1,0,-1,-1]\n",
    "\n",
    "for i in island:\n",
    "    for j in i:\n",
    "        print(j)\n",
    "        "
   ]
  },
  {
   "cell_type": "code",
   "execution_count": 5,
   "metadata": {},
   "outputs": [
    {
     "name": "stdout",
     "output_type": "stream",
     "text": [
      "a[1] 3\n",
      "1\n",
      "a[1] 4\n",
      "3\n",
      "a[1] 5\n",
      "3\n"
     ]
    }
   ],
   "source": [
    "# 중요\n",
    "\n",
    "a = [1,2,3]\n",
    "\n",
    "for i in a:\n",
    "    a[1] += 1\n",
    "    print('a[1]', a[1])\n",
    "    print(i)"
   ]
  },
  {
   "cell_type": "code",
   "execution_count": null,
   "metadata": {},
   "outputs": [],
   "source": []
  }
 ],
 "metadata": {
  "interpreter": {
   "hash": "86b40d917a9c044f02321ad8043c3c98ddf9a58b306d7e41e07bbb65ae936a3a"
  },
  "kernelspec": {
   "display_name": "Python 3.8.10 64-bit ('python_38': conda)",
   "language": "python",
   "name": "python3"
  },
  "language_info": {
   "codemirror_mode": {
    "name": "ipython",
    "version": 3
   },
   "file_extension": ".py",
   "mimetype": "text/x-python",
   "name": "python",
   "nbconvert_exporter": "python",
   "pygments_lexer": "ipython3",
   "version": "3.8.10"
  },
  "orig_nbformat": 4
 },
 "nbformat": 4,
 "nbformat_minor": 2
}
