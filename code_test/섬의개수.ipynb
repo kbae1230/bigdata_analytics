{
 "cells": [
  {
   "cell_type": "code",
   "execution_count": 6,
   "metadata": {},
   "outputs": [
    {
     "name": "stdout",
     "output_type": "stream",
     "text": [
      "[[1, 0, 1, 0, 0], [1, 0, 0, 0, 0], [1, 0, 1, 0, 1], [1, 0, 0, 1, 0]]\n",
      "3\n",
      "time : 0.000125885009765625\n"
     ]
    }
   ],
   "source": [
    "island = [[1, 0, 1, 0, 0],\n",
    "[1, 0, 0, 0, 0],\n",
    "[1, 0, 1, 0, 1],\n",
    "[1, 0, 0, 1, 0]]\n",
    "\n",
    "print(island)\n",
    "\n",
    "dx = [-1,-1,-1,0,1,1,1,0]\n",
    "dy = [-1,0,1,1,1,0,-1,-1]\n",
    "\n",
    "def dfs(x, y):\n",
    "    island[x][y] = 0\n",
    "    for idx in range(8):\n",
    "        nx, ny = x + dx[idx], y + dy[idx]\n",
    "        if 0<= nx < len(island) and 0<= ny < len(island[0]) and island[nx][ny] == 1:\n",
    "            dfs(nx,ny)\n",
    "\n",
    "import time\n",
    "\n",
    "start = time.time()  # 시작 시간 저장\n",
    "answer = 0\n",
    "for i in range(len(island)):\n",
    "    for j in range(len(island[0])):\n",
    "        if island[i][j] == 1:\n",
    "            dfs(i,j)\n",
    "            answer += 1\n",
    "print(answer)\n",
    "print(\"time :\", time.time() - start)  # 현재시각 - 시작시간 = 실행 시간"
   ]
  },
  {
   "cell_type": "code",
   "execution_count": 5,
   "metadata": {},
   "outputs": [
    {
     "name": "stdout",
     "output_type": "stream",
     "text": [
      "3\n",
      "time : 0.000148773193359375\n"
     ]
    }
   ],
   "source": [
    "from collections import deque\n",
    "\n",
    "island = [[1, 0, 1, 0, 0],\n",
    "[1, 0, 0, 0, 0],\n",
    "[1, 0, 1, 0, 1],\n",
    "[1, 0, 0, 1, 0]]\n",
    "\n",
    "dx = [-1,-1,-1,0,1,1,1,0]\n",
    "dy = [-1,0,1,1,1,0,-1,-1]\n",
    "\n",
    "def bfs(i, j):\n",
    "    if island[i][j] == 0:\n",
    "        return False\n",
    "    queue = deque()\n",
    "    queue.append((i, j))\n",
    "    island[i][j] = 0\n",
    "\n",
    "    while queue:\n",
    "        y, x = queue.popleft()\n",
    "        for idx in range(8):\n",
    "            nx, ny = x + dx[idx], y + dy[idx]\n",
    "\n",
    "            if 0 <= nx < len(island) and 0 <= ny < len(island[0]):\n",
    "                if island[nx][ny] == 1:\n",
    "                    queue.append((nx, ny))\n",
    "                    island[nx][ny] = 0\n",
    "    return True\n",
    "\n",
    "import time\n",
    "\n",
    "start = time.time()  # 시작 시간 저장\n",
    "answer = 0\n",
    "for i in range(len(island)):\n",
    "    for j in range(len(island[0])):\n",
    "        if island[i][j] == 1:\n",
    "            bfs(i,j)\n",
    "            answer += 1\n",
    "print(answer)\n",
    "print(\"time :\", time.time() - start)  # 현재시각 - 시작시간 = 실행 시간"
   ]
  },
  {
   "cell_type": "code",
   "execution_count": 5,
   "metadata": {},
   "outputs": [
    {
     "name": "stdout",
     "output_type": "stream",
     "text": [
      "a[1] 3\n",
      "1\n",
      "a[1] 4\n",
      "3\n",
      "a[1] 5\n",
      "3\n"
     ]
    }
   ],
   "source": [
    "# 중요\n",
    "\n",
    "a = [1,2,3]\n",
    "\n",
    "for i in a:\n",
    "    a[1] += 1\n",
    "    print('a[1]', a[1])\n",
    "    print(i)"
   ]
  },
  {
   "cell_type": "code",
   "execution_count": 6,
   "metadata": {},
   "outputs": [
    {
     "name": "stdout",
     "output_type": "stream",
     "text": [
      "0\n",
      "1\n",
      "2\n",
      "1\n",
      "2\n",
      "3\n"
     ]
    }
   ],
   "source": [
    "#1\n",
    "a_str = '형몽이'\n",
    "#2\n",
    "a_list = [1,2,3]\n",
    "#3\n",
    "# range()\n",
    "\n",
    "# for i in range(len(a_list)):\n",
    "#     print(i)\n",
    "    \n",
    "for i in a_list:\n",
    "    print(i)\n"
   ]
  },
  {
   "cell_type": "code",
   "execution_count": 8,
   "metadata": {},
   "outputs": [
    {
     "name": "stdout",
     "output_type": "stream",
     "text": [
      "c 0\n",
      "c 2\n",
      "c 0\n",
      "c 1\n",
      "c 0\n",
      "c 0\n",
      "c 0\n",
      "c 0\n"
     ]
    }
   ],
   "source": [
    "a = '14 pushpush 1 pushTopush 2 top push size empty'\n",
    "\n",
    "a_list = a.split(' ')\n",
    "\n",
    "# 1\n",
    "sum = 0\n",
    "for i in a_list:\n",
    "    c = i.count('push')\n",
    "    sum += c\n",
    "    \n",
    "# 2\n",
    "sum = 0\n",
    "for i in a_list:\n",
    "    if 'push' in i:\n",
    "        sum += 1\n",
    "\n",
    "# 문제\n",
    "# push가 2개인 경우가 있는지 없는지, 있으면 몇 개 있는지\n",
    "    "
   ]
  },
  {
   "cell_type": "code",
   "execution_count": 4,
   "metadata": {},
   "outputs": [
    {
     "name": "stdout",
     "output_type": "stream",
     "text": [
      "형\n",
      "몽\n",
      "이\n",
      "0\n",
      "1\n",
      "2\n"
     ]
    },
    {
     "ename": "TypeError",
     "evalue": "'int' object is not iterable",
     "output_type": "error",
     "traceback": [
      "\u001b[0;31m---------------------------------------------------------------------------\u001b[0m",
      "\u001b[0;31mTypeError\u001b[0m                                 Traceback (most recent call last)",
      "\u001b[0;32m/tmp/ipykernel_2397/176120972.py\u001b[0m in \u001b[0;36m<module>\u001b[0;34m\u001b[0m\n\u001b[1;32m      5\u001b[0m     \u001b[0mprint\u001b[0m\u001b[0;34m(\u001b[0m\u001b[0mi\u001b[0m\u001b[0;34m)\u001b[0m\u001b[0;34m\u001b[0m\u001b[0;34m\u001b[0m\u001b[0m\n\u001b[1;32m      6\u001b[0m \u001b[0;34m\u001b[0m\u001b[0m\n\u001b[0;32m----> 7\u001b[0;31m \u001b[0;32mfor\u001b[0m \u001b[0mi\u001b[0m \u001b[0;32min\u001b[0m \u001b[0mlen\u001b[0m\u001b[0;34m(\u001b[0m\u001b[0ma_list\u001b[0m\u001b[0;34m)\u001b[0m\u001b[0;34m:\u001b[0m\u001b[0;34m\u001b[0m\u001b[0;34m\u001b[0m\u001b[0m\n\u001b[0m\u001b[1;32m      8\u001b[0m     \u001b[0mprint\u001b[0m\u001b[0;34m(\u001b[0m\u001b[0mi\u001b[0m\u001b[0;34m)\u001b[0m\u001b[0;34m\u001b[0m\u001b[0;34m\u001b[0m\u001b[0m\n",
      "\u001b[0;31mTypeError\u001b[0m: 'int' object is not iterable"
     ]
    }
   ],
   "source": [
    "for i in a_str:\n",
    "    print(i)\n",
    "    \n",
    "for i in range(len(a_str)):\n",
    "    print(i)\n",
    "    \n",
    "for i in len(a_list):\n",
    "    print(i)\n",
    "    \n",
    "# x\n",
    "for i in 3:\n",
    "    print(i)\n",
    "    \n",
    "# iterable\n",
    "# str:문자열, list, dict, tuple, set:집합\n",
    "# for 구문을 쓸 수가 있다.\n",
    "\n",
    "# question\n",
    "# int:3 iterable?\n",
    "# range(3)   "
   ]
  },
  {
   "cell_type": "code",
   "execution_count": 16,
   "metadata": {},
   "outputs": [
    {
     "name": "stdout",
     "output_type": "stream",
     "text": [
      "push 있다@!\n",
      "push의 갯수 : 2\n",
      "push 있다@!\n",
      "push의 갯수 : 2\n",
      "push 있다@!\n",
      "push의 갯수 : 1\n",
      "총 push 갯수 5\n"
     ]
    }
   ],
   "source": [
    "a = '14 pushpush 1 pushTopush 2 top push size empty'\n",
    "\n",
    "a_list = a.split(' ')\n",
    "a_list\n",
    "\n",
    "sum = 0\n",
    "for i in a_list:\n",
    "    \n",
    "    if 'push' in i:\n",
    "        print('push 있다@!')\n",
    "        c = i.count('push')\n",
    "        print('push의 갯수 :', c)\n",
    "        \n",
    "        sum += c\n",
    "print('총 push 갯수', sum)\n",
    "\n",
    "# print(c)\n",
    "# for : iterable 0부터 끝까지 하나씩 뽑아내는 것."
   ]
  },
  {
   "cell_type": "code",
   "execution_count": 12,
   "metadata": {},
   "outputs": [
    {
     "name": "stdout",
     "output_type": "stream",
     "text": [
      "1\n"
     ]
    }
   ],
   "source": [
    "c= 2\n",
    "c=1\n",
    "print(c)\n",
    "\n",
    "q = str('a')\n",
    "q = a + '+'\n",
    "\n",
    "\n",
    "q = q + str('b')\n"
   ]
  }
 ],
 "metadata": {
  "interpreter": {
   "hash": "86b40d917a9c044f02321ad8043c3c98ddf9a58b306d7e41e07bbb65ae936a3a"
  },
  "kernelspec": {
   "display_name": "Python 3.8.10 64-bit ('python_38': conda)",
   "language": "python",
   "name": "python3"
  },
  "language_info": {
   "codemirror_mode": {
    "name": "ipython",
    "version": 3
   },
   "file_extension": ".py",
   "mimetype": "text/x-python",
   "name": "python",
   "nbconvert_exporter": "python",
   "pygments_lexer": "ipython3",
   "version": "3.8.10"
  },
  "orig_nbformat": 4
 },
 "nbformat": 4,
 "nbformat_minor": 2
}
