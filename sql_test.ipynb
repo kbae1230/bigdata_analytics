{
 "cells": [
  {
   "cell_type": "code",
   "execution_count": null,
   "source": [
    "# sql 삭제 요망"
   ],
   "outputs": [],
   "metadata": {}
  },
  {
   "cell_type": "code",
   "execution_count": null,
   "source": [
    "# 20210826"
   ],
   "outputs": [],
   "metadata": {}
  },
  {
   "cell_type": "code",
   "execution_count": null,
   "source": [
    "'''\r\n",
    "SELECT DNAME,JOB, \r\n",
    "       COUNT(*) \"Total Empl\",  \r\n",
    "       SUM(SAL) \"Total Sal\"        \r\n",
    "FROM SCOTT.EMP  A, \r\n",
    "     SCOTT.DEPT B      \r\n",
    "WHERE A.DEPTNO = B.DEPTNO \r\n",
    "GROUP BY ROLLUP(DNAME,JOB) \r\n",
    "ORDER BY DNAME,JOB; \r\n",
    "'''"
   ],
   "outputs": [],
   "metadata": {}
  },
  {
   "cell_type": "code",
   "execution_count": null,
   "source": [
    "'''\r\n",
    "SELECT DNAME,JOB,\r\n",
    "COUNT(*) \"Total Empl\",\r\n",
    "SUM(SAL) \"Total Sal\"\r\n",
    "FROM SCOTT.EMP  A,\r\n",
    "SCOTT.DEPT B\r\n",
    "WHERE A.DEPTNO = B.DEPTNO\r\n",
    "GROUP BY GROUPING SETS( (DNAME,JOB),DNAME,NULL)\r\n",
    "ORDER BY DNAME,JOB;\r\n",
    "'''"
   ],
   "outputs": [],
   "metadata": {}
  },
  {
   "cell_type": "code",
   "execution_count": null,
   "source": [
    "\r\n",
    "'''\r\n",
    "SELECT *\r\n",
    "FROM SCOTT.EMP A,\r\n",
    " SCOTT.DEPT B\r\n",
    "WHERE A.DEPTNO = B.DEPTNO\r\n",
    "AND B.DNAME = 'SALES'\r\n",
    "'''\r\n",
    "# 조건 ( 조인조건과 조회조건 분리)\r\n",
    "'''\r\n",
    "SELECT *\r\n",
    "FROM SCOTT.EMP A INNER JOIN SCOTT.DEPT B\r\n",
    "    ON A.DEPTNO = B.DEPTNO\r\n",
    "WHERE 1=1; \r\n",
    "AND B.DNAME ='SALES';\r\n",
    "'''\r\n",
    "#ANSI SQL 에서 조인 조건절 (ON 절) 에 사용된 조건절은 조인 전 조건으로 작용한다\r\n",
    "# ON 절 이후 WHERE 절에서 쓰인 조건절은 조인후 조건절로 사용된다"
   ],
   "outputs": [],
   "metadata": {}
  },
  {
   "cell_type": "code",
   "execution_count": null,
   "source": [
    "'''\r\n",
    "* SQL SERVER : IDENTITY [ ( seed , increment ) ]\r\n",
    "  - SEED : 첫번째 행이 입력될 때의 시작값\r\n",
    "  - 증가되는 값\r\n",
    " - 해당 컬럼에 값을 넣을 경우 Error 발생 (Error 발생을 막기 위해서는\r\n",
    " IDENTITY_INSERT 를 OFF 로 하면 되나 이런 경우 IDENTITY 를 쓴 의미가 없어짐)\r\n",
    "\r\n",
    "SQL SERVER 의 IDENTITY 로 지정된 컬럼에는 값을 넣으면 에러가 남\r\n",
    "ORACLE 의 CHECK 조건을 만족하지 못할 경우 에러가 나나 NULL 은 무시됨\r\n",
    "'''"
   ],
   "outputs": [],
   "metadata": {}
  },
  {
   "cell_type": "code",
   "execution_count": null,
   "source": [
    "'''\r\n",
    "각 테이블에 INDEX 가 반드시 필요한 것은 아니다\r\n",
    "일반적으로 작은 테이블을 MEMORY 에 올리는 선행 테이블로 사용한다\r\n",
    "Hash Join 은 Non Equal Join 은 불가능함. Equal Join 만 가능함\r\n",
    "사전 Sorting 작업이 필요한 Join 알고리즘은 Sort Merge Join 임\r\n",
    "\r\n",
    "'''"
   ],
   "outputs": [],
   "metadata": {}
  },
  {
   "cell_type": "code",
   "execution_count": null,
   "source": [
    "'''\r\n",
    "FROM -> WHERE -> GROUP BY -> HAVING -> SELECT -> ORDER BY\r\n",
    "'''"
   ],
   "outputs": [],
   "metadata": {}
  },
  {
   "cell_type": "code",
   "execution_count": null,
   "source": [
    "'''\r\n",
    "비교연산자의 어느 한쪽이 \r\n",
    "\r\n",
    "VARCHAR 유형 타입인 경우\r\n",
    "1) 서로 다른 문자가 나올 때까지 비교한다\r\n",
    "2) 길이가 다르다면 짧은 것이 끝날 때까지만 비교한 후에 길이가 긴 것이 크다고 판단한다\r\n",
    "3) 길이가 같고 다른 것이 없다면 같다고 판단한다\r\n",
    "\r\n",
    "CHAR 타입인 경우임\r\n",
    "\r\n",
    "SAPCE 를 추가하여 길이를 맞춰 비교\r\n",
    "'''"
   ],
   "outputs": [],
   "metadata": {}
  },
  {
   "cell_type": "code",
   "execution_count": null,
   "source": [
    "'''\r\n",
    "Oracle 의 결합 함수 : CONCAT , ||\r\n",
    "SQL Server : + \r\n",
    "'''"
   ],
   "outputs": [],
   "metadata": {}
  },
  {
   "cell_type": "code",
   "execution_count": null,
   "source": [
    "'''\r\n",
    "CONNECT_BY_ISLEAF : 전개 과정에서 해당 데이터가 리프 데이터면 1,아니면 0\r\n",
    "CONNECT_BY_ISCYCLE : 전개 과정에서 자식을 갖는데, 해당 데이터가 조상으로 존재하면 1, 그렇지 않으면 0\r\n",
    " 여기서 조상이란 자신으로부터 루트까지의 경록에 존재하는 데이터를 말함\r\n",
    "SYS_CONNECT_BY_PATH : 하위 레벨의 컬럼까지 모두 표시해줌 (구분자 지정 가능)\r\n",
    "CONNECT_BY_ROOT : Root 노드의 정보를 표시\r\n",
    "'''"
   ],
   "outputs": [],
   "metadata": {}
  },
  {
   "cell_type": "code",
   "execution_count": null,
   "source": [
    "'''\r\n",
    "TAB1  COL1 COL2 KEY1\r\n",
    "BBB 123 B\r\n",
    "DDD 222 C\r\n",
    "EEE 233 D\r\n",
    "FFF 143 E\r\n",
    "TAB2 KEY2 COL1 COL2\r\n",
    "A 10 BC\r\n",
    "B 10 CD\r\n",
    "C 10 DE\r\n",
    "\r\n",
    "SELECT * FROM TAB1 A INNER JOIN TAB2 B ON (A.KEY1 = B.KEY2)\r\n",
    "SELECT * FROM TAB1 A LEFT OUTER JOIN TAB2 B ON (A.KEY1 = B.KEY2)\r\n",
    "SELECT * FROM TAB1 A RIGHT OUTER JOIN TAB2 B ON (A.KEY1 = B.KEY2)\r\n",
    "SELECT * FROM TAB1 A FULL OUTER JOIN TAB2 B ON (A.KEY1 = B.KEY2)\r\n",
    "SELECT * FROM TAB1 A CROSS JOIN TAB2 B \r\n",
    "'''"
   ],
   "outputs": [],
   "metadata": {}
  },
  {
   "cell_type": "code",
   "execution_count": null,
   "source": [
    "'''\r\n",
    " <>\r\n",
    "\r\n",
    "Cross Join 결과 12건에 대한 조건 체크\\\r\n",
    "(조건 체크시 NULL 제외) 후 SUM\r\n",
    "'''"
   ],
   "outputs": [],
   "metadata": {}
  },
  {
   "cell_type": "code",
   "execution_count": null,
   "source": [
    "# start sql"
   ],
   "outputs": [],
   "metadata": {}
  },
  {
   "cell_type": "code",
   "execution_count": null,
   "source": [
    "'''\r\n",
    "--A로 시작하는 문자를 찾기--\r\n",
    "SELECT 컬럼명 FROM 테이블 WHERE 컬럼명 LIKE 'A%'\r\n",
    "\r\n",
    "--A로 끝나는 문자 찾기--\r\n",
    "SELECT 컬럼명 FROM 테이블 WHERE 컬럼명 LIKE '%A'\r\n",
    "\r\n",
    "--A를 포함하는 문자 찾기--\r\n",
    "SELECT 컬럼명 FROM 테이블 WHERE 컬럼명 LIKE '%A%'\r\n",
    "\r\n",
    "--A로 시작하는 두글자 문자 찾기--\r\n",
    "SELECT 컬럼명 FROM 테이블 WHERE 컬럼명 LIKE 'A_'\r\n",
    "\r\n",
    "--첫번째 문자가 'A''가 아닌 모든 문자열 찾기--\r\n",
    "SELECT 컬럼명 FROM 테이블 WHERE 컬럼명 LIKE'[^A]'\r\n",
    "\r\n",
    "--첫번째 문자가 'A'또는'B'또는'C'인 문자열 찾기--\r\n",
    "SELECT 컬럼명 FROM 테이블 WHERE 컬럼명 LIKE '[ABC]'\r\n",
    "SELECT 컬럼명 FROM 테이블 WHERE 컬럼명 LIKE '[A-C]'\r\n",
    "'''"
   ],
   "outputs": [],
   "metadata": {}
  },
  {
   "cell_type": "code",
   "execution_count": null,
   "source": [
    "'''\r\n",
    "SELECT ...\r\n",
    "FROM 급여이력 S\r\n",
    "WHERE NOT EXISTS (SELECT 'X'\r\n",
    "                   FROM 사원 P\r\n",
    "                   WHERE P.사원번호 = S.사원번호)\r\n",
    "                  \r\n",
    "SELECT ....\r\n",
    "FROM 급여이력 S (LEFT OUTER) JOIN 사원 P\r\n",
    "     ON (S.사원번호 = P.사원번호)\r\n",
    "WHERE P.사원번호 IS NULL\r\n",
    "'''"
   ],
   "outputs": [],
   "metadata": {}
  },
  {
   "cell_type": "code",
   "execution_count": null,
   "source": [
    "'''\r\n",
    " 설명 엔터티 내에서 속성에 대한 데이터 타입과 크기 그리고 제약사항을 지정하는 것\r\n",
    "도메인\r\n",
    "'''"
   ],
   "outputs": [],
   "metadata": {}
  },
  {
   "cell_type": "code",
   "execution_count": null,
   "source": [
    "'''\r\n",
    "반정규화 \r\n",
    "\r\n",
    "테이블, 중복 테이블, 이력 테이블 추가\r\n",
    "\r\n",
    " '''"
   ],
   "outputs": [],
   "metadata": {}
  }
 ],
 "metadata": {
  "orig_nbformat": 4,
  "language_info": {
   "name": "python"
  }
 },
 "nbformat": 4,
 "nbformat_minor": 2
}