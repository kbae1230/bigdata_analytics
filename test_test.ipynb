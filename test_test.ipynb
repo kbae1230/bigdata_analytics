{
 "cells": [
  {
   "cell_type": "code",
   "execution_count": 1,
   "source": [
    "import os\n",
    "\n",
    "scene_file_path = '/nas/Dataset/xView3/public/dddd.py'\n",
    "filename = os.path.basename(scene_file_path).split('.')[0]\n",
    "print(filename)"
   ],
   "outputs": [
    {
     "output_type": "stream",
     "name": "stdout",
     "text": [
      "dddd\n"
     ]
    }
   ],
   "metadata": {}
  },
  {
   "cell_type": "code",
   "execution_count": 4,
   "source": [
    "import subprocess\n",
    "\n",
    "subprocess.call([\"ls\", \"-al\"])"
   ],
   "outputs": [
    {
     "output_type": "stream",
     "name": "stdout",
     "text": [
      "total 200\n",
      "drwxr-xr-x 7 kbae kbae  4096 Oct  1 22:13 .\n",
      "drwxr-xr-x 3 kbae kbae  4096 Oct  1 21:42 ..\n",
      "drwxr-xr-x 8 kbae kbae  4096 Oct  1 21:09 .git\n",
      "drwxr-xr-x 2 kbae kbae  4096 Oct  1 20:59 .vscode\n",
      "-rw-r--r-- 1 kbae kbae  9758 Oct  1 20:59 Bigdata_test.ipynb\n",
      "-rw-r--r-- 1 kbae kbae  8199 Oct  1 20:59 Inheritance.ipynb\n",
      "drwxr-xr-x 2 kbae kbae  4096 Oct  1 20:59 YOLOv5_img_python\n",
      "-rw-r--r-- 1 kbae kbae  9161 Oct  1 20:59 bk_test.ipynb\n",
      "drwxr-xr-x 2 kbae kbae  4096 Oct  1 20:59 cluster_toy\n",
      "-rw-r--r-- 1 kbae kbae 81210 Oct  1 20:59 coding_test.ipynb\n",
      "-rw-r--r-- 1 kbae kbae  6308 Oct  1 20:59 kt_test.ipynb\n",
      "-rw-r--r-- 1 kbae kbae  5784 Oct  1 20:59 md_test.ipynb\n",
      "-rw-r--r-- 1 kbae kbae  4856 Oct  1 20:59 nv_test.ipynb\n",
      "drwxr-xr-x 2 kbae kbae  4096 Oct  1 20:59 pandas_study\n",
      "-rw-r--r-- 1 kbae kbae  2915 Oct  1 20:59 pyautogui_cursor.ipynb\n",
      "-rw-r--r-- 1 kbae kbae  5708 Oct  1 20:59 regex_test.ipynb\n",
      "-rw-r--r-- 1 kbae kbae  1221 Oct  1 20:59 spark_etl.py\n",
      "-rw-r--r-- 1 kbae kbae  8445 Oct  1 20:59 sql_test."
     ]
    },
    {
     "output_type": "execute_result",
     "data": {
      "text/plain": [
       "0"
      ]
     },
     "metadata": {},
     "execution_count": 4
    },
    {
     "output_type": "stream",
     "name": "stdout",
     "text": [
      "ipynb\n",
      "-rw-r--r-- 1 kbae kbae  1157 Oct  1 21:07 test_test.ipynb\n"
     ]
    }
   ],
   "metadata": {}
  }
 ],
 "metadata": {
  "orig_nbformat": 4,
  "language_info": {
   "name": "python",
   "version": "3.8.10",
   "mimetype": "text/x-python",
   "codemirror_mode": {
    "name": "ipython",
    "version": 3
   },
   "pygments_lexer": "ipython3",
   "nbconvert_exporter": "python",
   "file_extension": ".py"
  },
  "kernelspec": {
   "name": "python3",
   "display_name": "Python 3.8.5 64-bit"
  },
  "interpreter": {
   "hash": "31f2aee4e71d21fbe5cf8b01ff0e069b9275f58929596ceb00d14d90e3e16cd6"
  }
 },
 "nbformat": 4,
 "nbformat_minor": 2
}