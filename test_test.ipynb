{
 "cells": [
  {
   "cell_type": "code",
   "execution_count": null,
   "metadata": {},
   "outputs": [],
   "source": [
    "# 파일 이름 변환\n",
    "\n",
    "import os\n",
    "\n",
    "file_path = '/nas/Dataset/RSI_LRA21_OD/long-range-artillery'\n",
    "file_names = os.listdir(file_path)\n",
    "\n",
    "for name in file_names:\n",
    "    src = os.path.join(file_path, name)\n",
    "    dst = name.replace(' ','_')\n",
    "    dst = os.path.join(file_path, dst)\n",
    "    os.rename(src, dst)"
   ]
  },
  {
   "cell_type": "code",
   "execution_count": 1,
   "metadata": {},
   "outputs": [
    {
     "name": "stdout",
     "output_type": "stream",
     "text": [
      "dddd\n"
     ]
    }
   ],
   "source": [
    "import os\n",
    "\n",
    "scene_file_path = '/nas/Dataset/xView3/public/dddd.py'\n",
    "filename = os.path.basename(scene_file_path).split('.')[0]\n",
    "print(filename)"
   ]
  },
  {
   "cell_type": "code",
   "execution_count": 4,
   "metadata": {},
   "outputs": [
    {
     "name": "stdout",
     "output_type": "stream",
     "text": [
      "total 200\n",
      "drwxr-xr-x 7 kbae kbae  4096 Oct  1 22:13 .\n",
      "drwxr-xr-x 3 kbae kbae  4096 Oct  1 21:42 ..\n",
      "drwxr-xr-x 8 kbae kbae  4096 Oct  1 21:09 .git\n",
      "drwxr-xr-x 2 kbae kbae  4096 Oct  1 20:59 .vscode\n",
      "-rw-r--r-- 1 kbae kbae  9758 Oct  1 20:59 Bigdata_test.ipynb\n",
      "-rw-r--r-- 1 kbae kbae  8199 Oct  1 20:59 Inheritance.ipynb\n",
      "drwxr-xr-x 2 kbae kbae  4096 Oct  1 20:59 YOLOv5_img_python\n",
      "-rw-r--r-- 1 kbae kbae  9161 Oct  1 20:59 bk_test.ipynb\n",
      "drwxr-xr-x 2 kbae kbae  4096 Oct  1 20:59 cluster_toy\n",
      "-rw-r--r-- 1 kbae kbae 81210 Oct  1 20:59 coding_test.ipynb\n",
      "-rw-r--r-- 1 kbae kbae  6308 Oct  1 20:59 kt_test.ipynb\n",
      "-rw-r--r-- 1 kbae kbae  5784 Oct  1 20:59 md_test.ipynb\n",
      "-rw-r--r-- 1 kbae kbae  4856 Oct  1 20:59 nv_test.ipynb\n",
      "drwxr-xr-x 2 kbae kbae  4096 Oct  1 20:59 pandas_study\n",
      "-rw-r--r-- 1 kbae kbae  2915 Oct  1 20:59 pyautogui_cursor.ipynb\n",
      "-rw-r--r-- 1 kbae kbae  5708 Oct  1 20:59 regex_test.ipynb\n",
      "-rw-r--r-- 1 kbae kbae  1221 Oct  1 20:59 spark_etl.py\n",
      "-rw-r--r-- 1 kbae kbae  8445 Oct  1 20:59 sql_test."
     ]
    },
    {
     "data": {
      "text/plain": [
       "0"
      ]
     },
     "execution_count": 4,
     "metadata": {},
     "output_type": "execute_result"
    },
    {
     "name": "stdout",
     "output_type": "stream",
     "text": [
      "ipynb\n",
      "-rw-r--r-- 1 kbae kbae  1157 Oct  1 21:07 test_test.ipynb\n"
     ]
    }
   ],
   "source": [
    "import subprocess\n",
    "\n",
    "subprocess.call([\"ls\", \"-al\"])"
   ]
  }
 ],
 "metadata": {
  "interpreter": {
   "hash": "31f2aee4e71d21fbe5cf8b01ff0e069b9275f58929596ceb00d14d90e3e16cd6"
  },
  "kernelspec": {
   "display_name": "Python 3.8.5 64-bit",
   "name": "python3"
  },
  "language_info": {
   "codemirror_mode": {
    "name": "ipython",
    "version": 3
   },
   "file_extension": ".py",
   "mimetype": "text/x-python",
   "name": "python",
   "nbconvert_exporter": "python",
   "pygments_lexer": "ipython3",
   "version": "3.8.10"
  },
  "orig_nbformat": 4
 },
 "nbformat": 4,
 "nbformat_minor": 2
}
