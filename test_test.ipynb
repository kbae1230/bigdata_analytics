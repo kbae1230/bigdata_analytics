{
 "cells": [
  {
   "cell_type": "code",
   "execution_count": 12,
   "metadata": {},
   "outputs": [
    {
     "name": "stdout",
     "output_type": "stream",
     "text": [
      "최윤덕\n",
      "최*덕\n",
      "배형근\n",
      "배*근\n",
      "['최*덕', '배*근']\n"
     ]
    }
   ],
   "source": [
    "# 코드 리팩토링\n",
    "# wkb to polygon\n",
    "# 항우연 리스트 다시, 사내 영상 검색 -> 실패\n",
    "# xlsx, db 영상 비교, 데이터플랫폼 db 연결, airflow api 다시 연결\n",
    "# 주희 크롤러 코드 수정\n",
    "# chrome https 해결, glc 마이그레이션 완료, bgc ps 완료, gep rpa 클래스화\n",
    "# gep rpa 완료, scheduler cod, scenes, git kraken merge\n",
    "# 기상데이터 KIST 서버 크롤러 작성 중\n",
    "# KISTI 계정 생성, Miniconda 환경 설정, DP 변경된 코드 적용\n",
    "# streamlit 으로 페이지 작성\n",
    "# streamlit, gep 연동 완료, 개발서버 ps 수정\n",
    "# glc airplane p1 인덱싱, streamlit 전체 작동 완료\n",
    "# 롤백 코드 작성, docker image pull\n",
    "# QGIS 지오레퍼런싱, 영상 등록 코드 적용(문제점 많음)\n",
    "# 마이그래이션 코드 개선, GCP 아나콘다 설치, gdal_translate 코드 정립\n",
    "# image processing 코드 개선\n",
    "# 단일 image porcessing 수정, airflow image에서는 root / 추가됨 확인 -> 다시 체크 해봐야함\n",
    "# redis message queue GCP VM 작동 확인. 외부 ip open 했음에도 redis-cli 접속이 되지 않음\n",
    "# gcp api 권한 획득, sentinel rest api 코드 완성\n",
    "# gcp vm 원격작동, postgresql 기상데이터 수집, txt to csv pandas 변환\n",
    "# 기상데이터 조사\n",
    "# print('hihi')\n",
    "# 220315. 기상데이터 코드 완성, GEOREF 부여 코드 완성\n",
    "# 220317. 기상데이터 여러 type 동시 동작으로 변경, 마이그레이션 SAR도 되도록 코드 수\n",
    "# 220324 wv4, qb2 센서 추가, gcp vm sac 진입 및 powershell 진입\n",
    "# 220331 기상데이터 ray 코드. but 적절히 호출되지 않음.\n",
    "# 220404 기상데이터 requests, urllib 코드 수정\n",
    "# 220405 urllib, requests, ssl 공부\n",
    "# 220406 영상 인덱싱 문제 해결 (로그 삭제)\n",
    "# 220412 영상 합성 코드 수정\n",
    "# 220419 MODIS 크롤러 완성\n",
    "# 220424 정처기 공부.\n",
    "# 220425 Landsat 코드 완성. WSL2 아나콘다 설치 및 장고 설치\n"
   ]
  },
  {
   "cell_type": "code",
   "execution_count": 3,
   "metadata": {},
   "outputs": [
    {
     "name": "stdout",
     "output_type": "stream",
     "text": [
      "dddd\n"
     ]
    }
   ],
   "source": [
    "import os\n",
    "\n",
    "scene_file_path = '/nas/Dataset/xView3/public/dddd.py'\n",
    "filename = os.path.basename(scene_file_path).split('.')[0]\n",
    "print(filename)"
   ]
  },
  {
   "cell_type": "code",
   "execution_count": null,
   "metadata": {},
   "outputs": [],
   "source": [
    "import subprocess\n",
    "\n",
    "subprocess.call([\"ls\"])"
   ]
  },
  {
   "cell_type": "code",
   "execution_count": 1,
   "metadata": {},
   "outputs": [
    {
     "name": "stdout",
     "output_type": "stream",
     "text": [
      "Help on function is_palindrome in module __main__:\n",
      "\n",
      "is_palindrome(word)\n",
      "    단어가 Palindrome(회문)인지에 대한 참/거짓을 반환한다.\n",
      "\n"
     ]
    }
   ],
   "source": [
    "def is_palindrome(word):\n",
    "    \"\"\"단어가 Palindrome(회문)인지에 대한 참/거짓을 반환한다.\"\"\"\n",
    "    return word == word[::-1]\n",
    "\n",
    "help(is_palindrome)"
   ]
  },
  {
   "cell_type": "code",
   "execution_count": 2,
   "metadata": {},
   "outputs": [
    {
     "ename": "SyntaxError",
     "evalue": "'yield' outside function (297916864.py, line 2)",
     "output_type": "error",
     "traceback": [
      "\u001b[0;36m  File \u001b[0;32m\"/tmp/ipykernel_1905/297916864.py\"\u001b[0;36m, line \u001b[0;32m2\u001b[0m\n\u001b[0;31m    yield print(i)\u001b[0m\n\u001b[0m    ^\u001b[0m\n\u001b[0;31mSyntaxError\u001b[0m\u001b[0;31m:\u001b[0m 'yield' outside function\n"
     ]
    }
   ],
   "source": [
    "for i in range(4):\n",
    "    yield print(i)\n",
    "    \n"
   ]
  },
  {
   "cell_type": "code",
   "execution_count": null,
   "metadata": {},
   "outputs": [],
   "source": []
  }
 ],
 "metadata": {
  "interpreter": {
   "hash": "0d12d05ab1afc7278cbb1fa09e775842eb34e7aa5a193c340acf9f8f1f5bb7ed"
  },
  "kernelspec": {
   "display_name": "Python 3.8.5 64-bit ('base': conda)",
   "name": "python3"
  },
  "language_info": {
   "codemirror_mode": {
    "name": "ipython",
    "version": 3
   },
   "file_extension": ".py",
   "mimetype": "text/x-python",
   "name": "python",
   "nbconvert_exporter": "python",
   "pygments_lexer": "ipython3",
   "version": "3.8.10"
  },
  "orig_nbformat": 4
 },
 "nbformat": 4,
 "nbformat_minor": 2
}
