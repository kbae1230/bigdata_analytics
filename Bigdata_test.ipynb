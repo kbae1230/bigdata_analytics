{
 "metadata": {
  "language_info": {
   "codemirror_mode": {
    "name": "ipython",
    "version": 3
   },
   "file_extension": ".py",
   "mimetype": "text/x-python",
   "name": "python",
   "nbconvert_exporter": "python",
   "pygments_lexer": "ipython3",
   "version": "3.8.5"
  },
  "orig_nbformat": 4,
  "kernelspec": {
   "name": "python3",
   "display_name": "Python 3.8.5 64-bit ('base': conda)"
  },
  "interpreter": {
   "hash": "0d12d05ab1afc7278cbb1fa09e775842eb34e7aa5a193c340acf9f8f1f5bb7ed"
  }
 },
 "nbformat": 4,
 "nbformat_minor": 2,
 "cells": [
  {
   "source": [
    "(유형1) 풀이 1"
   ],
   "cell_type": "markdown",
   "metadata": {}
  },
  {
   "cell_type": "code",
   "execution_count": 1,
   "metadata": {},
   "outputs": [
    {
     "output_type": "error",
     "ename": "SyntaxError",
     "evalue": "unmatched ')' (<ipython-input-1-3c7b5dd2ad4d>, line 12)",
     "traceback": [
      "\u001b[1;36m  File \u001b[1;32m\"<ipython-input-1-3c7b5dd2ad4d>\"\u001b[1;36m, line \u001b[1;32m12\u001b[0m\n\u001b[1;33m    y=scaler.fit_transform(x))\u001b[0m\n\u001b[1;37m                             ^\u001b[0m\n\u001b[1;31mSyntaxError\u001b[0m\u001b[1;31m:\u001b[0m unmatched ')'\n"
     ]
    }
   ],
   "source": [
    "import pandas as pd\n",
    "import numpy as np\n",
    "\n",
    "df = pd.read_csv('data/mtcars.csv')\n",
    "subdf = df['qsec']\n",
    "x = subdf.values.reshape(-1,1)\n",
    "\n",
    "from sklearn.preprocessing import MinMaxScaler\n",
    "\n",
    "scaler = MinMaxScaler()\n",
    "\n",
    "y=scaler.fit_transform(x)\n",
    "\n",
    "print((y>0.5).sum)\n"
   ]
  },
  {
   "source": [
    "(유형 1) 풀이 2"
   ],
   "cell_type": "markdown",
   "metadata": {}
  },
  {
   "cell_type": "code",
   "execution_count": null,
   "metadata": {},
   "outputs": [],
   "source": [
    "#pandas\n",
    "subdf = df.loc[:, 'qsec']\n",
    "subdf2  = df['qsec']\n",
    "x=subdf.values.reshape(-1,1)\n",
    "scaler = MinMaxScaler()\n",
    "y = scaler.fit_transform(x)\n",
    "record_num =[]\n",
    "for i in y:\n",
    "\tif i>0.5:\n",
    "\t\trecord_num.append(i)\n",
    "print(len(record_num))"
   ]
  },
  {
   "source": [
    "(유형 2) 풀이 1"
   ],
   "cell_type": "markdown",
   "metadata": {}
  },
  {
   "cell_type": "code",
   "execution_count": null,
   "metadata": {},
   "outputs": [],
   "source": [
    "import pandas as pd\n",
    "import numpy as np\n",
    "from sklearn.preprocessing import LabelEncoder\n",
    "from sklearn.impute import SimpleImputer\n",
    "\n",
    "from sklearn.linear_model import LogisticRegression\n",
    "from sklearn.neural_network import MLPClassifier\n",
    "from sklearn.Ansemble import RandomForestClassifier\n",
    "\n",
    "path = 'C:/Users/KKK/Desktop/[Dataset]/ 작업형 제2유형'\n",
    "X_train_path = path +'X_train.csv'\n",
    "X_test_path = path + 'X_test.csv'\n",
    "y_train_path = path + 'y_train.csv'\n",
    "y_test_path = path + '1234.csv'\n",
    "\n",
    "# Get Dataframe\n",
    "\n",
    "X_train = pd.read_csv(X_train_path)\n",
    "X_test = pd.read_csv(X_test_path)\n",
    "y_test = pd.read_csv(y_train_path)\n",
    "\n",
    "\n"
   ]
  }
 ]
}