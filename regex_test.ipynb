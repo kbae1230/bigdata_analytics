{
 "metadata": {
  "language_info": {
   "codemirror_mode": {
    "name": "ipython",
    "version": 3
   },
   "file_extension": ".py",
   "mimetype": "text/x-python",
   "name": "python",
   "nbconvert_exporter": "python",
   "pygments_lexer": "ipython3",
   "version": "3.8.5"
  },
  "orig_nbformat": 2,
  "kernelspec": {
   "name": "python3",
   "display_name": "Python 3.8.5 64-bit ('base': conda)"
  },
  "interpreter": {
   "hash": "0d12d05ab1afc7278cbb1fa09e775842eb34e7aa5a193c340acf9f8f1f5bb7ed"
  }
 },
 "nbformat": 4,
 "nbformat_minor": 2,
 "cells": [
  {
   "cell_type": "code",
   "execution_count": null,
   "source": [],
   "outputs": [],
   "metadata": {}
  },
  {
   "cell_type": "code",
   "execution_count": 2,
   "source": [
    "import re"
   ],
   "outputs": [],
   "metadata": {}
  },
  {
   "cell_type": "code",
   "execution_count": 2,
   "source": [
    "x = 'My 2 favorite numbers are 19 and 42'\r\n",
    "y = re.findall('[0-9]+',x)\r\n",
    "print(y)"
   ],
   "outputs": [
    {
     "output_type": "stream",
     "name": "stdout",
     "text": [
      "['2', '19', '42']\n"
     ]
    }
   ],
   "metadata": {}
  },
  {
   "cell_type": "code",
   "execution_count": 4,
   "source": [
    "x = 'My 2 favorite numbers are 19 and 42'\r\n",
    "y = re.findall('[0-9]',x)\r\n",
    "print(y)"
   ],
   "outputs": [
    {
     "output_type": "stream",
     "name": "stdout",
     "text": [
      "['2', '1', '9', '4', '2']\n"
     ]
    }
   ],
   "metadata": {}
  },
  {
   "cell_type": "code",
   "execution_count": 10,
   "source": [
    "x = 'From: Using the : character'\r\n",
    "y = re.findall('^F.+?:', x)\r\n",
    "print(y)"
   ],
   "outputs": [
    {
     "output_type": "stream",
     "name": "stdout",
     "text": [
      "['From:']\n"
     ]
    }
   ],
   "metadata": {}
  },
  {
   "cell_type": "code",
   "execution_count": 22,
   "source": [
    "x='From stephen.marquard@uct.ac.za Sat Jan 5 09:14:16 2008'\r\n",
    "y=re.findall('\\S+@\\S+', x)\r\n",
    "print(y)"
   ],
   "outputs": [
    {
     "output_type": "stream",
     "name": "stdout",
     "text": [
      "['stephen.marquard@uct.ac.za']\n"
     ]
    }
   ],
   "metadata": {}
  },
  {
   "cell_type": "code",
   "execution_count": 11,
   "source": [
    "x='From stephen.marquard@uct.ac.za Sat Jan 5 09:14:16 2008'\r\n",
    "\r\n",
    "y=re.findall('^From .*@([^ ]*)', x)\r\n",
    "print(y)"
   ],
   "outputs": [
    {
     "output_type": "stream",
     "name": "stdout",
     "text": [
      "['uct.ac.za']\n"
     ]
    }
   ],
   "metadata": {}
  },
  {
   "cell_type": "code",
   "execution_count": 30,
   "source": [
    "x = 'We just received $10.00 for cookies.'\r\n",
    "y = re.findall('\\$[0-9.]+',x)   # 잘 모르겠음\r\n",
    "y1 = re.findall('[$0-9+]+[.0-9+]+',x)\r\n",
    "print(y)\r\n",
    "print(y1)"
   ],
   "outputs": [
    {
     "output_type": "stream",
     "name": "stdout",
     "text": [
      "['$10.00']\n",
      "['$10.00']\n"
     ]
    }
   ],
   "metadata": {}
  },
  {
   "cell_type": "code",
   "execution_count": 37,
   "source": [
    "#with open(\"sample.txt\", \"w\") as file:\r\n",
    "\t# file.write(\"It's simple code\")\r\n",
    "import pickle\r\n",
    "users = {'kim':'3kid9', 'sun80':'393948', 'ljm':'py90390'}\r\n",
    "# with open('users', 'w') as f: # 일반 텍스트가 아니라 byte형식으로 쓰겠다.\r\n",
    "with open('users', 'wb') as f:\r\n",
    "    # f.write(users) # 문자열이 아니라 json 형태이기 때문에 불가\r\n",
    "\r\n",
    "    pickle.dump(users, f)"
   ],
   "outputs": [],
   "metadata": {}
  },
  {
   "cell_type": "code",
   "execution_count": 40,
   "source": [
    "import os\r\n",
    "os.path.exists('users')"
   ],
   "outputs": [
    {
     "output_type": "execute_result",
     "data": {
      "text/plain": [
       "True"
      ]
     },
     "metadata": {},
     "execution_count": 40
    }
   ],
   "metadata": {}
  },
  {
   "cell_type": "code",
   "execution_count": 42,
   "source": [
    "from glob import glob\r\n",
    "glob('*.ipynb')\r\n",
    "glob('users')"
   ],
   "outputs": [
    {
     "output_type": "execute_result",
     "data": {
      "text/plain": [
       "['users']"
      ]
     },
     "metadata": {},
     "execution_count": 42
    }
   ],
   "metadata": {}
  },
  {
   "cell_type": "code",
   "execution_count": 43,
   "source": [
    "from glob import glob\r\n",
    "from os.path import isdir\r\n",
    "\r\n",
    "for x in glob('*'):\r\n",
    "    if isdir(x):                # 디렉터리인가?\r\n",
    "        print(x, '<DIR>')\r\n",
    "    else:\r\n",
    "        print(x)"
   ],
   "outputs": [
    {
     "output_type": "stream",
     "name": "stdout",
     "text": [
      "Bigdata_test.ipynb\n",
      "bk_test.ipynb\n",
      "cluster_toy <DIR>\n",
      "coding_test.ipynb\n",
      "kt_test.ipynb\n",
      "md_test.ipynb\n",
      "nv_test.ipynb\n",
      "pandas_study <DIR>\n",
      "regex_test.ipynb\n",
      "spark_etl.py\n",
      "users\n",
      "YOLOv5_img_python <DIR>\n"
     ]
    }
   ],
   "metadata": {}
  },
  {
   "cell_type": "code",
   "execution_count": 16,
   "source": [
    "paths = '''\r\n",
    "adb/ddd/ccc/ddd/,\r\n",
    "         \r\n",
    "\r\n",
    "     '''\r\n",
    "# print(paths.strip())\r\n",
    "b=paths.split('\\n')\r\n",
    "print(b)\r\n",
    "lines = list(filter(lambda x: len(x.strip()) > 0 , paths.split('\\n')))\r\n",
    "print(lines)"
   ],
   "outputs": [
    {
     "output_type": "stream",
     "name": "stdout",
     "text": [
      "['', 'adb/ddd/ccc/ddd/,', '         ', '', '     ']\n",
      "['adb/ddd/ccc/ddd/,']\n"
     ]
    }
   ],
   "metadata": {}
  }
 ]
}