{
 "cells": [
  {
   "cell_type": "code",
   "execution_count": 176,
   "source": [
    "import pyautogui\r\n",
    "screenWidth, screenHeight = pyautogui.size()\r\n",
    "print('{0}, {1}'.format(screenWidth, screenHeight))"
   ],
   "outputs": [
    {
     "output_type": "stream",
     "name": "stdout",
     "text": [
      "2560, 1440\n"
     ]
    }
   ],
   "metadata": {}
  },
  {
   "cell_type": "code",
   "execution_count": 244,
   "source": [
    "# 현재 마우스 커서 위치 반환\r\n",
    "\r\n",
    "currentMouseX, currentMouseY = pyautogui.position()\r\n",
    "print('{0}, {1}'.format(currentMouseX, currentMouseY))\r\n",
    "\r\n",
    "#shell 당 , 20 정도\r\n",
    "\r\n",
    "# 259, 408\r\n",
    "\r\n",
    "# export\r\n",
    "# -1677, 386 "
   ],
   "outputs": [
    {
     "output_type": "stream",
     "name": "stdout",
     "text": [
      "305, 426\n"
     ]
    }
   ],
   "metadata": {}
  },
  {
   "cell_type": "code",
   "execution_count": 202,
   "source": [
    "pyautogui.moveTo(x,370)\r\n",
    "# 37"
   ],
   "outputs": [],
   "metadata": {}
  },
  {
   "cell_type": "code",
   "execution_count": 250,
   "source": [
    " # 마우스를 (50, 50) 위치로 이동시킵니다.\r\n",
    "x= 270\r\n",
    "y = 370\r\n",
    "pyautogui.moveTo(x, y)\r\n",
    "\r\n",
    "# pyautogui.click(x, y, clicks=2, interval=1)\r\n",
    "# pyautogui.click(x, y)\r\n",
    " # 마우스의 x좌표가 30으로 1초 동안 이동하도록 움직입니다. (y는 현재위치)\r\n",
    "# pyautogui.moveTo(30, None, 1)\r\n",
    "\r\n",
    "# # 마우스의 y좌표가 30으로 이동하도록 움직입니다. (x는 현재위치)\r\n",
    "# pyautogui.moveTo(None, 30) "
   ],
   "outputs": [],
   "metadata": {}
  },
  {
   "cell_type": "code",
   "execution_count": 152,
   "source": [
    "# 불러와서 다운까지\r\n",
    "import time\r\n",
    "pyautogui.click(-1677, 386)\r\n",
    "pyautogui.moveTo(-1795, 497)\r\n",
    "\r\n",
    "pyautogui.click(-1795, 497)\r\n",
    "time.sleep(2)\r\n",
    "pyautogui.click(-3129, 27)\r\n"
   ],
   "outputs": [],
   "metadata": {}
  },
  {
   "cell_type": "code",
   "execution_count": 256,
   "source": [
    "x= 880\r\n",
    "y = 370\r\n",
    "pyautogui.click(x, y)\r\n",
    "\r\n",
    "pyautogui.scroll(-850)\r\n",
    "x= 270\r\n",
    "y = 370\r\n",
    "pyautogui.moveTo(x, y)"
   ],
   "outputs": [],
   "metadata": {}
  },
  {
   "cell_type": "code",
   "execution_count": 252,
   "source": [
    "import time\r\n",
    "\r\n",
    "x= 270\r\n",
    "y = 370\r\n",
    "count = 0\r\n",
    "for i in range(22):\r\n",
    "\r\n",
    "    count += 1\r\n",
    "    y += 47\r\n",
    "    if count == 20:\r\n",
    "        count = 1\r\n",
    "        y= 370\r\n",
    "        pyautogui.click(880, y)\r\n",
    "        pyautogui.scroll(-850)\r\n",
    "\r\n",
    "\r\n",
    "    pyautogui.moveTo(x, y)\r\n",
    "    pyautogui.click(x, y, clicks=2, interval=1)\r\n",
    "    time.sleep(4)\r\n",
    "    pyautogui.click(-1677, 386)\r\n",
    "    pyautogui.moveTo(-1795, 497)\r\n",
    "\r\n",
    "    pyautogui.click(-1795, 497)\r\n",
    "    time.sleep(2)\r\n",
    "    pyautogui.click(-3129, 27)\r\n",
    "    \r\n"
   ],
   "outputs": [],
   "metadata": {}
  }
 ],
 "metadata": {
  "orig_nbformat": 4,
  "language_info": {
   "name": "python",
   "version": "3.8.10",
   "mimetype": "text/x-python",
   "codemirror_mode": {
    "name": "ipython",
    "version": 3
   },
   "pygments_lexer": "ipython3",
   "nbconvert_exporter": "python",
   "file_extension": ".py"
  },
  "kernelspec": {
   "name": "python3",
   "display_name": "Python 3.8.10 64-bit ('python_38': conda)"
  },
  "interpreter": {
   "hash": "86b40d917a9c044f02321ad8043c3c98ddf9a58b306d7e41e07bbb65ae936a3a"
  }
 },
 "nbformat": 4,
 "nbformat_minor": 2
}